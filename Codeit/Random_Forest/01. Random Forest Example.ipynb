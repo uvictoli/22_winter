{
 "cells": [
  {
   "cell_type": "code",
   "execution_count": 9,
   "id": "473d3acd",
   "metadata": {},
   "outputs": [],
   "source": [
    "from sklearn.datasets import load_iris\n",
    "from sklearn.model_selection import train_test_split\n",
    "from sklearn.ensemble import RandomForestClassifier\n",
    "\n",
    "import matplotlib.pyplot as plt\n",
    "import numpy as np\n",
    "\n",
    "import pandas as pd"
   ]
  },
  {
   "cell_type": "code",
   "execution_count": 2,
   "id": "892aa6a1",
   "metadata": {},
   "outputs": [],
   "source": [
    "iris_data = load_iris()\n",
    "\n",
    "# 데이터 셋 dataframe에 저장\n",
    "X = pd.DataFrame(iris_data.data, columns = iris_data.feature_names)\n",
    "y = pd.DataFrame(iris_data.target, columns = ['class'])"
   ]
  },
  {
   "cell_type": "code",
   "execution_count": 3,
   "id": "ba6a4a94",
   "metadata": {},
   "outputs": [],
   "source": [
    "X_train, X_test, y_train, y_test = train_test_split(X, y, test_size = 0.2, random_state = 5)\n",
    "y_train = y_train.values.ravel() "
   ]
  },
  {
   "cell_type": "code",
   "execution_count": 4,
   "id": "08dfc9f7",
   "metadata": {},
   "outputs": [],
   "source": [
    "model = RandomForestClassifier(n_estimators = 100, max_depth = 4)\n",
    "#n_estimators : 랜덤포레스트 모델이 결정트리를 몇 개를 만들어서 예측을 할 건지 정해주는 변수\n",
    "#max_depth : 만들 트리들의 최대 깊이를 지정해주는 변수"
   ]
  },
  {
   "cell_type": "code",
   "execution_count": 5,
   "id": "d6829127",
   "metadata": {},
   "outputs": [
    {
     "data": {
      "text/plain": [
       "RandomForestClassifier(max_depth=4)"
      ]
     },
     "execution_count": 5,
     "metadata": {},
     "output_type": "execute_result"
    }
   ],
   "source": [
    "model.fit(X_train, y_train)"
   ]
  },
  {
   "cell_type": "code",
   "execution_count": 6,
   "id": "216f2aa8",
   "metadata": {},
   "outputs": [
    {
     "data": {
      "text/plain": [
       "array([1, 1, 2, 0, 2, 1, 0, 2, 0, 1, 1, 1, 2, 2, 0, 0, 2, 2, 0, 0, 1, 2,\n",
       "       0, 1, 1, 2, 1, 1, 1, 2])"
      ]
     },
     "execution_count": 6,
     "metadata": {},
     "output_type": "execute_result"
    }
   ],
   "source": [
    "model.predict(X_test)"
   ]
  },
  {
   "cell_type": "code",
   "execution_count": 7,
   "id": "09922f88",
   "metadata": {},
   "outputs": [
    {
     "data": {
      "text/plain": [
       "0.9"
      ]
     },
     "execution_count": 7,
     "metadata": {},
     "output_type": "execute_result"
    }
   ],
   "source": [
    "model.score(X_test, y_test)"
   ]
  },
  {
   "cell_type": "code",
   "execution_count": null,
   "id": "01733d61",
   "metadata": {},
   "outputs": [],
   "source": [
    "# 결과 : 이 모델이 역 90%의 확률로 제대로 분류한다."
   ]
  },
  {
   "cell_type": "code",
   "execution_count": 8,
   "id": "5c9e616e",
   "metadata": {},
   "outputs": [
    {
     "data": {
      "text/plain": [
       "array([0.08843055, 0.02553274, 0.4197663 , 0.46627041])"
      ]
     },
     "execution_count": 8,
     "metadata": {},
     "output_type": "execute_result"
    }
   ],
   "source": [
    "#속성 중요도\n",
    "model.feature_importances_"
   ]
  },
  {
   "cell_type": "code",
   "execution_count": 10,
   "id": "ff612725",
   "metadata": {},
   "outputs": [
    {
     "data": {
      "image/png": "[encoded data removed]",
      "text/plain": [
       "<Figure size 432x288 with 1 Axes>"
      ]
     },
     "metadata": {
      "needs_background": "light"
     },
     "output_type": "display_data"
    }
   ],
   "source": [
    "#시각화\n",
    "importances = model.feature_importances_\n",
    "\n",
    "\n",
    "indices_sorted = np.argsort(importances)\n",
    "\n",
    "plt.figure()\n",
    "plt.title(\"Feature Importances\")\n",
    "plt.bar(range(len(importances)), importances[indices_sorted])\n",
    "plt.xticks(range(len(importances)), X.columns[indices_sorted], rotation = 90)\n",
    "plt.show()"
   ]
  }
 ],
 "metadata": {
  "kernelspec": {
   "display_name": "Python 3",
   "language": "python",
   "name": "python3"
  },
  "language_info": {
   "codemirror_mode": {
    "name": "ipython",
    "version": 3
   },
   "file_extension": ".py",
   "mimetype": "text/x-python",
   "name": "python",
   "nbconvert_exporter": "python",
   "pygments_lexer": "ipython3",
   "version": "3.8.8"
  }
 },
 "nbformat": 4,
 "nbformat_minor": 5
}
