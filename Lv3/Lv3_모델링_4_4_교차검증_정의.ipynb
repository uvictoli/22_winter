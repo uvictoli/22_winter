{
  "nbformat": 4,
  "nbformat_minor": 0,
  "metadata": {
    "colab": {
      "name": "Lv3 모델링 4/4 교차검증 정의",
      "provenance": [],
      "collapsed_sections": [
        "J1Is2vFL4cxY"
      ],
      "include_colab_link": true
    },
    "kernelspec": {
      "name": "python3",
      "display_name": "Python 3"
    },
    "language_info": {
      "name": "python"
    }
  },
  "cells": [
    {
      "cell_type": "markdown",
      "metadata": {
        "id": "view-in-github",
        "colab_type": "text"
      },
      "source": [
        "<a href=\"https://colab.research.google.com/github/uvictoli/Dacon_Daily_Python_Camp/blob/main/Lv3/Lv3_%EB%AA%A8%EB%8D%B8%EB%A7%81_4_4_%EA%B5%90%EC%B0%A8%EA%B2%80%EC%A6%9D_%EC%A0%95%EC%9D%98.ipynb\" target=\"_parent\"><img src=\"https://colab.research.google.com/assets/colab-badge.svg\" alt=\"Open In Colab\"/></a>"
      ]
    },
    {
      "cell_type": "markdown",
      "metadata": {
        "id": "vIpjpOEXsoW0"
      },
      "source": [
        "# [↩️ 리스트로 돌아가기](https://dacon.io/competitions/open/235698/overview/description)"
      ]
    },
    {
      "cell_type": "markdown",
      "metadata": {
        "id": "cdkhATahdXka"
      },
      "source": [
        "# 셀을 실행할 때 팝업이 뜨면 `무시하고 계속하기` 를 눌러주세요\n"
      ]
    },
    {
      "cell_type": "markdown",
      "metadata": {
        "id": "Njt0HrWtCfg2"
      },
      "source": [
        "## 데이터 다운로드\n",
        "---\n",
        "아래 셀을 실행시켜 데이터를 colab 에 불러옵니다.\n",
        "셀 실행은 Ctrl + Enter 를 이용해 실행시킬 수 있습니다."
      ]
    },
    {
      "cell_type": "code",
      "metadata": {
        "id": "AEAqDnUPCtNT",
        "outputId": "41a8b709-c7f2-43fe-a37e-215ea1679fec",
        "colab": {
          "base_uri": "https://localhost:8080/"
        }
      },
      "source": [
        "# 데이터 다운로드 링크로 데이터를 코랩에 불러옵니다.\n",
        "\n",
        "!wget 'https://bit.ly/3i4n1QB'\n",
        "\n",
        "import zipfile\n",
        "with zipfile.ZipFile('3i4n1QB', 'r') as existing_zip:\n",
        "    existing_zip.extractall('data')"
      ],
      "execution_count": 1,
      "outputs": [
        {
          "output_type": "stream",
          "name": "stdout",
          "text": [
            "--2022-01-15 07:38:44--  https://bit.ly/3i4n1QB\n",
            "Resolving bit.ly (bit.ly)... 67.199.248.11, 67.199.248.10\n",
            "Connecting to bit.ly (bit.ly)|67.199.248.11|:443... connected.\n",
            "HTTP request sent, awaiting response... 301 Moved Permanently\n",
            "Location: https://drive.google.com/uc?export=download&id=1emLrrpFWT8dCoj5BJb12-5QMG2-nruUw [following]\n",
            "--2022-01-15 07:38:44--  https://drive.google.com/uc?export=download&id=1emLrrpFWT8dCoj5BJb12-5QMG2-nruUw\n",
            "Resolving drive.google.com (drive.google.com)... 108.177.111.102, 108.177.111.113, 108.177.111.139, ...\n",
            "Connecting to drive.google.com (drive.google.com)|108.177.111.102|:443... connected.\n",
            "HTTP request sent, awaiting response... 302 Moved Temporarily\n",
            "Location: https://doc-10-10-docs.googleusercontent.com/docs/securesc/ha0ro937gcuc7l7deffksulhg5h7mbp1/r8evgeuadqo1u11b5rasir4ku60tiet3/1642232250000/17946651057176172524/*/1emLrrpFWT8dCoj5BJb12-5QMG2-nruUw?e=download [following]\n",
            "Warning: wildcards not supported in HTTP.\n",
            "--2022-01-15 07:38:44--  https://doc-10-10-docs.googleusercontent.com/docs/securesc/ha0ro937gcuc7l7deffksulhg5h7mbp1/r8evgeuadqo1u11b5rasir4ku60tiet3/1642232250000/17946651057176172524/*/1emLrrpFWT8dCoj5BJb12-5QMG2-nruUw?e=download\n",
            "Resolving doc-10-10-docs.googleusercontent.com (doc-10-10-docs.googleusercontent.com)... 142.251.6.132, 2607:f8b0:4001:c5a::84\n",
            "Connecting to doc-10-10-docs.googleusercontent.com (doc-10-10-docs.googleusercontent.com)|142.251.6.132|:443... connected.\n",
            "HTTP request sent, awaiting response... 200 OK\n",
            "Length: 137694 (134K) [application/zip]\n",
            "Saving to: ‘3i4n1QB.1’\n",
            "\n",
            "3i4n1QB.1           100%[===================>] 134.47K  --.-KB/s    in 0.002s  \n",
            "\n",
            "2022-01-15 07:38:44 (56.4 MB/s) - ‘3i4n1QB.1’ saved [137694/137694]\n",
            "\n"
          ]
        }
      ]
    },
    {
      "cell_type": "code",
      "metadata": {
        "id": "GqVbFVMCGJzT"
      },
      "source": [
        "# 라이브러리 불러오기\n",
        "\n",
        "import pandas as pd\n",
        "from sklearn.preprocessing import MinMaxScaler, OneHotEncoder\n",
        "from sklearn.ensemble import RandomForestClassifier\n",
        "\n",
        "from sklearn.model_selection import KFold\n",
        "from sklearn.metrics import accuracy_score\n",
        "import numpy as np"
      ],
      "execution_count": 2,
      "outputs": []
    },
    {
      "cell_type": "code",
      "metadata": {
        "id": "Cc10QSz6eyPa",
        "outputId": "50b59b75-8b71-46fe-9747-56a0dadd76a6",
        "colab": {
          "base_uri": "https://localhost:8080/",
          "height": 370
        }
      },
      "source": [
        "train = pd.read_csv('data/train.csv')\n",
        "test = pd.read_csv('data/test.csv')\n",
        "\n",
        "# Scailing\n",
        "scaler = MinMaxScaler()\n",
        "scaler.fit(train[['fixed acidity']])\n",
        "train['Scaled fixed acidity'] = scaler.transform(train[['fixed acidity']])\n",
        "test['Scaled fixed acidity'] = scaler.transform(test[['fixed acidity']])\n",
        "\n",
        "# Encoding\n",
        "encoder = OneHotEncoder()\n",
        "encoder.fit(train[['type']])\n",
        "onehot = encoder.transform(train[['type']])\n",
        "onehot = onehot.toarray()\n",
        "onehot = pd.DataFrame(onehot)\n",
        "onehot.columns = encoder.get_feature_names()\n",
        "train = pd.concat([train, onehot], axis = 1)\n",
        "train = train.drop(columns = ['type'])\n",
        "\n",
        "onehot = encoder.transform(test[['type']])\n",
        "onehot = onehot.toarray()\n",
        "onehot = pd.DataFrame(onehot)\n",
        "onehot.columns = encoder.get_feature_names()\n",
        "test = pd.concat([test, onehot], axis = 1)\n",
        "test = test.drop(columns = ['type'])\n",
        "\n",
        "test.head()"
      ],
      "execution_count": 3,
      "outputs": [
        {
          "output_type": "stream",
          "name": "stderr",
          "text": [
            "/usr/local/lib/python3.7/dist-packages/sklearn/utils/deprecation.py:87: FutureWarning: Function get_feature_names is deprecated; get_feature_names is deprecated in 1.0 and will be removed in 1.2. Please use get_feature_names_out instead.\n",
            "  warnings.warn(msg, category=FutureWarning)\n",
            "/usr/local/lib/python3.7/dist-packages/sklearn/utils/deprecation.py:87: FutureWarning: Function get_feature_names is deprecated; get_feature_names is deprecated in 1.0 and will be removed in 1.2. Please use get_feature_names_out instead.\n",
            "  warnings.warn(msg, category=FutureWarning)\n"
          ]
        },
        {
          "output_type": "execute_result",
          "data": {
            "text/html": [
              "\n",
              "  <div id=\"df-8ca4fd93-455b-424f-8d2c-587d70d5e2d6\">\n",
              "    <div class=\"colab-df-container\">\n",
              "      <div>\n",
              "<style scoped>\n",
              "    .dataframe tbody tr th:only-of-type {\n",
              "        vertical-align: middle;\n",
              "    }\n",
              "\n",
              "    .dataframe tbody tr th {\n",
              "        vertical-align: top;\n",
              "    }\n",
              "\n",
              "    .dataframe thead th {\n",
              "        text-align: right;\n",
              "    }\n",
              "</style>\n",
              "<table border=\"1\" class=\"dataframe\">\n",
              "  <thead>\n",
              "    <tr style=\"text-align: right;\">\n",
              "      <th></th>\n",
              "      <th>index</th>\n",
              "      <th>fixed acidity</th>\n",
              "      <th>volatile acidity</th>\n",
              "      <th>citric acid</th>\n",
              "      <th>residual sugar</th>\n",
              "      <th>chlorides</th>\n",
              "      <th>free sulfur dioxide</th>\n",
              "      <th>total sulfur dioxide</th>\n",
              "      <th>density</th>\n",
              "      <th>pH</th>\n",
              "      <th>sulphates</th>\n",
              "      <th>alcohol</th>\n",
              "      <th>Scaled fixed acidity</th>\n",
              "      <th>x0_red</th>\n",
              "      <th>x0_white</th>\n",
              "    </tr>\n",
              "  </thead>\n",
              "  <tbody>\n",
              "    <tr>\n",
              "      <th>0</th>\n",
              "      <td>0</td>\n",
              "      <td>9.0</td>\n",
              "      <td>0.31</td>\n",
              "      <td>0.48</td>\n",
              "      <td>6.6</td>\n",
              "      <td>0.043</td>\n",
              "      <td>11.0</td>\n",
              "      <td>73.0</td>\n",
              "      <td>0.99380</td>\n",
              "      <td>2.90</td>\n",
              "      <td>0.38</td>\n",
              "      <td>11.6</td>\n",
              "      <td>0.429752</td>\n",
              "      <td>0.0</td>\n",
              "      <td>1.0</td>\n",
              "    </tr>\n",
              "    <tr>\n",
              "      <th>1</th>\n",
              "      <td>1</td>\n",
              "      <td>13.3</td>\n",
              "      <td>0.43</td>\n",
              "      <td>0.58</td>\n",
              "      <td>1.9</td>\n",
              "      <td>0.070</td>\n",
              "      <td>15.0</td>\n",
              "      <td>40.0</td>\n",
              "      <td>1.00040</td>\n",
              "      <td>3.06</td>\n",
              "      <td>0.49</td>\n",
              "      <td>9.0</td>\n",
              "      <td>0.785124</td>\n",
              "      <td>1.0</td>\n",
              "      <td>0.0</td>\n",
              "    </tr>\n",
              "    <tr>\n",
              "      <th>2</th>\n",
              "      <td>2</td>\n",
              "      <td>6.5</td>\n",
              "      <td>0.28</td>\n",
              "      <td>0.27</td>\n",
              "      <td>5.2</td>\n",
              "      <td>0.040</td>\n",
              "      <td>44.0</td>\n",
              "      <td>179.0</td>\n",
              "      <td>0.99480</td>\n",
              "      <td>3.19</td>\n",
              "      <td>0.69</td>\n",
              "      <td>9.4</td>\n",
              "      <td>0.223140</td>\n",
              "      <td>0.0</td>\n",
              "      <td>1.0</td>\n",
              "    </tr>\n",
              "    <tr>\n",
              "      <th>3</th>\n",
              "      <td>3</td>\n",
              "      <td>7.2</td>\n",
              "      <td>0.15</td>\n",
              "      <td>0.39</td>\n",
              "      <td>1.8</td>\n",
              "      <td>0.043</td>\n",
              "      <td>21.0</td>\n",
              "      <td>159.0</td>\n",
              "      <td>0.99480</td>\n",
              "      <td>3.52</td>\n",
              "      <td>0.47</td>\n",
              "      <td>10.0</td>\n",
              "      <td>0.280992</td>\n",
              "      <td>0.0</td>\n",
              "      <td>1.0</td>\n",
              "    </tr>\n",
              "    <tr>\n",
              "      <th>4</th>\n",
              "      <td>4</td>\n",
              "      <td>6.8</td>\n",
              "      <td>0.26</td>\n",
              "      <td>0.26</td>\n",
              "      <td>2.0</td>\n",
              "      <td>0.019</td>\n",
              "      <td>23.5</td>\n",
              "      <td>72.0</td>\n",
              "      <td>0.99041</td>\n",
              "      <td>3.16</td>\n",
              "      <td>0.47</td>\n",
              "      <td>11.8</td>\n",
              "      <td>0.247934</td>\n",
              "      <td>0.0</td>\n",
              "      <td>1.0</td>\n",
              "    </tr>\n",
              "  </tbody>\n",
              "</table>\n",
              "</div>\n",
              "      <button class=\"colab-df-convert\" onclick=\"convertToInteractive('df-8ca4fd93-455b-424f-8d2c-587d70d5e2d6')\"\n",
              "              title=\"Convert this dataframe to an interactive table.\"\n",
              "              style=\"display:none;\">\n",
              "        \n",
              "  <svg xmlns=\"http://www.w3.org/2000/svg\" height=\"24px\"viewBox=\"0 0 24 24\"\n",
              "       width=\"24px\">\n",
              "    <path d=\"M0 0h24v24H0V0z\" fill=\"none\"/>\n",
              "    <path d=\"M18.56 5.44l.94 2.06.94-2.06 2.06-.94-2.06-.94-.94-2.06-.94 2.06-2.06.94zm-11 1L8.5 8.5l.94-2.06 2.06-.94-2.06-.94L8.5 2.5l-.94 2.06-2.06.94zm10 10l.94 2.06.94-2.06 2.06-.94-2.06-.94-.94-2.06-.94 2.06-2.06.94z\"/><path d=\"M17.41 7.96l-1.37-1.37c-.4-.4-.92-.59-1.43-.59-.52 0-1.04.2-1.43.59L10.3 9.45l-7.72 7.72c-.78.78-.78 2.05 0 2.83L4 21.41c.39.39.9.59 1.41.59.51 0 1.02-.2 1.41-.59l7.78-7.78 2.81-2.81c.8-.78.8-2.07 0-2.86zM5.41 20L4 18.59l7.72-7.72 1.47 1.35L5.41 20z\"/>\n",
              "  </svg>\n",
              "      </button>\n",
              "      \n",
              "  <style>\n",
              "    .colab-df-container {\n",
              "      display:flex;\n",
              "      flex-wrap:wrap;\n",
              "      gap: 12px;\n",
              "    }\n",
              "\n",
              "    .colab-df-convert {\n",
              "      background-color: #E8F0FE;\n",
              "      border: none;\n",
              "      border-radius: 50%;\n",
              "      cursor: pointer;\n",
              "      display: none;\n",
              "      fill: #1967D2;\n",
              "      height: 32px;\n",
              "      padding: 0 0 0 0;\n",
              "      width: 32px;\n",
              "    }\n",
              "\n",
              "    .colab-df-convert:hover {\n",
              "      background-color: #E2EBFA;\n",
              "      box-shadow: 0px 1px 2px rgba(60, 64, 67, 0.3), 0px 1px 3px 1px rgba(60, 64, 67, 0.15);\n",
              "      fill: #174EA6;\n",
              "    }\n",
              "\n",
              "    [theme=dark] .colab-df-convert {\n",
              "      background-color: #3B4455;\n",
              "      fill: #D2E3FC;\n",
              "    }\n",
              "\n",
              "    [theme=dark] .colab-df-convert:hover {\n",
              "      background-color: #434B5C;\n",
              "      box-shadow: 0px 1px 3px 1px rgba(0, 0, 0, 0.15);\n",
              "      filter: drop-shadow(0px 1px 2px rgba(0, 0, 0, 0.3));\n",
              "      fill: #FFFFFF;\n",
              "    }\n",
              "  </style>\n",
              "\n",
              "      <script>\n",
              "        const buttonEl =\n",
              "          document.querySelector('#df-8ca4fd93-455b-424f-8d2c-587d70d5e2d6 button.colab-df-convert');\n",
              "        buttonEl.style.display =\n",
              "          google.colab.kernel.accessAllowed ? 'block' : 'none';\n",
              "\n",
              "        async function convertToInteractive(key) {\n",
              "          const element = document.querySelector('#df-8ca4fd93-455b-424f-8d2c-587d70d5e2d6');\n",
              "          const dataTable =\n",
              "            await google.colab.kernel.invokeFunction('convertToInteractive',\n",
              "                                                     [key], {});\n",
              "          if (!dataTable) return;\n",
              "\n",
              "          const docLinkHtml = 'Like what you see? Visit the ' +\n",
              "            '<a target=\"_blank\" href=https://colab.research.google.com/notebooks/data_table.ipynb>data table notebook</a>'\n",
              "            + ' to learn more about interactive tables.';\n",
              "          element.innerHTML = '';\n",
              "          dataTable['output_type'] = 'display_data';\n",
              "          await google.colab.output.renderOutput(dataTable, element);\n",
              "          const docLink = document.createElement('div');\n",
              "          docLink.innerHTML = docLinkHtml;\n",
              "          element.appendChild(docLink);\n",
              "        }\n",
              "      </script>\n",
              "    </div>\n",
              "  </div>\n",
              "  "
            ],
            "text/plain": [
              "   index  fixed acidity  ...  x0_red  x0_white\n",
              "0      0            9.0  ...     0.0       1.0\n",
              "1      1           13.3  ...     1.0       0.0\n",
              "2      2            6.5  ...     0.0       1.0\n",
              "3      3            7.2  ...     0.0       1.0\n",
              "4      4            6.8  ...     0.0       1.0\n",
              "\n",
              "[5 rows x 15 columns]"
            ]
          },
          "metadata": {},
          "execution_count": 3
        }
      ]
    },
    {
      "cell_type": "markdown",
      "metadata": {
        "id": "ZksEbPou52yW"
      },
      "source": [
        "## 👋 실습\n",
        "---"
      ]
    },
    {
      "cell_type": "code",
      "metadata": {
        "id": "BMy68uTJFCEQ"
      },
      "source": [
        "# \"X\"라는 변수에 train의 \"index\"와 \"quality\"를 제외하고 지정해 주세요\n",
        "# \"y\"라는 변수에는 \"quality\"를 지정해 주세요\n",
        "X = train.drop(columns = ['quality', 'index'])\n",
        "y = train['quality']"
      ],
      "execution_count": 4,
      "outputs": []
    },
    {
      "cell_type": "code",
      "metadata": {
        "id": "5Lt61KLfFCES"
      },
      "source": [
        "# \"kf\"라는 변수에 KFold를 지정해 줍시다.\n",
        "# n_splits는 5, shuffle은 True, random_state는 0으로 설정해주세요\n",
        "kf = KFold(n_splits = 5, shuffle = True, random_state = 0)"
      ],
      "execution_count": 5,
      "outputs": []
    },
    {
      "cell_type": "code",
      "metadata": {
        "id": "f879ofFvFCES"
      },
      "source": [
        "# \"model\"이라는 변수에 RandomForestClassifier를 지정해 줍시다.\n",
        "# valid_scores라는 빈 리스트를 하나 만들어줍시다.\n",
        "# test_predictions라는 빈 리스트를 하나 만들어 줍시다.\n",
        "model = RandomForestClassifier()\n",
        "valid_scores = []\n",
        "test_predictions = []"
      ],
      "execution_count": 6,
      "outputs": []
    },
    {
      "cell_type": "code",
      "source": [
        "# 반복문을 통해서 1번부터 5번까지의 데이터에 접근해보세요\n",
        "for train_idx, valid_idx in kf.split(train) :\n",
        "  train_data = train.iloc[train_idx]\n",
        "  valid_data = train.iloc[valid_idx]\n",
        "\n",
        "# 이 코드는 순서대로 이해하려 해보세요 :)\n",
        "\n",
        "import matplotlib.pyplot as plt\n",
        "\n",
        "\n",
        "kf = KFold(n_splits = 5, shuffle = False)\n",
        "train_idx_store = []\n",
        "valid_idx_store = []\n",
        "\n",
        "i = 1\n",
        "for train_idx, valid_idx in kf.split(train) :\n",
        "  plt.scatter(valid_idx, [i for x in range(len(valid_idx))], alpha = 0.1)\n",
        "  i += 1\n",
        "plt.show()\n",
        "\n",
        "\n",
        "## 아래의 이미지는 shuffle = False로 했을 때, 데이터가 겹치지 않게 순서대로 쪼개지는 것을 볼 수 있습니다."
      ],
      "metadata": {
        "id": "w5vPvYDdsHJk"
      },
      "execution_count": null,
      "outputs": []
    },
    {
      "cell_type": "code",
      "metadata": {
        "id": "3xpB3kjZFCET"
      },
      "source": [
        "# 지난 시간에 다루었던 kf.split()을 활용해, 반복문으로 X_tr, y_tr, X_val, y_val을 설정해봅시다.\n",
        "for train_idx, valid_idx in kf.split(X, y) :\n",
        "  X_tr = X.iloc[train_idx]\n",
        "  y_tr = y.iloc[train_idx]\n",
        "  X_val = X.iloc[valid_idx]\n",
        "  y_val = y.iloc[valid_idx]"
      ],
      "execution_count": 7,
      "outputs": []
    },
    {
      "cell_type": "code",
      "metadata": {
        "id": "3q5zVNTrFCEU",
        "outputId": "fb337c90-8623-4b83-a857-12ec636338a7",
        "colab": {
          "base_uri": "https://localhost:8080/"
        }
      },
      "source": [
        "# 앞의 문제에 이어서 반복문 속에서 model.fit(X_tr, y_tr)을 활용해 모델을 학습해봅시다\n",
        "model.fit(X_tr, y_tr)"
      ],
      "execution_count": 8,
      "outputs": [
        {
          "output_type": "execute_result",
          "data": {
            "text/plain": [
              "RandomForestClassifier()"
            ]
          },
          "metadata": {},
          "execution_count": 8
        }
      ]
    },
    {
      "cell_type": "code",
      "metadata": {
        "id": "OEOXlThKF911"
      },
      "source": [
        "# 앞의 문제에 이어서 반복문 속에서 \"valid_prediction\"이라는 변수에 model.predict(X_val)의 결과를 저장해 봅시다.\n",
        "valid_prediction = model.predict(X_val) "
      ],
      "execution_count": 9,
      "outputs": []
    },
    {
      "cell_type": "code",
      "metadata": {
        "id": "qSHIWL_bFCEV",
        "outputId": "cfc2e600-bb4a-4c1e-aac3-1bc5a4852b8a",
        "colab": {
          "base_uri": "https://localhost:8080/"
        }
      },
      "source": [
        "# 앞의 문제에 이어서 반복문 속에서 accuracy_score를 이용해, 모델이 어느정도의 예측 성능이 나올지 확인해봅시다.\n",
        "# 그리고 \"valid_prediction\"의 점수를 scores에 저장 해봅시다. \n",
        "# 반복문에서 빠져나온 후에 np.mean()을 활용해 평균 점수를 예측해봅시다.\n",
        "for _ in kf.split(X, y):\n",
        "  score = accuracy_score(y_val, valid_prediction)\n",
        "  valid_scores.append(score)\n",
        "  print(score)\n",
        "print('평균 점수 : ', np.mean(valid_scores))"
      ],
      "execution_count": 10,
      "outputs": [
        {
          "output_type": "stream",
          "name": "stdout",
          "text": [
            "0.6769790718835305\n",
            "0.6769790718835305\n",
            "0.6769790718835305\n",
            "0.6769790718835305\n",
            "0.6769790718835305\n",
            "평균 점수 :  0.6769790718835305\n"
          ]
        }
      ]
    },
    {
      "cell_type": "code",
      "metadata": {
        "id": "lPTvOY0dG1La"
      },
      "source": [
        "# 이제 어느정도의 성능이 나올지 알게 되었으니, 반복문 속에서 test를 예측해 \"test_prediction\"이라는 변수에 지정해봅시다.\n",
        "# test_prediction을 지정했다면, \"test_precitions\"라는 빈 리스트에 넣어줍시다.\n",
        "for _ in kf.split(X, y):\n",
        "  test_prediction = model.predict(test.drop(columns = ['index']))\n",
        "  test_predictions.append(test_prediction)"
      ],
      "execution_count": 11,
      "outputs": []
    },
    {
      "cell_type": "code",
      "metadata": {
        "id": "yGxnq-D4FCEX"
      },
      "source": [
        "# 이제 결과 값을 만들어 보겠습니다.\n",
        "# \"test_precitions\"를 Data Frame으로 만들어주세요\n",
        "test_predictions = pd.DataFrame(test_predictions)"
      ],
      "execution_count": 12,
      "outputs": []
    },
    {
      "cell_type": "code",
      "metadata": {
        "id": "wPOFIS9-IqKs"
      },
      "source": [
        "# DF.mode()를 활용해 열별 최빈값을 확인하고, \"test_prediction\"이라는 변수에 지정해봅시다.\n",
        "# \"test_prediction\"의 첫 행을 최종 결과값으로 사용합시다.\n",
        "test_prediction = test_predictions.mode()\n",
        "test_prediction = test_predictions.values[0]"
      ],
      "execution_count": 13,
      "outputs": []
    },
    {
      "cell_type": "code",
      "metadata": {
        "id": "0JbLa9C1FCEa"
      },
      "source": [
        "# data의 sample_submission 파일을 불러와 \"quality\"라는 변수에 \"test_precition\"을 저장해줍시다.\n",
        "# 그 이후에는, \"data/submission_KFOLD.csv\"에 저장하고, 제출해봅시다.\n",
        "sample_submission = pd.read_csv('data/sample_submission.csv')\n",
        "sample_submission['quality'] = test_prediction\n",
        "sample_submission.to_csv('data/submission_KFOLD.csv', index = False)"
      ],
      "execution_count": 14,
      "outputs": []
    },
    {
      "cell_type": "markdown",
      "metadata": {
        "id": "J1Is2vFL4cxY"
      },
      "source": [
        "## 정답\n",
        "---"
      ]
    },
    {
      "cell_type": "code",
      "metadata": {
        "id": "geD7hbBDJb59"
      },
      "source": [
        "# \"X\"라는 변수에 train의 \"index\"와 \"quality\"를 제외하고 지정해 주세요\n",
        "# \"y\"라는 변수에는 \"quality\"를 지정해 주세요\n",
        "\n",
        "X = train.drop(columns = ['index','quality'])\n",
        "y = train['quality']"
      ],
      "execution_count": null,
      "outputs": []
    },
    {
      "cell_type": "code",
      "metadata": {
        "id": "85parHTWJb5-"
      },
      "source": [
        "# \"kf\"라는 변수에 KFold를 지정해 줍시다.\n",
        "# n_splits는 5, shuffle은 True, random_state는 0으로 설정해주세요\n",
        "\n",
        "kf = KFold(n_splits = 5, shuffle = True, random_state = 0)"
      ],
      "execution_count": null,
      "outputs": []
    },
    {
      "cell_type": "code",
      "metadata": {
        "id": "2SVSkqyYJb5-"
      },
      "source": [
        "# \"model\"이라는 변수에 RandomForestClassifier를 지정해 줍시다.\n",
        "# valid_scores라는 빈 리스트를 하나 만들어줍시다.\n",
        "# test_predictions라는 빈 리스트를 하나 만들어 줍시다.\n",
        "\n",
        "model = RandomForestClassifier(random_state = 0)\n",
        "valid_scores = []\n",
        "test_predictions = []"
      ],
      "execution_count": null,
      "outputs": []
    },
    {
      "cell_type": "code",
      "metadata": {
        "id": "-atIk5neJb5_"
      },
      "source": [
        "# 지난 시간에 다루었던 kf.split()을 활용해, 반복문으로 X_tr, y_tr, X_val, y_val을 설정해봅시다.\n",
        "\n",
        "for train_idx, valid_idx in kf.split(X,y) : \n",
        "  X_tr = X.iloc[train_idx]\n",
        "  y_tr = y.iloc[train_idx]\n",
        "\n",
        "  X_val = X.iloc[valid_idx]\n",
        "  y_val = y.iloc[valid_idx]"
      ],
      "execution_count": null,
      "outputs": []
    },
    {
      "cell_type": "code",
      "metadata": {
        "id": "KmaFRf7-Jb5_"
      },
      "source": [
        "# 앞의 문제에 이어서 반복문 속에서 model.fit(X_tr, y_tr)을 활용해 모델을 학습해봅시다\n",
        "\n",
        "for train_idx, valid_idx in kf.split(X,y) : \n",
        "  X_tr = X.iloc[train_idx]\n",
        "  y_tr = y.iloc[train_idx]\n",
        "\n",
        "  X_val = X.iloc[valid_idx]\n",
        "  y_val = y.iloc[valid_idx]\n",
        "\n",
        "  model.fit(X_tr, y_tr)"
      ],
      "execution_count": null,
      "outputs": []
    },
    {
      "cell_type": "code",
      "metadata": {
        "id": "dJ8U080eJb6A"
      },
      "source": [
        "# 앞의 문제에 이어서 반복문 속에서 \"valid_prediction\"이라는 변수에 model.predict(X_val)의 결과를 저장해 봅시다. \n",
        "\n",
        "for train_idx, valid_idx in kf.split(X,y) : \n",
        "  X_tr = X.iloc[train_idx]\n",
        "  y_tr = y.iloc[train_idx]\n",
        "\n",
        "  X_val = X.iloc[valid_idx]\n",
        "  y_val = y.iloc[valid_idx]\n",
        "\n",
        "  model.fit(X_tr, y_tr)\n",
        "  \n",
        "  valid_prediction = model.predict(X_val)"
      ],
      "execution_count": null,
      "outputs": []
    },
    {
      "cell_type": "code",
      "metadata": {
        "id": "p2BLjoDCJb6A"
      },
      "source": [
        "# 앞의 문제에 이어서 반복문 속에서 accuracy_score를 이용해, 모델이 어느정도의 예측 성능이 나올지 확인해봅시다.\n",
        "# 그리고 \"valid_prediction\"의 점수를 scores에 저장 해봅시다. \n",
        "# 반복문에서 빠져나온 후에 np.mean()을 활용해 평균 점수를 예측해봅시다.\n",
        "\n",
        "for train_idx, valid_idx in kf.split(X,y) : \n",
        "  X_tr = X.iloc[train_idx]\n",
        "  y_tr = y.iloc[train_idx]\n",
        "\n",
        "  X_val = X.iloc[valid_idx]\n",
        "  y_val = y.iloc[valid_idx]\n",
        "\n",
        "  model.fit(X_tr, y_tr)\n",
        "  \n",
        "  valid_prediction = model.predict(X_val)\n",
        "  score = accuracy_score(y_val, valid_prediction)\n",
        "  valid_scores.append(score)\n",
        "  print(score)\n",
        "print('평균 점수 : ', np.mean(valid_scores))"
      ],
      "execution_count": null,
      "outputs": []
    },
    {
      "cell_type": "code",
      "metadata": {
        "id": "FGPIQHcyJb6B"
      },
      "source": [
        "# 이제 어느정도의 성능이 나올지 알게 되었으니, 반복문 속에서 test를 예측해 \"test_prediction\"이라는 변수에 지정해봅시다.\n",
        "# test_prediction을 지정했다면, \"test_precitions\"라는 빈 리스트에 넣어줍시다.\n",
        "\n",
        "for train_idx, valid_idx in kf.split(X,y) : \n",
        "  X_tr = X.iloc[train_idx]\n",
        "  y_tr = y.iloc[train_idx]\n",
        "\n",
        "  X_val = X.iloc[valid_idx]\n",
        "  y_val = y.iloc[valid_idx]\n",
        "\n",
        "  model.fit(X_tr, y_tr)\n",
        "\n",
        "  test_prediction = model.predict(test.drop(columns = ['index']))\n",
        "  test_predictions.append(test_prediction)"
      ],
      "execution_count": null,
      "outputs": []
    },
    {
      "cell_type": "code",
      "metadata": {
        "id": "MBxi2Ww2Jb6B"
      },
      "source": [
        "# 이제 결과 값을 만들어 보겠습니다.\n",
        "# \"test_precitions\"를 Data Frame으로 만들어주세요\n",
        "\n",
        "test_predictions = pd.DataFrame(test_predictions)\n",
        "test_predictions"
      ],
      "execution_count": null,
      "outputs": []
    },
    {
      "cell_type": "code",
      "metadata": {
        "id": "biG1xsc2Jb6C"
      },
      "source": [
        "# DF.mode()를 활용해 열별 최빈값을 확인하고, \"test_prediction\"이라는 변수에 지정해봅시다.\n",
        "# \"test_prediction\"의 첫 행을 최종 결과값으로 사용합시다.\n",
        "\n",
        "test_prediction = test_predictions.mode()\n",
        "test_prediction = test_predictions.values[0]\n",
        "test_prediction"
      ],
      "execution_count": null,
      "outputs": []
    },
    {
      "cell_type": "code",
      "metadata": {
        "id": "Gv3pLK1EJb6C"
      },
      "source": [
        "# data의 sample_submission 파일을 불러와 \"quality\"라는 변수에 \"test_precition\"을 저장해줍시다.\n",
        "# 그 이후에는, \"data/submission_KFOLD.csv\"에 저장하고, 제출해봅시다.\n",
        "\n",
        "sample_submission = pd.read_csv('data/sample_submission.csv')\n",
        "sample_submission['quality'] = test_prediction\n",
        "sample_submission.to_csv('data/submission_KFOLD.csv', index=False)"
      ],
      "execution_count": null,
      "outputs": []
    },
    {
      "cell_type": "markdown",
      "metadata": {
        "id": "K8YgC54VtiB7"
      },
      "source": [
        "# [↩️ 리스트로 돌아가기](https://dacon.io/competitions/open/235698/overview/description)"
      ]
    }
  ]
}