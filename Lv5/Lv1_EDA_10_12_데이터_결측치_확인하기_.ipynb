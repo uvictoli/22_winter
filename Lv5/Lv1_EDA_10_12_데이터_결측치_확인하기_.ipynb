{
  "nbformat": 4,
  "nbformat_minor": 0,
  "metadata": {
    "colab": {
      "name": "Lv1_EDA_10/12_데이터 결측치 확인하기 .ipynb",
      "provenance": [],
      "collapsed_sections": [
        "YLKidTge4gsx"
      ],
      "include_colab_link": true
    },
    "kernelspec": {
      "name": "python3",
      "display_name": "Python 3"
    },
    "language_info": {
      "name": "python"
    }
  },
  "cells": [
    {
      "cell_type": "markdown",
      "metadata": {
        "id": "view-in-github",
        "colab_type": "text"
      },
      "source": [
        "<a href=\"https://colab.research.google.com/github/uvictoli/Machine_Learning/blob/main/Lv5/Lv1_EDA_10_12_%EB%8D%B0%EC%9D%B4%ED%84%B0_%EA%B2%B0%EC%B8%A1%EC%B9%98_%ED%99%95%EC%9D%B8%ED%95%98%EA%B8%B0_.ipynb\" target=\"_parent\"><img src=\"https://colab.research.google.com/assets/colab-badge.svg\" alt=\"Open In Colab\"/></a>"
      ]
    },
    {
      "cell_type": "markdown",
      "metadata": {
        "id": "vIpjpOEXsoW0"
      },
      "source": [
        "# [↩️ 리스트로 돌아가기](https://dacon.io/competitions/open/235698/overview/description)"
      ]
    },
    {
      "cell_type": "markdown",
      "metadata": {
        "id": "Y8EsppNShcez"
      },
      "source": [
        "# 셀을 실행할 때 팝업이 뜨면 `무시하고 계속하기` 를 눌러주세요\n"
      ]
    },
    {
      "cell_type": "markdown",
      "metadata": {
        "id": "FqodyLxg4RLu"
      },
      "source": [
        "## 데이터 다운로드\n",
        "--- \n",
        "아래 셀을 실행시켜 데이터를 colab에 불러옵니다.  \n",
        "셀 실행은 <br>Windows: `Ctrl` + `Enter`<br>\n",
        "Mac: `Shift` + `Enter` <br>\n",
        "를 이용해 실행 시킬 수 있습니다. "
      ]
    },
    {
      "cell_type": "code",
      "metadata": {
        "id": "by55dpRPfTwZ",
        "outputId": "2913696b-c114-48e7-e479-2adf76117622",
        "colab": {
          "base_uri": "https://localhost:8080/"
        }
      },
      "source": [
        "# 데이터 다운로드 링크로 데이터를 코랩에 불러옵니다.\n",
        "\n",
        "!wget 'https://bit.ly/3l6g8j3'\n",
        "\n",
        "import zipfile\n",
        "with zipfile.ZipFile('3l6g8j3', 'r') as existing_zip:\n",
        "    existing_zip.extractall('data')"
      ],
      "execution_count": 1,
      "outputs": [
        {
          "output_type": "stream",
          "name": "stdout",
          "text": [
            "--2022-02-22 05:42:21--  https://bit.ly/3l6g8j3\n",
            "Resolving bit.ly (bit.ly)... 67.199.248.10, 67.199.248.11\n",
            "Connecting to bit.ly (bit.ly)|67.199.248.10|:443... connected.\n",
            "HTTP request sent, awaiting response... 301 Moved Permanently\n",
            "Location: https://docs.google.com/uc?export=download&id=1n-cTWLp385P-DmmNuMAg6zJDw8MNAPwu [following]\n",
            "--2022-02-22 05:42:21--  https://docs.google.com/uc?export=download&id=1n-cTWLp385P-DmmNuMAg6zJDw8MNAPwu\n",
            "Resolving docs.google.com (docs.google.com)... 108.177.127.113, 108.177.127.102, 108.177.127.101, ...\n",
            "Connecting to docs.google.com (docs.google.com)|108.177.127.113|:443... connected.\n",
            "HTTP request sent, awaiting response... 303 See Other\n",
            "Location: https://doc-0g-10-docs.googleusercontent.com/docs/securesc/ha0ro937gcuc7l7deffksulhg5h7mbp1/73uvtmg6n7r40l30dckhkgkb3geshe9v/1645508475000/17946651057176172524/*/1n-cTWLp385P-DmmNuMAg6zJDw8MNAPwu?e=download [following]\n",
            "Warning: wildcards not supported in HTTP.\n",
            "--2022-02-22 05:42:24--  https://doc-0g-10-docs.googleusercontent.com/docs/securesc/ha0ro937gcuc7l7deffksulhg5h7mbp1/73uvtmg6n7r40l30dckhkgkb3geshe9v/1645508475000/17946651057176172524/*/1n-cTWLp385P-DmmNuMAg6zJDw8MNAPwu?e=download\n",
            "Resolving doc-0g-10-docs.googleusercontent.com (doc-0g-10-docs.googleusercontent.com)... 108.177.126.132, 2a00:1450:4013:c01::84\n",
            "Connecting to doc-0g-10-docs.googleusercontent.com (doc-0g-10-docs.googleusercontent.com)|108.177.126.132|:443... connected.\n",
            "HTTP request sent, awaiting response... 200 OK\n",
            "Length: 22312699 (21M) [application/x-zip-compressed]\n",
            "Saving to: ‘3l6g8j3’\n",
            "\n",
            "3l6g8j3             100%[===================>]  21.28M  64.6MB/s    in 0.3s    \n",
            "\n",
            "2022-02-22 05:42:25 (64.6 MB/s) - ‘3l6g8j3’ saved [22312699/22312699]\n",
            "\n"
          ]
        }
      ]
    },
    {
      "cell_type": "code",
      "metadata": {
        "id": "DmDU-A_HPeEb"
      },
      "source": [
        "import pandas as pd\n",
        "\n",
        "train = pd.read_csv('data/train.csv')\n",
        "test = pd.read_csv('data/test.csv')"
      ],
      "execution_count": 2,
      "outputs": []
    },
    {
      "cell_type": "markdown",
      "metadata": {
        "id": "J1Is2vFL4cxY"
      },
      "source": [
        "## 실습\n",
        "---\n",
        "train 데이터와 test 데이터의 결측치의 갯수를 출력해보세요"
      ]
    },
    {
      "cell_type": "code",
      "metadata": {
        "id": "YdvozqoZ4uhk",
        "outputId": "5ac12c19-c092-4346-b8e5-a42fcbccfe79",
        "colab": {
          "base_uri": "https://localhost:8080/"
        }
      },
      "source": [
        "# train 데이터 결측치 갯수 출력\n",
        "train.isnull().sum()"
      ],
      "execution_count": 3,
      "outputs": [
        {
          "output_type": "execute_result",
          "data": {
            "text/plain": [
              "index       0\n",
              "category    0\n",
              "data        8\n",
              "dtype: int64"
            ]
          },
          "metadata": {},
          "execution_count": 3
        }
      ]
    },
    {
      "cell_type": "code",
      "metadata": {
        "id": "TOmo60kHKZff",
        "outputId": "aa58252a-6e4a-43dd-f696-57497f8e1aea",
        "colab": {
          "base_uri": "https://localhost:8080/"
        }
      },
      "source": [
        "# test 데이터 결측치 갯수 출력\n",
        "test.isnull().sum()"
      ],
      "execution_count": 4,
      "outputs": [
        {
          "output_type": "execute_result",
          "data": {
            "text/plain": [
              "index    0\n",
              "data     0\n",
              "dtype: int64"
            ]
          },
          "metadata": {},
          "execution_count": 4
        }
      ]
    },
    {
      "cell_type": "markdown",
      "metadata": {
        "id": "YLKidTge4gsx"
      },
      "source": [
        "## 정답\n",
        "---\n",
        "스스로 실습 코드를 작성 한 후 정답 코드를 확인해 보세요."
      ]
    },
    {
      "cell_type": "code",
      "metadata": {
        "id": "xmE4w_2PRqQO",
        "outputId": "2ff04b0a-499c-44ef-c3cb-3992a0af9855",
        "colab": {
          "base_uri": "https://localhost:8080/"
        }
      },
      "source": [
        "# train 데이터 결측치 갯수 출력\n",
        "train.isnull().sum()"
      ],
      "execution_count": 5,
      "outputs": [
        {
          "output_type": "execute_result",
          "data": {
            "text/plain": [
              "index       0\n",
              "category    0\n",
              "data        8\n",
              "dtype: int64"
            ]
          },
          "metadata": {},
          "execution_count": 5
        }
      ]
    },
    {
      "cell_type": "code",
      "metadata": {
        "id": "WLDyQcXTRrFl",
        "outputId": "8ffc746a-1eb9-4ce6-c72b-6602b69f113b",
        "colab": {
          "base_uri": "https://localhost:8080/"
        }
      },
      "source": [
        "# test 데이터 결측치 갯수 출력\n",
        "test.isnull().sum()"
      ],
      "execution_count": 6,
      "outputs": [
        {
          "output_type": "execute_result",
          "data": {
            "text/plain": [
              "index    0\n",
              "data     0\n",
              "dtype: int64"
            ]
          },
          "metadata": {},
          "execution_count": 6
        }
      ]
    },
    {
      "cell_type": "markdown",
      "metadata": {
        "id": "K8YgC54VtiB7"
      },
      "source": [
        "# [↩️ 리스트로 돌아가기](https://dacon.io/competitions/open/235698/overview/description)"
      ]
    }
  ]
}