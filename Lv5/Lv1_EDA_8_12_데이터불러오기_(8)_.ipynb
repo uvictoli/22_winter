{
  "nbformat": 4,
  "nbformat_minor": 0,
  "metadata": {
    "colab": {
      "name": "Lv1_EDA_8/12_데이터불러오기 - (8) .ipynb",
      "provenance": [],
      "collapsed_sections": [
        "YLKidTge4gsx"
      ],
      "include_colab_link": true
    },
    "kernelspec": {
      "name": "python3",
      "display_name": "Python 3"
    },
    "language_info": {
      "name": "python"
    }
  },
  "cells": [
    {
      "cell_type": "markdown",
      "metadata": {
        "id": "view-in-github",
        "colab_type": "text"
      },
      "source": [
        "<a href=\"https://colab.research.google.com/github/uvictoli/Machine_Learning/blob/main/Lv5/Lv1_EDA_8_12_%EB%8D%B0%EC%9D%B4%ED%84%B0%EB%B6%88%EB%9F%AC%EC%98%A4%EA%B8%B0_(8)_.ipynb\" target=\"_parent\"><img src=\"https://colab.research.google.com/assets/colab-badge.svg\" alt=\"Open In Colab\"/></a>"
      ]
    },
    {
      "cell_type": "markdown",
      "metadata": {
        "id": "vIpjpOEXsoW0"
      },
      "source": [
        "# [↩️ 리스트로 돌아가기](https://dacon.io/competitions/open/235698/overview/description)"
      ]
    },
    {
      "cell_type": "markdown",
      "metadata": {
        "id": "Y8EsppNShcez"
      },
      "source": [
        "# 셀을 실행할 때 팝업이 뜨면 `무시하고 계속하기` 를 눌러주세요\n"
      ]
    },
    {
      "cell_type": "markdown",
      "metadata": {
        "id": "FqodyLxg4RLu"
      },
      "source": [
        "## 데이터 다운로드\n",
        "--- \n",
        "아래 셀을 실행시켜 데이터를 colab에 불러옵니다.  \n",
        "셀 실행은 <br>Windows: `Ctrl` + `Enter`<br>\n",
        "Mac: `Shift` + `Enter` <br>\n",
        "를 이용해 실행 시킬 수 있습니다. "
      ]
    },
    {
      "cell_type": "code",
      "metadata": {
        "id": "by55dpRPfTwZ",
        "outputId": "8d91355c-37bd-4a97-930b-95c68636d2ed",
        "colab": {
          "base_uri": "https://localhost:8080/"
        }
      },
      "source": [
        "# 데이터 다운로드 링크로 데이터를 코랩에 불러옵니다.\n",
        "\n",
        "!wget 'https://bit.ly/3l6g8j3'\n",
        "\n",
        "import zipfile\n",
        "with zipfile.ZipFile('3l6g8j3', 'r') as existing_zip:\n",
        "    existing_zip.extractall('data')"
      ],
      "execution_count": 1,
      "outputs": [
        {
          "output_type": "stream",
          "name": "stdout",
          "text": [
            "--2022-02-21 09:04:53--  https://bit.ly/3l6g8j3\n",
            "Resolving bit.ly (bit.ly)... 67.199.248.10, 67.199.248.11\n",
            "Connecting to bit.ly (bit.ly)|67.199.248.10|:443... connected.\n",
            "HTTP request sent, awaiting response... 301 Moved Permanently\n",
            "Location: https://docs.google.com/uc?export=download&id=1n-cTWLp385P-DmmNuMAg6zJDw8MNAPwu [following]\n",
            "--2022-02-21 09:04:53--  https://docs.google.com/uc?export=download&id=1n-cTWLp385P-DmmNuMAg6zJDw8MNAPwu\n",
            "Resolving docs.google.com (docs.google.com)... 142.250.98.113, 142.250.98.100, 142.250.98.139, ...\n",
            "Connecting to docs.google.com (docs.google.com)|142.250.98.113|:443... connected.\n",
            "HTTP request sent, awaiting response... 303 See Other\n",
            "Location: https://doc-0g-10-docs.googleusercontent.com/docs/securesc/ha0ro937gcuc7l7deffksulhg5h7mbp1/s9d6er5go4bq602jmageub7dq3pkb01e/1645434225000/17946651057176172524/*/1n-cTWLp385P-DmmNuMAg6zJDw8MNAPwu?e=download [following]\n",
            "Warning: wildcards not supported in HTTP.\n",
            "--2022-02-21 09:04:54--  https://doc-0g-10-docs.googleusercontent.com/docs/securesc/ha0ro937gcuc7l7deffksulhg5h7mbp1/s9d6er5go4bq602jmageub7dq3pkb01e/1645434225000/17946651057176172524/*/1n-cTWLp385P-DmmNuMAg6zJDw8MNAPwu?e=download\n",
            "Resolving doc-0g-10-docs.googleusercontent.com (doc-0g-10-docs.googleusercontent.com)... 74.125.31.132, 2607:f8b0:400c:c02::84\n",
            "Connecting to doc-0g-10-docs.googleusercontent.com (doc-0g-10-docs.googleusercontent.com)|74.125.31.132|:443... connected.\n",
            "HTTP request sent, awaiting response... 200 OK\n",
            "Length: 22312699 (21M) [application/x-zip-compressed]\n",
            "Saving to: ‘3l6g8j3’\n",
            "\n",
            "3l6g8j3             100%[===================>]  21.28M  91.8MB/s    in 0.2s    \n",
            "\n",
            "2022-02-21 09:04:55 (91.8 MB/s) - ‘3l6g8j3’ saved [22312699/22312699]\n",
            "\n"
          ]
        }
      ]
    },
    {
      "cell_type": "code",
      "metadata": {
        "id": "DmDU-A_HPeEb"
      },
      "source": [
        "import pandas as pd\n",
        "\n",
        "train = pd.read_csv('data/train.csv')\n",
        "test = pd.read_csv('data/test.csv')"
      ],
      "execution_count": 4,
      "outputs": []
    },
    {
      "cell_type": "markdown",
      "metadata": {
        "id": "J1Is2vFL4cxY"
      },
      "source": [
        "## 실습\n",
        "---\n",
        "train과 test 데이터를 index를 포함하지 않고 저장해보세요 ! "
      ]
    },
    {
      "cell_type": "code",
      "metadata": {
        "id": "YdvozqoZ4uhk"
      },
      "source": [
        "# index를 포함하지 않고 데이터 저장하기.\n",
        "\n",
        "import pandas as pd\n",
        "\n",
        "\n",
        "\n",
        "train.to_csv('data/train.csv', index = False) \n",
        "\n",
        "test.to_csv('data/test.csv', index = False)"
      ],
      "execution_count": 5,
      "outputs": []
    },
    {
      "cell_type": "markdown",
      "metadata": {
        "id": "YLKidTge4gsx"
      },
      "source": [
        "## 정답\n",
        "---\n",
        "스스로 실습 코드를 작성 한 후 정답 코드를 확인해 보세요."
      ]
    },
    {
      "cell_type": "code",
      "metadata": {
        "id": "5z6n7AD7o9UU"
      },
      "source": [
        "# index를 포함하지 않고 데이터 저장하기.\n",
        "\n",
        "import pandas as pd\n",
        "\n",
        "\n",
        "\n",
        "train.to_csv('data/train.csv',index = False) \n",
        "test.to_csv('data/test.csv',index = False)"
      ],
      "execution_count": null,
      "outputs": []
    },
    {
      "cell_type": "markdown",
      "metadata": {
        "id": "K8YgC54VtiB7"
      },
      "source": [
        "# [↩️ 리스트로 돌아가기](https://dacon.io/competitions/open/235698/overview/description)"
      ]
    }
  ]
}