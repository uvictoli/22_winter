{
  "nbformat": 4,
  "nbformat_minor": 0,
  "metadata": {
    "colab": {
      "name": "Lv1_모델링_LGBM",
      "provenance": [],
      "collapsed_sections": [
        "YLKidTge4gsx"
      ],
      "include_colab_link": true
    },
    "kernelspec": {
      "name": "python3",
      "display_name": "Python 3"
    },
    "language_info": {
      "name": "python"
    }
  },
  "cells": [
    {
      "cell_type": "markdown",
      "metadata": {
        "id": "view-in-github",
        "colab_type": "text"
      },
      "source": [
        "<a href=\"https://colab.research.google.com/github/uvictoli/Machine_Learning/blob/main/Lv5/Lv1_%EB%AA%A8%EB%8D%B8%EB%A7%81_LGBM.ipynb\" target=\"_parent\"><img src=\"https://colab.research.google.com/assets/colab-badge.svg\" alt=\"Open In Colab\"/></a>"
      ]
    },
    {
      "cell_type": "markdown",
      "metadata": {
        "id": "vIpjpOEXsoW0"
      },
      "source": [
        "# [↩️ 리스트로 돌아가기](https://dacon.io/competitions/open/235698/overview/description)"
      ]
    },
    {
      "cell_type": "markdown",
      "metadata": {
        "id": "Y8EsppNShcez"
      },
      "source": [
        "# 셀을 실행할 때 팝업이 뜨면 `무시하고 계속하기` 를 눌러주세요\n"
      ]
    },
    {
      "cell_type": "markdown",
      "metadata": {
        "id": "FqodyLxg4RLu"
      },
      "source": [
        "## 데이터 다운로드\n",
        "--- \n",
        "아래 셀을 실행시켜 데이터를 colab에 불러옵니다.  \n",
        "셀 실행은 <br>Windows: `Ctrl` + `Enter`<br>\n",
        "Mac: `Shift` + `Enter` <br>\n",
        "를 이용해 실행 시킬 수 있습니다. "
      ]
    },
    {
      "cell_type": "code",
      "metadata": {
        "id": "by55dpRPfTwZ",
        "outputId": "e2b7d850-b930-4ffb-a4eb-f1b0137de4cc",
        "colab": {
          "base_uri": "https://localhost:8080/"
        }
      },
      "source": [
        "# 데이터 다운로드 링크로 데이터를 코랩에 불러옵니다.\n",
        "\n",
        "!wget 'https://bit.ly/3l6g8j3'\n",
        "\n",
        "import zipfile\n",
        "with zipfile.ZipFile('3l6g8j3', 'r') as existing_zip:\n",
        "    existing_zip.extractall('data')"
      ],
      "execution_count": 1,
      "outputs": [
        {
          "output_type": "stream",
          "name": "stdout",
          "text": [
            "--2022-02-26 00:59:07--  https://bit.ly/3l6g8j3\n",
            "Resolving bit.ly (bit.ly)... 67.199.248.11, 67.199.248.10\n",
            "Connecting to bit.ly (bit.ly)|67.199.248.11|:443... connected.\n",
            "HTTP request sent, awaiting response... 301 Moved Permanently\n",
            "Location: https://docs.google.com/uc?export=download&id=1n-cTWLp385P-DmmNuMAg6zJDw8MNAPwu [following]\n",
            "--2022-02-26 00:59:07--  https://docs.google.com/uc?export=download&id=1n-cTWLp385P-DmmNuMAg6zJDw8MNAPwu\n",
            "Resolving docs.google.com (docs.google.com)... 173.194.210.101, 173.194.210.138, 173.194.210.113, ...\n",
            "Connecting to docs.google.com (docs.google.com)|173.194.210.101|:443... connected.\n",
            "HTTP request sent, awaiting response... 303 See Other\n",
            "Location: https://doc-0g-10-docs.googleusercontent.com/docs/securesc/ha0ro937gcuc7l7deffksulhg5h7mbp1/hpjein4nacoqjqa3issstpk2d2a7oe47/1645837125000/17946651057176172524/*/1n-cTWLp385P-DmmNuMAg6zJDw8MNAPwu?e=download [following]\n",
            "Warning: wildcards not supported in HTTP.\n",
            "--2022-02-26 00:59:08--  https://doc-0g-10-docs.googleusercontent.com/docs/securesc/ha0ro937gcuc7l7deffksulhg5h7mbp1/hpjein4nacoqjqa3issstpk2d2a7oe47/1645837125000/17946651057176172524/*/1n-cTWLp385P-DmmNuMAg6zJDw8MNAPwu?e=download\n",
            "Resolving doc-0g-10-docs.googleusercontent.com (doc-0g-10-docs.googleusercontent.com)... 108.177.12.132, 2607:f8b0:400c:c08::84\n",
            "Connecting to doc-0g-10-docs.googleusercontent.com (doc-0g-10-docs.googleusercontent.com)|108.177.12.132|:443... connected.\n",
            "HTTP request sent, awaiting response... 200 OK\n",
            "Length: 22312699 (21M) [application/x-zip-compressed]\n",
            "Saving to: ‘3l6g8j3’\n",
            "\n",
            "3l6g8j3             100%[===================>]  21.28M  66.6MB/s    in 0.3s    \n",
            "\n",
            "2022-02-26 00:59:09 (66.6 MB/s) - ‘3l6g8j3’ saved [22312699/22312699]\n",
            "\n"
          ]
        }
      ]
    },
    {
      "cell_type": "code",
      "metadata": {
        "id": "DmDU-A_HPeEb"
      },
      "source": [
        "import pandas as pd\n",
        "\n",
        "train = pd.read_csv('data/train.csv',usecols = ['category','data'])\n",
        "test = pd.read_csv('data/test.csv',usecols = ['data'])"
      ],
      "execution_count": 2,
      "outputs": []
    },
    {
      "cell_type": "code",
      "metadata": {
        "id": "4Cc1TtCoDAwl"
      },
      "source": [
        "# train,test 데이터에서  '\\\\n' 단어 제거\n",
        "\n",
        "train['data'] = train['data'].apply(lambda x : str(x).replace('\\\\n',' ')) # 텍스트 데이터에서 '\\\\n' 문자열을 ' '로 변경\n",
        "test['data'] = test['data'].apply(lambda x : str(x).replace('\\\\n',' ')) # 텍스트 데이터에서 '\\\\n' 문자열을 ' '로 변경"
      ],
      "execution_count": 3,
      "outputs": []
    },
    {
      "cell_type": "code",
      "metadata": {
        "id": "p5Psv8eCDArE",
        "outputId": "f9cd930a-3290-4d08-a270-39be58593195",
        "colab": {
          "base_uri": "https://localhost:8080/"
        }
      },
      "source": [
        "# 라이브러리 로딩\n",
        "from sklearn.feature_extraction.text import TfidfVectorizer\n",
        "\n",
        "#TF-IDF으로 train 데이터를 피처 벡터화 변환 수행\n",
        "\n",
        "vect = TfidfVectorizer()\n",
        "vect.fit(train['data'])\n",
        "train_x =  vect.transform(train['data'])\n",
        "\n",
        "print('train 데이터 사이즈', train_x.shape)"
      ],
      "execution_count": 4,
      "outputs": [
        {
          "output_type": "stream",
          "name": "stdout",
          "text": [
            "train 데이터 사이즈 (40000, 697226)\n"
          ]
        }
      ]
    },
    {
      "cell_type": "markdown",
      "metadata": {
        "id": "J1Is2vFL4cxY"
      },
      "source": [
        "## 실습\n",
        "---\n"
      ]
    },
    {
      "cell_type": "code",
      "metadata": {
        "id": "-ycjElp2eW3Q"
      },
      "source": [
        "# 라이브러리 로딩\n",
        "from sklearn.model_selection import train_test_split"
      ],
      "execution_count": 5,
      "outputs": []
    },
    {
      "cell_type": "code",
      "metadata": {
        "id": "RPmiHhqEfhQx"
      },
      "source": [
        "# train_test_split() 메소드를 이용해 train/validation 데이터 나누기 \n",
        "# stratify 옵션을 활용하여 데이터 셋 split\n",
        "\n",
        "x_train,x_valid, y_train, y_valid = train_test_split(train_x, train['category'], stratify = train['category'])"
      ],
      "execution_count": 6,
      "outputs": []
    },
    {
      "cell_type": "code",
      "metadata": {
        "id": "a52vZxPDDk7-",
        "outputId": "3b29e489-1c9b-41a1-b6e4-12ba56575402",
        "colab": {
          "base_uri": "https://localhost:8080/"
        }
      },
      "source": [
        "# LightGBM을 이용해 학습 및 검증 진행\n",
        "from lightgbm import LGBMRegressor\n",
        "\n",
        "\n",
        "model = LGBMRegressor()\n",
        "model.fit(x_train, y_train,\n",
        "          eval_set = [(x_train, y_train), (x_valid, y_valid)]\n",
        "          )"
      ],
      "execution_count": 7,
      "outputs": [
        {
          "output_type": "stream",
          "name": "stdout",
          "text": [
            "[1]\ttraining's l2: 0.625698\tvalid_1's l2: 0.627058\n",
            "[2]\ttraining's l2: 0.592237\tvalid_1's l2: 0.593858\n",
            "[3]\ttraining's l2: 0.564628\tvalid_1's l2: 0.566011\n",
            "[4]\ttraining's l2: 0.541275\tvalid_1's l2: 0.543882\n",
            "[5]\ttraining's l2: 0.520986\tvalid_1's l2: 0.525082\n",
            "[6]\ttraining's l2: 0.503396\tvalid_1's l2: 0.508085\n",
            "[7]\ttraining's l2: 0.488766\tvalid_1's l2: 0.494278\n",
            "[8]\ttraining's l2: 0.475131\tvalid_1's l2: 0.481263\n",
            "[9]\ttraining's l2: 0.463091\tvalid_1's l2: 0.470314\n",
            "[10]\ttraining's l2: 0.453129\tvalid_1's l2: 0.460757\n",
            "[11]\ttraining's l2: 0.443235\tvalid_1's l2: 0.451495\n",
            "[12]\ttraining's l2: 0.434534\tvalid_1's l2: 0.443302\n",
            "[13]\ttraining's l2: 0.426827\tvalid_1's l2: 0.436356\n",
            "[14]\ttraining's l2: 0.419639\tvalid_1's l2: 0.429803\n",
            "[15]\ttraining's l2: 0.413137\tvalid_1's l2: 0.424094\n",
            "[16]\ttraining's l2: 0.407521\tvalid_1's l2: 0.418996\n",
            "[17]\ttraining's l2: 0.402193\tvalid_1's l2: 0.414378\n",
            "[18]\ttraining's l2: 0.397127\tvalid_1's l2: 0.40983\n",
            "[19]\ttraining's l2: 0.392351\tvalid_1's l2: 0.405696\n",
            "[20]\ttraining's l2: 0.388095\tvalid_1's l2: 0.401849\n",
            "[21]\ttraining's l2: 0.384\tvalid_1's l2: 0.398181\n",
            "[22]\ttraining's l2: 0.380106\tvalid_1's l2: 0.394799\n",
            "[23]\ttraining's l2: 0.376636\tvalid_1's l2: 0.391993\n",
            "[24]\ttraining's l2: 0.373381\tvalid_1's l2: 0.389078\n",
            "[25]\ttraining's l2: 0.37026\tvalid_1's l2: 0.386417\n",
            "[26]\ttraining's l2: 0.367339\tvalid_1's l2: 0.384308\n",
            "[27]\ttraining's l2: 0.364554\tvalid_1's l2: 0.382147\n",
            "[28]\ttraining's l2: 0.361957\tvalid_1's l2: 0.380006\n",
            "[29]\ttraining's l2: 0.359482\tvalid_1's l2: 0.378246\n",
            "[30]\ttraining's l2: 0.357144\tvalid_1's l2: 0.376623\n",
            "[31]\ttraining's l2: 0.354895\tvalid_1's l2: 0.375036\n",
            "[32]\ttraining's l2: 0.352766\tvalid_1's l2: 0.373333\n",
            "[33]\ttraining's l2: 0.350724\tvalid_1's l2: 0.371687\n",
            "[34]\ttraining's l2: 0.348716\tvalid_1's l2: 0.370412\n",
            "[35]\ttraining's l2: 0.346851\tvalid_1's l2: 0.368844\n",
            "[36]\ttraining's l2: 0.345036\tvalid_1's l2: 0.367662\n",
            "[37]\ttraining's l2: 0.343279\tvalid_1's l2: 0.366391\n",
            "[38]\ttraining's l2: 0.34158\tvalid_1's l2: 0.365227\n",
            "[39]\ttraining's l2: 0.339984\tvalid_1's l2: 0.364031\n",
            "[40]\ttraining's l2: 0.338429\tvalid_1's l2: 0.363037\n",
            "[41]\ttraining's l2: 0.336862\tvalid_1's l2: 0.36184\n",
            "[42]\ttraining's l2: 0.335355\tvalid_1's l2: 0.360897\n",
            "[43]\ttraining's l2: 0.333981\tvalid_1's l2: 0.359795\n",
            "[44]\ttraining's l2: 0.332597\tvalid_1's l2: 0.359117\n",
            "[45]\ttraining's l2: 0.33128\tvalid_1's l2: 0.358362\n",
            "[46]\ttraining's l2: 0.329961\tvalid_1's l2: 0.357652\n",
            "[47]\ttraining's l2: 0.328639\tvalid_1's l2: 0.35663\n",
            "[48]\ttraining's l2: 0.327365\tvalid_1's l2: 0.355909\n",
            "[49]\ttraining's l2: 0.326056\tvalid_1's l2: 0.35547\n",
            "[50]\ttraining's l2: 0.324862\tvalid_1's l2: 0.354788\n",
            "[51]\ttraining's l2: 0.32372\tvalid_1's l2: 0.353968\n",
            "[52]\ttraining's l2: 0.322588\tvalid_1's l2: 0.353263\n",
            "[53]\ttraining's l2: 0.321508\tvalid_1's l2: 0.352499\n",
            "[54]\ttraining's l2: 0.320437\tvalid_1's l2: 0.351828\n",
            "[55]\ttraining's l2: 0.319363\tvalid_1's l2: 0.351224\n",
            "[56]\ttraining's l2: 0.318334\tvalid_1's l2: 0.350732\n",
            "[57]\ttraining's l2: 0.317323\tvalid_1's l2: 0.350134\n",
            "[58]\ttraining's l2: 0.31628\tvalid_1's l2: 0.349731\n",
            "[59]\ttraining's l2: 0.315295\tvalid_1's l2: 0.349356\n",
            "[60]\ttraining's l2: 0.314344\tvalid_1's l2: 0.348797\n",
            "[61]\ttraining's l2: 0.313359\tvalid_1's l2: 0.348295\n",
            "[62]\ttraining's l2: 0.312373\tvalid_1's l2: 0.347863\n",
            "[63]\ttraining's l2: 0.311404\tvalid_1's l2: 0.347577\n",
            "[64]\ttraining's l2: 0.310521\tvalid_1's l2: 0.347094\n",
            "[65]\ttraining's l2: 0.309621\tvalid_1's l2: 0.346809\n",
            "[66]\ttraining's l2: 0.308775\tvalid_1's l2: 0.346424\n",
            "[67]\ttraining's l2: 0.307874\tvalid_1's l2: 0.345898\n",
            "[68]\ttraining's l2: 0.307029\tvalid_1's l2: 0.345518\n",
            "[69]\ttraining's l2: 0.306184\tvalid_1's l2: 0.345026\n",
            "[70]\ttraining's l2: 0.305375\tvalid_1's l2: 0.34467\n",
            "[71]\ttraining's l2: 0.304558\tvalid_1's l2: 0.344285\n",
            "[72]\ttraining's l2: 0.303726\tvalid_1's l2: 0.344109\n",
            "[73]\ttraining's l2: 0.302856\tvalid_1's l2: 0.343828\n",
            "[74]\ttraining's l2: 0.302078\tvalid_1's l2: 0.343656\n",
            "[75]\ttraining's l2: 0.301269\tvalid_1's l2: 0.343351\n",
            "[76]\ttraining's l2: 0.300483\tvalid_1's l2: 0.34326\n",
            "[77]\ttraining's l2: 0.299696\tvalid_1's l2: 0.34299\n",
            "[78]\ttraining's l2: 0.298892\tvalid_1's l2: 0.342838\n",
            "[79]\ttraining's l2: 0.298154\tvalid_1's l2: 0.342563\n",
            "[80]\ttraining's l2: 0.297426\tvalid_1's l2: 0.3423\n",
            "[81]\ttraining's l2: 0.296623\tvalid_1's l2: 0.342258\n",
            "[82]\ttraining's l2: 0.295925\tvalid_1's l2: 0.341887\n",
            "[83]\ttraining's l2: 0.295242\tvalid_1's l2: 0.341499\n",
            "[84]\ttraining's l2: 0.294566\tvalid_1's l2: 0.341151\n",
            "[85]\ttraining's l2: 0.293874\tvalid_1's l2: 0.340995\n",
            "[86]\ttraining's l2: 0.293121\tvalid_1's l2: 0.340933\n",
            "[87]\ttraining's l2: 0.292445\tvalid_1's l2: 0.34071\n",
            "[88]\ttraining's l2: 0.291799\tvalid_1's l2: 0.340392\n",
            "[89]\ttraining's l2: 0.291122\tvalid_1's l2: 0.340257\n",
            "[90]\ttraining's l2: 0.290481\tvalid_1's l2: 0.340152\n",
            "[91]\ttraining's l2: 0.289868\tvalid_1's l2: 0.339787\n",
            "[92]\ttraining's l2: 0.289213\tvalid_1's l2: 0.339583\n",
            "[93]\ttraining's l2: 0.288613\tvalid_1's l2: 0.339405\n",
            "[94]\ttraining's l2: 0.288001\tvalid_1's l2: 0.339101\n",
            "[95]\ttraining's l2: 0.287374\tvalid_1's l2: 0.339077\n",
            "[96]\ttraining's l2: 0.286721\tvalid_1's l2: 0.339\n",
            "[97]\ttraining's l2: 0.285974\tvalid_1's l2: 0.338407\n",
            "[98]\ttraining's l2: 0.285368\tvalid_1's l2: 0.338183\n",
            "[99]\ttraining's l2: 0.284788\tvalid_1's l2: 0.337978\n",
            "[100]\ttraining's l2: 0.284222\tvalid_1's l2: 0.337824\n"
          ]
        },
        {
          "output_type": "execute_result",
          "data": {
            "text/plain": [
              "LGBMRegressor()"
            ]
          },
          "metadata": {},
          "execution_count": 7
        }
      ]
    },
    {
      "cell_type": "markdown",
      "metadata": {
        "id": "YLKidTge4gsx"
      },
      "source": [
        "## 정답\n",
        "---\n",
        "스스로 실습 코드를 작성 한 후 정답 코드를 확인해 보세요."
      ]
    },
    {
      "cell_type": "code",
      "metadata": {
        "id": "xmE4w_2PRqQO"
      },
      "source": [
        "#train_test_split() 메소드를 이용해 train/validation 데이터 나누기 \n",
        "# stratify 옵션을 활용하여 데이터 셋 split\n",
        "\n",
        "x_train,x_valid, y_train, y_valid = train_test_split(train_x,train['category'],stratify = train['category'])"
      ],
      "execution_count": 8,
      "outputs": []
    },
    {
      "cell_type": "code",
      "metadata": {
        "id": "rnLrwYoIZUMy",
        "outputId": "bf00e077-8f49-4d95-e630-22afba24f214",
        "colab": {
          "base_uri": "https://localhost:8080/"
        }
      },
      "source": [
        "# LightGBM을 이용해 학습 및 검증 진행\n",
        "from lightgbm import LGBMRegressor\n",
        "\n",
        "\n",
        "model = LGBMRegressor(  )\n",
        "model.fit(x_train,y_train,\n",
        "          eval_set = [(x_train,y_train),(x_valid,y_valid)]\n",
        "          )"
      ],
      "execution_count": 9,
      "outputs": [
        {
          "output_type": "stream",
          "name": "stdout",
          "text": [
            "[1]\ttraining's l2: 0.625779\tvalid_1's l2: 0.626641\n",
            "[2]\ttraining's l2: 0.592069\tvalid_1's l2: 0.594214\n",
            "[3]\ttraining's l2: 0.563911\tvalid_1's l2: 0.566441\n",
            "[4]\ttraining's l2: 0.540407\tvalid_1's l2: 0.54438\n",
            "[5]\ttraining's l2: 0.52008\tvalid_1's l2: 0.525685\n",
            "[6]\ttraining's l2: 0.502605\tvalid_1's l2: 0.509489\n",
            "[7]\ttraining's l2: 0.487478\tvalid_1's l2: 0.495429\n",
            "[8]\ttraining's l2: 0.473732\tvalid_1's l2: 0.482369\n",
            "[9]\ttraining's l2: 0.462249\tvalid_1's l2: 0.472217\n",
            "[10]\ttraining's l2: 0.451463\tvalid_1's l2: 0.462808\n",
            "[11]\ttraining's l2: 0.441546\tvalid_1's l2: 0.454008\n",
            "[12]\ttraining's l2: 0.432895\tvalid_1's l2: 0.445919\n",
            "[13]\ttraining's l2: 0.424833\tvalid_1's l2: 0.438911\n",
            "[14]\ttraining's l2: 0.41774\tvalid_1's l2: 0.432902\n",
            "[15]\ttraining's l2: 0.41092\tvalid_1's l2: 0.426846\n",
            "[16]\ttraining's l2: 0.405225\tvalid_1's l2: 0.422003\n",
            "[17]\ttraining's l2: 0.399876\tvalid_1's l2: 0.417667\n",
            "[18]\ttraining's l2: 0.3951\tvalid_1's l2: 0.413663\n",
            "[19]\ttraining's l2: 0.390368\tvalid_1's l2: 0.409935\n",
            "[20]\ttraining's l2: 0.386057\tvalid_1's l2: 0.406392\n",
            "[21]\ttraining's l2: 0.382024\tvalid_1's l2: 0.403186\n",
            "[22]\ttraining's l2: 0.378309\tvalid_1's l2: 0.399792\n",
            "[23]\ttraining's l2: 0.374803\tvalid_1's l2: 0.397169\n",
            "[24]\ttraining's l2: 0.371453\tvalid_1's l2: 0.394225\n",
            "[25]\ttraining's l2: 0.368388\tvalid_1's l2: 0.392391\n",
            "[26]\ttraining's l2: 0.36544\tvalid_1's l2: 0.389875\n",
            "[27]\ttraining's l2: 0.362706\tvalid_1's l2: 0.388102\n",
            "[28]\ttraining's l2: 0.360097\tvalid_1's l2: 0.386194\n",
            "[29]\ttraining's l2: 0.357622\tvalid_1's l2: 0.384211\n",
            "[30]\ttraining's l2: 0.355265\tvalid_1's l2: 0.382332\n",
            "[31]\ttraining's l2: 0.353036\tvalid_1's l2: 0.380763\n",
            "[32]\ttraining's l2: 0.350915\tvalid_1's l2: 0.379201\n",
            "[33]\ttraining's l2: 0.348857\tvalid_1's l2: 0.377867\n",
            "[34]\ttraining's l2: 0.346912\tvalid_1's l2: 0.376548\n",
            "[35]\ttraining's l2: 0.344999\tvalid_1's l2: 0.375295\n",
            "[36]\ttraining's l2: 0.343194\tvalid_1's l2: 0.374017\n",
            "[37]\ttraining's l2: 0.341439\tvalid_1's l2: 0.372794\n",
            "[38]\ttraining's l2: 0.339727\tvalid_1's l2: 0.371892\n",
            "[39]\ttraining's l2: 0.338159\tvalid_1's l2: 0.370674\n",
            "[40]\ttraining's l2: 0.336573\tvalid_1's l2: 0.370062\n",
            "[41]\ttraining's l2: 0.334977\tvalid_1's l2: 0.3687\n",
            "[42]\ttraining's l2: 0.333538\tvalid_1's l2: 0.367845\n",
            "[43]\ttraining's l2: 0.332153\tvalid_1's l2: 0.366935\n",
            "[44]\ttraining's l2: 0.330775\tvalid_1's l2: 0.366089\n",
            "[45]\ttraining's l2: 0.32941\tvalid_1's l2: 0.365345\n",
            "[46]\ttraining's l2: 0.328112\tvalid_1's l2: 0.364617\n",
            "[47]\ttraining's l2: 0.326826\tvalid_1's l2: 0.363843\n",
            "[48]\ttraining's l2: 0.325568\tvalid_1's l2: 0.363289\n",
            "[49]\ttraining's l2: 0.324371\tvalid_1's l2: 0.36245\n",
            "[50]\ttraining's l2: 0.323169\tvalid_1's l2: 0.361913\n",
            "[51]\ttraining's l2: 0.321953\tvalid_1's l2: 0.361299\n",
            "[52]\ttraining's l2: 0.320824\tvalid_1's l2: 0.36049\n",
            "[53]\ttraining's l2: 0.319693\tvalid_1's l2: 0.360139\n",
            "[54]\ttraining's l2: 0.318642\tvalid_1's l2: 0.35952\n",
            "[55]\ttraining's l2: 0.317605\tvalid_1's l2: 0.358824\n",
            "[56]\ttraining's l2: 0.316534\tvalid_1's l2: 0.358529\n",
            "[57]\ttraining's l2: 0.315525\tvalid_1's l2: 0.358008\n",
            "[58]\ttraining's l2: 0.314539\tvalid_1's l2: 0.35746\n",
            "[59]\ttraining's l2: 0.313489\tvalid_1's l2: 0.356821\n",
            "[60]\ttraining's l2: 0.312497\tvalid_1's l2: 0.356304\n",
            "[61]\ttraining's l2: 0.311528\tvalid_1's l2: 0.356047\n",
            "[62]\ttraining's l2: 0.310597\tvalid_1's l2: 0.355648\n",
            "[63]\ttraining's l2: 0.309665\tvalid_1's l2: 0.355278\n",
            "[64]\ttraining's l2: 0.308753\tvalid_1's l2: 0.355172\n",
            "[65]\ttraining's l2: 0.307863\tvalid_1's l2: 0.354731\n",
            "[66]\ttraining's l2: 0.307008\tvalid_1's l2: 0.354461\n",
            "[67]\ttraining's l2: 0.306157\tvalid_1's l2: 0.354057\n",
            "[68]\ttraining's l2: 0.305325\tvalid_1's l2: 0.353712\n",
            "[69]\ttraining's l2: 0.304443\tvalid_1's l2: 0.353417\n",
            "[70]\ttraining's l2: 0.303636\tvalid_1's l2: 0.353083\n",
            "[71]\ttraining's l2: 0.302857\tvalid_1's l2: 0.352711\n",
            "[72]\ttraining's l2: 0.302026\tvalid_1's l2: 0.352334\n",
            "[73]\ttraining's l2: 0.301241\tvalid_1's l2: 0.351875\n",
            "[74]\ttraining's l2: 0.300472\tvalid_1's l2: 0.351404\n",
            "[75]\ttraining's l2: 0.299728\tvalid_1's l2: 0.35103\n",
            "[76]\ttraining's l2: 0.29897\tvalid_1's l2: 0.350595\n",
            "[77]\ttraining's l2: 0.298217\tvalid_1's l2: 0.350313\n",
            "[78]\ttraining's l2: 0.297518\tvalid_1's l2: 0.350054\n",
            "[79]\ttraining's l2: 0.296738\tvalid_1's l2: 0.350009\n",
            "[80]\ttraining's l2: 0.296038\tvalid_1's l2: 0.349898\n",
            "[81]\ttraining's l2: 0.295307\tvalid_1's l2: 0.349792\n",
            "[82]\ttraining's l2: 0.294562\tvalid_1's l2: 0.34947\n",
            "[83]\ttraining's l2: 0.293862\tvalid_1's l2: 0.349194\n",
            "[84]\ttraining's l2: 0.293117\tvalid_1's l2: 0.349186\n",
            "[85]\ttraining's l2: 0.292431\tvalid_1's l2: 0.349024\n",
            "[86]\ttraining's l2: 0.291763\tvalid_1's l2: 0.348884\n",
            "[87]\ttraining's l2: 0.291104\tvalid_1's l2: 0.348569\n",
            "[88]\ttraining's l2: 0.290438\tvalid_1's l2: 0.348287\n",
            "[89]\ttraining's l2: 0.289783\tvalid_1's l2: 0.348051\n",
            "[90]\ttraining's l2: 0.289126\tvalid_1's l2: 0.347793\n",
            "[91]\ttraining's l2: 0.288512\tvalid_1's l2: 0.347377\n",
            "[92]\ttraining's l2: 0.287874\tvalid_1's l2: 0.347182\n",
            "[93]\ttraining's l2: 0.287231\tvalid_1's l2: 0.346816\n",
            "[94]\ttraining's l2: 0.286595\tvalid_1's l2: 0.346916\n",
            "[95]\ttraining's l2: 0.286003\tvalid_1's l2: 0.346688\n",
            "[96]\ttraining's l2: 0.285228\tvalid_1's l2: 0.346252\n",
            "[97]\ttraining's l2: 0.284602\tvalid_1's l2: 0.346169\n",
            "[98]\ttraining's l2: 0.283925\tvalid_1's l2: 0.345899\n",
            "[99]\ttraining's l2: 0.283324\tvalid_1's l2: 0.345767\n",
            "[100]\ttraining's l2: 0.282737\tvalid_1's l2: 0.345566\n"
          ]
        },
        {
          "output_type": "execute_result",
          "data": {
            "text/plain": [
              "LGBMRegressor()"
            ]
          },
          "metadata": {},
          "execution_count": 9
        }
      ]
    },
    {
      "cell_type": "markdown",
      "metadata": {
        "id": "K8YgC54VtiB7"
      },
      "source": [
        "# [↩️ 리스트로 돌아가기](https://dacon.io/competitions/open/235698/overview/description)"
      ]
    }
  ]
}