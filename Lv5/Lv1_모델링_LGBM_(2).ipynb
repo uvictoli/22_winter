{
  "nbformat": 4,
  "nbformat_minor": 0,
  "metadata": {
    "colab": {
      "name": "Lv1_모델링_LGBM - (2)",
      "provenance": [],
      "collapsed_sections": [
        "YLKidTge4gsx"
      ],
      "include_colab_link": true
    },
    "kernelspec": {
      "name": "python3",
      "display_name": "Python 3"
    },
    "language_info": {
      "name": "python"
    }
  },
  "cells": [
    {
      "cell_type": "markdown",
      "metadata": {
        "id": "view-in-github",
        "colab_type": "text"
      },
      "source": [
        "<a href=\"https://colab.research.google.com/github/uvictoli/Machine_Learning/blob/main/Lv5/Lv1_%EB%AA%A8%EB%8D%B8%EB%A7%81_LGBM_(2).ipynb\" target=\"_parent\"><img src=\"https://colab.research.google.com/assets/colab-badge.svg\" alt=\"Open In Colab\"/></a>"
      ]
    },
    {
      "cell_type": "markdown",
      "metadata": {
        "id": "vIpjpOEXsoW0"
      },
      "source": [
        "# [↩️ 리스트로 돌아가기](https://dacon.io/competitions/open/235698/overview/description)"
      ]
    },
    {
      "cell_type": "markdown",
      "metadata": {
        "id": "Y8EsppNShcez"
      },
      "source": [
        "# 셀을 실행할 때 팝업이 뜨면 `무시하고 계속하기` 를 눌러주세요\n"
      ]
    },
    {
      "cell_type": "markdown",
      "metadata": {
        "id": "FqodyLxg4RLu"
      },
      "source": [
        "## 데이터 다운로드\n",
        "--- \n",
        "아래 셀을 실행시켜 데이터를 colab에 불러옵니다.  \n",
        "셀 실행은 <br>Windows: `Ctrl` + `Enter`<br>\n",
        "Mac: `Shift` + `Enter` <br>\n",
        "를 이용해 실행 시킬 수 있습니다. "
      ]
    },
    {
      "cell_type": "code",
      "metadata": {
        "id": "by55dpRPfTwZ",
        "outputId": "6201912f-0a48-4742-bb62-d9aeb166903d",
        "colab": {
          "base_uri": "https://localhost:8080/"
        }
      },
      "source": [
        "# 데이터 다운로드 링크로 데이터를 코랩에 불러옵니다.\n",
        "\n",
        "!wget 'https://bit.ly/3l6g8j3'\n",
        "\n",
        "import zipfile\n",
        "with zipfile.ZipFile('3l6g8j3', 'r') as existing_zip:\n",
        "    existing_zip.extractall('data')"
      ],
      "execution_count": 1,
      "outputs": [
        {
          "output_type": "stream",
          "name": "stdout",
          "text": [
            "--2022-02-26 01:10:27--  https://bit.ly/3l6g8j3\n",
            "Resolving bit.ly (bit.ly)... 67.199.248.10, 67.199.248.11\n",
            "Connecting to bit.ly (bit.ly)|67.199.248.10|:443... connected.\n",
            "HTTP request sent, awaiting response... 301 Moved Permanently\n",
            "Location: https://docs.google.com/uc?export=download&id=1n-cTWLp385P-DmmNuMAg6zJDw8MNAPwu [following]\n",
            "--2022-02-26 01:10:27--  https://docs.google.com/uc?export=download&id=1n-cTWLp385P-DmmNuMAg6zJDw8MNAPwu\n",
            "Resolving docs.google.com (docs.google.com)... 108.177.121.113, 108.177.121.101, 108.177.121.138, ...\n",
            "Connecting to docs.google.com (docs.google.com)|108.177.121.113|:443... connected.\n",
            "HTTP request sent, awaiting response... 303 See Other\n",
            "Location: https://doc-0g-10-docs.googleusercontent.com/docs/securesc/ha0ro937gcuc7l7deffksulhg5h7mbp1/abkcga8hg60vp7fkajksr488o8tfeo2f/1645837800000/17946651057176172524/*/1n-cTWLp385P-DmmNuMAg6zJDw8MNAPwu?e=download [following]\n",
            "Warning: wildcards not supported in HTTP.\n",
            "--2022-02-26 01:10:30--  https://doc-0g-10-docs.googleusercontent.com/docs/securesc/ha0ro937gcuc7l7deffksulhg5h7mbp1/abkcga8hg60vp7fkajksr488o8tfeo2f/1645837800000/17946651057176172524/*/1n-cTWLp385P-DmmNuMAg6zJDw8MNAPwu?e=download\n",
            "Resolving doc-0g-10-docs.googleusercontent.com (doc-0g-10-docs.googleusercontent.com)... 142.251.120.132, 2607:f8b0:4001:c2e::84\n",
            "Connecting to doc-0g-10-docs.googleusercontent.com (doc-0g-10-docs.googleusercontent.com)|142.251.120.132|:443... connected.\n",
            "HTTP request sent, awaiting response... 200 OK\n",
            "Length: 22312699 (21M) [application/x-zip-compressed]\n",
            "Saving to: ‘3l6g8j3’\n",
            "\n",
            "3l6g8j3             100%[===================>]  21.28M  59.7MB/s    in 0.4s    \n",
            "\n",
            "2022-02-26 01:10:31 (59.7 MB/s) - ‘3l6g8j3’ saved [22312699/22312699]\n",
            "\n"
          ]
        }
      ]
    },
    {
      "cell_type": "code",
      "metadata": {
        "id": "DmDU-A_HPeEb"
      },
      "source": [
        "# 데이터 불러오기\n",
        "import pandas as pd\n",
        "\n",
        "train = pd.read_csv('data/train.csv',usecols = ['category','data'])\n",
        "test = pd.read_csv('data/test.csv',usecols = ['data'])"
      ],
      "execution_count": 2,
      "outputs": []
    },
    {
      "cell_type": "code",
      "metadata": {
        "id": "4Cc1TtCoDAwl"
      },
      "source": [
        "# train,test 데이터에서  '\\\\n' 단어 제거\n",
        "\n",
        "train['data'] = train['data'].apply(lambda x : str(x).replace('\\\\n',' ')) # 텍스트 데이터에서 '\\\\n' 문자열을 ' '로 변경\n",
        "test['data'] = test['data'].apply(lambda x : str(x).replace('\\\\n',' ')) # 텍스트 데이터에서 '\\\\n' 문자열을 ' '로 변경"
      ],
      "execution_count": 3,
      "outputs": []
    },
    {
      "cell_type": "code",
      "metadata": {
        "id": "p5Psv8eCDArE",
        "colab": {
          "base_uri": "https://localhost:8080/"
        },
        "outputId": "05ebf815-31a7-4296-808f-f35f3e8d371c"
      },
      "source": [
        "# 라이브러리 로딩\n",
        "from sklearn.feature_extraction.text import TfidfVectorizer\n",
        "\n",
        "#TF-IDF으로 train 데이터를 피처 벡터화 변환 수행\n",
        "\n",
        "vect = TfidfVectorizer()\n",
        "vect.fit(train['data'])\n",
        "train_x =  vect.transform(train['data'])\n",
        "\n",
        "print('train 데이터 사이즈', train_x.shape)"
      ],
      "execution_count": 4,
      "outputs": [
        {
          "output_type": "stream",
          "name": "stdout",
          "text": [
            "train 데이터 사이즈 (40000, 697226)\n"
          ]
        }
      ]
    },
    {
      "cell_type": "code",
      "metadata": {
        "id": "KtIEGm2WEVew"
      },
      "source": [
        "from sklearn.model_selection import train_test_split\n",
        "#train_test_split() 메소드를 이용해 train/validation 데이터 나누기 \n",
        "x_train,x_valid, y_train, y_valid = train_test_split(train_x,train['category'],stratify = train['category'])\n",
        "\n"
      ],
      "execution_count": 5,
      "outputs": []
    },
    {
      "cell_type": "markdown",
      "metadata": {
        "id": "J1Is2vFL4cxY"
      },
      "source": [
        "## 실습\n",
        "---\n"
      ]
    },
    {
      "cell_type": "code",
      "metadata": {
        "id": "a52vZxPDDk7-",
        "outputId": "b2be404b-a3c7-49c6-8e89-6f8500c50663",
        "colab": {
          "base_uri": "https://localhost:8080/"
        }
      },
      "source": [
        "# LightGBM을 이용해 학습 및 검증 진행\n",
        "from lightgbm import LGBMRegressor\n",
        "\n",
        "#모델 정의 \n",
        "model = LGBMRegressor()\n",
        "\n",
        "#평가 산식을 AUC로 설정, n_estimators 기준 5번 마다 결과값 출력하게 모델 학습.\n",
        "model.fit(train_x, train['category'],\n",
        "          eval_set = [(x_train, y_train), (x_valid, y_valid)],\n",
        "          eval_metric = 'auc' ,verbose = 5\n",
        "          )"
      ],
      "execution_count": 9,
      "outputs": [
        {
          "output_type": "stream",
          "name": "stdout",
          "text": [
            "[5]\tvalid_0's l2: 0.521827\tvalid_0's auc: 0.747426\tvalid_1's l2: 0.520108\tvalid_1's auc: 0.75027\n",
            "[10]\tvalid_0's l2: 0.45495\tvalid_0's auc: 0.776654\tvalid_1's l2: 0.453526\tvalid_1's auc: 0.778411\n",
            "[15]\tvalid_0's l2: 0.415989\tvalid_0's auc: 0.793389\tvalid_1's l2: 0.413661\tvalid_1's auc: 0.797476\n",
            "[20]\tvalid_0's l2: 0.391243\tvalid_0's auc: 0.807138\tvalid_1's l2: 0.388509\tvalid_1's auc: 0.811014\n",
            "[25]\tvalid_0's l2: 0.374503\tvalid_0's auc: 0.818832\tvalid_1's l2: 0.371454\tvalid_1's auc: 0.821764\n",
            "[30]\tvalid_0's l2: 0.361951\tvalid_0's auc: 0.829761\tvalid_1's l2: 0.358112\tvalid_1's auc: 0.831777\n",
            "[35]\tvalid_0's l2: 0.352109\tvalid_0's auc: 0.839874\tvalid_1's l2: 0.348037\tvalid_1's auc: 0.843879\n",
            "[40]\tvalid_0's l2: 0.343846\tvalid_0's auc: 0.847661\tvalid_1's l2: 0.3401\tvalid_1's auc: 0.850928\n",
            "[45]\tvalid_0's l2: 0.337041\tvalid_0's auc: 0.852401\tvalid_1's l2: 0.333231\tvalid_1's auc: 0.854786\n",
            "[50]\tvalid_0's l2: 0.331054\tvalid_0's auc: 0.856257\tvalid_1's l2: 0.327368\tvalid_1's auc: 0.859473\n",
            "[55]\tvalid_0's l2: 0.325872\tvalid_0's auc: 0.861145\tvalid_1's l2: 0.322033\tvalid_1's auc: 0.865235\n",
            "[60]\tvalid_0's l2: 0.320993\tvalid_0's auc: 0.864927\tvalid_1's l2: 0.31722\tvalid_1's auc: 0.869138\n",
            "[65]\tvalid_0's l2: 0.316723\tvalid_0's auc: 0.868679\tvalid_1's l2: 0.312873\tvalid_1's auc: 0.872869\n",
            "[70]\tvalid_0's l2: 0.312735\tvalid_0's auc: 0.872465\tvalid_1's l2: 0.308976\tvalid_1's auc: 0.876166\n",
            "[75]\tvalid_0's l2: 0.309078\tvalid_0's auc: 0.874949\tvalid_1's l2: 0.305154\tvalid_1's auc: 0.878914\n",
            "[80]\tvalid_0's l2: 0.305665\tvalid_0's auc: 0.877569\tvalid_1's l2: 0.301611\tvalid_1's auc: 0.881488\n",
            "[85]\tvalid_0's l2: 0.302411\tvalid_0's auc: 0.880162\tvalid_1's l2: 0.298481\tvalid_1's auc: 0.883758\n",
            "[90]\tvalid_0's l2: 0.299317\tvalid_0's auc: 0.882787\tvalid_1's l2: 0.295392\tvalid_1's auc: 0.886334\n",
            "[95]\tvalid_0's l2: 0.296238\tvalid_0's auc: 0.885028\tvalid_1's l2: 0.292454\tvalid_1's auc: 0.888462\n",
            "[100]\tvalid_0's l2: 0.293347\tvalid_0's auc: 0.887137\tvalid_1's l2: 0.28956\tvalid_1's auc: 0.890649\n"
          ]
        },
        {
          "output_type": "execute_result",
          "data": {
            "text/plain": [
              "LGBMRegressor()"
            ]
          },
          "metadata": {},
          "execution_count": 9
        }
      ]
    },
    {
      "cell_type": "markdown",
      "metadata": {
        "id": "YLKidTge4gsx"
      },
      "source": [
        "## 정답\n",
        "---\n",
        "스스로 실습 코드를 작성 한 후 정답 코드를 확인해 보세요."
      ]
    },
    {
      "cell_type": "code",
      "metadata": {
        "id": "rnLrwYoIZUMy",
        "outputId": "114d26c1-c32c-401b-ad16-072a3223c375",
        "colab": {
          "base_uri": "https://localhost:8080/"
        }
      },
      "source": [
        "# LightGBM을 이용해 학습 및 검증 진행\n",
        "from lightgbm import LGBMRegressor\n",
        "\n",
        "\n",
        "model = LGBMRegressor()\n",
        "\n",
        "#평가 산식을 AUC로 설정, n_estimators 기준 5번 마다 결과값 출력하게 모델 학습.\n",
        "model.fit(train_x,train['category'], \n",
        "           eval_set = [(x_train,y_train),(x_valid,y_valid)],\n",
        "          eval_metric = 'auc' ,verbose = 5)"
      ],
      "execution_count": 7,
      "outputs": [
        {
          "output_type": "stream",
          "name": "stdout",
          "text": [
            "[5]\tvalid_0's l2: 0.521827\tvalid_0's auc: 0.747426\tvalid_1's l2: 0.520108\tvalid_1's auc: 0.75027\n",
            "[10]\tvalid_0's l2: 0.45495\tvalid_0's auc: 0.776654\tvalid_1's l2: 0.453526\tvalid_1's auc: 0.778411\n",
            "[15]\tvalid_0's l2: 0.415989\tvalid_0's auc: 0.793389\tvalid_1's l2: 0.413661\tvalid_1's auc: 0.797476\n",
            "[20]\tvalid_0's l2: 0.391243\tvalid_0's auc: 0.807138\tvalid_1's l2: 0.388509\tvalid_1's auc: 0.811014\n",
            "[25]\tvalid_0's l2: 0.374503\tvalid_0's auc: 0.818832\tvalid_1's l2: 0.371454\tvalid_1's auc: 0.821764\n",
            "[30]\tvalid_0's l2: 0.361951\tvalid_0's auc: 0.829761\tvalid_1's l2: 0.358112\tvalid_1's auc: 0.831777\n",
            "[35]\tvalid_0's l2: 0.352109\tvalid_0's auc: 0.839874\tvalid_1's l2: 0.348037\tvalid_1's auc: 0.843879\n",
            "[40]\tvalid_0's l2: 0.343846\tvalid_0's auc: 0.847661\tvalid_1's l2: 0.3401\tvalid_1's auc: 0.850928\n",
            "[45]\tvalid_0's l2: 0.337041\tvalid_0's auc: 0.852401\tvalid_1's l2: 0.333231\tvalid_1's auc: 0.854786\n",
            "[50]\tvalid_0's l2: 0.331054\tvalid_0's auc: 0.856257\tvalid_1's l2: 0.327368\tvalid_1's auc: 0.859473\n",
            "[55]\tvalid_0's l2: 0.325872\tvalid_0's auc: 0.861145\tvalid_1's l2: 0.322033\tvalid_1's auc: 0.865235\n",
            "[60]\tvalid_0's l2: 0.320993\tvalid_0's auc: 0.864927\tvalid_1's l2: 0.31722\tvalid_1's auc: 0.869138\n",
            "[65]\tvalid_0's l2: 0.316723\tvalid_0's auc: 0.868679\tvalid_1's l2: 0.312873\tvalid_1's auc: 0.872869\n",
            "[70]\tvalid_0's l2: 0.312735\tvalid_0's auc: 0.872465\tvalid_1's l2: 0.308976\tvalid_1's auc: 0.876166\n",
            "[75]\tvalid_0's l2: 0.309078\tvalid_0's auc: 0.874949\tvalid_1's l2: 0.305154\tvalid_1's auc: 0.878914\n",
            "[80]\tvalid_0's l2: 0.305665\tvalid_0's auc: 0.877569\tvalid_1's l2: 0.301611\tvalid_1's auc: 0.881488\n",
            "[85]\tvalid_0's l2: 0.302411\tvalid_0's auc: 0.880162\tvalid_1's l2: 0.298481\tvalid_1's auc: 0.883758\n",
            "[90]\tvalid_0's l2: 0.299317\tvalid_0's auc: 0.882787\tvalid_1's l2: 0.295392\tvalid_1's auc: 0.886334\n",
            "[95]\tvalid_0's l2: 0.296238\tvalid_0's auc: 0.885028\tvalid_1's l2: 0.292454\tvalid_1's auc: 0.888462\n",
            "[100]\tvalid_0's l2: 0.293347\tvalid_0's auc: 0.887137\tvalid_1's l2: 0.28956\tvalid_1's auc: 0.890649\n"
          ]
        },
        {
          "output_type": "execute_result",
          "data": {
            "text/plain": [
              "LGBMRegressor()"
            ]
          },
          "metadata": {},
          "execution_count": 7
        }
      ]
    },
    {
      "cell_type": "markdown",
      "metadata": {
        "id": "K8YgC54VtiB7"
      },
      "source": [
        "# [↩️ 리스트로 돌아가기](https://dacon.io/competitions/open/235698/overview/description)"
      ]
    }
  ]
}