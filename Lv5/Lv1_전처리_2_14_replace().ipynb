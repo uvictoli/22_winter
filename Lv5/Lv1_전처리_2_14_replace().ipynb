{
  "nbformat": 4,
  "nbformat_minor": 0,
  "metadata": {
    "colab": {
      "name": "Lv1_전처리_2/14_replace()",
      "provenance": [],
      "collapsed_sections": [
        "YLKidTge4gsx"
      ],
      "include_colab_link": true
    },
    "kernelspec": {
      "name": "python3",
      "display_name": "Python 3"
    },
    "language_info": {
      "name": "python"
    }
  },
  "cells": [
    {
      "cell_type": "markdown",
      "metadata": {
        "id": "view-in-github",
        "colab_type": "text"
      },
      "source": [
        "<a href=\"https://colab.research.google.com/github/uvictoli/Machine_Learning/blob/main/Lv5/Lv1_%EC%A0%84%EC%B2%98%EB%A6%AC_2_14_replace().ipynb\" target=\"_parent\"><img src=\"https://colab.research.google.com/assets/colab-badge.svg\" alt=\"Open In Colab\"/></a>"
      ]
    },
    {
      "cell_type": "markdown",
      "metadata": {
        "id": "vIpjpOEXsoW0"
      },
      "source": [
        "# [↩️ 리스트로 돌아가기](https://dacon.io/competitions/open/235698/overview/description)"
      ]
    },
    {
      "cell_type": "markdown",
      "metadata": {
        "id": "Y8EsppNShcez"
      },
      "source": [
        "# 셀을 실행할 때 팝업이 뜨면 `무시하고 계속하기` 를 눌러주세요\n"
      ]
    },
    {
      "cell_type": "markdown",
      "metadata": {
        "id": "J1Is2vFL4cxY"
      },
      "source": [
        "## 실습\n",
        "---\n",
        "replace() 메소드를 이용해 주어지는 문자열을 변경해 보세요 !"
      ]
    },
    {
      "cell_type": "code",
      "metadata": {
        "id": "YdvozqoZ4uhk",
        "outputId": "c6f581f3-0c4c-48cf-f693-244b9c5f1388",
        "colab": {
          "base_uri": "https://localhost:8080/"
        }
      },
      "source": [
        "# string 문자열을 replace()메소드를 이용해 hi python 으로 변경해 보세요.\n",
        "string = 'hello python'\n",
        "\n",
        "string_replace = string.replace('hello', 'hi')\n",
        "print(string_replace)"
      ],
      "execution_count": 1,
      "outputs": [
        {
          "output_type": "stream",
          "name": "stdout",
          "text": [
            "hi python\n"
          ]
        }
      ]
    },
    {
      "cell_type": "code",
      "metadata": {
        "id": "j7rIX3r0S_zo",
        "outputId": "f4242142-eb6c-4ba3-a6f2-14a1c7c8f483",
        "colab": {
          "base_uri": "https://localhost:8080/"
        }
      },
      "source": [
        "# replace() 메소드를 이용해 해당 하는 출력값이 나오도록 문자열을 변경해 보세요.\n",
        "\n",
        "string = '123,456,789'\n",
        "\n",
        "# 출력값 : 123456,789 \n",
        "print(string.replace(',','',1))\n",
        "\n",
        "# 출력값 : 123456789 \n",
        "print(string.replace(',',''))"
      ],
      "execution_count": 2,
      "outputs": [
        {
          "output_type": "stream",
          "name": "stdout",
          "text": [
            "123456,789\n",
            "123456789\n"
          ]
        }
      ]
    },
    {
      "cell_type": "markdown",
      "metadata": {
        "id": "YLKidTge4gsx"
      },
      "source": [
        "## 정답\n",
        "---\n",
        "스스로 실습 코드를 작성 한 후 정답 코드를 확인해 보세요."
      ]
    },
    {
      "cell_type": "code",
      "metadata": {
        "id": "xmE4w_2PRqQO",
        "outputId": "7f1e6509-9aac-4bbb-d03e-0472b03bc05a",
        "colab": {
          "base_uri": "https://localhost:8080/"
        }
      },
      "source": [
        "# string 문자열을 replace()메소드를 이용해 hi python 으로 변경해 보세요.\n",
        "string = 'hello python'\n",
        "\n",
        "string_replace = string.replace('hello','hi')\n",
        "\n",
        "print(string_replace)"
      ],
      "execution_count": 3,
      "outputs": [
        {
          "output_type": "stream",
          "name": "stdout",
          "text": [
            "hi python\n"
          ]
        }
      ]
    },
    {
      "cell_type": "code",
      "metadata": {
        "id": "pwmVdXlzTTw3",
        "outputId": "10d05cf1-7eb7-4fc8-97b6-3a019dc7d403",
        "colab": {
          "base_uri": "https://localhost:8080/"
        }
      },
      "source": [
        "# replace() 메소드를 이용해 해당 하는 출력값이 나오도록 문자열을 변경해 보세요.\n",
        "string = '123,456,789'\n",
        "\n",
        "# 출력값 : 123456,789 \n",
        "print(string.replace(',','',1))\n",
        "\n",
        "# 출력값 : 123456789 \n",
        "print(string.replace(',',''))"
      ],
      "execution_count": 4,
      "outputs": [
        {
          "output_type": "stream",
          "name": "stdout",
          "text": [
            "123456,789\n",
            "123456789\n"
          ]
        }
      ]
    },
    {
      "cell_type": "markdown",
      "metadata": {
        "id": "K8YgC54VtiB7"
      },
      "source": [
        "# [↩️ 리스트로 돌아가기](https://dacon.io/competitions/open/235698/overview/description)"
      ]
    }
  ]
}