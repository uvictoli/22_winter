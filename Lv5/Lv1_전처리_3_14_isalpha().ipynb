{
  "nbformat": 4,
  "nbformat_minor": 0,
  "metadata": {
    "colab": {
      "name": "Lv1_전처리_3/14_isalpha()",
      "provenance": [],
      "collapsed_sections": [
        "YLKidTge4gsx"
      ],
      "include_colab_link": true
    },
    "kernelspec": {
      "name": "python3",
      "display_name": "Python 3"
    },
    "language_info": {
      "name": "python"
    }
  },
  "cells": [
    {
      "cell_type": "markdown",
      "metadata": {
        "id": "view-in-github",
        "colab_type": "text"
      },
      "source": [
        "<a href=\"https://colab.research.google.com/github/uvictoli/Machine_Learning/blob/main/Lv5/Lv1_%EC%A0%84%EC%B2%98%EB%A6%AC_3_14_isalpha().ipynb\" target=\"_parent\"><img src=\"https://colab.research.google.com/assets/colab-badge.svg\" alt=\"Open In Colab\"/></a>"
      ]
    },
    {
      "cell_type": "markdown",
      "metadata": {
        "id": "vIpjpOEXsoW0"
      },
      "source": [
        "# [↩️ 리스트로 돌아가기](https://dacon.io/competitions/open/235698/overview/description)"
      ]
    },
    {
      "cell_type": "markdown",
      "metadata": {
        "id": "Y8EsppNShcez"
      },
      "source": [
        "# 셀을 실행할 때 팝업이 뜨면 `무시하고 계속하기` 를 눌러주세요\n"
      ]
    },
    {
      "cell_type": "markdown",
      "metadata": {
        "id": "J1Is2vFL4cxY"
      },
      "source": [
        "## 실습\n",
        "---\n"
      ]
    },
    {
      "cell_type": "code",
      "metadata": {
        "id": "j7rIX3r0S_zo",
        "outputId": "316af854-2c76-4295-8158-6717950280ca",
        "colab": {
          "base_uri": "https://localhost:8080/"
        }
      },
      "source": [
        "# isalpha 메소드를 이용해 output에 해당하는 값이 출력 되도록 특정 문자열을 제거 해보세요.\n",
        "\n",
        "\n",
        "string=\"Hello$@ Python3&\"\n",
        "\n",
        "isalpha_list = [] # 알파벳만 담을 리스트\n",
        "\n",
        "for c in string:\n",
        "  if c.isalpha(): isalpha_list.append(c)\n",
        "\n",
        "string_isalpha = ''.join(isalpha_list)\n",
        "print(string_isalpha)  \n",
        "\n",
        "# output :HelloPython"
      ],
      "execution_count": 1,
      "outputs": [
        {
          "output_type": "stream",
          "name": "stdout",
          "text": [
            "HelloPython\n"
          ]
        }
      ]
    },
    {
      "cell_type": "markdown",
      "metadata": {
        "id": "YLKidTge4gsx"
      },
      "source": [
        "## 정답\n",
        "---\n",
        "스스로 실습 코드를 작성 한 후 정답 코드를 확인해 보세요."
      ]
    },
    {
      "cell_type": "code",
      "metadata": {
        "id": "xmE4w_2PRqQO",
        "outputId": "7e53f5cb-758f-4a9c-97c6-bf9461f9ae59",
        "colab": {
          "base_uri": "https://localhost:8080/"
        }
      },
      "source": [
        "# isalpha 메소드를 이용해 output에 해당하는 값이 출력 되도록 특정 문자열을 제거 해보세요.\n",
        "\n",
        "\n",
        "string=\"Hello$@ Python3&\"\n",
        "\n",
        "# output :HelloPython\n",
        "\n",
        "#isalpha를 이용해 알파벳값만 담을 리스트\n",
        "isalpha_list = []\n",
        "\n",
        "for c in string:\n",
        "  #isalpha()를 이용해 알파벳값인지 판별\n",
        "    if c.isalpha():\n",
        "      isalpha_list.append(c)\n",
        "\n",
        "#join()메소드를 이용해 알파벳값 만 담긴 리스트를 결합\n",
        "string_isalpha = ''.join(isalpha_list)\n",
        "print(string_isalpha)"
      ],
      "execution_count": 2,
      "outputs": [
        {
          "output_type": "stream",
          "name": "stdout",
          "text": [
            "HelloPython\n"
          ]
        }
      ]
    },
    {
      "cell_type": "markdown",
      "metadata": {
        "id": "K8YgC54VtiB7"
      },
      "source": [
        "# [↩️ 리스트로 돌아가기](https://dacon.io/competitions/open/235698/overview/description)"
      ]
    }
  ]
}