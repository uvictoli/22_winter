{
  "nbformat": 4,
  "nbformat_minor": 0,
  "metadata": {
    "colab": {
      "name": "Lv1_전처리_8/14_형태소분석기",
      "provenance": [],
      "collapsed_sections": [
        "YLKidTge4gsx"
      ],
      "include_colab_link": true
    },
    "kernelspec": {
      "name": "python3",
      "display_name": "Python 3"
    },
    "language_info": {
      "name": "python"
    }
  },
  "cells": [
    {
      "cell_type": "markdown",
      "metadata": {
        "id": "view-in-github",
        "colab_type": "text"
      },
      "source": [
        "<a href=\"https://colab.research.google.com/github/uvictoli/Machine_Learning/blob/main/Lv5/Lv1_%EC%A0%84%EC%B2%98%EB%A6%AC_8_14_%ED%98%95%ED%83%9C%EC%86%8C%EB%B6%84%EC%84%9D%EA%B8%B0.ipynb\" target=\"_parent\"><img src=\"https://colab.research.google.com/assets/colab-badge.svg\" alt=\"Open In Colab\"/></a>"
      ]
    },
    {
      "cell_type": "markdown",
      "metadata": {
        "id": "vIpjpOEXsoW0"
      },
      "source": [
        "# [↩️ 리스트로 돌아가기](https://dacon.io/competitions/open/235698/overview/description)"
      ]
    },
    {
      "cell_type": "markdown",
      "metadata": {
        "id": "Y8EsppNShcez"
      },
      "source": [
        "# 셀을 실행할 때 팝업이 뜨면 `무시하고 계속하기` 를 눌러주세요\n"
      ]
    },
    {
      "cell_type": "markdown",
      "metadata": {
        "id": "J1Is2vFL4cxY"
      },
      "source": [
        "## 실습\n",
        "---\n"
      ]
    },
    {
      "cell_type": "code",
      "metadata": {
        "id": "EHMCVSlEbT3r",
        "outputId": "e5f11081-9329-4a73-8745-5b3092ead69e",
        "colab": {
          "base_uri": "https://localhost:8080/"
        }
      },
      "source": [
        "# 라이브러리 설치\n",
        "# Okt, Komoran, Kkma 은 모두 konlpy 라이브러리에서 불러올 수 있다.\n",
        "!pip install konlpy"
      ],
      "execution_count": 1,
      "outputs": [
        {
          "output_type": "stream",
          "name": "stdout",
          "text": [
            "Collecting konlpy\n",
            "  Downloading konlpy-0.6.0-py2.py3-none-any.whl (19.4 MB)\n",
            "\u001b[K     |████████████████████████████████| 19.4 MB 1.3 MB/s \n",
            "\u001b[?25hRequirement already satisfied: lxml>=4.1.0 in /usr/local/lib/python3.7/dist-packages (from konlpy) (4.2.6)\n",
            "Collecting JPype1>=0.7.0\n",
            "  Downloading JPype1-1.3.0-cp37-cp37m-manylinux_2_5_x86_64.manylinux1_x86_64.whl (448 kB)\n",
            "\u001b[K     |████████████████████████████████| 448 kB 35.6 MB/s \n",
            "\u001b[?25hRequirement already satisfied: numpy>=1.6 in /usr/local/lib/python3.7/dist-packages (from konlpy) (1.21.5)\n",
            "Requirement already satisfied: typing-extensions in /usr/local/lib/python3.7/dist-packages (from JPype1>=0.7.0->konlpy) (3.10.0.2)\n",
            "Installing collected packages: JPype1, konlpy\n",
            "Successfully installed JPype1-1.3.0 konlpy-0.6.0\n"
          ]
        }
      ]
    },
    {
      "cell_type": "code",
      "metadata": {
        "id": "7dDyIInhADLm"
      },
      "source": [
        "#형태소를 분석할 텍스트 정의\n",
        "text = '마음에 꽂힌 칼한자루 보다 마음에 꽂힌 꽃한송이가 더 아파서 잠이 오지 않는다'"
      ],
      "execution_count": 2,
      "outputs": []
    },
    {
      "cell_type": "code",
      "metadata": {
        "id": "9K8zbEcpcbOU"
      },
      "source": [
        "from konlpy.tag import Kkma, Komoran, Okt\n",
        "\n",
        "# 형태소 분석기 정의\n",
        "okt = Okt()\n",
        "kkm = Kkma()\n",
        "kom = Komoran()"
      ],
      "execution_count": 3,
      "outputs": []
    },
    {
      "cell_type": "code",
      "metadata": {
        "id": "-dpDpY_u-fxX",
        "outputId": "aa35cb75-8cb4-46b3-909a-51369f3e18d3",
        "colab": {
          "base_uri": "https://localhost:8080/"
        }
      },
      "source": [
        "# 형태소 분석기의 pos메소드를 이용해 형태소를 분석 \n",
        "# Komoran\n",
        "kom.pos(text)"
      ],
      "execution_count": 4,
      "outputs": [
        {
          "output_type": "execute_result",
          "data": {
            "text/plain": [
              "[('마음', 'NNG'),\n",
              " ('에', 'JKB'),\n",
              " ('꽂히', 'VV'),\n",
              " ('ㄴ', 'ETM'),\n",
              " ('칼', 'NNG'),\n",
              " ('한자', 'NNP'),\n",
              " ('루', 'JKB'),\n",
              " ('보다', 'MAG'),\n",
              " ('마음', 'NNG'),\n",
              " ('에', 'JKB'),\n",
              " ('꽂히', 'VV'),\n",
              " ('ㄴ', 'ETM'),\n",
              " ('꽃', 'NNG'),\n",
              " ('한송이', 'NNP'),\n",
              " ('가', 'JKS'),\n",
              " ('더', 'MAG'),\n",
              " ('아파서', 'NNP'),\n",
              " ('잠', 'NNG'),\n",
              " ('이', 'JKS'),\n",
              " ('오', 'VV'),\n",
              " ('지', 'EC'),\n",
              " ('않', 'VX'),\n",
              " ('는다', 'EC')]"
            ]
          },
          "metadata": {},
          "execution_count": 4
        }
      ]
    },
    {
      "cell_type": "code",
      "metadata": {
        "id": "VZjSFNl--gg2",
        "outputId": "40b9e00f-3a8e-4f1f-9ba2-e3bc2b6ea587",
        "colab": {
          "base_uri": "https://localhost:8080/"
        }
      },
      "source": [
        "# 형태소 분석기의 pos메소드를 이용해 형태소를 분석 \n",
        "# Kkma\n",
        "kkm.pos(text)"
      ],
      "execution_count": 5,
      "outputs": [
        {
          "output_type": "execute_result",
          "data": {
            "text/plain": [
              "[('마음', 'NNG'),\n",
              " ('에', 'JKM'),\n",
              " ('꽂히', 'VV'),\n",
              " ('ㄴ', 'ETD'),\n",
              " ('칼', 'NNG'),\n",
              " ('한자', 'NNG'),\n",
              " ('로', 'JKM'),\n",
              " ('보다', 'MAG'),\n",
              " ('마음', 'NNG'),\n",
              " ('에', 'JKM'),\n",
              " ('꽂히', 'VV'),\n",
              " ('ㄴ', 'ETD'),\n",
              " ('꽃', 'NNG'),\n",
              " ('한', 'MDN'),\n",
              " ('송이', 'NNG'),\n",
              " ('가', 'JKS'),\n",
              " ('더', 'MAG'),\n",
              " ('아프', 'VA'),\n",
              " ('아서', 'ECD'),\n",
              " ('잠', 'NNG'),\n",
              " ('이', 'JKS'),\n",
              " ('오', 'VV'),\n",
              " ('지', 'ECD'),\n",
              " ('않', 'VXV'),\n",
              " ('는', 'EPT'),\n",
              " ('다', 'EFN')]"
            ]
          },
          "metadata": {},
          "execution_count": 5
        }
      ]
    },
    {
      "cell_type": "code",
      "metadata": {
        "id": "ffmGLnqK-jwO",
        "outputId": "f6d81091-9dd0-46a1-afab-a7efc7924efc",
        "colab": {
          "base_uri": "https://localhost:8080/"
        }
      },
      "source": [
        "# 형태소 분석기의 pos메소드를 이용해 형태소를 분석 \n",
        "# Okt\n",
        "okt.pos(text, norm = True, stem = True)"
      ],
      "execution_count": 6,
      "outputs": [
        {
          "output_type": "execute_result",
          "data": {
            "text/plain": [
              "[('마음', 'Noun'),\n",
              " ('에', 'Josa'),\n",
              " ('꽂히다', 'Verb'),\n",
              " ('칼', 'Noun'),\n",
              " ('한', 'Determiner'),\n",
              " ('자루', 'Noun'),\n",
              " ('보다', 'Verb'),\n",
              " ('마음', 'Noun'),\n",
              " ('에', 'Josa'),\n",
              " ('꽂히다', 'Verb'),\n",
              " ('꽃', 'Noun'),\n",
              " ('한송이', 'Noun'),\n",
              " ('가', 'Josa'),\n",
              " ('더', 'Noun'),\n",
              " ('아프다', 'Adjective'),\n",
              " ('잠', 'Noun'),\n",
              " ('이', 'Josa'),\n",
              " ('오지', 'Noun'),\n",
              " ('않다', 'Verb')]"
            ]
          },
          "metadata": {},
          "execution_count": 6
        }
      ]
    },
    {
      "cell_type": "markdown",
      "metadata": {
        "id": "YLKidTge4gsx"
      },
      "source": [
        "## 정답\n",
        "---\n",
        "스스로 실습 코드를 작성 한 후 정답 코드를 확인해 보세요."
      ]
    },
    {
      "cell_type": "code",
      "metadata": {
        "id": "xmE4w_2PRqQO"
      },
      "source": [
        "from konlpy.tag import Kkma, Komoran, Okt\n",
        "\n",
        "# 형태소 분석기 정의\n",
        "okt = Okt()\n",
        "kkm = Kkma()\n",
        "kom = Komoran()"
      ],
      "execution_count": 7,
      "outputs": []
    },
    {
      "cell_type": "code",
      "metadata": {
        "id": "P6Pw7x8w_xy2",
        "outputId": "d98843fb-bc2b-42b3-f792-11d98f53b39a",
        "colab": {
          "base_uri": "https://localhost:8080/"
        }
      },
      "source": [
        "# 형태소 분석기의 pos메소드를 이용해 형태소를 분석 \n",
        "# Komoran\n",
        "kom.pos(text)"
      ],
      "execution_count": 8,
      "outputs": [
        {
          "output_type": "execute_result",
          "data": {
            "text/plain": [
              "[('마음', 'NNG'),\n",
              " ('에', 'JKB'),\n",
              " ('꽂히', 'VV'),\n",
              " ('ㄴ', 'ETM'),\n",
              " ('칼', 'NNG'),\n",
              " ('한자', 'NNP'),\n",
              " ('루', 'JKB'),\n",
              " ('보다', 'MAG'),\n",
              " ('마음', 'NNG'),\n",
              " ('에', 'JKB'),\n",
              " ('꽂히', 'VV'),\n",
              " ('ㄴ', 'ETM'),\n",
              " ('꽃', 'NNG'),\n",
              " ('한송이', 'NNP'),\n",
              " ('가', 'JKS'),\n",
              " ('더', 'MAG'),\n",
              " ('아파서', 'NNP'),\n",
              " ('잠', 'NNG'),\n",
              " ('이', 'JKS'),\n",
              " ('오', 'VV'),\n",
              " ('지', 'EC'),\n",
              " ('않', 'VX'),\n",
              " ('는다', 'EC')]"
            ]
          },
          "metadata": {},
          "execution_count": 8
        }
      ]
    },
    {
      "cell_type": "code",
      "metadata": {
        "id": "-dRoey20_xqz",
        "outputId": "15309523-0587-46ac-b062-2bb24c0c99f0",
        "colab": {
          "base_uri": "https://localhost:8080/"
        }
      },
      "source": [
        "# 형태소 분석기의 pos메소드를 이용해 형태소를 분석 \n",
        "# Kkma\n",
        "kkm.pos(text)"
      ],
      "execution_count": 9,
      "outputs": [
        {
          "output_type": "execute_result",
          "data": {
            "text/plain": [
              "[('마음', 'NNG'),\n",
              " ('에', 'JKM'),\n",
              " ('꽂히', 'VV'),\n",
              " ('ㄴ', 'ETD'),\n",
              " ('칼', 'NNG'),\n",
              " ('한자', 'NNG'),\n",
              " ('로', 'JKM'),\n",
              " ('보다', 'MAG'),\n",
              " ('마음', 'NNG'),\n",
              " ('에', 'JKM'),\n",
              " ('꽂히', 'VV'),\n",
              " ('ㄴ', 'ETD'),\n",
              " ('꽃', 'NNG'),\n",
              " ('한', 'MDN'),\n",
              " ('송이', 'NNG'),\n",
              " ('가', 'JKS'),\n",
              " ('더', 'MAG'),\n",
              " ('아프', 'VA'),\n",
              " ('아서', 'ECD'),\n",
              " ('잠', 'NNG'),\n",
              " ('이', 'JKS'),\n",
              " ('오', 'VV'),\n",
              " ('지', 'ECD'),\n",
              " ('않', 'VXV'),\n",
              " ('는', 'EPT'),\n",
              " ('다', 'EFN')]"
            ]
          },
          "metadata": {},
          "execution_count": 9
        }
      ]
    },
    {
      "cell_type": "code",
      "metadata": {
        "id": "8LTnoNHu_xj4",
        "outputId": "e65d6423-f1ed-44e7-b94f-30b2d552f408",
        "colab": {
          "base_uri": "https://localhost:8080/"
        }
      },
      "source": [
        "# 형태소 분석기의 pos메소드를 이용해 형태소를 분석 \n",
        "# Okt\n",
        "okt.pos(text,norm=True, stem=True)"
      ],
      "execution_count": 10,
      "outputs": [
        {
          "output_type": "execute_result",
          "data": {
            "text/plain": [
              "[('마음', 'Noun'),\n",
              " ('에', 'Josa'),\n",
              " ('꽂히다', 'Verb'),\n",
              " ('칼', 'Noun'),\n",
              " ('한', 'Determiner'),\n",
              " ('자루', 'Noun'),\n",
              " ('보다', 'Verb'),\n",
              " ('마음', 'Noun'),\n",
              " ('에', 'Josa'),\n",
              " ('꽂히다', 'Verb'),\n",
              " ('꽃', 'Noun'),\n",
              " ('한송이', 'Noun'),\n",
              " ('가', 'Josa'),\n",
              " ('더', 'Noun'),\n",
              " ('아프다', 'Adjective'),\n",
              " ('잠', 'Noun'),\n",
              " ('이', 'Josa'),\n",
              " ('오지', 'Noun'),\n",
              " ('않다', 'Verb')]"
            ]
          },
          "metadata": {},
          "execution_count": 10
        }
      ]
    },
    {
      "cell_type": "markdown",
      "metadata": {
        "id": "K8YgC54VtiB7"
      },
      "source": [
        "# [↩️ 리스트로 돌아가기](https://dacon.io/competitions/open/235698/overview/description)"
      ]
    }
  ]
}