{
  "nbformat": 4,
  "nbformat_minor": 0,
  "metadata": {
    "colab": {
      "provenance": [],
      "collapsed_sections": [
        "AnrIRq0bSJWr",
        "lpF3-1IUSOwD",
        "n4yccrBQm5ND",
        "red_i25xs6pX",
        "YMmJkxjauuk1",
        "2sAusUqX0Afg",
        "-zGPiV_N2VOs"
      ]
    },
    "kernelspec": {
      "name": "python3",
      "display_name": "Python 3"
    },
    "language_info": {
      "name": "python"
    }
  },
  "cells": [
    {
      "cell_type": "markdown",
      "source": [
        "# QuickStart"
      ],
      "metadata": {
        "id": "AnrIRq0bSJWr"
      }
    },
    {
      "cell_type": "markdown",
      "source": [
        "## Working with data\n",
        "- ```torch.utils.data.DataSet``` stores the samples and their corresponding labels\n",
        "- ```torch.utils.data.DataLoader``` wraps an iterable around the ```Dataset```\n",
        "- ```torchvision.datasets``` module contains ```Dataset``` objects and includes tow arguments: ```transform``` and ```target_transform``` to modify the samples and labels respectively"
      ],
      "metadata": {
        "id": "tOmb4yY_J1mN"
      }
    },
    {
      "cell_type": "code",
      "execution_count": 1,
      "metadata": {
        "id": "4vyfwpCuJpsI"
      },
      "outputs": [],
      "source": [
        "import torch\n",
        "from torch import nn\n",
        "from torch.utils.data import DataLoader\n",
        "from torchvision import datasets\n",
        "from torchvision.transforms import ToTensor"
      ]
    },
    {
      "cell_type": "code",
      "source": [
        "# Download training data from open datasets\n",
        "training_data = datasets.FashionMNIST(\n",
        "    root = \"data\",\n",
        "    train = True,\n",
        "    download = True,\n",
        "    transform = ToTensor(),\n",
        ")\n",
        "\n",
        "# Download test data from open datasets\n",
        "test_data = datasets.FashionMNIST(\n",
        "    root = \"data\",\n",
        "    train = False,\n",
        "    download = True,\n",
        "    transform = ToTensor(),\n",
        ")"
      ],
      "metadata": {
        "colab": {
          "base_uri": "https://localhost:8080/"
        },
        "id": "z0Dq5fSCLBLk",
        "outputId": "5bae9839-d8eb-404a-d6e9-582c1a4b2c53"
      },
      "execution_count": 2,
      "outputs": [
        {
          "output_type": "stream",
          "name": "stdout",
          "text": [
            "Downloading http://fashion-mnist.s3-website.eu-central-1.amazonaws.com/train-images-idx3-ubyte.gz\n",
            "Downloading http://fashion-mnist.s3-website.eu-central-1.amazonaws.com/train-images-idx3-ubyte.gz to data/FashionMNIST/raw/train-images-idx3-ubyte.gz\n"
          ]
        },
        {
          "output_type": "stream",
          "name": "stderr",
          "text": [
            "100%|██████████| 26421880/26421880 [00:02<00:00, 12310274.20it/s]\n"
          ]
        },
        {
          "output_type": "stream",
          "name": "stdout",
          "text": [
            "Extracting data/FashionMNIST/raw/train-images-idx3-ubyte.gz to data/FashionMNIST/raw\n",
            "\n",
            "Downloading http://fashion-mnist.s3-website.eu-central-1.amazonaws.com/train-labels-idx1-ubyte.gz\n",
            "Downloading http://fashion-mnist.s3-website.eu-central-1.amazonaws.com/train-labels-idx1-ubyte.gz to data/FashionMNIST/raw/train-labels-idx1-ubyte.gz\n"
          ]
        },
        {
          "output_type": "stream",
          "name": "stderr",
          "text": [
            "100%|██████████| 29515/29515 [00:00<00:00, 210564.88it/s]\n"
          ]
        },
        {
          "output_type": "stream",
          "name": "stdout",
          "text": [
            "Extracting data/FashionMNIST/raw/train-labels-idx1-ubyte.gz to data/FashionMNIST/raw\n",
            "\n",
            "Downloading http://fashion-mnist.s3-website.eu-central-1.amazonaws.com/t10k-images-idx3-ubyte.gz\n",
            "Downloading http://fashion-mnist.s3-website.eu-central-1.amazonaws.com/t10k-images-idx3-ubyte.gz to data/FashionMNIST/raw/t10k-images-idx3-ubyte.gz\n"
          ]
        },
        {
          "output_type": "stream",
          "name": "stderr",
          "text": [
            "100%|██████████| 4422102/4422102 [00:01<00:00, 3895218.54it/s]\n"
          ]
        },
        {
          "output_type": "stream",
          "name": "stdout",
          "text": [
            "Extracting data/FashionMNIST/raw/t10k-images-idx3-ubyte.gz to data/FashionMNIST/raw\n",
            "\n",
            "Downloading http://fashion-mnist.s3-website.eu-central-1.amazonaws.com/t10k-labels-idx1-ubyte.gz\n",
            "Downloading http://fashion-mnist.s3-website.eu-central-1.amazonaws.com/t10k-labels-idx1-ubyte.gz to data/FashionMNIST/raw/t10k-labels-idx1-ubyte.gz\n"
          ]
        },
        {
          "output_type": "stream",
          "name": "stderr",
          "text": [
            "100%|██████████| 5148/5148 [00:00<00:00, 13102109.83it/s]"
          ]
        },
        {
          "output_type": "stream",
          "name": "stdout",
          "text": [
            "Extracting data/FashionMNIST/raw/t10k-labels-idx1-ubyte.gz to data/FashionMNIST/raw\n",
            "\n"
          ]
        },
        {
          "output_type": "stream",
          "name": "stderr",
          "text": [
            "\n"
          ]
        }
      ]
    },
    {
      "cell_type": "markdown",
      "source": [
        "We pass the ```Dataset``` as an argument to ```DataLoader```. This wraps an iterable over our datasets, and support automatic batching, sampling, shuffling, and multiprocess data loading."
      ],
      "metadata": {
        "id": "wC__q6SKJ1kG"
      }
    },
    {
      "cell_type": "code",
      "source": [
        "batch_size = 64 # each element in the dataloader iterable will return a batch of 64 features and labels\n",
        "\n",
        "# Create data loaders\n",
        "train_dataloader = DataLoader(training_data, batch_size = batch_size)\n",
        "test_dataloader = DataLoader(test_data, batch_size = batch_size)\n",
        "\n",
        "for X, y in test_dataloader:\n",
        "  print(f\"Shape of ≈ X [N, C, H, W]: {X.shape}\")\n",
        "  print(f\"Shape of ≈ y: {y.shape} {y.dtype}\")\n",
        "  break"
      ],
      "metadata": {
        "colab": {
          "base_uri": "https://localhost:8080/"
        },
        "id": "looNoWS3L7Xz",
        "outputId": "f8ad875b-31e2-47d2-9a89-3e4ac84971a5"
      },
      "execution_count": 4,
      "outputs": [
        {
          "output_type": "stream",
          "name": "stdout",
          "text": [
            "Shape of ≈ X [N, C, H, W]: torch.Size([64, 1, 28, 28])\n",
            "Shape of ≈ y: torch.Size([64]) torch.int64\n"
          ]
        }
      ]
    },
    {
      "cell_type": "markdown",
      "source": [
        "## Creating Models\n",
        "To define a nn in PyTorch, we create a class that inherits from ```nn.Module```.  \n",
        "- ```___init___()``` : define the layers of the nn \n",
        "- ```forward()``` : specify how data will pass through the network"
      ],
      "metadata": {
        "id": "iGhZwXWLMtgs"
      }
    },
    {
      "cell_type": "code",
      "source": [
        "# Get cpu, gpu or mps device for training\n",
        "device = (\n",
        "    \"cuda\"\n",
        "    if torch.cuda.is_available()\n",
        "    else \"mps\"\n",
        "    if torch.backends.mps.is_available()\n",
        "    else \"cpu\"\n",
        ")\n",
        "\n",
        "print(f\"Using {device} device\")\n",
        "\n",
        "# Define model\n",
        "class NeuralNetwork(nn.Module):\n",
        "  def __init__(self):\n",
        "    super().__init__()\n",
        "    self.flatten = nn.Flatten()\n",
        "    self.linear_relu_stack = nn.Sequential(\n",
        "        nn.Linear(28*28, 512),\n",
        "        nn.ReLU(),\n",
        "        nn.Linear(512, 512),\n",
        "        nn.ReLU(),\n",
        "        nn.Linear(512, 10)\n",
        "    )\n",
        "\n",
        "  def forward(self, x):\n",
        "    x = self.flatten(x)\n",
        "    logits = self.linear_relu_stack(x)\n",
        "    return logits\n",
        "\n",
        "\n",
        "model = NeuralNetwork().to(device)\n",
        "print(model)"
      ],
      "metadata": {
        "colab": {
          "base_uri": "https://localhost:8080/"
        },
        "id": "Xcm8VCanMmR2",
        "outputId": "77c20cab-a207-49fd-b1cc-d308af32dd0b"
      },
      "execution_count": 5,
      "outputs": [
        {
          "output_type": "stream",
          "name": "stdout",
          "text": [
            "Using cpu device\n",
            "NeuralNetwork(\n",
            "  (flatten): Flatten(start_dim=1, end_dim=-1)\n",
            "  (linear_relu_stack): Sequential(\n",
            "    (0): Linear(in_features=784, out_features=512, bias=True)\n",
            "    (1): ReLU()\n",
            "    (2): Linear(in_features=512, out_features=512, bias=True)\n",
            "    (3): ReLU()\n",
            "    (4): Linear(in_features=512, out_features=10, bias=True)\n",
            "  )\n",
            ")\n"
          ]
        }
      ]
    },
    {
      "cell_type": "markdown",
      "source": [
        "## Optimizing the Model Parameters"
      ],
      "metadata": {
        "id": "NJiBoathOP8A"
      }
    },
    {
      "cell_type": "code",
      "source": [
        "loss_fn = nn.CrossEntropyLoss()\n",
        "optimizer = torch.optim.SGD(model.parameters(), lr = 1e-3)"
      ],
      "metadata": {
        "id": "grltP1m6OJOo"
      },
      "execution_count": 6,
      "outputs": []
    },
    {
      "cell_type": "markdown",
      "source": [
        "- train \n",
        "  - makes predictions on the training dataset\n",
        "  - backpropagates the prediction error to adjust the model's parameters"
      ],
      "metadata": {
        "id": "Fz1Lt7KWOeBM"
      }
    },
    {
      "cell_type": "code",
      "source": [
        "def train(dataloader, model, loss_fn, optimizer):\n",
        "  size = len(dataloader.dataset)\n",
        "  model.train()\n",
        "  for batch, (X, y) in enumerate(dataloader):\n",
        "    X, y = X.to(device), y.to(device)\n",
        "\n",
        "    # Compute prediction error\n",
        "    pred = model(X)\n",
        "    loss = loss_fn(pred, y)\n",
        "\n",
        "    # Backpropagation\n",
        "    optimizer.zero_grad()\n",
        "    loss.backward()\n",
        "    optimizer.step()\n",
        "\n",
        "    if batch % 100 == 0:\n",
        "      loss, current = loss.item(), (batch + 1) * len(X)\n",
        "      print(f\"loss : {loss:>7f} [{current:>5d}/{size:>5d}]\")"
      ],
      "metadata": {
        "id": "xKNQo9AeObFS"
      },
      "execution_count": 8,
      "outputs": []
    },
    {
      "cell_type": "code",
      "source": [
        "def test(dataloader, model, loos_fn):\n",
        "  size = len(dataloader.dataset)\n",
        "  num_batches = len(dataloader)\n",
        "  model.eval()\n",
        "  test_loss, correct = 0,0 \n",
        "  with torch.no_grad():\n",
        "    for X, y in dataloader:\n",
        "      X, y = X.to(device), y.to(device)\n",
        "      pred = model(X)\n",
        "      test_loss += loss_fn(pred, y).item()\n",
        "      correct += (pred.argmax(1) == y).type(torch.float).sum().item()\n",
        "\n",
        "  test_loss /= num_batches\n",
        "  correct /= size\n",
        "  print(f\"Test Error: \\n Accuracy: {(100*correct):>0.1f}%, avg loss: {test_loss:>8f}\\n\")"
      ],
      "metadata": {
        "id": "FJ7tE489Oz23"
      },
      "execution_count": 9,
      "outputs": []
    },
    {
      "cell_type": "code",
      "source": [
        "epochs = 5\n",
        "\n",
        "for t in range(epochs):\n",
        "  print(f\"Epoch {t +1}\\n----------------------------------------\")\n",
        "  train(train_dataloader, model, loss_fn, optimizer)\n",
        "  test(test_dataloader, model, loss_fn)\n",
        "  \n",
        "print(\"Done\")"
      ],
      "metadata": {
        "colab": {
          "base_uri": "https://localhost:8080/"
        },
        "id": "vB3IlwGfQPdB",
        "outputId": "0e954fde-1a78-45b2-a6a0-c3da19477945"
      },
      "execution_count": 10,
      "outputs": [
        {
          "output_type": "stream",
          "name": "stdout",
          "text": [
            "Epoch 1\n",
            "----------------------------------------\n",
            "loss : 2.316387 [   64/60000]\n",
            "loss : 2.300258 [ 6464/60000]\n",
            "loss : 2.278380 [12864/60000]\n",
            "loss : 2.272400 [19264/60000]\n",
            "loss : 2.240164 [25664/60000]\n",
            "loss : 2.220697 [32064/60000]\n",
            "loss : 2.231028 [38464/60000]\n",
            "loss : 2.193226 [44864/60000]\n",
            "loss : 2.198538 [51264/60000]\n",
            "loss : 2.155947 [57664/60000]\n",
            "Test Error: \n",
            " Accuracy: 43.3%, avg loss: 2.154220\n",
            "\n",
            "Epoch 2\n",
            "----------------------------------------\n",
            "loss : 2.169596 [   64/60000]\n",
            "loss : 2.161458 [ 6464/60000]\n",
            "loss : 2.097149 [12864/60000]\n",
            "loss : 2.117272 [19264/60000]\n",
            "loss : 2.056101 [25664/60000]\n",
            "loss : 2.000705 [32064/60000]\n",
            "loss : 2.034314 [38464/60000]\n",
            "loss : 1.948967 [44864/60000]\n",
            "loss : 1.959059 [51264/60000]\n",
            "loss : 1.881269 [57664/60000]\n",
            "Test Error: \n",
            " Accuracy: 57.3%, avg loss: 1.886926\n",
            "\n",
            "Epoch 3\n",
            "----------------------------------------\n",
            "loss : 1.920177 [   64/60000]\n",
            "loss : 1.900504 [ 6464/60000]\n",
            "loss : 1.774097 [12864/60000]\n",
            "loss : 1.818250 [19264/60000]\n",
            "loss : 1.698489 [25664/60000]\n",
            "loss : 1.654297 [32064/60000]\n",
            "loss : 1.680757 [38464/60000]\n",
            "loss : 1.573518 [44864/60000]\n",
            "loss : 1.599641 [51264/60000]\n",
            "loss : 1.489539 [57664/60000]\n",
            "Test Error: \n",
            " Accuracy: 60.3%, avg loss: 1.517977\n",
            "\n",
            "Epoch 4\n",
            "----------------------------------------\n",
            "loss : 1.581464 [   64/60000]\n",
            "loss : 1.561303 [ 6464/60000]\n",
            "loss : 1.401785 [12864/60000]\n",
            "loss : 1.476657 [19264/60000]\n",
            "loss : 1.345490 [25664/60000]\n",
            "loss : 1.349848 [32064/60000]\n",
            "loss : 1.366715 [38464/60000]\n",
            "loss : 1.282153 [44864/60000]\n",
            "loss : 1.319564 [51264/60000]\n",
            "loss : 1.216220 [57664/60000]\n",
            "Test Error: \n",
            " Accuracy: 63.1%, avg loss: 1.250814\n",
            "\n",
            "Epoch 5\n",
            "----------------------------------------\n",
            "loss : 1.325541 [   64/60000]\n",
            "loss : 1.319486 [ 6464/60000]\n",
            "loss : 1.144597 [12864/60000]\n",
            "loss : 1.253970 [19264/60000]\n",
            "loss : 1.118474 [25664/60000]\n",
            "loss : 1.150993 [32064/60000]\n",
            "loss : 1.174616 [38464/60000]\n",
            "loss : 1.101857 [44864/60000]\n",
            "loss : 1.146697 [51264/60000]\n",
            "loss : 1.055812 [57664/60000]\n",
            "Test Error: \n",
            " Accuracy: 64.6%, avg loss: 1.084959\n",
            "\n",
            "Done\n"
          ]
        }
      ]
    },
    {
      "cell_type": "markdown",
      "source": [
        "## Saving Models\n",
        "- serialize the internal state dictionary(containing the model parameter) : a common way to save a model"
      ],
      "metadata": {
        "id": "Sla9hZ8HQqsx"
      }
    },
    {
      "cell_type": "code",
      "source": [
        "torch.save(model.state_dict(), \"model.pth\")\n",
        "print('Saved PyTorch Model State to model.pth')"
      ],
      "metadata": {
        "colab": {
          "base_uri": "https://localhost:8080/"
        },
        "id": "Yb3k7IEHQkLB",
        "outputId": "36fe7403-f2ba-4905-82b4-f99dabba54f2"
      },
      "execution_count": 11,
      "outputs": [
        {
          "output_type": "stream",
          "name": "stdout",
          "text": [
            "Saved PyTorch Model State to model.pth\n"
          ]
        }
      ]
    },
    {
      "cell_type": "markdown",
      "source": [
        "## Loading Model\n",
        "The process for loading a model includes re-creating the model structure and loading the state dictionary into it"
      ],
      "metadata": {
        "id": "-H1Cq26hRD9s"
      }
    },
    {
      "cell_type": "code",
      "source": [
        "model = NeuralNetwork().to(device)\n",
        "model.load_state_dict(torch.load(\"model.pth\"))"
      ],
      "metadata": {
        "colab": {
          "base_uri": "https://localhost:8080/"
        },
        "id": "rhMC5PpYRC5D",
        "outputId": "7c3244e2-db70-468c-d881-9f100e7bcdf0"
      },
      "execution_count": 12,
      "outputs": [
        {
          "output_type": "execute_result",
          "data": {
            "text/plain": [
              "<All keys matched successfully>"
            ]
          },
          "metadata": {},
          "execution_count": 12
        }
      ]
    },
    {
      "cell_type": "code",
      "source": [
        "# used to make prediction\n",
        "classes = [\n",
        "    \"T-shirt/top\",\n",
        "    \"Trouser\",\n",
        "    \"Pullover\",\n",
        "    \"Dress\",\n",
        "    \"Coat\",\n",
        "    \"Sandal\",\n",
        "    \"Shirt\",\n",
        "    \"Sneaker\",\n",
        "    \"Bag\",\n",
        "    \"Ankle boot\"\n",
        "]\n",
        "\n",
        "model.eval()\n",
        "x, y = test_data[0][0], test_data[0][1]\n",
        "with torch.no_grad():\n",
        "  x = x.to(device)\n",
        "  pred = model(x)\n",
        "  predicted, actual = classes[pred[0].argmax(0)], classes[y]\n",
        "  print(f\"Predicted: '{predicted}', Actual: '{actual}'\")"
      ],
      "metadata": {
        "colab": {
          "base_uri": "https://localhost:8080/"
        },
        "id": "QXr6qPUDRV4i",
        "outputId": "292a0060-782c-46bb-a975-090c9cf3a4c3"
      },
      "execution_count": 13,
      "outputs": [
        {
          "output_type": "stream",
          "name": "stdout",
          "text": [
            "Predicted: 'Ankle boot', Actual: 'Ankle boot'\n"
          ]
        }
      ]
    },
    {
      "cell_type": "markdown",
      "source": [
        "# Tensors"
      ],
      "metadata": {
        "id": "lpF3-1IUSOwD"
      }
    },
    {
      "cell_type": "markdown",
      "source": [
        "## Initializing a Tensor"
      ],
      "metadata": {
        "id": "_E8QjhDuiblZ"
      }
    },
    {
      "cell_type": "code",
      "source": [
        "import torch\n",
        "import numpy as np"
      ],
      "metadata": {
        "id": "siv-RCLMSQlR"
      },
      "execution_count": 14,
      "outputs": []
    },
    {
      "cell_type": "code",
      "source": [
        "data = [[1, 2], [3, 4]]\n",
        "x_data = torch.tensor(data)"
      ],
      "metadata": {
        "id": "U0lNkXHliLnV"
      },
      "execution_count": 15,
      "outputs": []
    },
    {
      "cell_type": "code",
      "source": [
        "np_array = np.array(data)\n",
        "x_np = torch.from_numpy(np_array)"
      ],
      "metadata": {
        "id": "0UnRy2GpiRgv"
      },
      "execution_count": 16,
      "outputs": []
    },
    {
      "cell_type": "code",
      "source": [
        "x_ones = torch.ones_like(x_data) # retains the properties of x_data\n",
        "print(f\"Ones Tensor: \\n {x_ones} \\n\")\n",
        "\n",
        "x_rand = torch.rand_like(x_data, dtype = torch.float) # overrides the datatype of x_data\n",
        "print(f\"Random Tensor: \\n {x_rand} \\n\")"
      ],
      "metadata": {
        "colab": {
          "base_uri": "https://localhost:8080/"
        },
        "id": "aIDb2gJOiYYO",
        "outputId": "b6d6a89b-a5ed-472c-cfe2-5456a772096b"
      },
      "execution_count": 17,
      "outputs": [
        {
          "output_type": "stream",
          "name": "stdout",
          "text": [
            "Ones Tensor: \n",
            " tensor([[1, 1],\n",
            "        [1, 1]]) \n",
            "\n",
            "Random Tensor: \n",
            " tensor([[0.7121, 0.3797],\n",
            "        [0.7286, 0.6256]]) \n",
            "\n"
          ]
        }
      ]
    },
    {
      "cell_type": "code",
      "source": [
        "shape = (2, 3, )\n",
        "rand_tensor = torch.rand(shape)\n",
        "ones_tensor = torch.ones(shape)\n",
        "zeros_tensor = torch.zeros(shape)\n",
        "\n",
        "print(f\"Random Tensor: \\n {rand_tensor} \\n\")\n",
        "print(f\"Ones Tensor: \\n {ones_tensor} \\n\")\n",
        "print(f\"Zeros Tensor: \\n {zeros_tensor} \\n\")"
      ],
      "metadata": {
        "colab": {
          "base_uri": "https://localhost:8080/"
        },
        "id": "538z2JM9i32y",
        "outputId": "71f7c003-02d9-4cfe-af5f-dffe847a6959"
      },
      "execution_count": 18,
      "outputs": [
        {
          "output_type": "stream",
          "name": "stdout",
          "text": [
            "Random Tensor: \n",
            " tensor([[0.3274, 0.7052, 0.3046],\n",
            "        [0.9286, 0.8899, 0.7434]]) \n",
            "\n",
            "Ones Tensor: \n",
            " tensor([[1., 1., 1.],\n",
            "        [1., 1., 1.]]) \n",
            "\n",
            "Zeros Tensor: \n",
            " tensor([[0., 0., 0.],\n",
            "        [0., 0., 0.]]) \n",
            "\n"
          ]
        }
      ]
    },
    {
      "cell_type": "markdown",
      "source": [
        "## Attributes of a Tensor"
      ],
      "metadata": {
        "id": "-N61f00UjU-P"
      }
    },
    {
      "cell_type": "code",
      "source": [
        "tensor = torch.rand(3, 4)\n",
        "\n",
        "print(f\"Shape of tensor: {tensor.shape}\")\n",
        "print(f\"Datatype of tensor: {tensor.dtype}\")\n",
        "print(f\"Device tensor is stored on: {tensor.device}\")"
      ],
      "metadata": {
        "colab": {
          "base_uri": "https://localhost:8080/"
        },
        "id": "nU80q3MojSBS",
        "outputId": "102eaf12-15f9-43ae-da5d-44bc2ab64f05"
      },
      "execution_count": 20,
      "outputs": [
        {
          "output_type": "stream",
          "name": "stdout",
          "text": [
            "Shape of tensor: torch.Size([3, 4])\n",
            "Datatype of tensor: torch.float32\n",
            "Device tensor is stored on: cpu\n"
          ]
        }
      ]
    },
    {
      "cell_type": "markdown",
      "source": [
        "## Operations on Tensors"
      ],
      "metadata": {
        "id": "1ZKifthXjwBK"
      }
    },
    {
      "cell_type": "code",
      "source": [
        "# We move our tensor to the GPU uf available\n",
        "if torch.cuda.is_available():\n",
        "  tensor = tensor.to(\"cuda\")"
      ],
      "metadata": {
        "id": "S0flWFzZjr3P"
      },
      "execution_count": 21,
      "outputs": []
    },
    {
      "cell_type": "markdown",
      "source": [
        "- standard numpy-like indexing and slicing"
      ],
      "metadata": {
        "id": "trU6k3u4kfaT"
      }
    },
    {
      "cell_type": "code",
      "source": [
        "tensor = torch.ones(4, 4)\n",
        "print(f\"First row: {tensor[0]}\")\n",
        "print(f\"First column: {tensor[:, 0]}\")\n",
        "print(f\"Last column: {tensor[..., -1]}\")\n",
        "tensor[:, 1] = 0\n",
        "print(tensor)"
      ],
      "metadata": {
        "colab": {
          "base_uri": "https://localhost:8080/"
        },
        "id": "6-cc_yPHj9rf",
        "outputId": "1e662818-15a5-4fe0-fe6a-4adc62cc921c"
      },
      "execution_count": 22,
      "outputs": [
        {
          "output_type": "stream",
          "name": "stdout",
          "text": [
            "First row: tensor([1., 1., 1., 1.])\n",
            "First column: tensor([1., 1., 1., 1.])\n",
            "Last column: tensor([1., 1., 1., 1.])\n",
            "tensor([[1., 0., 1., 1.],\n",
            "        [1., 0., 1., 1.],\n",
            "        [1., 0., 1., 1.],\n",
            "        [1., 0., 1., 1.]])\n"
          ]
        }
      ]
    },
    {
      "cell_type": "markdown",
      "source": [
        "- joining tensors"
      ],
      "metadata": {
        "id": "iHDCgVrnkj96"
      }
    },
    {
      "cell_type": "code",
      "source": [
        "t1 = torch.cat([tensor, tensor, tensor], dim = 1)\n",
        "print(t1)"
      ],
      "metadata": {
        "colab": {
          "base_uri": "https://localhost:8080/"
        },
        "id": "KpU_e30ckWlQ",
        "outputId": "25902592-a9da-4181-b609-a94a6e899769"
      },
      "execution_count": 23,
      "outputs": [
        {
          "output_type": "stream",
          "name": "stdout",
          "text": [
            "tensor([[1., 0., 1., 1., 1., 0., 1., 1., 1., 0., 1., 1.],\n",
            "        [1., 0., 1., 1., 1., 0., 1., 1., 1., 0., 1., 1.],\n",
            "        [1., 0., 1., 1., 1., 0., 1., 1., 1., 0., 1., 1.],\n",
            "        [1., 0., 1., 1., 1., 0., 1., 1., 1., 0., 1., 1.]])\n"
          ]
        }
      ]
    },
    {
      "cell_type": "markdown",
      "source": [
        "- Arithmatic operations"
      ],
      "metadata": {
        "id": "rpFZAboWkz-i"
      }
    },
    {
      "cell_type": "code",
      "source": [
        "# matrix multiplication\n",
        "y1 = tensor @ tensor.T\n",
        "y2 = tensor.matmul(tensor.T)\n",
        "\n",
        "y3 = torch.rand_like(y1)\n",
        "torch.matmul(tensor, tensor.T, out = y3)\n",
        "\n",
        "\n",
        "# element-wise product\n",
        "z1 = tensor * tensor\n",
        "z2 = tensor.mul(tensor)\n",
        "\n",
        "z3 = torch.rand_like(tensor)\n",
        "torch.mul(tensor, tensor, out = z3)"
      ],
      "metadata": {
        "colab": {
          "base_uri": "https://localhost:8080/"
        },
        "id": "E2Xjl6mIkrN9",
        "outputId": "0ca54e3e-7477-4378-948c-e77c76522d93"
      },
      "execution_count": 25,
      "outputs": [
        {
          "output_type": "execute_result",
          "data": {
            "text/plain": [
              "tensor([[1., 0., 1., 1.],\n",
              "        [1., 0., 1., 1.],\n",
              "        [1., 0., 1., 1.],\n",
              "        [1., 0., 1., 1.]])"
            ]
          },
          "metadata": {},
          "execution_count": 25
        }
      ]
    },
    {
      "cell_type": "markdown",
      "source": [
        "- single-element tensors\n",
        "\n",
        "```\n",
        "tensor([[1., 0., 1., 1.],\n",
        "        [1., 0., 1., 1.],\n",
        "        [1., 0., 1., 1.],\n",
        "        [1., 0., 1., 1.]])\n",
        "```"
      ],
      "metadata": {
        "id": "t1roetrdljCQ"
      }
    },
    {
      "cell_type": "code",
      "source": [
        "agg = tensor.sum()\n",
        "agg_item = agg.item()\n",
        "print(agg_item, type(agg_item))"
      ],
      "metadata": {
        "colab": {
          "base_uri": "https://localhost:8080/"
        },
        "id": "u8tTTi4vlbNy",
        "outputId": "d92f8c3a-33ad-4db5-d99a-7156632a1ad8"
      },
      "execution_count": 26,
      "outputs": [
        {
          "output_type": "stream",
          "name": "stdout",
          "text": [
            "12.0 <class 'float'>\n"
          ]
        }
      ]
    },
    {
      "cell_type": "markdown",
      "source": [
        "- in-place operations"
      ],
      "metadata": {
        "id": "ghijGts5l7hf"
      }
    },
    {
      "cell_type": "code",
      "source": [
        "print(f\"{tensor} \\n\")\n",
        "tensor.add_(5)\n",
        "print(tensor)"
      ],
      "metadata": {
        "colab": {
          "base_uri": "https://localhost:8080/"
        },
        "id": "O_U94x5kltrS",
        "outputId": "d9febd54-e273-4a13-ce42-357986920fbc"
      },
      "execution_count": 29,
      "outputs": [
        {
          "output_type": "stream",
          "name": "stdout",
          "text": [
            "tensor([[1., 0., 1., 1.],\n",
            "        [1., 0., 1., 1.],\n",
            "        [1., 0., 1., 1.],\n",
            "        [1., 0., 1., 1.]]) \n",
            "\n",
            "tensor([[6., 5., 6., 6.],\n",
            "        [6., 5., 6., 6.],\n",
            "        [6., 5., 6., 6.],\n",
            "        [6., 5., 6., 6.]])\n"
          ]
        }
      ]
    },
    {
      "cell_type": "markdown",
      "source": [
        "## Bridge with Numpy"
      ],
      "metadata": {
        "id": "mcFUB2u6mK_j"
      }
    },
    {
      "cell_type": "markdown",
      "source": [
        "- Tensor to Numpy array"
      ],
      "metadata": {
        "id": "45Dy1Y_YmOOI"
      }
    },
    {
      "cell_type": "code",
      "source": [
        "t = torch.ones(5)\n",
        "print(f\"t: {t}\")\n",
        "n = t.numpy()\n",
        "print(f\"n: {n}\")"
      ],
      "metadata": {
        "colab": {
          "base_uri": "https://localhost:8080/"
        },
        "id": "lGGbn5HomJMj",
        "outputId": "c020a5ef-0427-47cc-b690-43ab539541e1"
      },
      "execution_count": 30,
      "outputs": [
        {
          "output_type": "stream",
          "name": "stdout",
          "text": [
            "t: tensor([1., 1., 1., 1., 1.])\n",
            "n: [1. 1. 1. 1. 1.]\n"
          ]
        }
      ]
    },
    {
      "cell_type": "code",
      "source": [
        "t.add_(1)\n",
        "print(f\"t: {t}\")\n",
        "print(f\"n: {n}\")"
      ],
      "metadata": {
        "colab": {
          "base_uri": "https://localhost:8080/"
        },
        "id": "RBrk3-6dmboZ",
        "outputId": "8429f98f-3900-4798-8be2-b2e22614d706"
      },
      "execution_count": 31,
      "outputs": [
        {
          "output_type": "stream",
          "name": "stdout",
          "text": [
            "t: tensor([2., 2., 2., 2., 2.])\n",
            "n: [2. 2. 2. 2. 2.]\n"
          ]
        }
      ]
    },
    {
      "cell_type": "markdown",
      "source": [
        "- Numpy array to tensor"
      ],
      "metadata": {
        "id": "g0pSznLAmmGc"
      }
    },
    {
      "cell_type": "code",
      "source": [
        "n = np.ones(5)\n",
        "t = torch.from_numpy(n)"
      ],
      "metadata": {
        "id": "EMfkLvw4mkH6"
      },
      "execution_count": 32,
      "outputs": []
    },
    {
      "cell_type": "code",
      "source": [
        "np.add(n, 1, out=n)\n",
        "print(f\"t: {t}\")\n",
        "print(f\"n: {n}\")"
      ],
      "metadata": {
        "colab": {
          "base_uri": "https://localhost:8080/"
        },
        "id": "iFnSas5zmvEy",
        "outputId": "4e0b3eb7-279b-4544-bc9a-cb0180a26db8"
      },
      "execution_count": 33,
      "outputs": [
        {
          "output_type": "stream",
          "name": "stdout",
          "text": [
            "t: tensor([2., 2., 2., 2., 2.], dtype=torch.float64)\n",
            "n: [2. 2. 2. 2. 2.]\n"
          ]
        }
      ]
    },
    {
      "cell_type": "markdown",
      "source": [
        "# DataSets & DataLoaders"
      ],
      "metadata": {
        "id": "n4yccrBQm5ND"
      }
    },
    {
      "cell_type": "markdown",
      "source": [
        "## Loading a Dataset\n",
        "- ```root``` : path where the train/test data is stored\n",
        "- ```train``` : specifies training or test dataset\n",
        "- ```download=True``` : downloads the data from the internet if it's not available at ```root```\n",
        "- ```transform``` and ```target_transform``` : specifiy the feature and label transformations"
      ],
      "metadata": {
        "id": "50FyItyxnBg8"
      }
    },
    {
      "cell_type": "code",
      "source": [
        "import torch \n",
        "from torch.utils.data import Dataset\n",
        "from torchvision import datasets\n",
        "import matplotlib.pyplot as plt\n",
        "\n",
        "training_data = datasets.FashionMNIST(\n",
        "    root = \"data\",\n",
        "    train = True,\n",
        "    download = True,\n",
        "    transform = ToTensor()\n",
        ")\n",
        "\n",
        "test_data = datasets.FashionMNIST(\n",
        "    root = \"data\",\n",
        "    train = False,\n",
        "    download = True,\n",
        "    transform = ToTensor()\n",
        ")"
      ],
      "metadata": {
        "id": "MQ9p5Mg8m3Md"
      },
      "execution_count": 34,
      "outputs": []
    },
    {
      "cell_type": "markdown",
      "source": [
        "## Iterating and Visualizing the Dataset"
      ],
      "metadata": {
        "id": "SGXPyelUoJvO"
      }
    },
    {
      "cell_type": "code",
      "source": [
        "labels_map = {\n",
        "    0: \"T-Shirt\",\n",
        "    1: \"Trouser\",\n",
        "    2: \"Pullover\",\n",
        "    3: \"Dress\",\n",
        "    4: \"Coat\",\n",
        "    5: \"Sandal\",\n",
        "    6: \"Shirt\",\n",
        "    7: \"Sneaker\",\n",
        "    8: \"Bag\",\n",
        "    9: \"Ankle Boot\",\n",
        "}\n",
        "\n",
        "figure = plt.figure(figsize = (8, 8))\n",
        "cols, rows = 3, 3\n",
        "\n",
        "for i in range(1, cols * rows + 1):\n",
        "  sample_idx = torch.randint(len(training_data), size = (1, )).item()\n",
        "  img, label = training_data[sample_idx]\n",
        "  figure.add_subplot(rows, cols, i)\n",
        "  plt.title(labels_map[label])\n",
        "  plt.axis(\"off\")\n",
        "  plt.imshow(img.squeeze(), cmap = \"gray\")\n",
        "\n",
        "plt.show()"
      ],
      "metadata": {
        "colab": {
          "base_uri": "https://localhost:8080/",
          "height": 675
        },
        "id": "Mx9N0x6uoG-w",
        "outputId": "20050558-95c4-4b98-b59a-1da27d263bb7"
      },
      "execution_count": 35,
      "outputs": [
        {
          "output_type": "display_data",
          "data": {
            "text/plain": [
              "<Figure size 800x800 with 9 Axes>"
            ],
            "image/png": "[encoded data removed]"
          },
          "metadata": {}
        }
      ]
    },
    {
      "cell_type": "markdown",
      "source": [
        "## Creating a Custom Dataset for your files\n",
        "A custom Dataset class must implement ```__init__, __len__```, and ```__getitem__```\n"
      ],
      "metadata": {
        "id": "QCv7FaugpCYX"
      }
    },
    {
      "cell_type": "code",
      "source": [
        "import os\n",
        "import pandas as pd\n",
        "from torchvision.io import read_image\n",
        "\n",
        "class CustomImageDataset(Dataset):\n",
        "  def __init__(self, annotations_file, img_dir, transform = None, target_transform = None):\n",
        "    self.img_labels = pd.read_csv(annotations_file)\n",
        "    self.img_dir = img_dir\n",
        "    self.transform = transform\n",
        "    self.target_transform = target_transform\n",
        "\n",
        "  def __len__(self):\n",
        "    return len(self.img_labels)\n",
        "\n",
        "  def __getitem__(self, idx):\n",
        "    img_path = os.path.join(self.img_dir, self.img_labels.iloc[idx, 0])\n",
        "    image = read_image(img_path)\n",
        "    label = self.img_labels.ilod[idx, 1]\n",
        "    if self.transform:\n",
        "      image = self.transform(image)\n",
        "    if self.target_transform:\n",
        "      label = self.target_transform(label)\n",
        "    return image, label"
      ],
      "metadata": {
        "id": "vi9uvJo5o-qa"
      },
      "execution_count": 36,
      "outputs": []
    },
    {
      "cell_type": "markdown",
      "source": [
        "- ```init``` : run once when instantiating the Dataset object\n",
        "- ```len``` : returns the number of samples in our dataset\n",
        "- ```getitem``` : loads and returns a sample from the dataset at the given index 'idx'. Based on the index, it identifies image's location on disk, converts that to a tensor using ```read_image```, retrives the corresponding label from the csv data in ```self.img_labels```, calls the transform functions on them, and returns the tensor image and corresponding label in a tuple."
      ],
      "metadata": {
        "id": "4ECBW0fHqtUm"
      }
    },
    {
      "cell_type": "markdown",
      "source": [
        "## Preparing your data for training with DataLoaders"
      ],
      "metadata": {
        "id": "_lGc1YqOr2mB"
      }
    },
    {
      "cell_type": "code",
      "source": [
        "from torch.utils.data import DataLoader\n",
        "\n",
        "train_dataloader = DataLoader(training_data, batch_size = 64, shuffle = True)\n",
        "test_dataloader = DataLoader(test_data, batch_size = 64, shuffle = True)"
      ],
      "metadata": {
        "id": "-mHZ5xsfqn4z"
      },
      "execution_count": 37,
      "outputs": []
    },
    {
      "cell_type": "markdown",
      "source": [
        "## Iterate through the DataLoader"
      ],
      "metadata": {
        "id": "75z6LBeFsTYr"
      }
    },
    {
      "cell_type": "code",
      "source": [
        "train_features, train_labels = next(iter(train_dataloader))\n",
        "print(f\"Feature batch shapeL {train_features.size()}\")\n",
        "print(f\"Labels batch shape: {train_labels.size()}\")\n",
        "\n",
        "img = train_features[0].squeeze()\n",
        "label = train_labels[0]\n",
        "plt.imshow(img, cmap = \"gray\")\n",
        "plt.show()\n",
        "print(f\"Label: {label}\")"
      ],
      "metadata": {
        "colab": {
          "base_uri": "https://localhost:8080/",
          "height": 484
        },
        "id": "qttfjchzsMj6",
        "outputId": "91258218-bd45-4848-833b-a363a4e35c34"
      },
      "execution_count": 38,
      "outputs": [
        {
          "output_type": "stream",
          "name": "stdout",
          "text": [
            "Feature batch shapeL torch.Size([64, 1, 28, 28])\n",
            "Labels batch shape: torch.Size([64])\n"
          ]
        },
        {
          "output_type": "display_data",
          "data": {
            "text/plain": [
              "<Figure size 640x480 with 1 Axes>"
            ],
            "image/png": "[encoded data removed]"
          },
          "metadata": {}
        },
        {
          "output_type": "stream",
          "name": "stdout",
          "text": [
            "Label: 6\n"
          ]
        }
      ]
    },
    {
      "cell_type": "markdown",
      "source": [
        "# Transforms"
      ],
      "metadata": {
        "id": "red_i25xs6pX"
      }
    },
    {
      "cell_type": "markdown",
      "source": [
        "All TorchVision datasets have two parameters \n",
        "- ```transform``` to modify the features\n",
        "- ```target_transform``` to modify the labels"
      ],
      "metadata": {
        "id": "mMc8PSCttAev"
      }
    },
    {
      "cell_type": "code",
      "source": [
        "import torch\n",
        "from torchvision import datasets\n",
        "from torchvision.transforms import ToTensor, Lambda\n",
        "\n",
        "ds = datasets.FashionMNIST(\n",
        "    root = \"data\",\n",
        "    train = True,\n",
        "    download = True,\n",
        "    transform = ToTensor(),\n",
        "    target_transform= Lambda(\n",
        "        lambda y: torch.zeros(\n",
        "            10, dtype = torch.float).scatter_(0, torch.tensor(y), value = 1)\n",
        "    )\n",
        ")"
      ],
      "metadata": {
        "id": "-1s56Rt8s22I"
      },
      "execution_count": 40,
      "outputs": []
    },
    {
      "cell_type": "markdown",
      "source": [
        "- ```ToTensor()``` : converts a PIL image or NumPy ```ndarray``` into a ```FloatTensor```. and scales the image's pixel intensity values in the range [0., 1.]"
      ],
      "metadata": {
        "id": "PxESEv65uhS9"
      }
    },
    {
      "cell_type": "markdown",
      "source": [
        "# Build the Neural Network"
      ],
      "metadata": {
        "id": "YMmJkxjauuk1"
      }
    },
    {
      "cell_type": "markdown",
      "source": [
        "The ```torch.nn``` namespace provides all the building blocks you need to build your own nn.   \n",
        "Every module in PyTorch subclasses the ```nn.Module```"
      ],
      "metadata": {
        "id": "iQVH58Hpu68E"
      }
    },
    {
      "cell_type": "code",
      "source": [
        "import os\n",
        "import torch\n",
        "from torch import nn\n",
        "from torch.utils.data import DataLoader\n",
        "from torchvision import datasets, transforms"
      ],
      "metadata": {
        "id": "Xbv7HzSruQJ1"
      },
      "execution_count": 41,
      "outputs": []
    },
    {
      "cell_type": "markdown",
      "source": [
        "## Get device for Training"
      ],
      "metadata": {
        "id": "-xw5KfcxvQoG"
      }
    },
    {
      "cell_type": "code",
      "source": [
        "device = (\n",
        "    \"cuda\"\n",
        "    if torch.cuda.is_available()\n",
        "    else \"mps\"\n",
        "    if torch.backends.mps.is_available()\n",
        "    else \"cpu\"\n",
        ")\n",
        "print(f\"Using {device} device\")"
      ],
      "metadata": {
        "colab": {
          "base_uri": "https://localhost:8080/"
        },
        "id": "ba-hsf4St7-K",
        "outputId": "640c5ad9-c053-4f7a-d27b-c47af62ddd73"
      },
      "execution_count": 42,
      "outputs": [
        {
          "output_type": "stream",
          "name": "stdout",
          "text": [
            "Using cpu device\n"
          ]
        }
      ]
    },
    {
      "cell_type": "markdown",
      "source": [
        "## Define the Class\n",
        "- define our nn by subclassing ```nn.Module```\n",
        "- initialize the nn layers in ```__init__```\n"
      ],
      "metadata": {
        "id": "JHPTMr6MvWuP"
      }
    },
    {
      "cell_type": "code",
      "source": [
        "class NeuralNetwork(nn.Module):\n",
        "  def __init__(self):\n",
        "    super().__init__()\n",
        "    self.flatten = nn.Flatten()\n",
        "    self.linear_relu_stack = nn.Sequential(\n",
        "        nn.Linear(28*28, 512),\n",
        "        nn.ReLU(),\n",
        "        nn.Linear(512, 512),\n",
        "        nn.ReLU(),\n",
        "        nn.Linear(512, 10)\n",
        "    )\n",
        "\n",
        "  def forward(self, x):\n",
        "    x = self.flatten(x)\n",
        "    logits = self.linear_relu_stack(x)\n",
        "    return logits"
      ],
      "metadata": {
        "id": "dnw1bmggvVbZ"
      },
      "execution_count": 50,
      "outputs": []
    },
    {
      "cell_type": "code",
      "source": [
        "model = NeuralNetwork().to(device)\n",
        "print(model)"
      ],
      "metadata": {
        "colab": {
          "base_uri": "https://localhost:8080/"
        },
        "id": "Qi-7WIeRv7FM",
        "outputId": "48cd0e96-b7eb-4a25-f065-deedb9534443"
      },
      "execution_count": 52,
      "outputs": [
        {
          "output_type": "stream",
          "name": "stdout",
          "text": [
            "NeuralNetwork(\n",
            "  (flatten): Flatten(start_dim=1, end_dim=-1)\n",
            "  (linear_relu_stack): Sequential(\n",
            "    (0): Linear(in_features=784, out_features=512, bias=True)\n",
            "    (1): ReLU()\n",
            "    (2): Linear(in_features=512, out_features=512, bias=True)\n",
            "    (3): ReLU()\n",
            "    (4): Linear(in_features=512, out_features=10, bias=True)\n",
            "  )\n",
            ")\n"
          ]
        }
      ]
    },
    {
      "cell_type": "code",
      "source": [
        "X = torch.rand(1, 28, 28, device = device)\n",
        "logits = model(X)\n",
        "pred_prob = nn.Softmax(dim = 1)(logits)\n",
        "y_pred = pred_prob.argmax(1)\n",
        "print(f\"Predicted class: {y_pred}\")"
      ],
      "metadata": {
        "colab": {
          "base_uri": "https://localhost:8080/"
        },
        "id": "wB1PkYXkwSnY",
        "outputId": "77ecea62-3c12-4090-d85f-ff5b254758df"
      },
      "execution_count": 53,
      "outputs": [
        {
          "output_type": "stream",
          "name": "stdout",
          "text": [
            "Predicted class: tensor([4])\n"
          ]
        }
      ]
    },
    {
      "cell_type": "markdown",
      "source": [
        "## Model Layers\n",
        "- sample minibatch : 3 images of size 28*28"
      ],
      "metadata": {
        "id": "X_GKWiuKxURr"
      }
    },
    {
      "cell_type": "code",
      "source": [
        "input_image = torch.rand(3, 28, 28)\n",
        "print(input_image.size())"
      ],
      "metadata": {
        "colab": {
          "base_uri": "https://localhost:8080/"
        },
        "id": "uZ88MlRmxE8S",
        "outputId": "8ed28b8a-b7a8-42e5-b4c4-a487a50e6ce2"
      },
      "execution_count": 54,
      "outputs": [
        {
          "output_type": "stream",
          "name": "stdout",
          "text": [
            "torch.Size([3, 28, 28])\n"
          ]
        }
      ]
    },
    {
      "cell_type": "markdown",
      "source": [
        "```nn.Flatten``` layer : to convert each 2D 28*28 images into a contiguous array of 784 pixel values"
      ],
      "metadata": {
        "id": "9NMFvMYLxn5U"
      }
    },
    {
      "cell_type": "code",
      "source": [
        "flatten = nn.Flatten()\n",
        "flat_image = flatten(input_image)\n",
        "print(flat_image.size())"
      ],
      "metadata": {
        "colab": {
          "base_uri": "https://localhost:8080/"
        },
        "id": "zhKxDbegxjW8",
        "outputId": "16ea8974-11bc-4f16-ffc3-b3932c1d3b20"
      },
      "execution_count": 55,
      "outputs": [
        {
          "output_type": "stream",
          "name": "stdout",
          "text": [
            "torch.Size([3, 784])\n"
          ]
        }
      ]
    },
    {
      "cell_type": "markdown",
      "source": [
        "```nn.Linear``` : a module that applies a linear transformation on the input using its stored weights and bias"
      ],
      "metadata": {
        "id": "nkudN01XyUkK"
      }
    },
    {
      "cell_type": "code",
      "source": [
        "layer1 = nn.Linear(in_features = 28*28, out_features = 20)\n",
        "hidden1 = layer1(flat_image)\n",
        "print(hidden1.size())"
      ],
      "metadata": {
        "colab": {
          "base_uri": "https://localhost:8080/"
        },
        "id": "Kta3EYwjx8Fk",
        "outputId": "9d59040d-b544-4408-ccfa-92a1d078643d"
      },
      "execution_count": 57,
      "outputs": [
        {
          "output_type": "stream",
          "name": "stdout",
          "text": [
            "torch.Size([3, 20])\n"
          ]
        }
      ]
    },
    {
      "cell_type": "markdown",
      "source": [
        "```nn.ReLU``` : non linear activations are what create the complex mappings between the model's inputs and outputs"
      ],
      "metadata": {
        "id": "9txVkCnIyonL"
      }
    },
    {
      "cell_type": "code",
      "source": [
        "print(f\"Before ReLU: {hidden1}\\n\\n\")\n",
        "hidden1 = nn.ReLU()(hidden1)\n",
        "print(f\"After ReLU: {hidden1}\\n\\n\")"
      ],
      "metadata": {
        "colab": {
          "base_uri": "https://localhost:8080/"
        },
        "id": "suXMMgqGykT_",
        "outputId": "7d97371a-c38c-40dc-950e-afc9aa2a5345"
      },
      "execution_count": 58,
      "outputs": [
        {
          "output_type": "stream",
          "name": "stdout",
          "text": [
            "Before ReLU: tensor([[-1.1101e-01,  3.6770e-01,  3.5414e-01, -3.1011e-01,  1.6600e-01,\n",
            "         -2.0383e-01, -3.1476e-01,  1.9688e-01, -4.2367e-02, -8.0910e-02,\n",
            "          9.1332e-02, -3.4437e-01,  2.9712e-01, -1.3748e-02,  2.2593e-01,\n",
            "          3.4521e-01,  4.7541e-01,  5.8157e-01,  8.1083e-02,  2.7341e-01],\n",
            "        [-2.4284e-01,  4.7201e-01,  5.3104e-01, -3.3553e-01,  6.8613e-02,\n",
            "         -2.3469e-01,  1.5987e-01,  9.2000e-02, -9.4544e-02,  1.2607e-01,\n",
            "         -2.0336e-01, -5.6899e-01, -8.2157e-02, -6.0379e-02,  6.6246e-02,\n",
            "          1.7964e-01,  3.4409e-01,  2.6479e-01,  1.7856e-01,  3.9403e-01],\n",
            "        [-3.7851e-01,  4.7272e-01,  6.2125e-01, -3.7991e-01, -1.0644e-01,\n",
            "         -6.4350e-02, -1.7578e-01,  3.1275e-01, -8.2824e-02, -1.3948e-01,\n",
            "         -9.2234e-03, -3.3431e-01,  6.4032e-01,  1.9905e-01,  1.6174e-01,\n",
            "         -6.9857e-05,  3.2399e-01,  7.3774e-01,  1.4933e-01,  9.2322e-02]],\n",
            "       grad_fn=<AddmmBackward0>)\n",
            "\n",
            "\n",
            "After ReLU: tensor([[0.0000, 0.3677, 0.3541, 0.0000, 0.1660, 0.0000, 0.0000, 0.1969, 0.0000,\n",
            "         0.0000, 0.0913, 0.0000, 0.2971, 0.0000, 0.2259, 0.3452, 0.4754, 0.5816,\n",
            "         0.0811, 0.2734],\n",
            "        [0.0000, 0.4720, 0.5310, 0.0000, 0.0686, 0.0000, 0.1599, 0.0920, 0.0000,\n",
            "         0.1261, 0.0000, 0.0000, 0.0000, 0.0000, 0.0662, 0.1796, 0.3441, 0.2648,\n",
            "         0.1786, 0.3940],\n",
            "        [0.0000, 0.4727, 0.6212, 0.0000, 0.0000, 0.0000, 0.0000, 0.3127, 0.0000,\n",
            "         0.0000, 0.0000, 0.0000, 0.6403, 0.1991, 0.1617, 0.0000, 0.3240, 0.7377,\n",
            "         0.1493, 0.0923]], grad_fn=<ReluBackward0>)\n",
            "\n",
            "\n"
          ]
        }
      ]
    },
    {
      "cell_type": "markdown",
      "source": [
        "```nn.Sequential``` : an ordered container of modules"
      ],
      "metadata": {
        "id": "QtZr9lLyzKRo"
      }
    },
    {
      "cell_type": "code",
      "source": [
        "seq_modules = nn.Sequential(\n",
        "    flatten,\n",
        "    layer1,\n",
        "    nn.ReLU(),\n",
        "    nn.Linear(20, 10)\n",
        ")\n",
        "input_image = torch.rand(3,28,28)\n",
        "logits = seq_modules(input_image)"
      ],
      "metadata": {
        "id": "dg-1gDhezHsA"
      },
      "execution_count": 59,
      "outputs": []
    },
    {
      "cell_type": "markdown",
      "source": [
        "```nn.softmax``` : scaled to values [0, 1] representing the model’s predicted probabilities for each class  \n",
        "\n",
        "```dim``` parameter indicates the dimension along which the values must sum to 1."
      ],
      "metadata": {
        "id": "U6B6pcR0zWTS"
      }
    },
    {
      "cell_type": "code",
      "source": [
        "softmax = nn.Softmax(dim=1)\n",
        "pred_probab = softmax(logits)"
      ],
      "metadata": {
        "id": "vLx1wwvIzSqN"
      },
      "execution_count": 60,
      "outputs": []
    },
    {
      "cell_type": "markdown",
      "source": [
        "## Model Parameters\n",
        "Subclassing ```nn.Module``` automatically tracks all fields defined inside your model object, and makes all parameters accessible using your model’s ```parameters()``` or ```named_parameters()``` methods."
      ],
      "metadata": {
        "id": "LiYPnlMFzqIx"
      }
    },
    {
      "cell_type": "code",
      "source": [
        "print(f\"Model structure: {model}\\n\\n\")\n",
        "\n",
        "for name, param in model.named_parameters():\n",
        "    print(f\"Layer: {name} | Size: {param.size()} | Values : {param[:2]} \\n\")"
      ],
      "metadata": {
        "colab": {
          "base_uri": "https://localhost:8080/"
        },
        "id": "6VSu4hYnzpIi",
        "outputId": "e10d4ed8-6bb5-4c4b-c24f-ef46b5c2ccdd"
      },
      "execution_count": 61,
      "outputs": [
        {
          "output_type": "stream",
          "name": "stdout",
          "text": [
            "Model structure: NeuralNetwork(\n",
            "  (flatten): Flatten(start_dim=1, end_dim=-1)\n",
            "  (linear_relu_stack): Sequential(\n",
            "    (0): Linear(in_features=784, out_features=512, bias=True)\n",
            "    (1): ReLU()\n",
            "    (2): Linear(in_features=512, out_features=512, bias=True)\n",
            "    (3): ReLU()\n",
            "    (4): Linear(in_features=512, out_features=10, bias=True)\n",
            "  )\n",
            ")\n",
            "\n",
            "\n",
            "Layer: linear_relu_stack.0.weight | Size: torch.Size([512, 784]) | Values : tensor([[-0.0285, -0.0252, -0.0192,  ...,  0.0310, -0.0017,  0.0044],\n",
            "        [-0.0222,  0.0002, -0.0291,  ...,  0.0041,  0.0011,  0.0105]],\n",
            "       grad_fn=<SliceBackward0>) \n",
            "\n",
            "Layer: linear_relu_stack.0.bias | Size: torch.Size([512]) | Values : tensor([-0.0348,  0.0225], grad_fn=<SliceBackward0>) \n",
            "\n",
            "Layer: linear_relu_stack.2.weight | Size: torch.Size([512, 512]) | Values : tensor([[-0.0141, -0.0279,  0.0263,  ...,  0.0162,  0.0358, -0.0293],\n",
            "        [ 0.0411, -0.0014,  0.0123,  ..., -0.0078, -0.0322,  0.0031]],\n",
            "       grad_fn=<SliceBackward0>) \n",
            "\n",
            "Layer: linear_relu_stack.2.bias | Size: torch.Size([512]) | Values : tensor([-0.0119,  0.0379], grad_fn=<SliceBackward0>) \n",
            "\n",
            "Layer: linear_relu_stack.4.weight | Size: torch.Size([10, 512]) | Values : tensor([[-0.0007,  0.0073,  0.0008,  ...,  0.0325, -0.0027, -0.0102],\n",
            "        [ 0.0315, -0.0235, -0.0167,  ...,  0.0252, -0.0381, -0.0042]],\n",
            "       grad_fn=<SliceBackward0>) \n",
            "\n",
            "Layer: linear_relu_stack.4.bias | Size: torch.Size([10]) | Values : tensor([-0.0156,  0.0336], grad_fn=<SliceBackward0>) \n",
            "\n"
          ]
        }
      ]
    },
    {
      "cell_type": "markdown",
      "source": [
        "# Automatic differentiation with ```torch.autograd```"
      ],
      "metadata": {
        "id": "2sAusUqX0Afg"
      }
    },
    {
      "cell_type": "code",
      "source": [
        "import torch\n",
        "\n",
        "x = torch.ones(5) # input tensor\n",
        "y = torch.zeros(3) # expected output\n",
        "w = torch.randn(5, 3, requires_grad = True)\n",
        "b = torch.randn(3, requires_grad = True)\n",
        "\n",
        "z = torch.matmul(x, w) + b\n",
        "\n",
        "loss = torch.nn.functional.binary_cross_entropy_with_logits(z, y)"
      ],
      "metadata": {
        "id": "glzyKYxsz76B"
      },
      "execution_count": 62,
      "outputs": []
    },
    {
      "cell_type": "code",
      "source": [
        "print(f\"Gradient function for z = {z.grad_fn}\")\n",
        "print(f\"Gradient function for loss = {loss.grad_fn}\")"
      ],
      "metadata": {
        "colab": {
          "base_uri": "https://localhost:8080/"
        },
        "id": "PPFVwfVu0uL0",
        "outputId": "8f2a3bad-1db8-42b9-f6d5-1b9cb0834bfc"
      },
      "execution_count": 63,
      "outputs": [
        {
          "output_type": "stream",
          "name": "stdout",
          "text": [
            "Gradient function for z = <AddBackward0 object at 0x7ff86d2d83d0>\n",
            "Gradient function for loss = <BinaryCrossEntropyWithLogitsBackward0 object at 0x7ff86d2d8cd0>\n"
          ]
        }
      ]
    },
    {
      "cell_type": "markdown",
      "source": [
        "## Computing gradients"
      ],
      "metadata": {
        "id": "uBpSFgvp0zOE"
      }
    },
    {
      "cell_type": "code",
      "source": [
        "loss.backward()\n",
        "print(w.grad)\n",
        "print(b.grad)"
      ],
      "metadata": {
        "colab": {
          "base_uri": "https://localhost:8080/"
        },
        "id": "ernVXNVj0xEd",
        "outputId": "59cc4b0a-d432-4fd4-970f-2096a802374c"
      },
      "execution_count": 64,
      "outputs": [
        {
          "output_type": "stream",
          "name": "stdout",
          "text": [
            "tensor([[0.2780, 0.2659, 0.2133],\n",
            "        [0.2780, 0.2659, 0.2133],\n",
            "        [0.2780, 0.2659, 0.2133],\n",
            "        [0.2780, 0.2659, 0.2133],\n",
            "        [0.2780, 0.2659, 0.2133]])\n",
            "tensor([0.2780, 0.2659, 0.2133])\n"
          ]
        }
      ]
    },
    {
      "cell_type": "markdown",
      "source": [
        "## Disabling Gradient TRacking\n",
        "all tensors with ```requires_grad=True``` are tracking their computational history and support gradient computation.  \n",
        "However, there are some cases when we do not need to do that, for example, when we have trained the model and just want to apply it to some input data, i.e. we only want to do forward computations through the network. We can stop tracking computations by surrounding our computation code with ```torch.no_grad()``` block:\n",
        "\n"
      ],
      "metadata": {
        "id": "DKbAeaqc08Bi"
      }
    },
    {
      "cell_type": "code",
      "source": [
        "z = torch.matmul(x, w)+b\n",
        "print(z.requires_grad)\n",
        "\n",
        "with torch.no_grad():\n",
        "    z = torch.matmul(x, w)+b\n",
        "print(z.requires_grad)"
      ],
      "metadata": {
        "colab": {
          "base_uri": "https://localhost:8080/"
        },
        "id": "7_1w0GtX06gB",
        "outputId": "5fcbf4bc-f046-468e-b44b-4fe7f45555f3"
      },
      "execution_count": 65,
      "outputs": [
        {
          "output_type": "stream",
          "name": "stdout",
          "text": [
            "True\n",
            "False\n"
          ]
        }
      ]
    },
    {
      "cell_type": "code",
      "source": [
        "z = torch.matmul(x, w)+b\n",
        "z_det = z.detach()\n",
        "print(z_det.requires_grad)"
      ],
      "metadata": {
        "colab": {
          "base_uri": "https://localhost:8080/"
        },
        "id": "fEPVgVZ51SDp",
        "outputId": "6edc6964-06d2-47f8-ad07-15806687981f"
      },
      "execution_count": 66,
      "outputs": [
        {
          "output_type": "stream",
          "name": "stdout",
          "text": [
            "False\n"
          ]
        }
      ]
    },
    {
      "cell_type": "markdown",
      "source": [
        "# Optimization"
      ],
      "metadata": {
        "id": "-zGPiV_N2VOs"
      }
    },
    {
      "cell_type": "markdown",
      "source": [
        "## Prequisite Code"
      ],
      "metadata": {
        "id": "Ehu1hmvD2fWA"
      }
    },
    {
      "cell_type": "code",
      "source": [
        "import torch\n",
        "from torch import nn\n",
        "from torch.utils.data import DataLoader\n",
        "from torchvision import datasets\n",
        "from torchvision.transforms import ToTensor\n",
        "\n",
        "training_data = datasets.FashionMNIST(\n",
        "    root=\"data\",\n",
        "    train=True,\n",
        "    download=True,\n",
        "    transform=ToTensor()\n",
        ")\n",
        "\n",
        "test_data = datasets.FashionMNIST(\n",
        "    root=\"data\",\n",
        "    train=False,\n",
        "    download=True,\n",
        "    transform=ToTensor()\n",
        ")\n",
        "\n",
        "train_dataloader = DataLoader(training_data, batch_size=64)\n",
        "test_dataloader = DataLoader(test_data, batch_size=64)\n",
        "\n",
        "class NeuralNetwork(nn.Module):\n",
        "    def __init__(self):\n",
        "        super(NeuralNetwork, self).__init__()\n",
        "        self.flatten = nn.Flatten()\n",
        "        self.linear_relu_stack = nn.Sequential(\n",
        "            nn.Linear(28*28, 512),\n",
        "            nn.ReLU(),\n",
        "            nn.Linear(512, 512),\n",
        "            nn.ReLU(),\n",
        "            nn.Linear(512, 10),\n",
        "        )\n",
        "\n",
        "    def forward(self, x):\n",
        "        x = self.flatten(x)\n",
        "        logits = self.linear_relu_stack(x)\n",
        "        return logits\n",
        "\n",
        "model = NeuralNetwork()"
      ],
      "metadata": {
        "id": "kTlD4Y5G2XrL"
      },
      "execution_count": 67,
      "outputs": []
    },
    {
      "cell_type": "markdown",
      "source": [
        "## Hyperparameters\n",
        "- **# of Epochs** : the number times to iterate over dataset\n",
        "- **Batch Size** : the number of data smaples propagated through the network before the parameters are updated\n",
        "- **Learning Rate** : how much to update models parameters at each batch/epoch. Smaller values yield slow learning speed, while large values may result in unpredictable behavior during training."
      ],
      "metadata": {
        "id": "8FsC566i2nIx"
      }
    },
    {
      "cell_type": "code",
      "source": [
        "learning_rate = 1e-3\n",
        "batch_size = 64\n",
        "epochs = 5"
      ],
      "metadata": {
        "id": "CsGgc7m92jze"
      },
      "execution_count": 68,
      "outputs": []
    },
    {
      "cell_type": "markdown",
      "source": [
        "**epoch** : each iteration of the optimization loop  \n",
        "- The train loop :  iterate over the training dataset and try to converge to optimal parameters\n",
        "- The validation/Test loop : iterate over the test dataset to check if model performance is improving"
      ],
      "metadata": {
        "id": "vZjtfw5F3Obc"
      }
    },
    {
      "cell_type": "markdown",
      "source": [
        "## Loss Function\n",
        "**Loss function** measures the degree of dissimilarity of obtained result to the target value, and it is the loss function that we want to minimize during training."
      ],
      "metadata": {
        "id": "RKbMBP4c3bUb"
      }
    },
    {
      "cell_type": "code",
      "source": [
        "# Initialize the loss function\n",
        "loss_fn = nn.CrossEntropyLoss()"
      ],
      "metadata": {
        "id": "y1dZOYXS3FB6"
      },
      "execution_count": 69,
      "outputs": []
    },
    {
      "cell_type": "markdown",
      "source": [
        "## Optimizer\n",
        "**Optimization** is the process of adjusting model parameters to reduce model error in each training step."
      ],
      "metadata": {
        "id": "dltM-3Sj3mTX"
      }
    },
    {
      "cell_type": "code",
      "source": [
        "optimizer = torch.optim.SGD(model.parameters(), lr=learning_rate)"
      ],
      "metadata": {
        "id": "yUJyYCz43roV"
      },
      "execution_count": 70,
      "outputs": []
    },
    {
      "cell_type": "markdown",
      "source": [
        "- ```optimizer.zero_grad()``` : to reset the gradients of model parameters\n",
        "- ```loss.backward()``` : backpropagates\n",
        "- ```optimizer.step()``` : adjust the parameters by gradients collected in the backward pass"
      ],
      "metadata": {
        "id": "Hw6Dpv_23v1D"
      }
    },
    {
      "cell_type": "markdown",
      "source": [
        "## Full Implementation"
      ],
      "metadata": {
        "id": "kQMyBWmD4NXz"
      }
    },
    {
      "cell_type": "code",
      "source": [
        "def train_loop(dataloader, model, loss_fn, optimizer):\n",
        "    size = len(dataloader.dataset)\n",
        "    for batch, (X, y) in enumerate(dataloader):\n",
        "        # Compute prediction and loss\n",
        "        pred = model(X)\n",
        "        loss = loss_fn(pred, y)\n",
        "\n",
        "        # Backpropagation\n",
        "        optimizer.zero_grad()\n",
        "        loss.backward()\n",
        "        optimizer.step()\n",
        "\n",
        "        if batch % 100 == 0:\n",
        "            loss, current = loss.item(), (batch + 1) * len(X)\n",
        "            print(f\"loss: {loss:>7f}  [{current:>5d}/{size:>5d}]\")\n",
        "\n",
        "\n",
        "def test_loop(dataloader, model, loss_fn):\n",
        "    size = len(dataloader.dataset)\n",
        "    num_batches = len(dataloader)\n",
        "    test_loss, correct = 0, 0\n",
        "\n",
        "    with torch.no_grad():\n",
        "        for X, y in dataloader:\n",
        "            pred = model(X)\n",
        "            test_loss += loss_fn(pred, y).item()\n",
        "            correct += (pred.argmax(1) == y).type(torch.float).sum().item()\n",
        "\n",
        "    test_loss /= num_batches\n",
        "    correct /= size\n",
        "    print(f\"Test Error: \\n Accuracy: {(100*correct):>0.1f}%, Avg loss: {test_loss:>8f} \\n\")"
      ],
      "metadata": {
        "id": "yJ_Vl1JU3uRK"
      },
      "execution_count": 71,
      "outputs": []
    },
    {
      "cell_type": "code",
      "source": [
        "loss_fn = nn.CrossEntropyLoss()\n",
        "optimizer = torch.optim.SGD(model.parameters(), lr=learning_rate)\n",
        "\n",
        "epochs = 10\n",
        "for t in range(epochs):\n",
        "    print(f\"Epoch {t+1}\\n-------------------------------\")\n",
        "    train_loop(train_dataloader, model, loss_fn, optimizer)\n",
        "    test_loop(test_dataloader, model, loss_fn)\n",
        "print(\"Done!\")"
      ],
      "metadata": {
        "colab": {
          "base_uri": "https://localhost:8080/"
        },
        "id": "W8mkhbgZ4RDg",
        "outputId": "3b573702-53e7-4207-ccf3-b4f351afeaae"
      },
      "execution_count": 72,
      "outputs": [
        {
          "output_type": "stream",
          "name": "stdout",
          "text": [
            "Epoch 1\n",
            "-------------------------------\n",
            "loss: 2.305724  [   64/60000]\n",
            "loss: 2.284523  [ 6464/60000]\n",
            "loss: 2.265043  [12864/60000]\n",
            "loss: 2.252532  [19264/60000]\n",
            "loss: 2.236014  [25664/60000]\n",
            "loss: 2.214025  [32064/60000]\n",
            "loss: 2.219948  [38464/60000]\n",
            "loss: 2.185939  [44864/60000]\n",
            "loss: 2.177628  [51264/60000]\n",
            "loss: 2.132831  [57664/60000]\n",
            "Test Error: \n",
            " Accuracy: 42.4%, Avg loss: 2.131132 \n",
            "\n",
            "Epoch 2\n",
            "-------------------------------\n",
            "loss: 2.150283  [   64/60000]\n",
            "loss: 2.131153  [ 6464/60000]\n",
            "loss: 2.068864  [12864/60000]\n",
            "loss: 2.083009  [19264/60000]\n",
            "loss: 2.034509  [25664/60000]\n",
            "loss: 1.968132  [32064/60000]\n",
            "loss: 2.005025  [38464/60000]\n",
            "loss: 1.915214  [44864/60000]\n",
            "loss: 1.921957  [51264/60000]\n",
            "loss: 1.840767  [57664/60000]\n",
            "Test Error: \n",
            " Accuracy: 59.1%, Avg loss: 1.839124 \n",
            "\n",
            "Epoch 3\n",
            "-------------------------------\n",
            "loss: 1.879416  [   64/60000]\n",
            "loss: 1.840834  [ 6464/60000]\n",
            "loss: 1.720080  [12864/60000]\n",
            "loss: 1.763539  [19264/60000]\n",
            "loss: 1.646728  [25664/60000]\n",
            "loss: 1.605360  [32064/60000]\n",
            "loss: 1.631273  [38464/60000]\n",
            "loss: 1.527121  [44864/60000]\n",
            "loss: 1.557574  [51264/60000]\n",
            "loss: 1.445460  [57664/60000]\n",
            "Test Error: \n",
            " Accuracy: 61.1%, Avg loss: 1.464633 \n",
            "\n",
            "Epoch 4\n",
            "-------------------------------\n",
            "loss: 1.539072  [   64/60000]\n",
            "loss: 1.499552  [ 6464/60000]\n",
            "loss: 1.350881  [12864/60000]\n",
            "loss: 1.424936  [19264/60000]\n",
            "loss: 1.299466  [25664/60000]\n",
            "loss: 1.303791  [32064/60000]\n",
            "loss: 1.321347  [38464/60000]\n",
            "loss: 1.242572  [44864/60000]\n",
            "loss: 1.284167  [51264/60000]\n",
            "loss: 1.181310  [57664/60000]\n",
            "Test Error: \n",
            " Accuracy: 63.3%, Avg loss: 1.208347 \n",
            "\n",
            "Epoch 5\n",
            "-------------------------------\n",
            "loss: 1.287630  [   64/60000]\n",
            "loss: 1.269566  [ 6464/60000]\n",
            "loss: 1.105675  [12864/60000]\n",
            "loss: 1.214360  [19264/60000]\n",
            "loss: 1.086034  [25664/60000]\n",
            "loss: 1.112169  [32064/60000]\n",
            "loss: 1.138786  [38464/60000]\n",
            "loss: 1.070862  [44864/60000]\n",
            "loss: 1.119695  [51264/60000]\n",
            "loss: 1.033121  [57664/60000]\n",
            "Test Error: \n",
            " Accuracy: 65.1%, Avg loss: 1.054295 \n",
            "\n",
            "Epoch 6\n",
            "-------------------------------\n",
            "loss: 1.122980  [   64/60000]\n",
            "loss: 1.128803  [ 6464/60000]\n",
            "loss: 0.947114  [12864/60000]\n",
            "loss: 1.085302  [19264/60000]\n",
            "loss: 0.958772  [25664/60000]\n",
            "loss: 0.985292  [32064/60000]\n",
            "loss: 1.027991  [38464/60000]\n",
            "loss: 0.963594  [44864/60000]\n",
            "loss: 1.014958  [51264/60000]\n",
            "loss: 0.942515  [57664/60000]\n",
            "Test Error: \n",
            " Accuracy: 66.3%, Avg loss: 0.956426 \n",
            "\n",
            "Epoch 7\n",
            "-------------------------------\n",
            "loss: 1.009399  [   64/60000]\n",
            "loss: 1.038339  [ 6464/60000]\n",
            "loss: 0.839496  [12864/60000]\n",
            "loss: 0.999707  [19264/60000]\n",
            "loss: 0.878731  [25664/60000]\n",
            "loss: 0.896566  [32064/60000]\n",
            "loss: 0.955434  [38464/60000]\n",
            "loss: 0.894186  [44864/60000]\n",
            "loss: 0.943406  [51264/60000]\n",
            "loss: 0.881715  [57664/60000]\n",
            "Test Error: \n",
            " Accuracy: 67.6%, Avg loss: 0.889794 \n",
            "\n",
            "Epoch 8\n",
            "-------------------------------\n",
            "loss: 0.925815  [   64/60000]\n",
            "loss: 0.975012  [ 6464/60000]\n",
            "loss: 0.762479  [12864/60000]\n",
            "loss: 0.938860  [19264/60000]\n",
            "loss: 0.824952  [25664/60000]\n",
            "loss: 0.831931  [32064/60000]\n",
            "loss: 0.903737  [38464/60000]\n",
            "loss: 0.847233  [44864/60000]\n",
            "loss: 0.891732  [51264/60000]\n",
            "loss: 0.837722  [57664/60000]\n",
            "Test Error: \n",
            " Accuracy: 69.1%, Avg loss: 0.841614 \n",
            "\n",
            "Epoch 9\n",
            "-------------------------------\n",
            "loss: 0.861567  [   64/60000]\n",
            "loss: 0.927047  [ 6464/60000]\n",
            "loss: 0.704938  [12864/60000]\n",
            "loss: 0.893319  [19264/60000]\n",
            "loss: 0.786159  [25664/60000]\n",
            "loss: 0.783533  [32064/60000]\n",
            "loss: 0.864021  [38464/60000]\n",
            "loss: 0.813972  [44864/60000]\n",
            "loss: 0.852497  [51264/60000]\n",
            "loss: 0.803836  [57664/60000]\n",
            "Test Error: \n",
            " Accuracy: 70.3%, Avg loss: 0.804748 \n",
            "\n",
            "Epoch 10\n",
            "-------------------------------\n",
            "loss: 0.810141  [   64/60000]\n",
            "loss: 0.888207  [ 6464/60000]\n",
            "loss: 0.660124  [12864/60000]\n",
            "loss: 0.857688  [19264/60000]\n",
            "loss: 0.756482  [25664/60000]\n",
            "loss: 0.746233  [32064/60000]\n",
            "loss: 0.831478  [38464/60000]\n",
            "loss: 0.789001  [44864/60000]\n",
            "loss: 0.821390  [51264/60000]\n",
            "loss: 0.776339  [57664/60000]\n",
            "Test Error: \n",
            " Accuracy: 71.7%, Avg loss: 0.775089 \n",
            "\n",
            "Done!\n"
          ]
        }
      ]
    },
    {
      "cell_type": "markdown",
      "source": [
        "## Save & Load the Model"
      ],
      "metadata": {
        "id": "vNn2kUN44bbz"
      }
    },
    {
      "cell_type": "code",
      "source": [
        "import torch\n",
        "import torchvision.models as models"
      ],
      "metadata": {
        "id": "0h8wrpZ24Sk0"
      },
      "execution_count": 73,
      "outputs": []
    },
    {
      "cell_type": "markdown",
      "source": [
        "## Saving and Loading Model Weights"
      ],
      "metadata": {
        "id": "OvAztufj4gnJ"
      }
    },
    {
      "cell_type": "code",
      "source": [
        "model = models.vgg16(weights='IMAGENET1K_V1')\n",
        "torch.save(model.state_dict(), 'model_weights.pth')"
      ],
      "metadata": {
        "colab": {
          "base_uri": "https://localhost:8080/"
        },
        "id": "785L6A5S4f1T",
        "outputId": "f1a29f78-1b3e-4c0b-f370-529240107502"
      },
      "execution_count": 74,
      "outputs": [
        {
          "output_type": "stream",
          "name": "stderr",
          "text": [
            "Downloading: \"https://download.pytorch.org/models/vgg16-397923af.pth\" to /root/.cache/torch/hub/checkpoints/vgg16-397923af.pth\n",
            "100%|██████████| 528M/528M [00:06<00:00, 79.5MB/s]\n"
          ]
        }
      ]
    },
    {
      "cell_type": "code",
      "source": [
        "model = models.vgg16() # we do not specify weights, i.e. create untrained model\n",
        "model.load_state_dict(torch.load('model_weights.pth'))\n",
        "model.eval()"
      ],
      "metadata": {
        "colab": {
          "base_uri": "https://localhost:8080/"
        },
        "id": "2sU1Jf5f4mbu",
        "outputId": "3590dd44-3653-4659-e61f-73d27ba4c1d2"
      },
      "execution_count": 75,
      "outputs": [
        {
          "output_type": "execute_result",
          "data": {
            "text/plain": [
              "VGG(\n",
              "  (features): Sequential(\n",
              "    (0): Conv2d(3, 64, kernel_size=(3, 3), stride=(1, 1), padding=(1, 1))\n",
              "    (1): ReLU(inplace=True)\n",
              "    (2): Conv2d(64, 64, kernel_size=(3, 3), stride=(1, 1), padding=(1, 1))\n",
              "    (3): ReLU(inplace=True)\n",
              "    (4): MaxPool2d(kernel_size=2, stride=2, padding=0, dilation=1, ceil_mode=False)\n",
              "    (5): Conv2d(64, 128, kernel_size=(3, 3), stride=(1, 1), padding=(1, 1))\n",
              "    (6): ReLU(inplace=True)\n",
              "    (7): Conv2d(128, 128, kernel_size=(3, 3), stride=(1, 1), padding=(1, 1))\n",
              "    (8): ReLU(inplace=True)\n",
              "    (9): MaxPool2d(kernel_size=2, stride=2, padding=0, dilation=1, ceil_mode=False)\n",
              "    (10): Conv2d(128, 256, kernel_size=(3, 3), stride=(1, 1), padding=(1, 1))\n",
              "    (11): ReLU(inplace=True)\n",
              "    (12): Conv2d(256, 256, kernel_size=(3, 3), stride=(1, 1), padding=(1, 1))\n",
              "    (13): ReLU(inplace=True)\n",
              "    (14): Conv2d(256, 256, kernel_size=(3, 3), stride=(1, 1), padding=(1, 1))\n",
              "    (15): ReLU(inplace=True)\n",
              "    (16): MaxPool2d(kernel_size=2, stride=2, padding=0, dilation=1, ceil_mode=False)\n",
              "    (17): Conv2d(256, 512, kernel_size=(3, 3), stride=(1, 1), padding=(1, 1))\n",
              "    (18): ReLU(inplace=True)\n",
              "    (19): Conv2d(512, 512, kernel_size=(3, 3), stride=(1, 1), padding=(1, 1))\n",
              "    (20): ReLU(inplace=True)\n",
              "    (21): Conv2d(512, 512, kernel_size=(3, 3), stride=(1, 1), padding=(1, 1))\n",
              "    (22): ReLU(inplace=True)\n",
              "    (23): MaxPool2d(kernel_size=2, stride=2, padding=0, dilation=1, ceil_mode=False)\n",
              "    (24): Conv2d(512, 512, kernel_size=(3, 3), stride=(1, 1), padding=(1, 1))\n",
              "    (25): ReLU(inplace=True)\n",
              "    (26): Conv2d(512, 512, kernel_size=(3, 3), stride=(1, 1), padding=(1, 1))\n",
              "    (27): ReLU(inplace=True)\n",
              "    (28): Conv2d(512, 512, kernel_size=(3, 3), stride=(1, 1), padding=(1, 1))\n",
              "    (29): ReLU(inplace=True)\n",
              "    (30): MaxPool2d(kernel_size=2, stride=2, padding=0, dilation=1, ceil_mode=False)\n",
              "  )\n",
              "  (avgpool): AdaptiveAvgPool2d(output_size=(7, 7))\n",
              "  (classifier): Sequential(\n",
              "    (0): Linear(in_features=25088, out_features=4096, bias=True)\n",
              "    (1): ReLU(inplace=True)\n",
              "    (2): Dropout(p=0.5, inplace=False)\n",
              "    (3): Linear(in_features=4096, out_features=4096, bias=True)\n",
              "    (4): ReLU(inplace=True)\n",
              "    (5): Dropout(p=0.5, inplace=False)\n",
              "    (6): Linear(in_features=4096, out_features=1000, bias=True)\n",
              "  )\n",
              ")"
            ]
          },
          "metadata": {},
          "execution_count": 75
        }
      ]
    },
    {
      "cell_type": "markdown",
      "source": [
        "be sure to call ```model.eval()``` method before inferencing to set the dropout and batch normalization layers to evaluation mode. Failing to do this will yield inconsistent inference results."
      ],
      "metadata": {
        "id": "1kPmdS8f4zbJ"
      }
    },
    {
      "cell_type": "markdown",
      "source": [
        "## Saving and Loading Models with Shapes"
      ],
      "metadata": {
        "id": "CQ_ai3ve43il"
      }
    },
    {
      "cell_type": "code",
      "source": [
        "torch.save(model, 'model.pth')"
      ],
      "metadata": {
        "id": "2NzVgTUz47P5"
      },
      "execution_count": 76,
      "outputs": []
    },
    {
      "cell_type": "code",
      "source": [
        "model = torch.load('model.pth')"
      ],
      "metadata": {
        "id": "2mDyOpCT5EXv"
      },
      "execution_count": 77,
      "outputs": []
    }
  ]
}