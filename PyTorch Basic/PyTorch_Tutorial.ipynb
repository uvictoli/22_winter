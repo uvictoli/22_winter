{
  "nbformat": 4,
  "nbformat_minor": 0,
  "metadata": {
    "colab": {
      "provenance": [],
      "collapsed_sections": [
        "1YEXjkEbIkPJ",
        "bz6NupuYXSNg",
        "OFmKaQWhVz2m",
        "hj4MtghFdTDx",
        "1SKSiwbygKYu",
        "v_1TAC-Poco1",
        "JmaP_7k4Q7sV",
        "vrEqeFXTT1F5"
      ]
    },
    "kernelspec": {
      "name": "python3",
      "display_name": "Python 3"
    },
    "language_info": {
      "name": "python"
    }
  },
  "cells": [
    {
      "cell_type": "markdown",
      "source": [
        "# 0. QuickStart"
      ],
      "metadata": {
        "id": "1YEXjkEbIkPJ"
      }
    },
    {
      "cell_type": "markdown",
      "source": [
        "## Working with data\n",
        "API for common tasks in ML. Pytorch has two primitives to work with data:\n",
        "- ```torch.utils.data.Dataset```\n",
        "Dataset : sample과 대응되는 label 저장\n",
        "- ```torch.utils.data.DataLoader```\n",
        "DataLoader : Dataset을 순회 가능한 객체로 감싸줌\n"
      ],
      "metadata": {
        "id": "kwliYSwxI0qo"
      }
    },
    {
      "cell_type": "code",
      "execution_count": null,
      "metadata": {
        "id": "QtSNZO8CIUxI"
      },
      "outputs": [],
      "source": [
        "import torch\n",
        "from torch import nn\n",
        "from torch.utils.data import DataLoader\n",
        "from torchvision import datasets\n",
        "from torchvision.transforms import ToTensor"
      ]
    },
    {
      "cell_type": "markdown",
      "source": [
        "- ```from torchvision import datasets```\n",
        "CIFAR, COCO와 같은 다양한 실제 비전 데이터에 대한 ```Dataset```을 포함하고 있는 모듈\n",
        "- ```Dataset```\n",
        "샘플(feature)과 정답을 각각 변경하기 위한 ```transform```과 ```target_transform```의 두 인자를 포함함\n",
        "\n",
        "<br>\n",
        "\n",
        "➝ DataLoader의 인자로 Dataset 전달\n",
        "```DataLoader```\n",
        "Dataset을 순회 가능한 객체로 감싸고, 자동화된 배치, 샘플링, shuffle, multoprocess data loading(다중 프로세스로 데이터 불러오기)을 지원함"
      ],
      "metadata": {
        "id": "1234oGG9K2_z"
      }
    },
    {
      "cell_type": "code",
      "source": [
        "# Data Download\n",
        "\n",
        "training_data = datasets.FashionMNIST(\n",
        "    root = \"data\",\n",
        "    train = True,\n",
        "    download = True,\n",
        "    transform = ToTensor()\n",
        ")\n",
        "\n",
        "test_data = datasets.FashionMNIST(\n",
        "    root = \"data\",\n",
        "    train = False,\n",
        "    download = True,\n",
        "    transform = ToTensor(),\n",
        ")"
      ],
      "metadata": {
        "colab": {
          "base_uri": "https://localhost:8080/"
        },
        "id": "ooycJWvYKhAR",
        "outputId": "2e4fd118-e046-4948-faff-69aa8825bf93"
      },
      "execution_count": null,
      "outputs": [
        {
          "output_type": "stream",
          "name": "stdout",
          "text": [
            "Downloading http://fashion-mnist.s3-website.eu-central-1.amazonaws.com/train-images-idx3-ubyte.gz\n",
            "Downloading http://fashion-mnist.s3-website.eu-central-1.amazonaws.com/train-images-idx3-ubyte.gz to data/FashionMNIST/raw/train-images-idx3-ubyte.gz\n"
          ]
        },
        {
          "output_type": "stream",
          "name": "stderr",
          "text": [
            "100%|██████████| 26421880/26421880 [00:02<00:00, 11872286.68it/s]\n"
          ]
        },
        {
          "output_type": "stream",
          "name": "stdout",
          "text": [
            "Extracting data/FashionMNIST/raw/train-images-idx3-ubyte.gz to data/FashionMNIST/raw\n",
            "\n",
            "Downloading http://fashion-mnist.s3-website.eu-central-1.amazonaws.com/train-labels-idx1-ubyte.gz\n",
            "Downloading http://fashion-mnist.s3-website.eu-central-1.amazonaws.com/train-labels-idx1-ubyte.gz to data/FashionMNIST/raw/train-labels-idx1-ubyte.gz\n"
          ]
        },
        {
          "output_type": "stream",
          "name": "stderr",
          "text": [
            "100%|██████████| 29515/29515 [00:00<00:00, 203101.92it/s]\n"
          ]
        },
        {
          "output_type": "stream",
          "name": "stdout",
          "text": [
            "Extracting data/FashionMNIST/raw/train-labels-idx1-ubyte.gz to data/FashionMNIST/raw\n",
            "\n",
            "Downloading http://fashion-mnist.s3-website.eu-central-1.amazonaws.com/t10k-images-idx3-ubyte.gz\n",
            "Downloading http://fashion-mnist.s3-website.eu-central-1.amazonaws.com/t10k-images-idx3-ubyte.gz to data/FashionMNIST/raw/t10k-images-idx3-ubyte.gz\n"
          ]
        },
        {
          "output_type": "stream",
          "name": "stderr",
          "text": [
            "100%|██████████| 4422102/4422102 [00:01<00:00, 3769368.25it/s]\n"
          ]
        },
        {
          "output_type": "stream",
          "name": "stdout",
          "text": [
            "Extracting data/FashionMNIST/raw/t10k-images-idx3-ubyte.gz to data/FashionMNIST/raw\n",
            "\n",
            "Downloading http://fashion-mnist.s3-website.eu-central-1.amazonaws.com/t10k-labels-idx1-ubyte.gz\n",
            "Downloading http://fashion-mnist.s3-website.eu-central-1.amazonaws.com/t10k-labels-idx1-ubyte.gz to data/FashionMNIST/raw/t10k-labels-idx1-ubyte.gz\n"
          ]
        },
        {
          "output_type": "stream",
          "name": "stderr",
          "text": [
            "100%|██████████| 5148/5148 [00:00<00:00, 15099494.40it/s]"
          ]
        },
        {
          "output_type": "stream",
          "name": "stdout",
          "text": [
            "Extracting data/FashionMNIST/raw/t10k-labels-idx1-ubyte.gz to data/FashionMNIST/raw\n",
            "\n"
          ]
        },
        {
          "output_type": "stream",
          "name": "stderr",
          "text": [
            "\n"
          ]
        }
      ]
    },
    {
      "cell_type": "code",
      "source": [
        "batch_size = 64\n",
        "# 데이터로더 객체의 각 요소는 64(batch_size)개의 feature와 label 묶음(batch)을 반환함\n",
        "\n",
        "train_dataloader = DataLoader(training_data, batch_size = batch_size)\n",
        "test_dataloader = DataLoader(test_data, batch_size = batch_size)\n",
        "\n",
        "for X, y in test_dataloader:\n",
        "  print(f\"Shape of X [N, C, H, W]: {X.shape}\")\n",
        "  print(f\"Shape of y: {y.shape} {y.dtype}\")\n",
        "  break"
      ],
      "metadata": {
        "colab": {
          "base_uri": "https://localhost:8080/"
        },
        "id": "vDkpDyTNM5vY",
        "outputId": "5fde9870-366c-4028-f752-d1b75801bb96"
      },
      "execution_count": null,
      "outputs": [
        {
          "output_type": "stream",
          "name": "stdout",
          "text": [
            "Shape of X [N, C, H, W]: torch.Size([64, 1, 28, 28])\n",
            "Shape of y: torch.Size([64]) torch.int64\n"
          ]
        }
      ]
    },
    {
      "cell_type": "markdown",
      "source": [
        "## Creating Models\n",
        "- 신경망 모델 생성\n",
        "1. ```nn.Module```을 상속받는 클래스 정의\n",
        "2. ```__init__```함수 : 신경망의 layer들 정의\n",
        "3. ```forward```함수 : 신경망에 데이터를 어떻게 전달할지 지정\n"
      ],
      "metadata": {
        "id": "XrsjOntVPI-x"
      }
    },
    {
      "cell_type": "code",
      "source": [
        "device = (\n",
        "    \"cuda\"\n",
        "    if torch.cuda.is_available()\n",
        "    else \"mps\"\n",
        "    if torch.backends.mps.is_available()\n",
        "    else \"cpu\"\n",
        ")\n",
        "print(f\"Using {device} device\")\n",
        "\n",
        "# 모델 정의\n",
        "class NeuralNetwork(nn.Module):\n",
        "  def __init__(self):\n",
        "    super().__init__()\n",
        "    self.flatten = nn.Flatten()\n",
        "    self.linear_relu_stack = nn.Sequential(\n",
        "        nn.Linear(28*28, 512),\n",
        "        nn.ReLU(),\n",
        "        nn.Linear(512, 512),\n",
        "        nn.ReLU(),\n",
        "        nn.Linear(512, 10)\n",
        "    )\n",
        "\n",
        "  def forward(self, x):\n",
        "    x = self.flatten(x)\n",
        "    logits = self.linear_relu_stack(x)\n",
        "    return logits\n",
        "\n",
        "model = NeuralNetwork().to(device)\n",
        "print(model)"
      ],
      "metadata": {
        "colab": {
          "base_uri": "https://localhost:8080/"
        },
        "id": "rZxXcjUFOpM8",
        "outputId": "bd82af5b-4e7b-4ab0-fe36-52659a77a263"
      },
      "execution_count": null,
      "outputs": [
        {
          "output_type": "stream",
          "name": "stdout",
          "text": [
            "Using cpu device\n",
            "NeuralNetwork(\n",
            "  (flatten): Flatten(start_dim=1, end_dim=-1)\n",
            "  (linear_relu_stack): Sequential(\n",
            "    (0): Linear(in_features=784, out_features=512, bias=True)\n",
            "    (1): ReLU()\n",
            "    (2): Linear(in_features=512, out_features=512, bias=True)\n",
            "    (3): ReLU()\n",
            "    (4): Linear(in_features=512, out_features=10, bias=True)\n",
            "  )\n",
            ")\n"
          ]
        }
      ]
    },
    {
      "cell_type": "markdown",
      "source": [
        "## Optimizing the Model Parameters\n",
        "각 학습 단계(training loop)에서 모델은 batch로 제공되는 학습 데이터셋에 대한 예측을 수행하고, 예측 오류를 역전파하여 매개변수를 조정함"
      ],
      "metadata": {
        "id": "udZK3oI4RWhG"
      }
    },
    {
      "cell_type": "code",
      "source": [
        "loss_fn = nn.CrossEntropyLoss()\n",
        "optimizer = torch.optim.SGD(model.parameters(), lr = 1e-3)"
      ],
      "metadata": {
        "id": "lx2N6dgfRNpP"
      },
      "execution_count": null,
      "outputs": []
    },
    {
      "cell_type": "code",
      "source": [
        "def train(dataloader, model, loss_fn, optimizer):\n",
        "  size = len(dataloader.dataset)\n",
        "  for batch, (X, y) in enumerate(dataloader):\n",
        "    X, y = X.to(device), y.to(device)\n",
        "\n",
        "    # 예측 오차 계산\n",
        "    pred = model(X)\n",
        "    loss = loss_fn(pred,y)\n",
        "\n",
        "    # 역전파\n",
        "    optimizer.zero_grad()\n",
        "    loss.backward()\n",
        "    optimizer.step()\n",
        "\n",
        "    if batch % 100 == 0:\n",
        "      loss, current = loss.item(), (batch + 1) * len(X)\n",
        "      print(f\"loss: {loss:>7f} [{current:>5d} / {size:>5d}]\")\n",
        "\n",
        "\n",
        "def test(dataloader, model, loss_fn):\n",
        "  size = len(dataloader.dataset)\n",
        "  num_batches = len(dataloader)\n",
        "  model.eval()\n",
        "  test_loss, correct = 0, 0\n",
        "  with torch.no_grad():\n",
        "    for X, y in dataloader:\n",
        "      X, y = X.to(device), y.to(device)\n",
        "      pred = model(X)\n",
        "      test_loss += loss_fn(pred, y).item()\n",
        "      correct += (pred.argmax(1) == y).type(torch.float).sum().item()\n",
        "\n",
        "  test_loss /= num_batches\n",
        "  correct /= size\n",
        "  print(f\"\\nTest Error: \\n Accuracy: {(100*correct):>0.1f}%, Avg loss: {test_loss:>8f} \\n\")"
      ],
      "metadata": {
        "id": "_Vnj_TirRoGi"
      },
      "execution_count": null,
      "outputs": []
    },
    {
      "cell_type": "code",
      "source": [
        "epochs = 5\n",
        "for t in range(epochs):\n",
        "  print(f\"Epoch {t+1}\\n-------------------------------\")\n",
        "  train(train_dataloader, model, loss_fn, optimizer)\n",
        "  test(test_dataloader, model, loss_fn)\n",
        "print(\"Done!\")"
      ],
      "metadata": {
        "colab": {
          "base_uri": "https://localhost:8080/"
        },
        "id": "PeBJ6qvGS9xO",
        "outputId": "4660c342-f020-4fde-c1ed-17b500eaafdd"
      },
      "execution_count": null,
      "outputs": [
        {
          "output_type": "stream",
          "name": "stdout",
          "text": [
            "Epoch 1\n",
            "-------------------------------\n",
            "loss: 1.862054 [   64 / 60000]\n",
            "loss: 1.837057 [ 6464 / 60000]\n",
            "loss: 1.703455 [12864 / 60000]\n",
            "loss: 1.759035 [19264 / 60000]\n",
            "loss: 1.638888 [25664 / 60000]\n",
            "loss: 1.595901 [32064 / 60000]\n",
            "loss: 1.620572 [38464 / 60000]\n",
            "loss: 1.516352 [44864 / 60000]\n",
            "loss: 1.548010 [51264 / 60000]\n",
            "loss: 1.455388 [57664 / 60000]\n",
            "\n",
            "Test Error: \n",
            " Accuracy: 61.0%, Avg loss: 1.461204 \n",
            "\n",
            "Epoch 2\n",
            "-------------------------------\n",
            "loss: 1.521329 [   64 / 60000]\n",
            "loss: 1.497179 [ 6464 / 60000]\n",
            "loss: 1.339967 [12864 / 60000]\n",
            "loss: 1.428584 [19264 / 60000]\n",
            "loss: 1.307949 [25664 / 60000]\n",
            "loss: 1.304637 [32064 / 60000]\n",
            "loss: 1.321797 [38464 / 60000]\n",
            "loss: 1.242207 [44864 / 60000]\n",
            "loss: 1.281370 [51264 / 60000]\n",
            "loss: 1.198958 [57664 / 60000]\n",
            "\n",
            "Test Error: \n",
            " Accuracy: 64.0%, Avg loss: 1.211687 \n",
            "\n",
            "Epoch 3\n",
            "-------------------------------\n",
            "loss: 1.276025 [   64 / 60000]\n",
            "loss: 1.268485 [ 6464 / 60000]\n",
            "loss: 1.099296 [12864 / 60000]\n",
            "loss: 1.220576 [19264 / 60000]\n",
            "loss: 1.097802 [25664 / 60000]\n",
            "loss: 1.116924 [32064 / 60000]\n",
            "loss: 1.140430 [38464 / 60000]\n",
            "loss: 1.073385 [44864 / 60000]\n",
            "loss: 1.114579 [51264 / 60000]\n",
            "loss: 1.046963 [57664 / 60000]\n",
            "\n",
            "Test Error: \n",
            " Accuracy: 65.2%, Avg loss: 1.056586 \n",
            "\n",
            "Epoch 4\n",
            "-------------------------------\n",
            "loss: 1.113477 [   64 / 60000]\n",
            "loss: 1.124835 [ 6464 / 60000]\n",
            "loss: 0.940501 [12864 / 60000]\n",
            "loss: 1.089058 [19264 / 60000]\n",
            "loss: 0.966630 [25664 / 60000]\n",
            "loss: 0.990545 [32064 / 60000]\n",
            "loss: 1.027722 [38464 / 60000]\n",
            "loss: 0.966948 [44864 / 60000]\n",
            "loss: 1.005909 [51264 / 60000]\n",
            "loss: 0.951538 [57664 / 60000]\n",
            "\n",
            "Test Error: \n",
            " Accuracy: 66.3%, Avg loss: 0.956354 \n",
            "\n",
            "Epoch 5\n",
            "-------------------------------\n",
            "loss: 1.001176 [   64 / 60000]\n",
            "loss: 1.032123 [ 6464 / 60000]\n",
            "loss: 0.832312 [12864 / 60000]\n",
            "loss: 1.001304 [19264 / 60000]\n",
            "loss: 0.883189 [25664 / 60000]\n",
            "loss: 0.902204 [32064 / 60000]\n",
            "loss: 0.954102 [38464 / 60000]\n",
            "loss: 0.898971 [44864 / 60000]\n",
            "loss: 0.931580 [51264 / 60000]\n",
            "loss: 0.887657 [57664 / 60000]\n",
            "\n",
            "Test Error: \n",
            " Accuracy: 67.6%, Avg loss: 0.888493 \n",
            "\n",
            "Done!\n"
          ]
        }
      ]
    },
    {
      "cell_type": "markdown",
      "source": [
        "## Saving Models\n",
        " <u>모델의 매개변수들을 포함</u>하여 내부 상태 사전(internal state dictionary)을 직렬화(serialize)"
      ],
      "metadata": {
        "id": "-ZNLx9dFU7wg"
      }
    },
    {
      "cell_type": "code",
      "source": [
        "torch.save(model.state_dict(), \"model.pth\")\n",
        "print(\"Saved PyTorch Model State to model.pth\")"
      ],
      "metadata": {
        "colab": {
          "base_uri": "https://localhost:8080/"
        },
        "id": "_LoQbKkZUkOB",
        "outputId": "c3f791d5-e439-447e-d2de-5a7335833cb7"
      },
      "execution_count": null,
      "outputs": [
        {
          "output_type": "stream",
          "name": "stdout",
          "text": [
            "Saved PyTorch Model State to model.pth\n"
          ]
        }
      ]
    },
    {
      "cell_type": "markdown",
      "source": [
        "## Loading Models\n",
        "모델 구조를 다시 만들고 상태 사전을 불러옴"
      ],
      "metadata": {
        "id": "-xPNoQ0cWC73"
      }
    },
    {
      "cell_type": "code",
      "source": [
        "model = NeuralNetwork().to(device)\n",
        "model.load_state_dict(torch.load(\"model.pth\"))"
      ],
      "metadata": {
        "colab": {
          "base_uri": "https://localhost:8080/"
        },
        "id": "tmy28Cg8V1_C",
        "outputId": "13019691-b32c-45ac-c819-0d788290c97c"
      },
      "execution_count": null,
      "outputs": [
        {
          "output_type": "execute_result",
          "data": {
            "text/plain": [
              "<All keys matched successfully>"
            ]
          },
          "metadata": {},
          "execution_count": 13
        }
      ]
    },
    {
      "cell_type": "code",
      "source": [
        "classes = [\n",
        "    \"T-shirt/top\",\n",
        "    \"Trouser\",\n",
        "    \"Pullover\",\n",
        "    \"Dress\",\n",
        "    \"Coat\",\n",
        "    \"Sandal\",\n",
        "    \"Shirt\",\n",
        "    \"Sneaker\",\n",
        "    \"Bag\",\n",
        "    \"Ankle boot\",\n",
        "]\n",
        "\n",
        "model.eval()\n",
        "x, y = test_data[0][0], test_data[0][1]\n",
        "with torch.no_grad():\n",
        "  x = x.to(device)\n",
        "  pred = model(x)\n",
        "  predicted, actual = classes[pred[0].argmax(0)], classes[y]\n",
        "  print(f'Predicted: \"{predicted}\", Actual: \"{actual}\"')"
      ],
      "metadata": {
        "colab": {
          "base_uri": "https://localhost:8080/"
        },
        "id": "--bHclmaWbgJ",
        "outputId": "8cf146ae-0978-4ad1-909e-ffe115046ed3"
      },
      "execution_count": null,
      "outputs": [
        {
          "output_type": "stream",
          "name": "stdout",
          "text": [
            "Predicted: \"Ankle boot\", Actual: \"Ankle boot\"\n"
          ]
        }
      ]
    },
    {
      "cell_type": "markdown",
      "source": [
        "# 1. Tensors"
      ],
      "metadata": {
        "id": "bz6NupuYXSNg"
      }
    },
    {
      "cell_type": "markdown",
      "source": [
        "- NumPy와 Tensor 차이\n",
        "  - NumPy : 일반적인 ML을 위해 사용됨\n",
        "  - Tensor : 무거운 행렬 연산에 최적화되어 GPU, TPU와 같은 가속기 메모리에서 사용 가능함"
      ],
      "metadata": {
        "id": "cY0q2VETHXYK"
      }
    },
    {
      "cell_type": "code",
      "source": [
        "import torch\n",
        "import numpy as np"
      ],
      "metadata": {
        "id": "YpoeKJXbXNrG"
      },
      "execution_count": null,
      "outputs": []
    },
    {
      "cell_type": "markdown",
      "source": [
        "## Initializing a Tensor"
      ],
      "metadata": {
        "id": "R5y8MxlhI8w5"
      }
    },
    {
      "cell_type": "code",
      "source": [
        "# 1. Directly from data\n",
        "data = [[1,2], [3,4]]\n",
        "x_data = torch.tensor(data)\n",
        "\n",
        "\n",
        "# 2. From a NumPy array\n",
        "np_array = np.array(data)\n",
        "x_np = torch.from_numpy(np_array)\n",
        "\n",
        "# 3. From another tensor\n",
        "# override 하지 않는다면 인자로 주어진 텐서의 속성(shape, datatype) 유지\n",
        "x_ones = torch.ones_like(x_data) # x_data : tensor\n",
        "print(f\"x_data: {x_data}\\nshape: {x_data.shape}\\ndatatype: {x_data.dtype}\\n\")\n",
        "print(f\"Ones Tensor: {x_ones}\\nshape: {x_ones.shape}\\ndatatype: {x_ones.dtype}\\n\")\n",
        "\n",
        "x_rand = torch.rand_like(x_data, dtype = torch.float)\n",
        "print(f\"Random Tensor: {x_rand}\\nshape: {x_rand.shape}\\ndatatype: {x_rand.dtype}\\n\")\n",
        "\n",
        "# 4. With random or constant values\n",
        "shape = (2,3,) # shape : 튜플\n",
        "rand_tensor = torch.rand(shape)\n",
        "ones_tensor = torch.ones(shape)\n",
        "zeros_tensor = torch.zeros(shape)\n",
        "\n",
        "print(f\"Random Tensor: {rand_tensor}\\n\")\n",
        "print(f\"Ones Tensor: {ones_tensor}\\n\")\n",
        "print(f\"Zeros Tensor: {zeros_tensor}\")"
      ],
      "metadata": {
        "colab": {
          "base_uri": "https://localhost:8080/"
        },
        "id": "_Zu1_nPBIcj7",
        "outputId": "461d36ac-14c5-4c9f-b197-9fe9b07f160a"
      },
      "execution_count": null,
      "outputs": [
        {
          "output_type": "stream",
          "name": "stdout",
          "text": [
            "x_data: tensor([[1, 2],\n",
            "        [3, 4]])\n",
            "shape: torch.Size([2, 2])\n",
            "datatype: torch.int64\n",
            "\n",
            "Ones Tensor: tensor([[1, 1],\n",
            "        [1, 1]])\n",
            "shape: torch.Size([2, 2])\n",
            "datatype: torch.int64\n",
            "\n",
            "Random Tensor: tensor([[0.9673, 0.2373],\n",
            "        [0.3187, 0.2378]])\n",
            "shape: torch.Size([2, 2])\n",
            "datatype: torch.float32\n",
            "\n",
            "Random Tensor: tensor([[0.0770, 0.0633, 0.0747],\n",
            "        [0.8927, 0.9347, 0.9897]])\n",
            "\n",
            "Ones Tensor: tensor([[1., 1., 1.],\n",
            "        [1., 1., 1.]])\n",
            "\n",
            "Zeros Tensor: tensor([[0., 0., 0.],\n",
            "        [0., 0., 0.]])\n"
          ]
        }
      ]
    },
    {
      "cell_type": "markdown",
      "source": [
        "## Attributes of a Tensor\n",
        "- shape  \n",
        "- datatype  \n",
        "- 저장된 device\n"
      ],
      "metadata": {
        "id": "ofJ5bOStMNbb"
      }
    },
    {
      "cell_type": "code",
      "source": [
        "tensor = torch.rand(3,4)\n",
        "\n",
        "print(f\"Shape of tensor: {tensor.shape}\")\n",
        "print(f\"Datatype of tensor: {tensor.dtype}\")\n",
        "print(f\"Device tensor is stored on: {tensor.device}\")"
      ],
      "metadata": {
        "colab": {
          "base_uri": "https://localhost:8080/"
        },
        "id": "cwmQunGEJiOZ",
        "outputId": "f485a70f-beab-4825-8938-4fbc4deaa5e0"
      },
      "execution_count": null,
      "outputs": [
        {
          "output_type": "stream",
          "name": "stdout",
          "text": [
            "Shape of tensor: torch.Size([3, 4])\n",
            "Datatype of tensor: torch.float32\n",
            "Device tensor is stored on: cpu\n"
          ]
        }
      ]
    },
    {
      "cell_type": "markdown",
      "source": [
        "## Operations on Tensors\n",
        "- arithmetic\n",
        "- linear algebra\n",
        "- matrix manipulation(transposing, indexing, slicing)\n",
        "- sampling  \n",
        "등의 연산 가능함"
      ],
      "metadata": {
        "id": "gYWkN3k9NC6c"
      }
    },
    {
      "cell_type": "code",
      "source": [
        "# tensor : 기본적으로 CPU에서 생성되는데 .to() 메소드를 통해 GPU로 이동 가능함\n",
        "if torch.cuda.is_available():\n",
        "  tensor = tensor.to(\"cuda\")"
      ],
      "metadata": {
        "id": "6GvquYWONAlv"
      },
      "execution_count": null,
      "outputs": []
    },
    {
      "cell_type": "markdown",
      "source": [
        "### Standard numpy-like indexing and slicing"
      ],
      "metadata": {
        "id": "6xqsrAdhO3IF"
      }
    },
    {
      "cell_type": "code",
      "source": [
        "tensor = torch.ones(4, 4)\n",
        "print(f\"First row: {tensor[0]}\") # 행\n",
        "print(f\"First column: {tensor[:, 0]}\") # 열\n",
        "print(f\"Last column: {tensor[..., -1]}\")\n",
        "\n",
        "tensor[:,1] = 0\n",
        "print(tensor)"
      ],
      "metadata": {
        "colab": {
          "base_uri": "https://localhost:8080/"
        },
        "id": "zDGBmharOGUQ",
        "outputId": "e4da524d-9278-4d6b-eb6c-70ff6cdb6b71"
      },
      "execution_count": null,
      "outputs": [
        {
          "output_type": "stream",
          "name": "stdout",
          "text": [
            "First row: tensor([1., 1., 1., 1.])\n",
            "First column: tensor([1., 1., 1., 1.])\n",
            "Last column: tensor([1., 1., 1., 1.])\n",
            "tensor([[1., 0., 1., 1.],\n",
            "        [1., 0., 1., 1.],\n",
            "        [1., 0., 1., 1.],\n",
            "        [1., 0., 1., 1.]])\n"
          ]
        }
      ]
    },
    {
      "cell_type": "markdown",
      "source": [
        "### Joining tensors\n",
        "- ```torch.cat``` : 주어진 차원에 따라 텐서 연결 (= list의 ```extend```)\n",
        "![image.png](data:image/png;base64,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)\n",
        "\n",
        "- ```torch.stack``` : 새로운 차원으로 텐서 연결 (= 주어진 텐서들을 새로운 차원으로 합친다)\n",
        "![image.png](data:image/png;base64,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)"
      ],
      "metadata": {
        "id": "SPgL0fbwO5qB"
      }
    },
    {
      "cell_type": "code",
      "source": [
        "t1 = torch.cat([tensor, tensor, tensor], dim = 1)\n",
        "print(t1)"
      ],
      "metadata": {
        "colab": {
          "base_uri": "https://localhost:8080/"
        },
        "id": "dyWkreznOv7F",
        "outputId": "a7064500-3935-4e25-db02-6417a0168554"
      },
      "execution_count": null,
      "outputs": [
        {
          "output_type": "stream",
          "name": "stdout",
          "text": [
            "tensor([[1., 0., 1., 1., 1., 0., 1., 1., 1., 0., 1., 1.],\n",
            "        [1., 0., 1., 1., 1., 0., 1., 1., 1., 0., 1., 1.],\n",
            "        [1., 0., 1., 1., 1., 0., 1., 1., 1., 0., 1., 1.],\n",
            "        [1., 0., 1., 1., 1., 0., 1., 1., 1., 0., 1., 1.]])\n"
          ]
        }
      ]
    },
    {
      "cell_type": "code",
      "source": [
        "# torch.cat과 torch.stack 차이\n",
        "t1 = torch.tensor([[1,2], [3,4]])\n",
        "t2 = torch.tensor([[5,6], [7,8]])\n",
        "\n",
        "print(f\"torch.cat(dim = 0):\\n {torch.cat((t1, t2), dim = 0)}\\n{torch.cat((t1, t2), dim = 0).shape}\\n\") # 행방향 연결\n",
        "print(f\"torch.cat(dim = 1):\\n {torch.cat((t1, t2), dim = 1)}\\n{torch.cat((t1, t2), dim = 1).shape}\\n\") # 열방향 연결\n",
        "print(f\"torch.stack:\\n {torch.stack((t1, t2))}\\n{torch.stack((t1, t2)).shape}\")"
      ],
      "metadata": {
        "colab": {
          "base_uri": "https://localhost:8080/"
        },
        "id": "B-A5BfbNPZ8B",
        "outputId": "6c154a05-cfcb-49ca-e10f-f46e03ee518b"
      },
      "execution_count": null,
      "outputs": [
        {
          "output_type": "stream",
          "name": "stdout",
          "text": [
            "torch.cat(dim = 0):\n",
            " tensor([[1, 2],\n",
            "        [3, 4],\n",
            "        [5, 6],\n",
            "        [7, 8]])\n",
            "torch.Size([4, 2])\n",
            "\n",
            "torch.cat(dim = 1):\n",
            " tensor([[1, 2, 5, 6],\n",
            "        [3, 4, 7, 8]])\n",
            "torch.Size([2, 4])\n",
            "\n",
            "torch.stack:\n",
            " tensor([[[1, 2],\n",
            "         [3, 4]],\n",
            "\n",
            "        [[5, 6],\n",
            "         [7, 8]]])\n",
            "torch.Size([2, 2, 2])\n"
          ]
        }
      ]
    },
    {
      "cell_type": "markdown",
      "source": [
        "### Arithmetic operations (산술 연산)"
      ],
      "metadata": {
        "id": "HnGg4GkERkN9"
      }
    },
    {
      "cell_type": "code",
      "source": [
        "# 행렬 곱 (matrix multiplication)\n",
        "y1 =  tensor @ tensor.T\n",
        "y2 = tensor.matmul(tensor.T)\n",
        "\n",
        "y3 = torch.rand_like(y1)\n",
        "torch.matmul(tensor, tensor.T, out = y3)\n",
        "\n",
        "print(f\"y1: {y1}\\ny2: {y2}\\ny3: {y3}\")\n",
        "print()\n",
        "\n",
        "# 요소별 곱 (element-wise product)\n",
        "z1 = tensor * tensor\n",
        "z2 = tensor.mul(tensor)\n",
        "\n",
        "z3 = torch.rand_like(tensor)\n",
        "torch.mul(tensor, tensor, out = z3)\n",
        "\n",
        "print(f\"z1: {z1}\\nz2: {z2}\\nz3: {z3}\")"
      ],
      "metadata": {
        "colab": {
          "base_uri": "https://localhost:8080/"
        },
        "id": "UVH-oES_P9Cv",
        "outputId": "8ecd232c-09d6-4416-dd43-556216a0cd63"
      },
      "execution_count": null,
      "outputs": [
        {
          "output_type": "stream",
          "name": "stdout",
          "text": [
            "y1: tensor([[3., 3., 3., 3.],\n",
            "        [3., 3., 3., 3.],\n",
            "        [3., 3., 3., 3.],\n",
            "        [3., 3., 3., 3.]])\n",
            "y2: tensor([[3., 3., 3., 3.],\n",
            "        [3., 3., 3., 3.],\n",
            "        [3., 3., 3., 3.],\n",
            "        [3., 3., 3., 3.]])\n",
            "y3: tensor([[3., 3., 3., 3.],\n",
            "        [3., 3., 3., 3.],\n",
            "        [3., 3., 3., 3.],\n",
            "        [3., 3., 3., 3.]])\n",
            "\n",
            "z1: tensor([[1., 0., 1., 1.],\n",
            "        [1., 0., 1., 1.],\n",
            "        [1., 0., 1., 1.],\n",
            "        [1., 0., 1., 1.]])\n",
            "z2: tensor([[1., 0., 1., 1.],\n",
            "        [1., 0., 1., 1.],\n",
            "        [1., 0., 1., 1.],\n",
            "        [1., 0., 1., 1.]])\n",
            "z3: tensor([[1., 0., 1., 1.],\n",
            "        [1., 0., 1., 1.],\n",
            "        [1., 0., 1., 1.],\n",
            "        [1., 0., 1., 1.]])\n"
          ]
        }
      ]
    },
    {
      "cell_type": "markdown",
      "source": [
        "### Single-element tensors\n",
        ": 텐서의 요소가 하나인 경우 ```item()```을 통해 Python 숫자 값으로 변환 가능"
      ],
      "metadata": {
        "id": "IqfTP9ZCSzlu"
      }
    },
    {
      "cell_type": "code",
      "source": [
        "agg = tensor.sum()\n",
        "agg_item = agg.item()\n",
        "print(f\"agg.item: {agg_item}\\tdatatype: {type(agg_item)}\")"
      ],
      "metadata": {
        "colab": {
          "base_uri": "https://localhost:8080/"
        },
        "id": "XNvflUxXSVF7",
        "outputId": "1e46eb37-0d06-48f7-83f9-87480975c637"
      },
      "execution_count": null,
      "outputs": [
        {
          "output_type": "stream",
          "name": "stdout",
          "text": [
            "Shape of agg: torch.Size([])\n",
            "agg.item: 12.0\tdatatype: <class 'float'>\n"
          ]
        }
      ]
    },
    {
      "cell_type": "markdown",
      "source": [
        "### In-place operations (바꿔치기 연산)\n",
        ": 연산 결과를 피연산자에게 저장하는 연산  \n",
        "```copy```, ```T```와 같은 연산 함수 뒤에 ```_```를 붙임"
      ],
      "metadata": {
        "id": "sw7ldgTSToXs"
      }
    },
    {
      "cell_type": "code",
      "source": [
        "print(f\"{tensor}\\n\")\n",
        "tensor.add_(5) # == tensor += 5\n",
        "print(tensor)"
      ],
      "metadata": {
        "colab": {
          "base_uri": "https://localhost:8080/"
        },
        "id": "ub84iZ_ETbrX",
        "outputId": "3fe8fce9-04fb-4b9a-9b25-3833913fd0cf"
      },
      "execution_count": null,
      "outputs": [
        {
          "output_type": "stream",
          "name": "stdout",
          "text": [
            "tensor([[1., 0., 1., 1.],\n",
            "        [1., 0., 1., 1.],\n",
            "        [1., 0., 1., 1.],\n",
            "        [1., 0., 1., 1.]])\n",
            "\n",
            "tensor([[6., 5., 6., 6.],\n",
            "        [6., 5., 6., 6.],\n",
            "        [6., 5., 6., 6.],\n",
            "        [6., 5., 6., 6.]])\n"
          ]
        }
      ]
    },
    {
      "cell_type": "markdown",
      "source": [
        "## Bridge with NumPy\n",
        "CPU에 있는 Tensor와 Numpy 배열은 메모리 공간을 공유하기 때문에 하나를 변경하면 다른 하나도 변경됨"
      ],
      "metadata": {
        "id": "lLC7md--Ua5J"
      }
    },
    {
      "cell_type": "code",
      "source": [
        "# Tensor ⇒ NumPy array\n",
        "t = torch.ones(5)\n",
        "print(f\"t: {t}\")\n",
        "n = t.numpy()\n",
        "print(f\"n: {n}\")\n",
        "\n",
        "print()\n",
        "t.add_(1)\n",
        "print(f\"t: {t}\")\n",
        "print(f\"n: {n}\")"
      ],
      "metadata": {
        "colab": {
          "base_uri": "https://localhost:8080/"
        },
        "id": "BOqWZYnbUOJV",
        "outputId": "7123c788-81b9-4566-ee57-03a56a436ff2"
      },
      "execution_count": null,
      "outputs": [
        {
          "output_type": "stream",
          "name": "stdout",
          "text": [
            "t: tensor([1., 1., 1., 1., 1.])\n",
            "n: [1. 1. 1. 1. 1.]\n",
            "\n",
            "t: tensor([2., 2., 2., 2., 2.])\n",
            "n: [2. 2. 2. 2. 2.]\n"
          ]
        }
      ]
    },
    {
      "cell_type": "code",
      "source": [
        "# NumPy array ⇒ Tensor\n",
        "n = np.ones(5)\n",
        "t = torch.from_numpy(n)\n",
        "print(f\"n: {n}\")\n",
        "print(f\"t: {t}\")\n",
        "\n",
        "print()\n",
        "np.add(n, 1, out = n)\n",
        "print(f\"n: {n}\")\n",
        "print(f\"t: {t}\")"
      ],
      "metadata": {
        "colab": {
          "base_uri": "https://localhost:8080/"
        },
        "id": "n8NBQbFFVNBV",
        "outputId": "dc29a5b3-8aad-4195-9ad6-2bdd9cad0abb"
      },
      "execution_count": null,
      "outputs": [
        {
          "output_type": "stream",
          "name": "stdout",
          "text": [
            "n: [1. 1. 1. 1. 1.]\n",
            "t: tensor([1., 1., 1., 1., 1.], dtype=torch.float64)\n",
            "\n",
            "n: [2. 2. 2. 2. 2.]\n",
            "t: tensor([2., 2., 2., 2., 2.], dtype=torch.float64)\n"
          ]
        }
      ]
    },
    {
      "cell_type": "markdown",
      "source": [
        "# 2. DATASETS & DATALOADERS\n",
        "[참고 사이트](https://velog.io/@idj7183/PyTorch2-DataSet-DataLoader-Transform)"
      ],
      "metadata": {
        "id": "OFmKaQWhVz2m"
      }
    },
    {
      "cell_type": "markdown",
      "source": [
        "- 가독성(readability)과 모듈성(modularity)을 위해 데이터셋 코드는 모델 학습 코드와 분리하는 것을 권장함\n",
        "\n",
        "  - ```torch.utils.data.Dataset``` : 샘플과 label 저장\n",
        "    - 모델에 전달할 데이터의 입력형태를 정의하는 클래스\n",
        "    - 하나의 샘플에 하나의 label을 지정함\n",
        "\n",
        "  - ```torch.utils.data.DataLoader``` : ```Dataset```을 샘플에 쉽게 접근할 수 있도록 순회 가능한 객체로 감싸는 역할\n",
        "    - ```Dataset```에서 처리한 Data의 Batch를 생성해주는 클래스  \n",
        "    모델을 학습할 때, 샘플들을 하나씩이 아닌 ***미니배치***로 전달하고, 매 에폭마다 데이터를 다시 섞어서 오버피팅을 막고, Python의 ```multiprocessing```을 사용하여 데이터 검색 속도를 높이고자 함  \n",
        "\n",
        "    ⇒ ```DataLoader``` : 간단한 API로 이러한 복잡한 과정들을 추상화한 순회 가능한 객체"
      ],
      "metadata": {
        "id": "qNOTxuU1XB9p"
      }
    },
    {
      "cell_type": "markdown",
      "source": [
        "## Loading a Dataset\n",
        "- ```root``` : 데이터가 저장되는 경로\n",
        "- ```train``` : 학습용 / 테스트용 여부 결정\n",
        "- ```download = True``` : ```root```에 데이터가 없는 경우 인터넷에서 다운로드함\n",
        "- ```transform```과 ```target_transform``` : feature와 label의 변형(transform) 지정함\n",
        "  - Data를 변형시키는 방법으로,\n",
        "    - image의 size 변경\n",
        "    - numpy를 torch 형식으로 변경  \n",
        " 등의 작업을 수행함"
      ],
      "metadata": {
        "id": "FSWGZZVXXuTQ"
      }
    },
    {
      "cell_type": "code",
      "source": [
        "# pre-loaded된 데이터셋 사용\n",
        "import torch\n",
        "from torch.utils.data import Dataset\n",
        "from torchvision import datasets\n",
        "from torchvision.transforms import ToTensor\n",
        "import matplotlib.pyplot as plt\n",
        "\n",
        "\n",
        "training_data = datasets.FashionMNIST(\n",
        "    root=\"data\",\n",
        "    train=True,\n",
        "    download=True,\n",
        "    transform=ToTensor()\n",
        ")\n",
        "\n",
        "test_data = datasets.FashionMNIST(\n",
        "    root=\"data\",\n",
        "    train=False,\n",
        "    download=True,\n",
        "    transform=ToTensor()\n",
        ")"
      ],
      "metadata": {
        "colab": {
          "base_uri": "https://localhost:8080/"
        },
        "id": "DyVJ4ZTJV9sB",
        "outputId": "32f2f89e-77d5-4c6c-a18d-dab5d7ac264c"
      },
      "execution_count": null,
      "outputs": [
        {
          "output_type": "stream",
          "name": "stdout",
          "text": [
            "Downloading http://fashion-mnist.s3-website.eu-central-1.amazonaws.com/train-images-idx3-ubyte.gz\n",
            "Downloading http://fashion-mnist.s3-website.eu-central-1.amazonaws.com/train-images-idx3-ubyte.gz to data/FashionMNIST/raw/train-images-idx3-ubyte.gz\n"
          ]
        },
        {
          "output_type": "stream",
          "name": "stderr",
          "text": [
            "100%|██████████| 26421880/26421880 [00:02<00:00, 12307926.74it/s]\n"
          ]
        },
        {
          "output_type": "stream",
          "name": "stdout",
          "text": [
            "Extracting data/FashionMNIST/raw/train-images-idx3-ubyte.gz to data/FashionMNIST/raw\n",
            "\n",
            "Downloading http://fashion-mnist.s3-website.eu-central-1.amazonaws.com/train-labels-idx1-ubyte.gz\n",
            "Downloading http://fashion-mnist.s3-website.eu-central-1.amazonaws.com/train-labels-idx1-ubyte.gz to data/FashionMNIST/raw/train-labels-idx1-ubyte.gz\n"
          ]
        },
        {
          "output_type": "stream",
          "name": "stderr",
          "text": [
            "100%|██████████| 29515/29515 [00:00<00:00, 213330.21it/s]\n"
          ]
        },
        {
          "output_type": "stream",
          "name": "stdout",
          "text": [
            "Extracting data/FashionMNIST/raw/train-labels-idx1-ubyte.gz to data/FashionMNIST/raw\n",
            "\n",
            "Downloading http://fashion-mnist.s3-website.eu-central-1.amazonaws.com/t10k-images-idx3-ubyte.gz\n",
            "Downloading http://fashion-mnist.s3-website.eu-central-1.amazonaws.com/t10k-images-idx3-ubyte.gz to data/FashionMNIST/raw/t10k-images-idx3-ubyte.gz\n"
          ]
        },
        {
          "output_type": "stream",
          "name": "stderr",
          "text": [
            "100%|██████████| 4422102/4422102 [00:01<00:00, 3955682.21it/s]\n"
          ]
        },
        {
          "output_type": "stream",
          "name": "stdout",
          "text": [
            "Extracting data/FashionMNIST/raw/t10k-images-idx3-ubyte.gz to data/FashionMNIST/raw\n",
            "\n",
            "Downloading http://fashion-mnist.s3-website.eu-central-1.amazonaws.com/t10k-labels-idx1-ubyte.gz\n",
            "Downloading http://fashion-mnist.s3-website.eu-central-1.amazonaws.com/t10k-labels-idx1-ubyte.gz to data/FashionMNIST/raw/t10k-labels-idx1-ubyte.gz\n"
          ]
        },
        {
          "output_type": "stream",
          "name": "stderr",
          "text": [
            "100%|██████████| 5148/5148 [00:00<00:00, 5288336.27it/s]"
          ]
        },
        {
          "output_type": "stream",
          "name": "stdout",
          "text": [
            "Extracting data/FashionMNIST/raw/t10k-labels-idx1-ubyte.gz to data/FashionMNIST/raw\n",
            "\n"
          ]
        },
        {
          "output_type": "stream",
          "name": "stderr",
          "text": [
            "\n"
          ]
        }
      ]
    },
    {
      "cell_type": "markdown",
      "source": [
        "## Iterating and Visualizing the Dataset\n",
        "```Dataset```에 list처럼 직접 접근(index) 가능함"
      ],
      "metadata": {
        "id": "xK9IIYCbZpM8"
      }
    },
    {
      "cell_type": "code",
      "source": [
        "labels_map = {\n",
        "    0: \"T-Shirt\",\n",
        "    1: \"Trouser\",\n",
        "    2: \"Pullover\",\n",
        "    3: \"Dress\",\n",
        "    4: \"Coat\",\n",
        "    5: \"Sandal\",\n",
        "    6: \"Shirt\",\n",
        "    7: \"Sneaker\",\n",
        "    8: \"Bag\",\n",
        "    9: \"Ankle Boot\",\n",
        "}\n",
        "\n",
        "figure = plt.figure(figsize=(8, 8))\n",
        "cols, rows = 3, 3\n",
        "for i in range(1, cols * rows + 1):\n",
        "    sample_idx = torch.randint(len(training_data), size=(1,)).item()\n",
        "    img, label = training_data[sample_idx]\n",
        "    figure.add_subplot(rows, cols, i)\n",
        "    plt.title(labels_map[label])\n",
        "    plt.axis(\"off\")\n",
        "    plt.imshow(img.squeeze(), cmap=\"gray\")\n",
        "plt.show()"
      ],
      "metadata": {
        "colab": {
          "base_uri": "https://localhost:8080/",
          "height": 675
        },
        "id": "RBukHdPWZmtI",
        "outputId": "70081aeb-2d98-4d70-f9fc-2748b43bcfb0"
      },
      "execution_count": null,
      "outputs": [
        {
          "output_type": "display_data",
          "data": {
            "text/plain": [
              "<Figure size 800x800 with 9 Axes>"
            ],
            "image/png": "[encoded data removed]"
          },
          "metadata": {}
        }
      ]
    },
    {
      "cell_type": "markdown",
      "source": [
        "## Creating a Custom Dataset for your files (사용자 정의 데이터셋 만들기)\n",
        "아래 3가지 함수 반드시 구현해야 함\n",
        "- ```__init__``` : ```Dataset``` 객체가 생성될 때 한 번만 실행되는 함수  \n",
        "- ```__len__``` : 데이터셋의 샘플 개수를 반환하는 함수  \n",
        "- ```__getitem__``` : 주어진 인덱스 ```idx```에 해당하는 샘플을 데이터셋에서 불러오고 반환하는 함수\n"
      ],
      "metadata": {
        "id": "IGlYEo4iZ-Gy"
      }
    },
    {
      "cell_type": "code",
      "source": [
        "import os\n",
        "import pandas as pd\n",
        "from torchvision.io import read_image\n",
        "\n",
        "class CustomImageDataset(Dataset):\n",
        "    def __init__(self, annotations_file, img_dir, transform=None, target_transform=None):\n",
        "        self.img_labels = pd.read_csv(annotations_file, names=['file_name', 'label'])\n",
        "        self.img_dir = img_dir\n",
        "        self.transform = transform\n",
        "        self.target_transform = target_transform\n",
        "\n",
        "    def __len__(self):\n",
        "        return len(self.img_labels)\n",
        "\n",
        "    def __getitem__(self, idx):\n",
        "        img_path = os.path.join(self.img_dir, self.img_labels.iloc[idx, 0]) # 디스크에서 이미지 위치 식별\n",
        "        image = read_image(img_path) # 이미지 → 텐서\n",
        "        label = self.img_labels.iloc[idx, 1] # 해당하는 정답 라벨\n",
        "        if self.transform:\n",
        "            image = self.transform(image)\n",
        "        if self.target_transform:\n",
        "            label = self.target_transform(label)\n",
        "        return image, label # 텐서 이미지와 라벨을 dict 형으로 반환"
      ],
      "metadata": {
        "id": "o1ckxwuYZ7GF"
      },
      "execution_count": null,
      "outputs": []
    },
    {
      "cell_type": "markdown",
      "source": [
        "## Preparing your data for training with ```DataLoaders```\n"
      ],
      "metadata": {
        "id": "PVf1YPi4bVKl"
      }
    },
    {
      "cell_type": "code",
      "source": [
        "from torch.utils.data import DataLoader\n",
        "\n",
        "train_dataloader = DataLoader(training_data, batch_size=64, shuffle=True)\n",
        "test_dataloader = DataLoader(test_data, batch_size=64, shuffle=True)"
      ],
      "metadata": {
        "id": "3CZayhwsbTNM"
      },
      "execution_count": null,
      "outputs": []
    },
    {
      "cell_type": "markdown",
      "source": [
        "## Iterating through the DataLoader  \n",
        "위에서 설정한 ```batch_size```대로 64개의 train_features와 train_labels 묶음을 반환함  \n",
        "```shuffle = True``` : 모든 배치를 순회한 뒤 데이터가 섞임"
      ],
      "metadata": {
        "id": "QAGRj10_cUxL"
      }
    },
    {
      "cell_type": "code",
      "source": [
        "train_features, train_labels = next(iter(train_dataloader))\n",
        "print(f\"Feature batch shape: {train_features.size()}\")\n",
        "print(f\"Labels batch shape: {train_labels.size()}\")\n",
        "img = train_features[0].squeeze()\n",
        "label = train_labels[0]\n",
        "plt.imshow(img, cmap=\"gray\")\n",
        "plt.show()\n",
        "print(f\"Label: {label}\")"
      ],
      "metadata": {
        "colab": {
          "base_uri": "https://localhost:8080/",
          "height": 482
        },
        "id": "nu5MCy80cTu7",
        "outputId": "eac2ba9a-9e0d-4297-fdf1-3998faed3f82"
      },
      "execution_count": null,
      "outputs": [
        {
          "output_type": "stream",
          "name": "stdout",
          "text": [
            "Feature batch shape: torch.Size([64, 1, 28, 28])\n",
            "Labels batch shape: torch.Size([64])\n"
          ]
        },
        {
          "output_type": "display_data",
          "data": {
            "text/plain": [
              "<Figure size 640x480 with 1 Axes>"
            ],
            "image/png": "[encoded data removed]"
          },
          "metadata": {}
        },
        {
          "output_type": "stream",
          "name": "stdout",
          "text": [
            "Label: 2\n"
          ]
        }
      ]
    },
    {
      "cell_type": "markdown",
      "source": [
        "# 3. TRANSFORMS"
      ],
      "metadata": {
        "id": "hj4MtghFdTDx"
      }
    },
    {
      "cell_type": "markdown",
      "source": [
        "<u>변형</u>을 통해 데이터를 조작하고 <u>학습에 적합하게</u> 만듦  \n",
        "예) 샘플들이 다 같은 사이즈가 아닌 경우\n",
        "  - Rescale: 이미지의 크기 조절\n",
        "  - RandomCrop : 이미지를 무작위로 자름\n",
        "  - ToTensor : 축변환으로 numpy 이미지 → torch 이미지\n",
        "  ***\n",
        "\n",
        "  Fashion MNIST\n",
        "  - feature : PIL Image → normalize된 텐서\n",
        "    - ```ToTensor```\n",
        "      - PIL Image, NumPy ndarray → FloatTensor 변환   \n",
        "      - 이미지 픽셀의 크기(intensity) 값을 [0., 1.] 범위로 비례하여 scale\n",
        "\n",
        "  - label : 정수 → one-hot encoding된 텐서\n",
        "    - ```Lambda``` transform\n",
        "    0. 클래스 개수(10개)만큼 zero tensor 만들기\n",
        "    1. ```scatter_```로 주어진 label y에 해당하는 인덱스는 1로 변경하기\n",
        "      - ```scatter``` : 파라미터로 주어진 인덱스(torch.tensor(y))에 맞게 기존 값(0)을 주어진 value(1)로 바꿈"
      ],
      "metadata": {
        "id": "Cf2iJjrndag9"
      }
    },
    {
      "cell_type": "code",
      "source": [
        "import torch\n",
        "from torchvision import datasets\n",
        "from torchvision.transforms import ToTensor, Lambda\n",
        "\n",
        "ds = datasets.FashionMNIST(\n",
        "    root=\"data\",\n",
        "    train=True,\n",
        "    download=True,\n",
        "    transform=ToTensor(), # feature transform\n",
        "    target_transform=Lambda(lambda y: torch.zeros(10, dtype=torch.float).scatter_(0, torch.tensor(y), value=1)) # label transform\n",
        ")"
      ],
      "metadata": {
        "id": "prR9SLogc43H"
      },
      "execution_count": null,
      "outputs": []
    },
    {
      "cell_type": "markdown",
      "source": [
        "# 4. BUILD THE NEURAL NETWORK"
      ],
      "metadata": {
        "id": "1SKSiwbygKYu"
      }
    },
    {
      "cell_type": "markdown",
      "source": [
        "- ```torch.nn``` : 신경망을 구성하는 데 필요한 모든 구성 요소 제공\n",
        "- ```torch.nn.Module``` : 모든 PyTorch 모듈(layer)의 상위 클래스\n"
      ],
      "metadata": {
        "id": "0H5gHrtIhalI"
      }
    },
    {
      "cell_type": "code",
      "source": [
        "import os\n",
        "import torch\n",
        "from torch import nn\n",
        "from torch.utils.data import DataLoader\n",
        "from torchvision import datasets, transforms"
      ],
      "metadata": {
        "id": "5uWsFEZaekuN"
      },
      "execution_count": null,
      "outputs": []
    },
    {
      "cell_type": "markdown",
      "source": [
        "## Get Device for Training"
      ],
      "metadata": {
        "id": "3FERDkWShwJ7"
      }
    },
    {
      "cell_type": "code",
      "source": [
        "device = (\n",
        "    \"cuda\"\n",
        "    if torch.cuda.is_available()\n",
        "    else \"mps\"\n",
        "    if torch.backends.mps.is_available()\n",
        "    else \"cpu\"\n",
        ")\n",
        "print(f\"Using {device} device\")"
      ],
      "metadata": {
        "colab": {
          "base_uri": "https://localhost:8080/"
        },
        "id": "ALHIFLQlhvER",
        "outputId": "fe4ee74b-5179-4c6a-cc35-f30f33744062"
      },
      "execution_count": null,
      "outputs": [
        {
          "output_type": "stream",
          "name": "stdout",
          "text": [
            "Using cpu device\n"
          ]
        }
      ]
    },
    {
      "cell_type": "markdown",
      "source": [
        "## Define the Class\n",
        "0. 신경망 모델을 ```nn.Module```의 하위클래스로 정의하기\n",
        "1. ```__init__```에서 layer들 초기화하기\n",
        "2. ```forward``` 메소드에 입력 데이터에 대한 연산 구현하기  \n",
        "  *```forward```함수는 직접 호출하면 안됨*\n",
        "3. ```NerualNetwork```의 인스턴스 생성하고 ```device```로 이동하기"
      ],
      "metadata": {
        "id": "Vi8w8lYQh2ZN"
      }
    },
    {
      "cell_type": "code",
      "source": [
        "class NeuralNetwork(nn.Module):\n",
        "    def __init__(self):\n",
        "        super().__init__()\n",
        "        self.flatten = nn.Flatten()\n",
        "        self.linear_relu_stack = nn.Sequential(\n",
        "            nn.Linear(28*28, 512),\n",
        "            nn.ReLU(),\n",
        "            nn.Linear(512, 512),\n",
        "            nn.ReLU(),\n",
        "            nn.Linear(512, 10),\n",
        "        )\n",
        "\n",
        "    def forward(self, x): # nn.Module을 상속받은 모든 클래스는 forward 함수가 필요함\n",
        "        x = self.flatten(x)\n",
        "        logits = self.linear_relu_stack(x)\n",
        "        return logits\n",
        "\n",
        "\n",
        "model = NeuralNetwork().to(device)\n",
        "print(model)"
      ],
      "metadata": {
        "colab": {
          "base_uri": "https://localhost:8080/"
        },
        "id": "P4ZXJRULh0lu",
        "outputId": "e70c84c2-3167-4a9f-9ea3-db78976e8304"
      },
      "execution_count": null,
      "outputs": [
        {
          "output_type": "stream",
          "name": "stdout",
          "text": [
            "NeuralNetwork(\n",
            "  (flatten): Flatten(start_dim=1, end_dim=-1)\n",
            "  (linear_relu_stack): Sequential(\n",
            "    (0): Linear(in_features=784, out_features=512, bias=True)\n",
            "    (1): ReLU()\n",
            "    (2): Linear(in_features=512, out_features=512, bias=True)\n",
            "    (3): ReLU()\n",
            "    (4): Linear(in_features=512, out_features=10, bias=True)\n",
            "  )\n",
            ")\n"
          ]
        }
      ]
    },
    {
      "cell_type": "code",
      "source": [
        "X = torch.rand(1, 28, 28, device=device)\n",
        "logits = model(X) # 모델에 입력 데이터 전달 → 백그라운드 연산과 함께 forward 함수 실행\n",
        "# logits ⇒ dim = 0: 실제 정답 label 값 / dim = 1: 예측 label 값\n",
        "print(f\"model returns:\\n{logits}\\n\")\n",
        "\n",
        "pred_probab = nn.Softmax(dim=1)(logits) # 예측 확률 얻기\n",
        "print(f\"predicted probability:\\n{pred_probab}\\n\")\n",
        "\n",
        "y_pred = pred_probab.argmax(1)\n",
        "print(f\"Predicted class: {y_pred}\")"
      ],
      "metadata": {
        "colab": {
          "base_uri": "https://localhost:8080/"
        },
        "id": "j0iJRQjHi0HN",
        "outputId": "e99ff931-49ed-42d5-e956-eae277b0c4e7"
      },
      "execution_count": null,
      "outputs": [
        {
          "output_type": "stream",
          "name": "stdout",
          "text": [
            "model returns:\n",
            "tensor([[ 0.0525,  0.0837, -0.1044,  0.0263, -0.0156,  0.0303, -0.0312,  0.0301,\n",
            "          0.0394, -0.0099]], grad_fn=<AddmmBackward0>)\n",
            "\n",
            "predicted probability:\n",
            "tensor([[0.1042, 0.1075, 0.0891, 0.1015, 0.0973, 0.1019, 0.0958, 0.1019, 0.1028,\n",
            "         0.0979]], grad_fn=<SoftmaxBackward0>)\n",
            "\n",
            "Predicted class: tensor([1])\n"
          ]
        }
      ]
    },
    {
      "cell_type": "markdown",
      "source": [
        "## Model Layers\n"
      ],
      "metadata": {
        "id": "TXNDcRgCkVht"
      }
    },
    {
      "cell_type": "code",
      "source": [
        "input_image = torch.rand(3,28,28) # 28x28 크기의 이미지 3개로 구성된 미니배치\n",
        "print(input_image.size())"
      ],
      "metadata": {
        "colab": {
          "base_uri": "https://localhost:8080/"
        },
        "id": "u-pxhOKGj53P",
        "outputId": "e7105015-83fd-49b2-e4fd-0e51eb92ec10"
      },
      "execution_count": null,
      "outputs": [
        {
          "output_type": "stream",
          "name": "stdout",
          "text": [
            "torch.Size([3, 28, 28])\n"
          ]
        }
      ]
    },
    {
      "cell_type": "markdown",
      "source": [
        "### ```nn.Flatten```\n",
        "dim = 0의 미니배치 차원은 유지하면서 2D 이미지를 28*28개의 픽셀값을 갖는 연속된 배열로 변환하는 층"
      ],
      "metadata": {
        "id": "YFqDmJfskh4l"
      }
    },
    {
      "cell_type": "code",
      "source": [
        "flatten = nn.Flatten()\n",
        "flat_image = flatten(input_image)\n",
        "print(flat_image.size())"
      ],
      "metadata": {
        "colab": {
          "base_uri": "https://localhost:8080/"
        },
        "id": "QqwBOBP9kgfL",
        "outputId": "20b265e7-55dc-41ee-cbcb-fc1a610d8e8e"
      },
      "execution_count": null,
      "outputs": [
        {
          "output_type": "stream",
          "name": "stdout",
          "text": [
            "torch.Size([3, 784])\n"
          ]
        }
      ]
    },
    {
      "cell_type": "markdown",
      "source": [
        "### ```nn.Linear```\n",
        "저장된 weight와 bias를 사용하여 입력에 선형 변환을 적용하는 층"
      ],
      "metadata": {
        "id": "aDpHC-awk2nF"
      }
    },
    {
      "cell_type": "code",
      "source": [
        "layer1 = nn.Linear(in_features=28*28, out_features=20)\n",
        "hidden1 = layer1(flat_image)\n",
        "print(hidden1.size())"
      ],
      "metadata": {
        "colab": {
          "base_uri": "https://localhost:8080/"
        },
        "id": "TuUYpEVMk18i",
        "outputId": "89e4ca7a-fb56-4f58-b163-5a81a789eb28"
      },
      "execution_count": null,
      "outputs": [
        {
          "output_type": "stream",
          "name": "stdout",
          "text": [
            "torch.Size([3, 20])\n"
          ]
        }
      ]
    },
    {
      "cell_type": "markdown",
      "source": [
        "### ```nn.ReLU```\n",
        "선형 변환된 입력에 비선형성을 더해주는 활성화 함수 층\n",
        "![image.png](data:image/png;base64,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)"
      ],
      "metadata": {
        "id": "LAVrWUJ4lDUT"
      }
    },
    {
      "cell_type": "code",
      "source": [
        "print(f\"Before ReLU: {hidden1}\\n\\n\")\n",
        "hidden1 = nn.ReLU()(hidden1)\n",
        "print(f\"After ReLU: {hidden1}\")"
      ],
      "metadata": {
        "colab": {
          "base_uri": "https://localhost:8080/"
        },
        "id": "NchpPBiqlBrq",
        "outputId": "4a781eba-5526-4449-d170-45ec96bff5b3"
      },
      "execution_count": null,
      "outputs": [
        {
          "output_type": "stream",
          "name": "stdout",
          "text": [
            "Before ReLU: tensor([[ 0.1198,  0.3118,  0.6347, -0.0439, -0.0342,  0.8635,  0.0227,  0.0480,\n",
            "         -0.4264, -0.3854, -0.1006,  0.2797, -0.0556,  0.2937, -0.3904, -0.4081,\n",
            "          0.0269,  0.1187, -0.0872,  0.2706],\n",
            "        [-0.1637,  0.4484,  0.0932,  0.0136, -0.1803,  0.3373,  0.2526,  0.5075,\n",
            "         -0.0389, -0.0885, -0.0983,  0.2453, -0.2813, -0.3531,  0.1489, -0.4932,\n",
            "          0.0815,  0.1267, -0.3530,  0.2324],\n",
            "        [ 0.0161,  0.0358,  0.1261, -0.2642, -0.4071,  0.3056,  0.1434,  0.4104,\n",
            "         -0.5709, -0.4637, -0.3689, -0.0671, -0.4682, -0.0364, -0.0329, -0.0924,\n",
            "         -0.0699, -0.0196, -0.0652,  0.2023]], grad_fn=<AddmmBackward0>)\n",
            "\n",
            "\n",
            "After ReLU: tensor([[0.1198, 0.3118, 0.6347, 0.0000, 0.0000, 0.8635, 0.0227, 0.0480, 0.0000,\n",
            "         0.0000, 0.0000, 0.2797, 0.0000, 0.2937, 0.0000, 0.0000, 0.0269, 0.1187,\n",
            "         0.0000, 0.2706],\n",
            "        [0.0000, 0.4484, 0.0932, 0.0136, 0.0000, 0.3373, 0.2526, 0.5075, 0.0000,\n",
            "         0.0000, 0.0000, 0.2453, 0.0000, 0.0000, 0.1489, 0.0000, 0.0815, 0.1267,\n",
            "         0.0000, 0.2324],\n",
            "        [0.0161, 0.0358, 0.1261, 0.0000, 0.0000, 0.3056, 0.1434, 0.4104, 0.0000,\n",
            "         0.0000, 0.0000, 0.0000, 0.0000, 0.0000, 0.0000, 0.0000, 0.0000, 0.0000,\n",
            "         0.0000, 0.2023]], grad_fn=<ReluBackward0>)\n"
          ]
        }
      ]
    },
    {
      "cell_type": "markdown",
      "source": [
        "### ```nn.Sequential```\n",
        "순서를 갖는 컨테이너로, 정의된 layer 순서대로 데이터가 layer에 전달됨  \n",
        "+) 신경망을 더 빠르게 만들 수 있음"
      ],
      "metadata": {
        "id": "yPj_zmiwlXF4"
      }
    },
    {
      "cell_type": "code",
      "source": [
        "seq_modules = nn.Sequential(\n",
        "    flatten,\n",
        "    layer1,\n",
        "    nn.ReLU(),\n",
        "    nn.Linear(20, 10)\n",
        ")\n",
        "input_image = torch.rand(3,28,28)\n",
        "logits = seq_modules(input_image)"
      ],
      "metadata": {
        "id": "wlXJE4NwlOtZ"
      },
      "execution_count": null,
      "outputs": []
    },
    {
      "cell_type": "markdown",
      "source": [
        "### ```nn.Softmax```\n",
        "= 각 클래스일 확률   \n",
        "[logit, sigmoid, softmax](https://velog.io/@guide333/logit-%ED%99%95%EB%A5%A0-sigmoid-softmax)   \n",
        "마지막 선형층에서 반환되는 logits([-∞, ∞])와 같은 Shape의 텐서를 반환하는데 이때 모든 값은 [0, 1] 범위에 있음  \n",
        "텐서의 총합 = 1"
      ],
      "metadata": {
        "id": "xvTqb5balyDp"
      }
    },
    {
      "cell_type": "markdown",
      "source": [
        "## Model Parameters\n",
        "- ```torch.nn.Module.parameters``` :  모델의 각 층마다의 파라미터 값을 추출하는 함수\n",
        "- ```torch.nn.Module.named_parameters``` :  모델의 각 층의 명칭과 파라미터 값을 추출하는 함수"
      ],
      "metadata": {
        "id": "_I-7ln2HnH45"
      }
    },
    {
      "cell_type": "code",
      "source": [
        "for param in model.parameters():\n",
        "    print(f\"Size: {param.size()} | Values : {param[:2]} \\n\")"
      ],
      "metadata": {
        "colab": {
          "base_uri": "https://localhost:8080/"
        },
        "id": "budaQFxdoOMl",
        "outputId": "7d5a8105-12dd-4c08-ee7b-fc5abef6fb18"
      },
      "execution_count": null,
      "outputs": [
        {
          "output_type": "stream",
          "name": "stdout",
          "text": [
            "Size: torch.Size([512, 784]) | Values : tensor([[-0.0183, -0.0198,  0.0002,  ..., -0.0278, -0.0214,  0.0319],\n",
            "        [-0.0065,  0.0294,  0.0018,  ..., -0.0219, -0.0167, -0.0237]],\n",
            "       grad_fn=<SliceBackward0>) \n",
            "\n",
            "Size: torch.Size([512]) | Values : tensor([-0.0242,  0.0210], grad_fn=<SliceBackward0>) \n",
            "\n",
            "Size: torch.Size([512, 512]) | Values : tensor([[-0.0436,  0.0342,  0.0192,  ...,  0.0088, -0.0330, -0.0379],\n",
            "        [-0.0317,  0.0386, -0.0156,  ..., -0.0103,  0.0222, -0.0311]],\n",
            "       grad_fn=<SliceBackward0>) \n",
            "\n",
            "Size: torch.Size([512]) | Values : tensor([0.0013, 0.0358], grad_fn=<SliceBackward0>) \n",
            "\n",
            "Size: torch.Size([10, 512]) | Values : tensor([[-0.0158,  0.0333,  0.0331,  ...,  0.0244, -0.0433,  0.0404],\n",
            "        [ 0.0173,  0.0054, -0.0077,  ..., -0.0167, -0.0052, -0.0142]],\n",
            "       grad_fn=<SliceBackward0>) \n",
            "\n",
            "Size: torch.Size([10]) | Values : tensor([0.0180, 0.0342], grad_fn=<SliceBackward0>) \n",
            "\n"
          ]
        }
      ]
    },
    {
      "cell_type": "code",
      "source": [
        "print(f\"Model structure: {model}\\n\\n\")\n",
        "\n",
        "for name, param in model.named_parameters():\n",
        "    print(f\"Layer: {name} | Size: {param.size()} | Values : {param[:2]} \\n\")"
      ],
      "metadata": {
        "colab": {
          "base_uri": "https://localhost:8080/"
        },
        "id": "uiH-Bs9tlxOB",
        "outputId": "a76268b1-aca5-464c-ea66-fd439d88837a"
      },
      "execution_count": null,
      "outputs": [
        {
          "output_type": "stream",
          "name": "stdout",
          "text": [
            "Model structure: NeuralNetwork(\n",
            "  (flatten): Flatten(start_dim=1, end_dim=-1)\n",
            "  (linear_relu_stack): Sequential(\n",
            "    (0): Linear(in_features=784, out_features=512, bias=True)\n",
            "    (1): ReLU()\n",
            "    (2): Linear(in_features=512, out_features=512, bias=True)\n",
            "    (3): ReLU()\n",
            "    (4): Linear(in_features=512, out_features=10, bias=True)\n",
            "  )\n",
            ")\n",
            "\n",
            "\n",
            "Layer: linear_relu_stack.0.weight | Size: torch.Size([512, 784]) | Values : tensor([[-0.0183, -0.0198,  0.0002,  ..., -0.0278, -0.0214,  0.0319],\n",
            "        [-0.0065,  0.0294,  0.0018,  ..., -0.0219, -0.0167, -0.0237]],\n",
            "       grad_fn=<SliceBackward0>) \n",
            "\n",
            "Layer: linear_relu_stack.0.bias | Size: torch.Size([512]) | Values : tensor([-0.0242,  0.0210], grad_fn=<SliceBackward0>) \n",
            "\n",
            "Layer: linear_relu_stack.2.weight | Size: torch.Size([512, 512]) | Values : tensor([[-0.0436,  0.0342,  0.0192,  ...,  0.0088, -0.0330, -0.0379],\n",
            "        [-0.0317,  0.0386, -0.0156,  ..., -0.0103,  0.0222, -0.0311]],\n",
            "       grad_fn=<SliceBackward0>) \n",
            "\n",
            "Layer: linear_relu_stack.2.bias | Size: torch.Size([512]) | Values : tensor([0.0013, 0.0358], grad_fn=<SliceBackward0>) \n",
            "\n",
            "Layer: linear_relu_stack.4.weight | Size: torch.Size([10, 512]) | Values : tensor([[-0.0158,  0.0333,  0.0331,  ...,  0.0244, -0.0433,  0.0404],\n",
            "        [ 0.0173,  0.0054, -0.0077,  ..., -0.0167, -0.0052, -0.0142]],\n",
            "       grad_fn=<SliceBackward0>) \n",
            "\n",
            "Layer: linear_relu_stack.4.bias | Size: torch.Size([10]) | Values : tensor([0.0180, 0.0342], grad_fn=<SliceBackward0>) \n",
            "\n"
          ]
        }
      ]
    },
    {
      "cell_type": "markdown",
      "source": [
        "# 5. AUTOMATIC DIFFERENTIATION WITH ```TORCH.AUTOGRAD```"
      ],
      "metadata": {
        "id": "v_1TAC-Poco1"
      }
    },
    {
      "cell_type": "markdown",
      "source": [
        "## Tensors, Functions and Computational graph\n",
        "***backpropagation*** : 손실 함수의 변화도(기울기; gradient)에 따라 파라미터(가중치)가 업데이트 됨  \n",
        "+) PyTorch에는 기울기 계산하는 자동 미분 엔진 ```torch.autograd``` 내장되어 있음\n",
        "***\n",
        "```w, b``` : 최적화해야 할 파라미터 ⇒ ```requires_grad = True```  \n",
        "\n",
        "![image.png](data:image/png;base64,iVBORw0KGgoAAAANSUhEUgAAAZAAAAEYCAIAAAD9PjcuAAAgAElEQVR4Aex9BVRU2/f/DDl0d0mH0impoIgoqCAimCioKCggLQiIIN3d3TNDh4it2N2iICLSnRL3v869wzyeT3m++j7f74+L9dY8mLvvOfvs8zn77ERBy/+WObDMgWUO/Ec4gPqPjHN5mMscWObAMgegZcBaFoJlDixz4D/DgWXA+s8s1fJAlzmwzAGUtrqUkpwwDzczNRUFNYaChgbzvR8qDCUKhWJlpttlppOf6vj6btxsXxk0Ww9N1by+Fxfst2ezgZIAHxsFBTklBfn3iNDQYDCUFCgUioeLxfXEtuYLwX3vs+cHsIDOZFVzY/Ch/frSUgKsLPQYSgqqJcdDQUGOQqHEhLkSwg/1vM0CRAZxgM5EZVWRp662NDMjLS0tFRWGkpqaconxkJGRoFAoRTnh+rLT0Jda6EsdoDPXAI2Up0Tb8vGwolAoDOVSnKGmBq+gpaXiYGfcaaJx71IoNFMHfamdH8DO9Ze1Pk7yctnOykKPQqGoMEuNBJ4yJScHk4qCqKeT6dv7CQidmb7Sz68yGst9rSx1GeipUSjU0jOiICenwlBKiHLvNNVIibbtep2J0BnvLHxwJSwp8ojhenlqagwajV6CLTQ0GDJSEmpqjLqKxCkn0/oy75H2fITOQGtOVaGny/GtygoiGAwFGRnJEnSoqSlRaBQdHfXWTaoZscee3Iic6ipB6Hx8lhIbYmNirCYixImhpKBYUmwQ8WNhorM9aHClxr/7TeZsfxlC52lzlNMxY0VZIXZWRgwlxdKLtSB+zOdO7+54kTrXj50fwAE607VXa84ab1RhY6H/EbFBxE9EmKsgzQmaqAKCB8SvDpqqKct2kRLnQ6FQFORkS3OGCgPEhpWZzlBfsanCD5qqASMZxM0NYDtfZYT67+PnZftd8cNgwJTZWenlZASPH9r06GoENF0LzdTN9WN73mZdqws8fngzG+vvix8lBTklJYXQCo6tm1Wjzh1ofZyE0PnSU/KsOSo74bip8WpGBhoU+nfEj4yMDENJoSgr5HTMGJ/v1tuSjdAZ7ShoxPt4u5hpqknR0mJISZcSGxoa8AUqDKXheoXocwexua5laadQKBRKQVZIWV5EXVVcS11KS2OltrrU93401SSV5UXWr5H1dtlRX+b94UkyAKzpWmii6sPT5OzE445HjYw2Kq9WkVBXkfgeEW11KQ1VSUVZYcP1irEh1k9vRg99yANYM10LjVc+vREd6L3bwlRz/VpZDVVJTTXJJeisVpFQkBUyNVIry3YZbM0lANZ0LTRWcbXurO1BAz1tGR2NlZpqklqrl6KjpiwmJy24x3xN8/kgaKoaCM0gDsDWSDk+z23zBiU5aUEN1aUoaK0Gr9DRWLlBT87TyfTF7RhougaaqkYAq/NVemLE4fVrZRVkhZaeETJlAz35/Ra68WGH2p+lInRm+0r73mXfbgrx89i5RnOVopzw0jNarSKhqSa5fctqz5Om+Dy3/vc5CJ3JruJXd2NxuW4njmzSWi2loiC6BHu11aXUlMS0Vksd3KOXEHao+fy58U+FCJ3h9ryrtWdjgg/us1iroSappiy2BB2t1ZLKCiI6mquc7bdWFni8fZDwpacUodP1OqM409nVYavJZlUNVcnVS4qNppqkopzwOh3ZIN89D66EDbTmAMCC+dzyMDEy8MCeHTr6unIaqpJLL5aGqqSCjJDheoWsBPvut5kEwJqugSarH1wJP3lsi/5a2R8Rm9UqEnLSgiZGag3Y09BYJRDgQRwYz0RVU4Xfjq0actKCq1XEl+aMphoQm/VrZE/Ybr57MQQA3zQQv7kBbO+77Nxkh80GygoyQr8zIzUwZX1d2V07tMP89725Gw9NVkPTNXP92MHW3IfXIsLO7tfXlVWUFV5a/NRVJNRVJbduUnE+vrUw3bHzVTpCZ6a39N3DxOriU24O29ZqSSsriCwtfmrK4hqqknt26EQGHrhc7T/YlofQGe8sun0hOCniiM3e9ToaUqpKS4mNtjr4gqaa5IkjmwrTHJuqfJvK/AFgsbHSqyiI+HnsrMSersT5VBZ6fv/HA5/nVlPidfdS6MfnqaMdBQAjRiugkfLRjoI39+Kbzwc1YE9XFHhUFHh8n4hnRYEHLtetrsz7WXN0f2vOdE8JWOnRCmi4vL815+HV8KYKv5oSL5jI79JxbcT7vH+UONUNEyHQwX9+nXG9LqC6+FRVkWdloQf88915lee7Y3NcL1Wd6X6TCY2UQyMVhPEM4VsfJ9WXncbmuC49I+QVVUWetaVedy6GDLblImyBBnHzA9jxzsIXt2NqSrxwua5LjwSZcl2p9+Vq/+e3osc6ChA68wPYya7inrdZ9y+HVRV54nLdfoROI973zsWQ1sdJU13FCJ3ZvrKhD7mtj5NuNpyrLPTE57kvsUyVhZ7l+eALV2rOPr8V3f0mc6a3FKHzpafk86uMZzejLlX7VxR6IF/7PikgNlVFnrcag9ueJA+35831E8RmorPo3cPE203B53E+vys2lYVAbGqKvR5di+h9lz3VVUwUv+H2/Kc3oi5VnamFxWbpxQLil+NaV+b9+l7cxOcioF4hYjNS3vcuu7kxqLbE60fEpqLAA5vjeh7v8/F5KjRcDjizQOfTy7QL5b6w2CzNYSCZVUWeNSVeN8+f63mbBcQPpjM/iJvsKn57P74eexr3e+JXUQh2XG2J18XKM4+vRw59yEPozA/gprpL+t5lP74eWQvE7/fFpqLA4zzO59aF4JYHCeOdhQiduX7sSHv+h6cpt5uCq4tP4fN+h055vntFgcelqjNPb0R1vkqf7i5B6Mz0lfW8zXxxO+Zq7dmqIoJ0fV9sPMsBjHjcaAh8ez/h4/OUT8+SAWAx0FPr6Ug34n0g6AIENQH94nd+qqHxSjCCITxYIWS9h/CA0RNVAEp/53GYPnyggXNpGP8rOsN4QBwQ+SN0RisIRIjjGSkHg/lBIlM14FibrAKTGoTFl0hntAI5HH5oUmDi1dB4FZgUkc4gDoxtrBL8CagDP/JTDQY/VvnLpBAiw+WAOT8+qUl4MIuZM4gDY0NW6odGAo8WGQxY8QXmDOEAr8YqYSb/yIwWOAOOpUXMQcRm/IfFhsDhSgAQiPghfB6GOfxXxIZA50+ITTVBbJCNgPx3pPwPi81EFZjUV2Lzx8SvGrwU2VNEOkN4QPYPid/3xGakAsj2HxK/sUVAgQwJiA0MFD8ifl9qwX4ZrwSPjOChCTwALCV5YStL3eYLQQTAAkac7//MwH+aqAJCj0geskJEiZmuWepxIuWZWvgOCC/SYuBDgOYHiXwBF3WAAmO/BawKwFni6373wwwwPQDJG1iAYMQiNlYB6MMGqR+lNlkNRIRIB8Ga8Urw+A/SmV5Yp2H8L3SG8GB4E1Uwne8v0OKZEk4FmDnE8QDxhVEYjOfH6CBCgwAWQgcMBhHfH17uL7VgOy0Wm4EFKIfvLz/EXqL4LT4vB2AUBnvpxwZDEJvaXx0Ji4FmMQ+X/oyIH6JbLQas0T8lNsh5idAhnnN/SPymwIWUAHwInT8vNgvnJUIHOecm4T31B8QGBgriBkfOOeTQXZqxyF9ngSGYsAFn6iCoHgDWUWuDEL+9j65HAiSbqPoVxhNxevnDMgeWObDMgf8xB2CVaK4feK7m+ksJGlZtqdfNhnNdBPPNr5XS//H4ll+3zIFlDixzgMgBcHPC9bRkPbgSdr0u4FpjENCwvvSWzvSVEVxsxK8uf1jmwDIHljnw73IAWFfwT25EJYQd8nM39z9lCQALmqsHF8XRCthcAocy/bujXH77MgeWObDMARBaVAuN4Bvxvgd3667VXrVBRxwGrLHKX0yhy2xa5sAyB5Y58JNwYLYeGikvTHNSURChpaVkYACB66ielqzBtlwQKzEEe21+krEuD2OZA8sc+P+cA3MAsLLi7cWFuQFUIf+aKv3uXgztfZsFwhQWByL9f86s5ekvc2CZA/8uB2DAykk8vkqCH41GUcIKFsrH3TwlyvbV7VhwMRyvXA5rWObAMgeWOfBTcAAGrNykEzJSAqSkaAJgyUqvsDTTvlh5BsT1IWl0/y6sLr99mQPLHFjmAChAAK6EXwMWCSmJqpJoeb47IVB4mVPLHFjmwDIHfgYOfBOwyMhJVyuLVRR4LAPWT6EG/wyCsjyGZQ78DBz4JmDR0GC01aWqijyXAWsZsJY5sMyBn4gDy4D1Ey3Gz3CCLY9hmQM/MweWAWsZsJY5sMyB/wwHlgHrP7NUP/O5tzy2ZQ78bziwDFjLgLXMgWUO/Gc4sAxY/5ml+t+cYMtvWebAz8wBGLCyEuwlRXkWEnNQqGUv4TKKLXNgmQM/IwcQwIq3FxdZlEu4DFg/41L9zOfeN8c2BNfmR/77zS/89pd/8RFigfnfUv7bf4PUBSAMeKGw/V9/y2IO/InpLH78rw/mJ6QwAzpXVeS7G65XEBHiEhPjAHrWMmAtA9Zf5QDodAA3OxguBx8Wt4f43jb4M4/AtdvBK+AfsF3/Puz43jhBbXW4iglhgggu/x3vReAGkIV/foRpiwdJYCDC9h/j+eLH/xOfJ6uhIfzDK+Gh/vtO2hm7ndgCAIuKikJTTbKycDlwdEkpJMrH/2yf/CdECh7kPNzNbH4Ai/z8LvwRvwmX6wZP/e4jyBfmB0DbNLiTIOFdP/7sD77im18jDpjw4e9Ymq+Y9kcn8pvHl5Tev2PA3+TMP/tLuHFU58v0KzVnq0s8Gyt9AGCBXELF5VzCJdcb6Qk0UQWadIzDPab+oxLwzwx7tq/sS0/JVFfxVFfxl95SBFC+J8pz/diZvrLp3tLpnpLJz0WTn4u+9JTMDWCBXraElgFaYOFn+sqmuoonPhdNdRdPdRdP95TOguresBL0z0wN9DTtx87Ao50GbyyZ6Sud7cfOD/4oyH6TD/MDWMC03tLp7pLp7pIvPSWzvaXz/T9GE9YrZ/vhx3tKpruLweN9ZfNIC+t/jA/fnMg/+0u42tXE56LelqzOV+n9HRkAsNjZGPR15WpLvUBqDtK99v/SnP/iXOBdND+AhXdX8URn0WRXMeh3/RfJ/p95fKR8rh/7+XX6o2sRzY1BzY1Bz5qje1qyprqK5/q/zaW5fuxUd3Hn64yHV8NvNgTePH/u/uWwtqcpw+35oCM0cgVbzJ8h3Fx/2cTnop63Wc9vxTQ3nrvREHjrQlDLw4TRjsIZZJf+Q3fD4fK5/rL+9znvHiQ8vBp+qzHo4dXw1sdJ/e9zvvSWErppLR7qj3yGmw+OdxZ+fp3+6m7snYshd5pCnt+K/vgsBTTWRi6eS9MBPC/rfgM6kt69FHLrQtDTm5GfXqaPfiwAkrm47ePSdH7+vyJzGcLBrQwrIQjuS7jFUOWknfGtxiCgPkxWL29FAgeQdmzjoA/gl57S9w+T7l0Ku14feP9yWP/7bCCsy8UOh/DQdM1Mb2lV0aljNhtNjVabGqm5O5pcrDzzGen3+1W7U/g2Pd+PHf2Y34DzObRff4uhiomRqtUu3ZRo23uXQvveZQPmL2YsKCpZMfkZNIiuKfHydDI1NVLbYqiybbNqUuTh7rdZc6An4JKq2Z/elkN4aKJquqfk5vmgmKCDR6w2bNusesRqQ0rUkZvnzw2154G2houH+oMvgq85bU+Sq4o8A7wtLbdr7TTVOuW8vTDNqe1JMjRaCcguQWoID03VTHUVN+B8Trvu2LVDx9R4tbP9Fny++6s7caBXM7Hz4xJE/it/Qs6h0Qpotg6CGgh9CcPP7s9PcXh7PwHA2NLM+q/M8+8b59xw+cwg7v3DJGyOW0LY4bhQm5JM57YnSUAsxuDW5H/fu5YS05/zLcN4aL5hursk/Ox+AT52oK6jUIpywumxx97ci5voLII3z6LGccAeD67ewx/zMuLsBAVgpw8KRUuLsTTTykk68eZePGDC4iqSI+XQeNVgW+7FKj8/D3MZKQHkLWSkJMcPG356mQ6uBUvfJf8064bx0Jfaic9FJVkuu3fo8POyolAofl7WI1b6JVnOPS1ZhL6wf5Q+3Anm0bWI8LP79HVlyclJSUlJ1JTEPJ1MH12LAK2Vl1Yahsuh2fqxT4UJYYc0VCUoKclRKNQqKf5An93X6wOH2/MA9/4EjP7RWfxvvg9rWLN9ZeAy3l0y0Q9rWPcuhb68HTPYlvtD6uj/ZqBLv+UXr80iD8vffikAHd5xna8zrtYHRgUe2LFNw3ijsoPt5ow4u3cPEwCyL95XXw2YaKFHXGZLmGa+fpDokPprWgNxAN97NeELsFPvDw2SSBkpqA2dn+4uCfbdy8nBhEDJKimBlKgjr+9+C7BgDQsaq5jqL8PnuakoipKQkCBPqSiKeDiZ3jx/DgjhdM0v2A06b9d2vc5MjztmbqLBwkyHQqHQaPQKfjZ/T4v+9zmgsQoQazzhkcXD+3GX5eJVIFIYKYdm6iY+FxVnnNxpqsnJwYhCoTg5GK33rivKcOp++y3AQqCT6E8kMPbX5lEYsB5eDQ/23bNGayUyfQUZIdcTWx9cDYd7wdfAO/E7rsPhcmiuYbSjMDbYWlleBHlcTITb/5Tl1dqAoQ+53wYs4qSQIS2e78/8GWijuI/PU87jfLDZLiUlbmC+c7Bz5xcR+Zkn8L8cGyJYV4BgrV8jR0VFycJMu9NEMyXKtuUBAlj/33fJXtCwIgMPiAhxIZtHVUksM97u7f34b2hYyPJNVUNT1Xeagm32rRcT4aagICMhQfPxspoaqwFX9RAemqn9RRrHK6GZutbHSd4uZkrywtTUFGg0WkiAw8JUqzjj5MTnogXA+jUo/C1yAkPnZFdxbckpx6NG6moSfDysGmoSp5y315ScAlg5UQWN/HEtG5arx9cjIwOtDPUVqKkpMRjgpvd2MXsMuq//qIaVFHFER2MlLS0VCoWSlxEM9tt7o+Hc/zUNawpg983z59wcTPaa65ib6wAZ+3Vfwn9g4f8W6UFMG8hyTlYh1zG4gXXZ/CAOXD0mq+GfKvB5CAd6LALzLR58c7Ia7IHZOiDcQMjgSwriSh/CAWvUeCX402wd+JmBWzQO4qCZOmi65sHlsFNO2xVlhUH8B4Z8p4lGdsLxz68zIKgRfGEQBxHowP07gMGrBlxSRsvnB0F/beCrHiknGAcnq4Fe9k2VZxgPxjBdgwxvHnimYOvpVDUY2GQ1+D0yQuR/geEGniDyIPFP07DbBB4A7HeDr1egfS6sgIDrVSUYHvhCBXBUISMk8Bb+02Q1NLroEoe8ZQgYkgiH/ziAaTCvIXjM0EVoCB8bYvMHAGuyCpqqfn03Nthvj76uHBMjLQqFoqXByMsIZsTZzfSVgZmC98JjBmypfXYzer/lWg52RhJSNAkJiYaKxBlPi+u1AdM9JWAuw3gw5qlqwECYw4jLnzC70QpAcLoW/GmknBC6RRj/AlcR2UAWCHwHVm9hmvODuLcPEurLvNNij0UEWKXHHmuq8HtzD4Zjwjdh8UPsv7B0wYEXZQSfw1glQTKJgvcdwPJ1N399Lx6CzkOz9QQOD8LG5ukaMLWRhUVcuBL+PmAhyw3qnlcjy01YNaC0wjLwPWn8uzbsX6cDAkfxVYWexhtVpMR5ZWT4YcD6r/QlHCkHMgfj0WRXcX9rTvebzO43mX3vcyY+FwMRR5poIJuZCFjgl1VArKdrgOgQb/iEL8CxiGMVBHFHFhI5NmfqoMnq2xdCXI5vU5QTISUlYWai3WWmlZVg/+llGjTfQPCoEgELAT5YOMY7C/veZ/e8zex7lz3WWQjDFtzgAwx+4fKyeDkBsFYCVBrEjX0q7Huf0/M2c7g9H2wwBMXGYblHZHd8AXMH4cGPLgx+CobsKYB6U13FoHvbh9yZPuB3A5gOQKccwPcEwHTEVdz1JqO3Jau/NWfsU8FsXylhDL+1gCDPjlZAoxUzvWUDbbm9LVlD7XlfekrABhvExYZY/wHAGquAxis+vUjD5braHzJcwQ+MXyQkaDZWhhC/vcMf8sB6gQHDwDECnBs36gM36MqRkoL7IwUF2Y6tGiVZzi0PEgC6gSgTGLDgxf3SUzLUnt/3Pqe3JQuZ3eTnYjBlGKPBNxHTAQAsHJgvIhjIusP8H/9cNNSeP9SeN9ZZOAufN/OD+Nn+spneUvDTV0o4h4jLN7QgeCPgDBjrLOx7l939JqPnbSbcPa8UvBQxICCM/Q5g+biZv74bB47MkfKBtty+d9n9rbnT3cXQRCU0Ca84Ijl/CLAQS+tI+eTn4r532b1AJPIATQRGf37AglNz8lMcFGSEKCnJGBhgJf7dw8SOF6ljnwoJBwtxJX6SD4hTc6R8uD3vzf34q3UBpdnO6bHHYkOsIwKsIgKsYoKt02KPFWWcvFDu+/RmVE9LNlCv4Gip8c7CtifJdy+GVhefwuW6NuJ9H16N6H6TSUC3IfyX3tLhD3lv7sU3YE9jc1yxOa41xac+Pk+FBnG97fn3LodHnTu4aYPSCn52EhI0LQ1GQ1X88H79uBCb8uJTLU+SAcdg+Jjrx451FLQ+Sb7RcK483z0jzi4uxDrq3IGYYOuUaNvCNMfzOJ/H1yO73mSCfTJRBYSYyN6Ritm+sg9PU27UB+Ly3NJij8WF2kQGHkiKPILNdb1c4//0ZvSLWzFNFX7YHNe6Mu+7F0M6XqQhoRUjH/Pf3icMvgF7+np9YPOF4OsNgaXZLrEhNgnhh3JTTtw8fw4s7kjF6KeC1sdJ12oDyrJcUqOPRp07EB6wP+rcgbgQm9Ro28J0p0a8z5MbUYMfcn+RBNgMNNNXOvQh78XtmNpSr+zE4wlhh6KDDsaH2WQnHr/WGHTvUuipk9uFBTl/9EoIY9BIR8HTW9GxIdarpOBjE4WipqJ0PrbleXP0aGcRgPgxEO823VvS+zazJNNZRVEUoU9DgzlxZPOjaxGDHQVz/fDXRsoHP+Q+vB5RV+adm3wiMfxwTDBgfkQgkI2MOLuKAvfmC8EfnwMhhx3/4OT70lPy4haYEbLul6r9X96Jvd0UnJfikBRxJDnySF6Kw8Or4V1vMtufp764FXOrMaip0u/m+XOv78b1vM0Eyt0ojP6DuJ6WrGfNUY143/xUh5Qo2+iggxEB+yMDreJDbTLj7bE5rldrzr6+Fzf8ET6BZuqgYfxvr4QOR4wKUh2bqv1LspxjQ6xjgq0Twg7nJp9owHo/vhE59CEPBnH4QjAHjO7f1bCQaMEh/GhHwYenKTfPn8PmuKbFHIsOOhh17kB86KGsBPvKIs/bTSHAx9oPa8pEUfzZPnwz+Tkjzq6y0OMDcKmWgzX42QY9hANaxkjF05tRiRGH9+/SlZcR5ONh5eRgYmdjYGdj4OJg4udllZLg27ZZ7ewpy2t1ATM9pdBcHTRe9ellOjbH1dl+i6qSmKgw18Z1Cj6u5tfrA8F++AKOstGOgld3Y1Ojj+rpyAgLcgoLcqopiVUVA0vKnUthbg4mOhorWZjpKCjIEC2AhpqShZmOl5tFVnpFbvIJoLPMN0JjFeOdha/uxuUmndhnsVZFQVR4BSc3FzMXBxMXBxMfD6ukGI+RgbKPm/mFcl+glcCnKEH+YMVwoC23MP3kPgtdNWUxQQF2bi5mDnZGfj42JXkRs63qAV67ws7s27xBSViQU1t95cljxnVlp6e6SuYHsC0PEjLi7PR0pIUFOXW1pfearzm8X3//rrXaGlK83Kw8XMwSYjwu9luBSjha8fpuXE7i8d07dFZK8PFys3CwM7KzMXCwMXBxAgZKSwls2qDo57HzwdVwIMdIRAKM+4Mfch9cDY8MtFq3RmYFPzsPNwsXBxMnO6OYCPdeizXeLmZmW1YLCrCj0WgUCqX2uzasYRw0jJsdLp/oLa0v81ZXlUCQiIqKcpeZNjbH9d2jRAArUzXQWMVgW07z+aDA07ulJPiQr7GzMQT57Bluz5udgkNwRivmB3EProSdOrldT0dGQpSHh4uFE5kaOyM3J/MKfnZ5aUGbveuxOa4tDxLGO4vAGTPXMNyeH3XugIaaBLLu24zUws9auTuYKMgI8fKw8vOyKsoJR507cL0usCDdyc1h2wY9OTERbj0dGT8P83qsN7BhTddCUMN0T8mV2rOBp3dtMVQRFeZazFhuTmYBPjYFWaG95mtiQ6xf3IoB5yh0nghYmzYo0tBgMBhydRXxHVs1LE21jA1V5KRXcLAzcnEw8fKwSIrzrtOR8XEzf3A1fLKrGGjKIxXQfMNSgDVVDc3UzfVjX92NLUw/eXj/BnkZIbBf2BkRssIrONVVJY7abLxQ7jfyMZ9wT/ym4v+vQwEMWLlJJ6QlF/UltNqle8Zz54PLYYCbsFb8E2HWEH5+EDsxgO16nZGbdGL7FnWhFQRfOBkZKTUVBRWGgnTB08TJwaSvK5cYfvjTi7Qv48CL1/YkOTnK1sRIjYICeH/5eFj3WejWlniDRZprgEbKhz7kPbwa7u9pwcZKj+wHSgryrER7aAh/rSZgn8VaCVEeEhKwD7/6R01FGRdsDQBr7vx4V9GjaxHJUbZWu3SFF1z1X32fmYlurZa0n/vOWxeCulpzvvSVwdeEqpne0o/PU+uxp49ZG4oIcRHfRUlBTkdHxcZCLyHKY7heYbO+EgsTcJAxM9Fu3aRakOo00Vk8P4B9ejMq8PRudjagK1NRUQqv4JAU4xEW5KClwSADoKWhPLBL793DhIHWXASt+GD3PHK3oqGipKICZmzkyyzMdBvXKeQknWh7nDz5uQjWHyunuorvXgqJCLTaukmFlgZpZQm+TklBzsREqygrtG6NjLyMIAcbA0Jn9e8CFrINJqqgmboHV8K3bValpcGQkpJQUJDpaKw862V5syFwprcUmHImqz4+T8lLPnFgtx4PNwsajaahxsjLCmXG2wFFFWqERsqHP+Q9uhYRE2ytoSaJgX38KBSKHMgGJRkZKXEVJMV47Q8ZYnNcu15nwkDTNNCa43gyO34AACAASURBVGK/lZaWwCgOdsbNG5S1VktRwocTbFajCvC2vHk+KCnyiKnxajZWwGRmJtr9lmsL0xx7WrLmJ6tHB3Ev78SF+O3VWyPDzASMcYAzlOQ01JTEwaBQKBFBrp0mmhUFHqOdhXOwW/PJjajIQKvNBkp0tFTk5GSSYjwqiqIyKwWEV3CyszFQUVEQR05LjVmrJR0RaHXrQjDQsyaqIOj8NwHr5vlzAIDGKycHcW1PU/JSHA7t15cSJwA9OTkZJSU5slkoyMmkVwp4OJo24E53vkyHbQVLBn/9W8i1AFi/6ksoLMi5bbPqebwPMPEs9ij/W6Mkvhc2mc/0ln14llpX6nVgly4jAw2ykOxsDLpa0mbGq002q2qtlkK83eTkZKws9If2rr9U5d/XlgeNlHe8SMuIs7PcroVYdsVFuA/t02/A+gDAmgUtz4bb8x9fjwjy2SPAz4ZQZmKkBarTcPmjK+Fux7fpqEsxM9EiO5qEBE1NTcnIQENHSyW7ckVhqiM0godGK98+iI8NARuGm5MZ2SQsTHSiwtzK8iJKciKIoKNQKCZGWjUlMadjxrh89/7WHODrmD8/0lFQmO60z1J3pQQfFRWAAzJSEuEVHJv0FbduUtVSk1wFa0PMTLRkpGD7reBn32miWZLpMvkZANbzW9Fh/vuFBAGIk6DRGEpycjJSMlISDIachZlWaAWHhqqEn/vON/fibjUGmRipMdBTI9MUFGA3WCdnvlVju/FqNSUxBjrwe1Lwas5jNhvLsl0+PksFStYo4GFMyEFleREEFtFoNA8Xi5KciLGB8pZNKiqKorzcLAx01IgSikKh1FXEsxLsl/ISEgHrS93ru3GOR41WSvBRU1OSkKCR2ZVlu4A4cqgJ+lL78naMj+sOTTUJGmoMGRmJmDDPbnOd6uJT4EyFmqDxyodXI3xcd8D+MgA9NNQYYUHO9WtkzLaq62pLi4lw0dMDPxoNNUDzowcNnjVHg7MKujTYlnvq5HZkUoDtZKSMDDSsLPRsLPSM8CMrBDjyUhy632Zic1x3mWnz8QIJ4eVhObx/fVm2y2Bb7swA9sW9uMx4u/VrZTEYcCKiUWgxYW4jA+WdJppbNioryQkh0EOFoRAR4jrrZfnsVvRUbyk0hH/eHB0ZaGW0UZmBnpqEBE1Dg2FipOHjYZWR4jdcr7B9i7qSvDANNZgRGo1mZqJVUhBxO7Ht5e0YoJ5DTeOfCpMiv/YSNjcGjX8Cdre256n4PHdLM21eHhZK+Kjm52XboCtnZKCks1pKVIibgpyMiopCaAWH5XatRrwPiFYlODp+Mp/bNwGLlIxUTUmsouDn60sI+6G+9JS+vRdfknnScrsWCzM9Kwu9qAj3FkOVQO/d6XF2qXHHfNzMNVQIEXQoFMpAT74gzenD4xRoEPf5VXp24vG9O9cABxMJepUk/9GDGxvxvosB68mNyNAz+0SFCV55DnZG5K7X9iw1M87u0N710lIC9LDzmJKCTFCAXVVJTH+trN2hzdcagqAhfG9LVnm++x7zNciOJScj5eVm2bhe4fABAw8nU9cT20yNV6+U5EdUHloajJK8yKmT29/ci5udrpmbre94mXbKyVREmIuCHNw6GempleVFrCx1IwOs4kIPeZzcbrZlNS8PCFkEgEJCIi7Ks3uHTlm2KwJYL27HRAYekBTnRb4A9AJqjAAfm5qSmKmRqvW+9Z5OpkXpJ98/TGzE+2zQlWOgp2FlphMW5Ny9Qzsy0Cor8Xh6nJ2z3RZVRVHkMKClwRisUwj12/vydiw0XD7eWXij4dyh/esRuESj0fy8bKbGq92dtseGHooKOnhgt56irDByYCBj+FHAgt1/H5+lxgRbb9mows4O9BcaGoyCrHBssDUwukEXoOma203Be3eCoE00Go3BkOtpywSe3n3nYghYwflGaKKquTHIzsZQUV6YjY2Bk51RR32lzb71Yf770uOOBfvusd6rpygvTL6gaulpS9++EAxUM+jyYFvuadcdvDwsJCQkyIFESkrCx8O6cZ38ViNVdRUJi+1aNxuDZnpLa0q89lmsFVoBjHRCKziOWRvg89yG2/O+9JY+uBwWHXRwjeYqJkZadjYGeRmhA7v04kIOZSefSIw8cuLwJnFRHsRXQIWhOGyl31ThO9wGTIQvwcJZGW9UJp7BNNSUqkpi+y11g8/sTYm2dXfYpr9WDjaeAlcDCSmJrrZ0I85nCij1jeOfCpN/A1i3m4Knu4rHPxVeqvI/ddJMHC56R0FBtoKf3XybRtjZ/fERhwNO795rvoaflw3R5VfwsceGWA+1539BbEE/28Xwm4BFQQmu0JWFP2VfwlFgkP78Kr258VxC2CE7m02OtkYBp3eVZDq/uhvX057X21X85Hqk01EjUSEuRO7WakmnRtu+uhM3D18kc5L+GGCxszFkxNlBYxVjQ1XvHiVlJx7faaKFXNbo6ajWrZFxO7GtINXxztXw7s7iuQHslWp/R1sj2ZUrYOWIVFyU29JMOz/F4fa1iId3Yu9fDqsv9YatP7KIEsTISLNlk+rFCr+hzsLxvrJH1yL27lxDQ024ammqSYQHWDXhfV/cinnzJPnhvfiybBcTIzU2Fno0Ck2CRosKcy0BWBQUZHo6Mr5u5oWpjpeqzty6GPLgStjb+/HdbzIeXAkL899vZ2Nof8jQx3VHVbHnx2cpvZ2FfW25Fyv9XI5vUVMSo6Qkp6Ag01CV9HIxe3ozan4Q/+ZeXGL44Y3rFZDrHiMDzSZ9xcI0p4d3418/SXl5J/ZKtX98qI3+WjkiYv4oYAGLdXX/+5y6Um93BxMEc0lJSZgYaT2dTLveZAAVeKziAt53jeZKaviKREeLObBLtzzfHdhbB3HgZjda8e5hQl6yg5fL9gO7de0OGWYnHL97MaT9eWpvS1b7s5SrNWftbAzp4PMGhUJpqErcbDj3FWAhU6OjpVopwXdwt15ZjsvlxqC6stNXa872tudPd5eUF3jAgAXUWASwcLmug225c4O4tseJtaXegd67jlkbOttviQy0asB6tz9P7ftc1POp8Dzex9RYjZUF3OUxlOR7dmhjc127XmVAg7hXd2IRwGKgJ1waJER5A71337gQ/PxhYsuDhIdXwrDZLgd269HDyi8Szp4SZdv2LBUaq5r4XJQaffSrOKy7F0Pm+sp63mRGnTugpyODnJHyMoKOtkZl2a7vHyV+as9rfZ1RWehpbqLBB5+CDPQ0Jw5vutEQ2PUuG5wBP5sJ+5uA9VPXwwLZp9iRjwUfn6febQqtLfGuLjp1qerMs+boofa8ySHc2FjF+4eJ3i5msqtWkJORolGoNZqr4sNsnt6MmvuzgJUWcxQ2jl6FJqqbG4Oc7bYoygmTkpKwMIOwhsx4+47nqeBCB12a7SvLirfXWi2FXLXYWOiNDZVjQmw6XqQC2yp0HhqrnOkve3MvzsV+K3HbKMgK5SadeP8wsetVelOF36YNishuJyFB77dc++haxJfeMtg6Vg9BTV1vMv08LRRlhakxlGg0GlaOvqth0dNROR01un85DGgosJEIGquY6y8b7Shof5Zy+0JwfdlpfK5bXanXm/vxX3pKJ8cqxrtLbl8I9veyWLdWlpYGQ0FBpqIg6npiGwCsAdz1ugCno8YKsmD6JCRoMRFup2PGrU+SwXVsvgEESYzgWx8lOhzZjGiIf+BKOFIOjVaOdxa+vBObGWenuVqSCHnWe9Y9uRk53Vsy+jG/KN1p5YK5nYOdwcd1x9Pm6JGOAgBYsENg6EPui9sxFyp8c5KOF2WcfNYcPdpRMN1TOvG5aLg973lztLujCREU1JTFfgtYyHt5eVi2b1FPjzkGnKRQI7gigZjV+snPRWU5rl8BFjbHFRjdRyuGPuS+uRd3teZsVdGp2lKv63UBLQ/ixzuLJkYrxobwNxrO7THX4eYCOQA01JQ7TTTyUx3anwIfNAJYRgZK9HTUaDTwkBqsU7hU5Q9gGmpEwg5GOwriwg4J8LEhkLqCn93XbeftxuDZ3rLJruK0mGNfAda9S6HQEK7tcfIxawMeLmbElrdxnXxS+OH7l8PHPxV+ma75Ml71+Hqk0zFj2ZUrSElIMJTkJpvVMuLtXtyOAYD1s5mw/3uABds7ZgdwIL6mLa/9WSrQWcpACEJhulNCtK2fz56jBwxWK4uzstAD1R6N1tWW/h5gSUvxH7M2XPpKyM7G8AtgTVbfuhDsbL8VicNCAOuXOCzoykxvaUSAFR8vGxkcIiQuwuPpZHqh3G+0Ix+aPw9ADcSs1o19KogOshYT4UZuBxKiPKFn9l6p9n94Jaw0y1lPRxrZM/S0VM52W0Dow2w9EB1grbgw9CEvI97ObKs6F5z7soKfYwkNi56eOshnz2B7HtA+pmrArgPxioSqLGMdhZ9ept9qDKou8qws9MDluiXF2QV47zq4W09dRZyPh5WcnJQavpi4ntj2vDlmrh9bW+K1y0xbSIADjUYzMdJu0JOPDDwA1B/oApjdRBU03zDaUXDG04KVheC1WK38e5HuiA0LThaZGcAOfS66WhtgbKhMBCwTI1V8ntvj6xH3L4WG++8jphyKi/KkRNsOfCyYQRQBODRkbhD3pb+spyXr/uXQxnLf8zifqmLPvBSH6KCDXs7brSx1leSEETsO8GD+FrC4WZD3rpLidzuxrQF7erKrGEDGXD2w587VT3wuKsv+GrDKsl16W7KhyarZIfz4ZxB49f5hYvP5oOpiz9Is57xUh6jwQ16eFrt36EiK81LD6jMtLcbCVDMvxaH9KTBWIIC1aYMiLQ2GnJxMTJj7sNWGB1fCgdhA54Efc74BGqkoyjipLC+CJAxyczGfOGJUX+Y93lEw1V2SHmv3FWDdvxwGDePf3I/fvmU1YlMjg609jkeNYoKti9JPYou9cEWescE2O000JeALIxqN1lSTPONh0Xw+CES6IomZRCPyv/7hPwpY0HD5/ADQs1ofJ10o94sNtnGx37rHXEdXe5WoEBcTAw05GTAAIRbKdWtkE8IPPWuO/ssa1mVouPxqbYCDrZG8jBASOLrTRIOQmjNeBUGXZnpLz3rtQiQShUIpK4ikRNm+uhM79qkAaNdIJDQIXMbmJjsANxYGeH9Ehbg8HE2KM0424n0y4ux0NAkJZRxsDL5uOwDYQefBs3D4fv/77PJ89xNHNovCuS8CfOxLABYLM21i+GHw4HzDL65eOPVyrh87+bn4w9OUBuzp2GBrD0eT/Za663RkpMR4WZnpEMBFoVD0dNTqqhLuDiYvb8fO9pdhc1w3b1DiYAdpdHw8rFa79HKTHTpfpQMgHqsA0WTzDV96QPIzEv/5Q2ENi7cBCEOva3mYaL13HS01Bo1GodGoNZorz/nszk0+kZN03OHIZi5OoCxQUJDraKwEuTsT4Awgzm5+uHxuuHywNef+5dCSTOdzPrttDxqYbFbTUJUQ4GVb7KpDoVCrVcS/1rAWAEtdRTwm2PrepdDRjgKgW43AWZZw8vM3AQskP09VQ+NVM32lg225r+7EVhR4hPjtPX54045tGhqq4vy8bHSw9xORTDo6ql1m2gVpjsCbsQBYxNQcrdVSp113/Co1Z6YOGq2oLPTQXyuH6OacHIw2+/VLYXv/VHcJkJxfp+Y8uBIGjZS/vBO7QVceeSkpKYmIIKf+Wjmzreq7d+hY7dLbb6m73Xi1ppqksCAn4jdUVhA5eWzLxcozALCm4UzyxQv0737+7wEWDFXjnUUfnqaU53t4uWzfb6mrpyOjpiSmqiiqqiiiriQqt2oFHzcLHS0VGnap6OnIfBOw0Gi0hBivzb71DdjTi43uT29GhfnvJxrdF2lYPwRYvu47Eb0J7Adl8bzkEx+eJk92FYF4GSTRFByV5SVZzuvWyCKSJyjA4XjUKDPevqrQMynyCPE2xM3JdNbTYqq7GFy4kJi4yeqB1pzq4lMu9luRI5H/W4AlIUboKSIowJEVbw8UHzgAnbCrYU2k/VlKaZazt8uOfRZr9XXlNNQkVBRF1RREVBREZFYKiAgCbzopKQktDdVqFXECYPWVFWec1F8rx8IMHPaCAhy2Bw1KMp2BDjgBsj3ABKHGuX5sDKw/Ipvk93MJF++BsQporqHrTYav+05pKQGwiGiUlDivlaWuu6OJl7OZ2RZ1RgYacnIyESGug7vXXa8PBFoAkmwIR953t2Rfqz+XHnPUxX6r+TYNDTUJmVUrFOWEVWEJkZMW5OVm+WWBvg9YazVX5SQdf303FuQngqvuUoCFzXHte58NjVeOdRW/vBuXm3zipJ3xTlNNbY2Vakpiakpi6kpiaoqiqyT5uTiZaWmAm5KWlspy+7cBi4qKUldbGvgQm6OBboVUa5ipg8Yr60q9jQ2UkYAJdjYGq126BWmO/e+zp78PWC9ux6zTkUHWgoQEzcXBJLtqhaqSmLqKhJaalKaapJqyuIKssIQYDzsbAy83i66WtOvxbRer/JcB6y+7SOGElZne0g9PU2qKT+2zXMvAQE1ORkqCRrOy0CnKCZkYqTnbbTlpZ2ygJy/Izw7fCFG62tK/BSwk1V5EiHOfxdqaklMAsGDwHm7P/8pL+EcB64ynBdGjr6ooAiqr3I8nlCUiaFh10CC2MN1JT1sGiR4QWsHhdMwoO/F4TfGplChbbXUpRLw4gYZlDk54OMIIIMJUdd+7bGyOq50NiNJCoVAC/L/VsKyIPUXkpAXzUxzAZoPz0ZCA9fkB3GhHQQP29NZNKgz0gIFkZCQc7AwKsoLbNqnYHtxge8Bg53YNFUVRDIacCkOhpiRGBKySLGcDPXnkuifAx2azT78gzQmkUoKUw180rKhzB4iI/8cAC+Qe1fa/z8mKt99poonUqGFnpddUk9xiqGpuoqmhKoGhBCFphusVw/33P70ZDd6LmFqAglN5/3KYu4OJppoECxMdGRkpBTkZJweTuqqEpZm2y/Gtp5y3b9JXJIY1LaFhrV8jW5Lp3Po4aaqrmDC1hfIyv9WwcLluoC7CIK7lYUJOssMGPTkKCjIyUhJyclI+HlZt9ZX7dq7xcDSxs9morbGSF1biaGgwFqZaS2tYT24sSn7+AlwKNcWnjAyUWeEaFRxsDAd26xWmnxxozVkCsBZrWCQkaE52RpmVAqpKYppqUtrqK7VWSyE/yIm1RlN6v8XaEL+9zReCQbQwqKH+l7ft4gPpL37+j2lYw3hosnqyq+hqzVlfd3MFWSEkXkZMGIQ1eLmYpSYer6s6U57vfsRqw0oJPlLYP62rvYoIWJ9fZWQl2u8x10EAi5+XbaepJojiGSkHVpiJqrGOwic3IkPO7CXutyUAi4WZ1nK7VkacHTBDfKmDoMszvaXBvnuITn1pKf5g3z23m4KBzXumFijYY5XQfMNsX1lqzFE5aUEq5EoozHXabUdVoWfz+XNF6Sd1tRdsWHRUJ48ZgwsXYnsCNqzGgdacpMgjWwxVkYghQYHf2rB+ASxFOZECEB22AFgjFdBIxdCHvPuXQ0P89hLNFnw8rNs2q545ZZGSdBxX4J6VYO/hZLJeV5aGmpKSklxVEQDWi9sxc/1llQUe241X8/GwoNEoDjbG7cbqyVG23W8zQTU1ZHbQ+amu4nM+e4jlZdQW27BADh1cV3q6BtzjiJnbxOz04XJosnqso+Bylf8ZTwsluF4KFYYCTg/glZMW5OdlJUGj2dkYHGyNGspOf361KMpxourLALay0HODrhyyBKSkJJpqkscPbwo5uz8n6UR92emqolO2Bw2I0aFLAJb+WjlsjsuHp8k/Aljl+e5jnwrGOgrK89yOHNiAWLgZ6KkV5YT37lwT7Ls3P9vlQs3ZnKQT5ts0EBscMLr/BrCQSHdycjIpcb5j1hsfXg0HJ81cPUBM6Dw0XVNR4KG1WooODgPm4mCys9lYWeg5+jH/mzYs5Er46m6ckYEScgSSkZEoy4sc2q9/2nVHiN++sMADYWetgnz3+Lqbe7uY+bjtCDmzLyvBvrHct/VJMqg0DfLkfzrAyoq3lxD5T/QlhAsSjXYUZMbbGW1QYmcDZl0xYW77Q4bFGc6tj5NHBnBTk9Ufn6f6upnLrBRAAGut1jcAiwsuZsTBzrhlowo+zw0GrCZosnroQ97tC8FnPC2E4dhLpGD0gtH96yshEbA+EAALeAkTwg5JSfAhERUr+NhsDxiUZrmAfMa5hcIP8LUuwHsX+0IsuPRKgdhQ6wdXwj48Tb5Q4bvYS7jXfM3dplBg94UzMCDowqeXaR5OppLifOTkpMBLKPTbsIZfAEteRuhXGtZ4FTRe1fo4KSPu2O4dOhxwQPwKfnaQPJzpPPghb2SkcqK39MGVsNAzew3XAwMwBQWZqqKYm4PJ8+bo+QHsxaoztgcNVknykZCQUFNj1FUk/D0tQK4ldB4A0CjI++9tyXI9sQ0xDH/tJfwKsKbhyhNfl9OonO4uaX2UVJbtsmkD2GloNJqMjJQKQ0FPR4UE4gqt4IgLtfn4LGW6qxiojUh2+kj5SEdBasxRYUEO5NInKMCeEH7408u0oc6i0Y6CsU+Fb+8neLmYEcNllwCs9WtkS7NAacYfAazKQo/JrqLPr9JPu+6QWyUItH4SEi11yQAvy6YKv56WrLGximlY+7PZt14Qzu6GAUvzKw0L9hJSwQ4Nmq2GKtdqz8KA1UAArImqvGQHMRFCroUAH5uXi9n1+sAvPSXf9BICo/sQvuVBwk5TTQpyEGZMTBR/cTtmoDVnuKdkpLOo81X6nYshFyvPXK8PfHw9ov1ZyvDHfBCp+xe1oX/icVjD+k8B1lz9cHtedNBBNSUxJBhHTITH0XZzTbHXVHcJBDVOT1Q/uxVtb2OIxBai0fCVMOzQ05vRc/3Y3rdZxRknD+1bj6jl9HTUakpiCeGHut9mjgzgBj/m378cFhtiY26iwQEHLv4WsK7UnD1+eLOctCAZGSk9HdUmfYUA712Xq/w7W7KnRqvnB7C4XLdtm1U5YbM0Az219uqVrse3NVWc+fA6vet9TsfztKc3osqyXXaaaiE5H+TkpGu1VuHz3D61ZI10lTy6FrFn5xpqKhCygFjBgk7vaSj1ft4c8+px0r3m6IJUx036SvRwhDoch8X9G6P79wELzoN9dTc2zH+f4XpF5EIqwMe2y0y7Ee8LjEHQxdkh/LXagONHNsnLCGEwFBgMxWplCXdHUzgOC/fsZlSo/741WqsQHFkBLGja9WXeH95m9n3M723JenknpizbZdtmVeRIJwJWy4OE6e6S2UFcd0v2i1sxl6v9a4pPNVX4Pbwa/ulFGqghQajNArpUzfZjRz4XP7gSfmC3HjE8gkiQjIxESU4Yn+s22VsKQxXc2Aou5zDYlhcdfJAZNrEBb4YwV3bicXAfh4MSet9lN+J9bfatp1nIKPobAWu6p6T9WYqdzUZu2CdASkqqoyEVemYv8PSBhMHG8UHchXK/rZtVkDgsWhqMxXatwl8b3Y3hSHckJFhOWjAm+OCzO3Gd73MGWnPb32Y9uBzm4WTKDqcEoVAoCTGeuNBDLY+T5kYqvxmHde9S2PwArv1ZitNRY0EBdqTQ2DodmZjgg/cuhYJcq8nquSF825Pkkizn6KCDcaE2WQn2dy6GDLTmglwopKTHP4E7f5omSBQvryz0NDZQlhDnJpSX+XnjsEBQb91we15ssLWGigQ9HTBecrAxGhkoxQRbtz1JGu4oeHA9EslRQM5YJKwhNtjm8fXI2b6y4bbcBqy3y/GtwnCYMikpCRcH04kjm5oqfB83R9++GBIfarN+rRw3JzPRDvXVlfBy9Vm7Q5vkpYUoKMgoKcjlZQR37dAOPL2rssjz89ss0DTtavhZLwttdSlEyaKjpVKQFXJ3NMlLdawtPY3LcfN1M9+kr8gPJ3agUCg2Fvp9O9c8uhYxPVUzO1Pf8SLNw9FEWJATcb3T0lCtkuS3NNUCCnyA1VEbQ/21soiT7vuR7t8HLFjDen03LiLAymiDMpKfxMRIq6stnRlv1/02Y7A9/9mt6MiAA0ryIhhKcjQaTUdLpakm5eFkCjxWw/iB1py6Mu/doHAawFMKCrJVEnzOdsa5qY5X6gIuVvoF++7ZaqhCdBESAev9o6T5Aex4Z9HlmrNBvnsM9RWlxHl1taVd7LdWF50CXtSpGoBZYJPg5ofxs9O1PW+zPJxMkO1NRCsSEjQDA/VmfaUrNWfnkJJnxH01VD7UlhcbYk3MA+XlYfF2MbveENgF6g5lVBZ52h/apCQnQg6rG3BYg/i1ukC4OvilobZcHzdz5CRDoVB/VMOa7i75+DzVwdZoBR87iOklQUuJ89rsW4fLde1vzeltzblaH+jnYSEmwk0MTLU00y5Mc2xHvIR3CYGjxEh3RgaazfpKZzwtKoo8b10ILkg/6XTUWENNEjEjoFAoVUXRqiLPyQEcNHseRLpHfZ2ac/di6ExvWW9LVmLYYSMDZQTpmJnodLVWnT1leaM+8NXduHtXwlKjjyI2X6RkwGnXHbcvBPcjgaN/oh7hnwajH3kQ7kv46FpE1LmD7o4mbm5wX0JKDIWGqsTPGOkOroS1Y58KCtOcLEw0V8BVwykpyaXEefeYr0mNti1KczznvWuPuY6UOC8lvN9QKJSKoqifh8W1uoCp7uLJntLHN6Nigg8qyAD7FxyMTrJGc6W7o0mY317/UxYgs0ROmI2FgZh1zMxEmxJlCx+S4Ep483yQh6OpuooEgmgc7IzyMkKbNig6HjW6URf4paf089vM2lIvx6NGwoKciHEXgyHXXC1pZaHrZGt89OBG7dVSTIw04JpDSsrHzbJZXzEm6CChBCB0YeRjQUGq4x7zNeKiPORwdg5IWONmMdCT36SvKLdKkJ+XjZ2NgYmRBslcFRP5lYb1/FZ0+Nn9wgsJ4dIrF2pIIEb3MdDR4OOz1KJ0p8P79fl4QMwRGSmJqDCX7YENmfF2+cknV3wp5AAAIABJREFUQv337TFfIyLEiVy+KCnIpaUEbA8aNDcGQaMVs0P41/fiA7x3iYnw0MEHBjUVpbqK+P6da72czTydTI03KokIcjIx0hIDCFQURDLi7N4/ToKGcCMf87G5rjZ71yNmeyoM5WZ9pfRYO1AYE27qS7iGAJMisIXFBFvLywhSwzmVyHphMBSS4rx2NoYAQGfqAMwRAWu0YqyzKCvRfqUkH3IhpaenMjJQOu22IyPuWFaCnbP9Fm2Nlfw8rMTTSE5asLr41OQwHpq7MNSW6+2yA1GNUSiUrpZ0SebJbxrdS7+q6X5AvzzffaKzqKclK8x/v47GKiQwlZWZTl1V/KSdcX6qQ07icS/n7Vs2qfJwE85CSkpy443KieGHkLr1r+7Ghp/db6iviCQMUlKSMzLQiAlz62lLHz+8CUjmLl15aUHEP0iFoRASYD+8Xx8YuYDxtAnUdA8/rLkQKCO9UuCcz55bjcFTXcWjnYWXqs/6e1qoKoohi8LEQKO/VtbbxSwywMrfy2KniSbjQkopJweju4PJnUsh/a05wBP1swEWXLHr86v0G/UB9bjThL6EKDQIIMLnw7mEi6vT/ggE/qPfGcZDE9VT3cUPLofFBlvraBDilUhI0Mwgu5hLUoxXgJeVl5tFQpRHXIQHWR5eHtZ9lmtLMp1HPubPTdcM95Y2lvtsXKdACsLgwT8qDAU3F6j7wcPFrCArbLZVXU9HhrjfqKgoEsMPwYB1CRrCP70RHRNkvUlfCUmmQ6z+tDQYoRUc0UEH+1qyp+BbT0WBx4HdeqskCaWdKMjJmJloOdmZ2FkZiLuFjYXebIt6YZrTm3vxwEoF7mvVM71lHc/T6sq8D+xex84Gwp2QfxhKcgYGanY2RnERnnU6Mht05Xi4QLmCX0W695c9a44K9t2DGH0RAx8IawCaKRyHBXdIHv9U+PpeXFLEYTlpwQXyoLebuAi3uAg3Hy+rhBiviqIosaAVHS3GQE++rswb2Mtn68c6QYqJo62RiiKhgjgyOx4uZj5ulhX8bIIC7IIC7HxwUh7IIJHkB6FqjxKhQQBYuFw3m33rkQxwairKzRu+BVjDeGimbqqrGJvjusdcR5CfUJADJFcy0GzbrBofduj9oyQQ97Q4FHuyanYY34j32bFVnViCgo6WipeHRUwYTE1KnFdCjJefl5WY3bKCnz0p4sjHl2nQZM1we56nkynjQmaMhopEQZrj+0eJv7JhzdSOfy4qTD+5Y5sG4vRgZ2M4uFu3NMt5uD1vqqv4YtUZj5PbxRZMwpSU5FycTBJiPBKiPAJ8bIICHFLivMTAV0U5YYAOTSHzA7jXd+OC/fYS/S2C/BzSUgJ8PKwsTLTcnKAkEQszHTEaQ1iQ09l+S03JqR6kkDzUONZRGBNsjfgo4HXn8j9leb0ucLSjYHa4vK89/2ptgO0BAyTiF5F5Xm4WIQEOfl5WokVPTJh7j7lORb77QHveNJJF+LPlEsI6+GRXUf/77K43Gf0dhUCAeXlYN29QrMeeBk7Nn61aA5xL2PM263pdoNMxY2EhLnY2BgZ6ampqSkoKcioqSlZmOklRni2GKnvN1yjKCYMEVFlBm33rizJOgtqV8w3QXH3LwwR3RxMlOWFebhYWJjo6WioqDAU1FSU9HfVaLekgnz1eLmYKskLsrAxsrAxSEnzAbg28e43QEL79WWp1kddJuy0rJfjYWOmZGGno6ajBruBmCfbdC9cqqYEmqlsfJ2fG29vsWy8nvYKTnZGRgYaGmpLwFnpqVhZ6SVHeTRvATRZYrJG6o0grjUFQCLSnJSs15tgWQ5VVUvy83CzsrAzMTLR8vKzqqpJmWzUcbDfbHjAQh3fFCn72XWY6pVlw8vMg7s39+OTII+oq4khpMD0dGWy2KwAsJLRyoZ3MVHfxtbqAA7t1QbwVKwMjAw0VFSUFBUjZZ2SkUVMGVQktt2uJCnGxsdIL8LFt26QK5GEM2GKg0fIPz1Lg4NVNkuK8bKwM9HSA/1RUFEwMNIpyQkYGStuMVA31FaTE+djZGDboyRemO314BuK5xz4VNuJ9vF3N1FUl4NxgwSMHDLDZriB0A9Q4W6jFPATcwdPdJbcagyPOWm01BIoJOysodqamLO7nsbOx3Bfs1TFQ8pSglA3igLiOVz6/FRPmv8/EWE1MhJuFGSwuBkNBSUlOS41ZJcm/cb3CxnXy6qoSIoJAclYriydGHHlzLw6UM+woCDu7X05aEGGd2Rb1ykKPj89TQEFOJGJjoaZ7VdEp+0OblBVAvQplBRF3h201xV7D7bmgP8KLVHy+u8V2LW5OZlYWejo6IFoUFGSwhDCrKIhamGqZbVUXE+Hm5mLS1ZY55bT9VmPw/ACu9XFScpStpZm2oAC7AD/btk1q+y3XrlsjKynGw8bKsCCfVKws9Lw8LBbbtWpLvbrfZIK+jaMV0Fz9eGdRdsLxrZtUBFdwsLMx6OlIx4ba3L0YAqKOJ0Hd57532Znx9ru2a8nLAMFmoKdGBgZiRGip2FkZVkryW+9ZlxlvDxoUgMLZP2V/P6TOJVIHfLKa0ObL9qBBkM8e0GJooUrvLzLxjypQP0J8CD8/gJ3qKe15m3Wl5mx82CEv5+0H9+hZmGpZbtc+csDgrJdlWszR8nz3ykKP6KCDHo4mZzwt0mOPNZ8/N9FZCG4QE9WjHQX3LoXmpzr4eew8YrVhj7nOLjPtI1YbvFzMcpMdHl+PvNEQGBFg5WK/xdnOOMDL8u7FELCXJsHtY+xz0ccXaU2VfqFn9jkdM7beu26fxdoDe/Rcjm+tx54eA1HRVdBY5fjnopaHiZer/bOTjgf57Dl+ePNei7WW27V2m+scttJ3O7EtIexQPfb0y3vxIC6UWCgZzA4Hqp6257U8TGxuDMbmuMaGWAd47zrtuiMiwKqy0LMeezozHhRUkBQDJRn4eFh3mmgWpZ8c/1QEjVX2tmRdrw8MP7vfzWGbu6NJTIj1w6sRIJ5zsSYCaorhut5kXqz0S4o44uFoenDPup2mmhamWnY2hoGnd+enOl6u9q8s8Aj03uVsv9XtxLbYYOvH1yPnQXHUamikfKKr+OOLtMvV/rGhNp4nt1vvWbdrh/Z+y7WOR41So23rSr1wua4pUbb+pyzdHbbFh9ncuxQ60JoDDeKmu0te3omtLvYMP2vl4WgS5LOnKP3kw6sRgAlIaWOiDMAn06eXac3ngzLj7byct7vYb3E7sS0y8MDFSr+2J8mg8B4I5lzAOKQO/Uj50Mf8Z7djKws9gnz2nDi8ef8u3V1m2vst1trbbIoLsYErzbolRRw567XLw9Ek5MzexnLf9qcpcwPYqe6Spgq/cz67AesctqXHHnt6IwoUjektg4sXwt2kxyu/9JY+vRldmuUScmYvQqGiwP3ZzWggXSPlE93FbU+Sa4pPhQdYOdtv2WuxZqep5u4dOo5HjaICD+SnOtYUnyrLcjnns9vDySTEb19R+knkStjfmnO9PjAz3v60q5mPu3lWwvHyfPeybJe0mKOeJ7fvB8KjbbVL1/X41uigg3Vl3h0vUqd7S0EBPxDrA7ol3r4QnBJl6+Nm7u4A1v1K7dk2ELFcDGB9oupLb2nL46RLlWcy4ux83XfaHzLcba5jtk3d3ETj0H59X/edqdFHL1WeaXmUCEJw4BDcn2jXE6UCibEYq4CgehCHBNUDDQuX53apyp9Qx2vxCUZ87F//AOKJyqd7Snpash5cDSvPdytIdSzLdrlU7f/hKeiXO9lVNPQh9+29+NtNwbcuBD26GvHxeepMbwm4kyMNjsZAIbon1yOrizyLM5xKs5wvVvq9uhsHKqKNlk91Fb+4HXO9PuBq7dkHV8JA1gVSxRypEz9WOfqp4OWdmMs1/uX5bqVZzpWFHtfrAz8+TyVU5kQ2D9zScexTYevj5Ms1Z3G5bsUZJ8uyXerLvG43BYP8O6QdBnJoIIaY0YrpnpK39+PvXgptfZw83J7/6SXwKt6/HPboWmTHizRorHLsU2F5nttRawPEbyDIz7F359rSLBfQJRhoJcVdrzOeXI+82XjuVlPw0+bovnc58JQXbWxiV7RB3EBb7p2LIeV57gWpjqVZzjcaAjtfpiOlLIfb85/djLpeH3itNuD+5dCu1xkg9BnpBAGXBp/qLu54mXb/SlhVoUdJ5snKQo+b58/1v8uGy4rlvbobd/9y6K0LQc9uRffCnZ+hQdxsX9lgW+6HJ8lPrkfebgp+eC285UFi37vsuT44u3txyA98Mk13lwx9yH33MOHuxZDr9QE3z5971gxT6y4GrF5QGH+1teB6/BOfi17cirlY4YfPAwtUXeR5o/7c51cZ0AhY3LYnyU9uRN1uCn5wJezdw8S+99mzfWVzfWWfXqY9vBbe3Bh060LQqzux/e9zprpLCC9CZB7ua93fmvPuUeKjaxG3m4IfXYtoewI6P8PSRajQO/G56NPL9BsNgaVZzgVpjuV57rebQvreZcPdwkGb9efN0bcuBN26EEIo4T2Im+ou6Xqd8epu3N2LIfcvh71/mNj7Lnuqq3iso+DRtcjKAo+i9JO4XNfmxqCet1kg5mAI7i8LlhJUSZ7tL+t+m/nydsy9S6G3LoB173yVPtKx0PkZYRTcU2OwNfd5c8zlqjPYHNf8VIfCNMd6rPeLWzED73Pm+7Hg2Phtz5F/fb8TBwBvli+9pROdhSMd+RP98JWw9XFS58t04Az+pkAQH/4XPyCJdSMgo3DoQ27b0+S3DxLeP07qegOX1v5/7F0HeFNV+0f9lO+PqCjKUjYIsvlAQDYKCKigskFEUD9BK8gHKkP2ptAySgdtKR3pSJvRvZvuPZOOJE2aNk2avW92cu//Ofe2sZaqoE0H3jx9eMK997znnN/75r1nvOf9oe4M3ZMKU/CCQPb+hiBIGPar5aHRiQgUreUT+NX3uBWeDZVeItZ90GVVa4Z1nSBUxnmAEQeA979jZRejHlGRIUGopD6gkeHTUOnVVH1PynkAaKzaP2YAQU+INtokIUrqA3h0H26FV0OVt6DWV8ELsmEHtRxbY5iPsyQoeEEerl9v/XTx/i/XHD306eXTn/nd/jYj5lwL0x+8Tk3xwjo/twtfrFo+E1ttmT5l9OHv1ieRToETJMY4u5JkFEeom0LkDYEKXpCGH2KWENFWtQv/wxwWIO8BnD1KXlAjHQWw0kvGfQCSEWM8HeiSEwaCoiHQgCVWx5SOsXtoqRZZpKopGGCIgiDHtpbQ2YROEKrkBSsaAsHiDvAvgKceVpIsUqK+JUzdFKLgBakag0EqBQkRxCh2ulyiJNnkUfqWMCUPsEjIuYF/FCKE0YiA8wBgdqkThIpY9xvpQEH86nsyTiCgqEA5QYziCA2foOAFKXlB2maCURQOowT3RlG4qikYQNcQqG0GmWTsGPG9w9TVFERJNkuJkDBMhXWhKUQvDMOeBIOdNsu0yqNk3AcNlV715Z6NdB+QywHEYYK09DZ5lK6ZoGgIlHEClbwgMAgCrEhAcdpmghKFxdAS3qoINKlkE+Mep8KLR/eWN6BZX7C5MAgEQdWqJsMqkqmtuKIB6N0ojrDKI1Fg0WfQoGtsj0InCBWz7/OqvOvL73LKPQV1fmCXFkt34eDycXS5V30xxCJqkOMInGa//JWH614wwgJNx/+6HwEw0E0R1vnt/ew9x1r46JFDPvlwgfulvZU5bmJ2AEpofuLzbctHjwTpLp9Bs7jdvLy3JOMa8KqoOnHd4Qg8sQiAdNLUFPLpz7YuXzz/rSXz3kQdlj0JBNrposE7AXtrdf+v91FqxCZ32NseRBjFgEkWxpWAjQ2x1x2WJsEx83JIxiKkMcIlrCwWu4iNkhxlsQVXRynsCzZDBPxUKOHzHxCjdXgSVIRSkz3cHvTcr4QdcOzQRkc0EJaEd+XyGS7/XXv88Mb/fbd+6yeLJo5vzUszcED/PTvfTaOeETL9QewlthbmeM878kN0aHz7/wJGLKwXKICgsyib1iOCAJImR4MedegX1mtsKQQ7NuyY7gGtAaouUPBPW+gYDGIPO1TpkNa+L+2/d4C9PeYdGuDor4Mk7U8b1ioBa387xBwNwB7oCCxKbghutQ3EOnS/w/VWmmiHglCQMWvsdDTaaXFHkxxfsMdaTRedBGD8jA7GM8eTvfALStcS+eDHpQunDn31JSwtbb/WX1SnoPTCPjwxTUI5BzX8kKgHR77etQrbBMSGWhgjQ//+z/Z/7lkHk8IzTz/95vjhV07vErHu2zH3h6vsiTEGvCOdIoAezQnx+WHWtDH/+tcz/bG8vGWZ15nFd0CiRU3boYdOC+MXuxYBlF/TJIlgFNwi3j/yv2/Xr1w+Y+7sCW+OHz586MsvvjBg4PP/HvTS88OHvvzmhBEL5r756UcLjv9vY3rMWcCIh1GNdm17cGk4Ar0NAdRhBXoemIpx/2AO6+RPm73d9tUW3QEzLH2vZPvpbTh2VXtQEjOjLErJCyrPuhEZeOTGxT3/+27959uWf/zB/PVr397yyaKvPl/504GPb1/9KiP2XHONrw7jkcbHVl2lAlxOb0ag0/QyK5fP+O6rtbnJl8Aibu+MH+vNmP6dtilJYFSLUsybxBFY2vWY0GMYu7KH69e+t74N8/tfPPFEGe06OM6CUdXj3urvYI6X7UMIdOqwhg97Ze3K/4CjGKZ4kAu8D/XnyWgqeoAGxMeiu+9ybqCIdV9Q6yeo9W2p85ewA+TopjvY9kZJ3nEF4Qj8UxDo1GE9++y/3nl7UnRor6T5ejJc0qP0wrF/h41zzfHoeCoeHEAxgGB6sNf2KHLwZ3AEnhgEOnVY//73c4sW9MpsDU8M7o/SkQ7732iiBbCq+Keb7o8iHH8GR6AvItCpw+q9+bD6IsR4m3EEcAS6CgHcYeGzKhwBHIE+gwDusPqMqrrqHYXLwRHouwjgDgt3WDgCOAJ9BgHcYfUZVfXdtyLechyBrkIAd1i4w8IRwBHoMwigDivgrsub40c4Mpr0w3cJ+4z+uurFhcvBEegTCKAOC/ASTuwTRKp9AlO8kTgCOAJOQgDNh5UUdWrn5iXz577Zmg8LH2HhIywcARyB3oiAHmQc5ZR7RQX+dO/Wfj+Pb8HEsH//Z3spL6GT3DYuFkcAR6BPIICmqNTwCdwqr7qi2/WMu+hK1lNPvf2fCVSMl9CCH37GE0bjCOAI9A4E0ESVVlmkQRQOCcJaSSjGjB66Yd28FPLpXsdL2CdeAngjcQRwBJyEgCOzrj4GeCeM5uvAvg+un/+CnuuO5uqO7Y1TWSfBgYvFEcAR6M0IYLn8AftBIoIktzqsmLBj2fEXAYkbIAtox6zbm3uCtw1HAEfgiUcA5QY3S4iaphBVU3ArVT2/+p6YdR+w7PVaXsInXjF4B3EEcAQeRgAlsqsrvnPfw+X6ud2u53eARXfcT+GzYBwBHIHeiAAWh0U6tWPT0ncccVhIX+ElfNgB41dwBHAEnmAEUF5CYsCRJQumvPbKi228hID5so1N8wnuPN41HAEcgb6FAHo0J8Tn4Myp7XgJC9OuVOffVPKCWilq+1aX8NbiCOAIPKkIoA7LwUvYSqR69NCnd12/ri683UpB/qR2Hu8XjgCOQN9CAHVYwd4HZ0wZ/cwzT7U6rBVLpu3f+35OUk/zEqrJKPU0BfwL4i9Iv/5pyIgWva4h//YWWgS7pf7tLTVaBNz67XUVSgWopQCBWJTHrxX9VhpQbVsbgDQq+OvQMEyajtomre15UBBtgI4KutNelIoEhOio4O8PpHUo8htp7WtBpXXeNrQ7nbQNBQRDoLVt3RXWrEZhd+jLAa9DKYB7/Lf6wqzi1yIdlNKmxw5IatDrrYbUWZGHb2lQpbRaxW8RBoRGnakYs7FOVYxJ+xMV/7aWX1XcrsEYRL/btnYqbm8w2G+hVcXdpVzQgK7+69RhDR0yaM17s3uelxAzC8wyNKjOlCREGQW8hpaCQOgv3GFPyihwS01CdNgtzM2hFoAV0ZBBEei3duaQpo8GJgh+G1gRtCIgjYqAW+jPBrMVUBEJPKmPBn9Ywxy3VGgDDNGgIsdvBmu2mgQuGlBpWC0qtBZlFBBiiAZ/GjLoBdYq7F8dBTHGgIrUbX3HSqnaSXNccVizo20OxIBbbN+2tqqx69gPQB8NgFWRQQe73NQ6FaihoDxAqFIeScWYc3eo2KGvNqvQoyp2vOEc3ddRUD22VzFmMKhV6H/fKvRoEQxYB846ClBWJypGpRlQGH+jYtRiDageW1XczjJ1VKBiiAoMG1M69sVhMEAp7W5h9v+ritsMpnMVoxWpUYuFUGNuldZdKu5U73/5YqcOC+UlfLMneQnBT51slkbpBBGa5nCtIMIgjrIpKIg6GtHEwEqqTkiUNxCUjaE6IdEsJcEqKqKJQTQxVjlZzQ+XNxBUTWFQC9EiI2NFEHW0QRQp5YRIuSGQkGiRkexKaqs0FVXbHCFmByt4oQZRpFVORqWBiqxysrIxVFwfrOaHmSS/NgDRAGkiVpCIHaRviQSiVK3SEBVVww8X1AXKuATQsHa3rHKKvIEgqAtUNYW11oJ2B9HEGESRgtoHgtoHBlEk1hFHs9X88KbqAEl9sFVORrQx4DpayqagKHihgrpANT8c1K5Bb6modiVV3xIpYgeJWEGoNNARUERFtSkoGn64kBko5YYAZFDEYBXVKicbRJEKXqiYHaxtDoeVlO5gPETZqo0ioqoxVNUUphVEGCVRAEkNaLBNQdEKIoAeG8MgVMWtfdREW2QkVVOYvIGg5ofrW4C+QO9QZCAhUVIfLOMS9KjqAfgoVnYFRc0PF7ODlY2hRnGUTU5ukxZjkZHkDQRJfbCmOdwkJbXaWJs0ITNQUh9sFKMNw1SsjbErqcrGMEFdoIIXapGh1qKKxpptkZGknBAhM1DTHA5EOaxCE60TEvk1AS3MQJOEhCKP6lEbA6uoCl5oI+O+jEuwKyjtVWyVk2VcgpAZqBNEYB1x6FEnJLawgsTsYJMkCtMjoorGVKlC2yZvIIAGoB2BVVSLjKxvAT8ZSX0wJIxAu983SS07dVj//vdzixe8FRPWc0Sq6LhJyiXQC+6VZPtUFfg31oQaJHEIlIoY0y3y+JrigORo96ykO9VFAWJOpE2ZiBjSEEOaWkAtyvROjnYrSPdilQcq+RREk4yY0hEohccgxBCvxUW51pYEyBujzPJ4BEpBTOk2ZUJFnl8U4XJ6/C0eg6AWUO2qREQPKtIIqJmJd0ihlwtpXkJWOCSOgTFp+lQunRD64AIx6GJ9RbBJFg+rkxAtqMiuSirJ8gnwOZNIdhNzIq2KBHALrUjbEp0c7Rbgc6Yg3UsrpNpVSaBtxjTEmMalh/h5nvTzPMmlh4ArhrTWZmuTC2ned67/TA69om6mIuYMIEoHKjJIYtPjbgX4nC7O9AGiTOmINhlWJ5lk8fUVwcSgi6EPLnDpBLQjQJpdlaRriSnJuhd470xc1HVlEwUU0afZVYlqAZXHIKTH344iXK7I87EpohF9HIjFA8OKrh7SOwTqqLCS1MgIyEm+lZPiUVXgL2BGmGTxGPIGSVxlvl9ytFtOqkdtyQNpQxToozEN0afKG0l5aZ7J0e5FNO/6ymCNkAoAMWcgmmRmWSAl7GoS1Y1dEahsIlsVCRjyJmlcIc07inA5O/lOU12orgUFHzUYGS8qNeYmJexqWc49EYdokMQC5M0ZiC6ltuRBkN9ZStjVpppQsxxVMVqRWR6fk3L3vvfpjLjbikayTZkIq5NBs03pch4phngt0PdMWY4v1BLTqmKAc2pNcYD3rePB/mdb2EQU+VRgMOYMmzKRlnD75rWfEsg3jJI4tOpkrNnqZmo86UbgvTP0Qn9M6ZgeDZK46qIAwv3zUSGXhawIzGBgdTJQZTM1N/VugM/p1NibkCgGNZhUqzJByafUVwYlR7uRw67UltyHNfGIPt7pKnbougu/dOqwej4fFjrYbqAHJFLc4ih3C7PD62sS9LI8xFSOWCvMqoKKInI0yS85LrC8kCzkpFo1RYilHLGUK1syszNCo0m+tJSQ6rJouSAT0ZcgtgrEVFbPiAsP8SSGeVUWk6VN6SZVAWIqQ2wVVk1hUQ4xKOBOXPT9ekacsiXTpi1CzKAiVUtWUmxg0IM7mWkhTewknTQHxqSZy1lVcb4+7gG+t2rLY0yKfBgqRgyliK3CrivOpYXduXWNHHFPyEmzqAvBLbQitTibGuV759Y1WkqIWpRl0xaDtlnLEWs5qyr2ptvlm26XWVWx4IqlvLXZhpKsNMLF82eDH3gohZmIvRKIMoKK9LLcOOr9O7eu5mSE2XXFoI+GUhgqNinya8tjAnxv+fq4s6ri0I4AaXZdsVaSk0sL97jjGhnmLWvOBEXM5TZtkbIls54RFxcdEBRwpyg72KpMQoxJTrdmKBpWkirzPEMDzkeF3SzKiWhkJZuUBRjyellecW5kNMk3LTGospgi5qWDPlrLEXO5tCkjIzkkmuSXnR5aVxGjEmUBQOyViL6EURodEnSXEnmvpjxa1kyzqAsx5I3yvKy00KCAOynxgdy6BI04C0hDDUbSmB5D9g8JvJufGS7gpOhluQB5eyViLKsspnh6XA8JvMutSTCpCoAe0YpMqoLUhODbN6/GUwOkTTSrpgiGSkCzbRXSxozwEM+7Hq4FmRE6SQ6opc1gKorI165c8Lp7vbk+BUMeGIy90qopSowJOHf2NCnCxyDLQ6suxZqtFGZGhft43HEty4/ClI7pUS/LKy8k+3i5Bd2/08ROxgwGhkqAKoVZ6YnBd25djaH466Q5qMGUWzSFckFmbUUMNco3ONCjsogI67KAm3P2O6kL/ZRDVC91WGDJhsIo9Anyu0iJCmjgVKmVzVajBLHLEVhhN0vlEh6vgclvYsskPEgjtFukiF2B2BUmvahFyOE1MIXNHIWs0QiJEKsMgRVPPfjtAAAgAElEQVSITa5W8OvZtZz6WrmUZ9AJbWYpYkOlWaQSUQOLWd3IY6kVfJNeBANp4JZZL+I3slnMaqGAo1MLLEZxqzS7XKXg19YymLUMpazJZpKA61ZQBLbIREIug17VwKkDDTNLwS1MmkHM4zIZ9CphM8cMapG1SoMVKgWfXlVJr6pUKfigtXZF6y2rrEXAKSstYzNrTHoRgoCOYM22GiWNPBaDXikScoEoWAEaYJXZTBKlrIlZy6itZQBpaNWIVQZbZBaDGLSNUcWtrwPIoBXBFqlJL1Ir+I08FotZLRGUI1ABok9DZx/owpDDVrr2iz7ariAVpt+8d+eXaFIAv7FWqxbYTK3IW40SiaiB18Bs5rPl0ka9VtjaR7vcoGsRNNfzGpgtAo5K3mTWiwAgCEBMIW1ks2oauHVKoPoWAD7afZtJ0iLgsJjVzU1sjarZbEDBRw3GoBM2NjDZrBpxCxfSCICNWWUYznJpY3U1nc2q0SibgbVYZVhFNrO0mV9Pp1c28VhGXQuwvTYVG3Qt9ezaakaVuIVrMYh/VbFdLpfwKirKa6rpkFqAIi8H+kIUdouU38gqLS3lcupA7e1UbNKLuJw6BqNKKuZhSsf0aDVKZBJeTQ2dxazWtUoD3cdUKeDXM+iVjQ1MYK6IArHL7RapERIp5U08LpPNqlaI6xBTLWLIQ9RURBnp3HF019qMigxi2rXUjruEPT/CQh1WVb73A9+L8bGRGo0awT/dg4BdjhgqEU169zisooybAd6nMlIpRqOhe/qH14LAetjMR6AioGIlEXdYXbHqoQN7VTzGg4wEr7LiFKMBwu2smxCwy21QhV2dDl6/KmeOsHRUu4LMLvdKj7vBKE+xWs3d1EG8GlhvMzbZtYW4w+oKV4WNIcEON1nFj2iojhA2FlhMOtzMugcBg7ZZIczViRLsSgoa4dF1Ou0wO9BQYCVZ3vCAW+UnbsqxWfERVndoGIbtep1UIWZA0kywG66KdOK+SgeNd8l/e+mUEMSwkE1SiqYlHlJW2q367lDmP74OGIbZzKqkuAdlOX5GcSQaZ4TFuDrBbaGRK0YxQdNMMCiKYLvxHw9/dwBgs1mrqyuT4sPpxSFWOQnRkdGldyfot0vc08NCYLCGdd/DZcLYYb2KlxA4LFgVC2vSYUMtgltzdxgzAsNwdnbWdddzUYRL2uZwEM3o5MB3WBEBKyNhqAyBTd3SxX96JRaLJSk5xfXahXjyDZMkEoS/ogFxfWachY6wAj2/f6uX8RKiEUC6eMSUjdjYuDV3z+8MhuFqRhmZ6JOX5gmCTvVYsL4zX7+aSERPQcwVCII7rO5Qss1mLSsrIREDSnICLDISAjmOozlTyw8PlP7yFXM8oqHSYs9999WatavnfLRqBhhn9fwuIRayqI1HjFmIFXdY3WHKWB0mSKCV5OsliehJAPRUx1+2rUcpqIkEvxncYXWXhmEYNkIyjbzWIM9uW8NCBwePoqze8AxK8yVhB5TSXLPiz+fEXAEOCxzNmTepJ4/moIvuGkFkM5MkaS62mPFdwu6yaESOwDWIKQsc+Gg91+acdy+66K5qDGquuS9rzrVZ8TWs7lExjCAGBBGDSFdNNKKI6GNhDeCUKMUqizSKw43icERBaV3Jmjt7PCXkZ8QUj1h7gpcQRLpT6kp8owjXM1IpGo2ye5SJ14LYpYi5CoFoTo/DgkDgaGXuHWLQhbysaAMeudJNxgcjMITYBIihpE+GNaCLqnYlya4Af4gBdVhTJo/c+smi9OizPcZLiAaO0gu8g/wvJcRFqtWKbtLmP74a2CKB9eVwdwWOFtNuPvA5nZFKMejxyJXuMT4YtmlhUyOs65txWNgukBpN8mGIQRDUYbme3x3ic7C+7C6iiwE5/Lp/7oomOREwgwpovoyKNINe0z3KxGuxmUQWTalNlYoucEQ5UfVaKqwk8+j38lJvMempFjMeudI91me3WdQWiGvT5LeNsJwz5XeS00CjYUBKInsSgqS28hLS89w55Z4afggId3byxnbnPwl0DUsrjBSySVJhsRVfw+oeY0YQtZzHr0+T8qg2BRlN9eU0a0bXsNRNQYK6AIUwz27DA0e7Q8d2u10pF/C5RfLmFDQ22JnvJGf4LJSX0CAKk3IetNT6CwT3wRqWhh8CCUOtskhE1UO7nmjgqFVONUiTTBo6jFtzdxgziMOqrCgODfbITLyjbyGiWQOdGzhqkYbqReFmdTEeONotGkasVmtRUUFoiE8+zdcii0LDGpymYmc4LGMcoqGUZrpePv3ZgW/Wffvtp8BhgVHVrxljnfaO/aP+oFut6lhER0NMzB4PHLXZbBaLxYR+rFYrDMPdY17dXAsMwzk52TeunyeFXu6ewFFEFQEOABnwwNFOVA3DcAfD6+Shx7xksViSU1Kvu15IoLj1ycBRayKipUY+OLJs8dThQ18aOvQl1GHByWBzEIpGlN2YLbe9/8JS9ELxiCUHsdf3bOCoxWJhsVipqanBwcH+/v65ubkm05MZ5QjDMI9bnZMRVl38AKSy1DlzfK1EX4TaSMRIRSyVeODow57HYDBUV1cnJiY+ePAgICCgpKTEZrM9/NhjXbHZbGxWTTaNyqwkojlssXz5PTIo+UuVYmcJfQ7OnNaO5gtE6/dwwL5jhJWBmOp6doQFQVBsbOzx48c3bty4fv16T09PrVb7WFbShx7uvl1C7P2kjEDUUYgeH2F1YiMKhYJIJB45cmTDhg2ffvppcHCwxWLp5LnHuwTD1r68S9jp4ee48BM5iRfFrPutxDDtxz7d8x3dJZRwQulFwZzabJOxJx2ERqPx9/ffuXPn+++/v3nzZj8/P53u8fbg7Xa70WhsaGgICwu7c+dOXl5eV1je49npIz/dXYGjWpCtQVjnX5XnyWNlWCz4ontHFYnF4tu3b2/ZsmX16tU7duyIiIjoCrPp44GjqMMK8jo4bfKop57q10rztfXjhccOfVqcfg3RxyKGuM438pzqudrisAL9LiXE9nAclkqlunHjxtq1azdu3Hjy5MmkpCSD4fF+XRaLRSqVxsXFLVu2bMiQIRcuXICg3hq7b5MgxkpEl+H0wFE04yiIw/I+nZ5C1uNxWB39FSIUCs+cObN69eqtW7eeP38+Kyvr708JEQRG7DrEwkf0xW1hDX3qaE6nI6xJE0ZsXP9OGuVMjwWOopHutSX3Igmu6Sk9HOmuUqlOnDgxa9asTZs2eXp6lpSUmM2Pl23OZrNxuVx/f/+33nqrf//+Fy9efMg4e8sF2CLupsBRNNK9Ivd2ROD53Ew80r0TA2hubnZxcZk1a9Znn33m7+9Pp9O7xGHBVk0fDhzt1GG9PGjgu0unxxNPgKM5lp44moNNCbmh9KIgDjPbZOjJKaFSqdy/f/+wYcM2bdpEoVAaGhqsVmsn9vX7l8xmc2Fh4Y0bNxYvXjxjxozAwMDff7aH71gMLQZlkVmeggaOOvPdi00Jmf5V+Z6NbJrVggeOdlR9Y2Pj1q1bR4wYsXfv3vj4eD6fb7fbOz70mP+HYbvFpDRo2GZVLlAxyOn+lxa/e6pUpw7ruf7PLpo/uSdpvtB4Vr2IJOVFqyRlNotzJ1B6vb6lpaWurq6oqCgrKysjIyMzM7OgoKC6ulomk3G53K1bt/7f//3fzp07CwsLVSoVgiAmk6mlpYXJZJaWlubm5mZmZmKl8vLyKisrGxoaNBoQnQ9BEJPJTE5Ovnbt2q5du6ZNm/bmm28eOXIkMzOTy+U6Xphms1ksFrNYrLKyMkwaDf3k5uZWVFRwuVyFQuF4+DFN9PEeFwlY9NJoXnUEyD2ideYWkhqsYekEwVJOkEZSYLd13+Fns9kslUrr6+tLS0tzcnIyMjKysrJKSkrq6uqEQqFcLudwOGVlZY2NjVhUgUgk4nK59einoaGhvr6+pKQkKyuLTqdLJBJsy9hisfwFDep0OoFAUFNTU1hYiBleVlZWYWFhXV2dQqGorKxcvXr1Cy+84OLiUlFRoVKp/n48jd1uEzRz6OVpfBYgf0Q0znwnOcOpdeqw/m9A/yXvvBUbfrzHRlhoehmbMtqiSLHqqp0dOMpms8PDw48dO7Zhw4b58+dPnz59zpw577///qFDh5KSkjIzM1evXv3MM8/s37+fz+djRiMQCIhE4i+//LJ169alS5fOnj17+vTps2fPXrFixd69e93d3UtLSxEE4XA4586dW7du3dSpU4cOHfrcc8899dRTgwcPnj179s2bN/X61mGFWCymUChnzpzZsWPH8uXL//Of/8yYMWPWrFlLly7dvXu3q6srjUbrhmUvGIaLCvO8PK/Fk64D8k7ARO3cqEKbLNwsjbBqS7ozckUkEiUkJFy6dGnr1q0LFy6cPn36vHnzNm/efPz48fDw8LS0tCtXruzYscPb21uv1yuVShKJ5ObmdunSpcuXL9+8efPq1asbN26cN2+ei4tLUlKSSCRCEEQul1Op1MfVYHV1dXBw8OHDhz/44IO33357+vTpc+fOXbdu3fHjx2k0Wnx8/Lx58/7973+fOHFCKpU+7ri+0zeVxWLJzMz0unsjPeGOWRqFpjxzroq7eATXqcPqNfmw4hB9JmJhIbBTXr8wDGs0Gg6HQyAQXFxcVq9ePXXq1BEjRgwePPi1114bPXr08uXLz5w5c/Xq1VmzZg0YMODEiRM6nc5oNDY1NVGp1IMHD65evXr27Nnjxo0bNmzY4MGDX3755aFDh06ZMmX9+vW+vr5isbiqqur48eOLFi168cUX+/XrN2DAgFdffXXIkCETJky4evUqBEF6vV4gEMTHxx85cmTt2rVz5syZMGHC8OHDX3311UGDBr322mtvvfXWunXrXF1d2Wy20Wj8+5OCTu0YuwjDcGFhnufda3Ek1+5xWIiaCMZxxvLucVh6vV4sFickJBw/fvzjjz+ePXv2yJEjBw8ePHz48GnTpr3//vsHDx48e/bsJ598Mm3atDNnzkAQJBAILl26hG3VrV69evv27Tt37pw2bdqQIUN27twZExNTW1vL5XJTUlJ+/PHHP9UgNhyz2+0qlaqurs7f3/+bb7559913J0+ePHz4cMzwxo4du2bNmsuXL589e3bixIkvv/yyq6trV+wPAiVbrRYajXbX43paPO6wunAE2C2Bo2azOT09/cKFCx9++OGUKVOWLVu2b9++EydOnDt37qefftq6devKlSuXLFkye/bsV155ZdSoUR4eHlartaam5uLFix9//DH2Pty7d++pU6cuXbp09uzZAwcObNq0adq0acOHD9+2bVtcXFxNTU1ZWZmfn9/ixYuHDRu2bNmy77777saNG5GRkQwGw2q1VlZWXr16ddOmTTNmzJg9e/bnn39+8uTJS5cunTt37ocfftiyZcusWbOGDRv20UcfEYlEDofzuBuUf+CeOr0lFXOY9PhmpvOjCnsicLSqqurevXu7d++eOXPm/Pnzv/jii59//vncuXPHjh3btm3bsmXLFqCf+fPnr1271t/f32w2czicH3/8ccGCBcOHDx86dOjbb7+9cePGXbt2HTx4ENNIbm4uNlibOXPmH2swIiKiqakJQRCj0ZiYmHjy5MlVq1ZNmTJl1apV33333cmTJ8+dO/e///1v06ZN77777uLFi6dPnz5o0KDJkyf7+fn9/ckgpm673S4S8piMrBZOPDhLqOlrZwl76Qir9SxhtFGWbNYwunxKCMOw1WoVCASXL19esmTJ2LFjJ06c+Pnnn4eFhZWUlDCZzIKCAi8vry+//HL06NH9+vXr37//vHnzwsPDEQQpLCz84osv5s6dO3Xq1PXr1/v5+ZWWlnI4HCaTSaPRPDw8Fi9e3K9fv5kzZ3p6erLZbARB2Gz2li1bJk2a9M0335DJZD6f73AW2dnZX3/99fz586dMmbJmzZq7d+8WFRVxOBwWi5Wdne3j47Nq1ap+/fpNmjTJzc2trKzM6TGrsAyxMhBDJsju5lSaL3SZ0iINM7aeJXTu4QGQadNoDAsL27x589SpU8eMGfPBBx94e3vn5uYymcyioqJbt25t37597Nix/fv3nzZt2rfffpucnGy32+l0+t69e8ePHz9gwIBXXnll+fLlBw8e9Pb2Tk9PF4lEVqs1Kyvrq6++mj9//tSpU/9Ag5MnT3Zzc6usrDSbzY2NjadOnVqwYMHo0aPfeuutffv2kUik8vJyJpOZnZ2NtWTYMECyMHDgwOXLl0dFRTkM5m9/gRFEj8AtgEoa5yXssvmqDiTwa6oOzEz2KS9O1kNdnF7GZDIJBILExMT169e/+uqry5YtO3fuXGxsbH19vVKphCBILpfX1NQQCITFixc/++yzw4cP37BhQ3R0NAzDTU1Nfn5+rq6uHh4eFAqlvr5er9fDMGy32yEIqq6u/vzzz/v16zdjxgw/P7/GxkYEQeh0+nvvvTds2LAjR44UFxe3jztlMpkBAQGurq63b9+OjIysq6uDIAhGP3q9nsViffvtt/369Zs4caKHhweDwXD+SlZ3BY7qqLCSxCn3psW7McqTzCYn7hLCMGw2m3k83o8//jhy5MjZs2f/73//IxAIdDpdKpVCEKRQKOh0elBQEPaymTVr1rlz58rKyhAEKSgoeP/991999dUJEyZ8+OGH7u7umZmZNTU1IpEIi25hsViYBu/cufMHGpw0aZKXl1dpaSmbzY6Ojl61atVrr722Zs2aK1euJCUlNTQ0qFQqCIIkEgmdTvfx8Zk1a9azzz47evTobdu2JSYm/m0/5RDgCBwt65MZR3vpCAsNHK3M87rvcyE2OkKl6uIEfmq1GhvJT5o0qX///t999x2TyXw4uorNZu/cuXPYsGGzZ8/et28f9so1m83YhhFm69hZaHvbRywWu7i4PP300++88w6ZTBaJRBaLJS0tbfr06QMHDjx16hSXyzUaf12SU6vV9fX1bDZbIpHodLoO0hQKxbFjx5577rmZM2cSCITGxsb2ZR022JVfrBJYX4Fou4n5uTDd3e/uydQkklMDR202m0QiSU9P37Bhw9NPP7127dqcnBytVtthQZDD4WzdurVfv34LFy709fXlcrkIgqSkpMycOfOll17CvBWTyeyA9iNqcM6cOZGRkWVlZfHx8adPnx4zZsyLL774yy+/8Hi8h9enSktLP/zww6FDhy5YsOCHH37Izs7uUOnf+C+MoAn8cObnLo3mQANH6yvvJ1Bu5eXE6bQgkqALPy0tLb6+vjt37nzzzTcnTZp048aNTkcuzc3NX3755fjx41etWnXmzJn8/HxHGwwGg1wub2pqqq2tLS0tzcvLS09PJ5PJd+/eXbJkSb9+/datW1dQUKDVaiUSCYFAmDBhwssvv3zz5k21Wt0hQAGbrSgUCj6fX1dXV1ZWlp+fn5GRQaVSfXx8Vq9e/dRTTy1ZsiQ9PV2tVnfJVpGjFw9/MekFWmm+oZWEwpnMzxDVriDVFN2Ni7xSWhBvMjoxcsVoNObn51+/fn358uUjRoz47rvv2s/KHSAIBALMYa1ZsyYhIUEikej1+rCwsDFjxgwZMuSXX37pMDp2FHwUDa5cuTIvL4/BYLi5uW3ZsmX8+PEzZ868f//+w69JBEGqq6s3bdo0fvz49evXX7lyBRvrOar7O19AU/VyrbzOKM/pkyQUGC/hHZcJY3oVLyGawE/ZFM6hhzc35Hc58zOHwzl8+PC8efP+85//bN68mUQidXjZYjbB4XD27NkzefLk7du3+/j40Ol0x9qnRCIpKiqKjo4OCAi4devWtWvXjh8//tlnny1evBjbEPz88895PJ7VamUwGDdu3Bg3btyoUaMCAwMdEhxmB8OwTCYrLS2NjY0NDAy8ffu2q6vrL7/8snv37mXLlg0ePLhfv34bNmyorq5+uKxDSFd9UcoaeMxkMYcMjvJrSAiW4LELt1McotAEfjJuQH2Fb0tjtlOZnzUaTUBAwM6dOxcvXvzee++5u7tjUXIdQGMymR9//HG/fv22b99eUVGh0WhaWlo8PDxGjBgxYcKEiIgIs9ncqQoeRYNbt25taGhgMpn79++fM2fOvHnzdu3alZKS0qnAsrKyjRs3Tp06de/evQ8ePHh4WNeh5Y/+X7vdLpM289iFssbkvrvoHuh1YOqkkejiMspB0fNhDa3Mz2S1IE4nr+hy5ueamprt27ePGjVq6dKlR48ezcnJ6VTltbW1n3766RtvvPH111/HxsZiCw3l5eXBwcGurq4nT5786aeffv7552PHjp05c+b48eNffPHFu+++O2LEiBdffPHAgQMymcxkMqWlpZ04cWLKlCn/+c9/SCSSoyK73a7T6aqqqkJDQ69fv37q1Kmf0M/Ro0fPnDlz4sSJL7/8ctWqVSNHjnzxxRd37drV0NDgKOu8Lxx2VVpiUEWeP2B+1qFp0Rwupmu/qMmwkmwQEVRNBEjuXOZnpVJ5/vz5efPmLVq06KuvviISiR0SBNntdr1eX1RUtG7dun/961/79+8XCoUQBFVVVV26dGnChAmLFi2i0WgdYH8sDX7zzTcymaympmbDhg2jRo1avXr16dOnf2/olJ+f/957740dO/aHH35ISUkRCoUdqv7L/7XZbLW19NSkyJqSsFbm565Vq7OlobyE2fEXDu3/6NOPFmzdMB94rJ53WGjgKKyKsavT7fquZ36uqqpas2bNoEGD1q1b5+HhUVVV1emLrrCwcPHixc8///wPP/xQWlrK5/MZDMaVK1dmzpz5xhtvzJo1a9WqVdjW+M2bN728vC5cuLBv376FCxdOnDjx5MmTGo1GpVKFhIR8++2377zzzgcffJCUlOQwNZ1Ox2Qyb9y4MXfu3Ndff33GjBkrV67ctWvXjz/+6O7u7uXldenSpe+++27p0qUTJkxwcXFpbm52lHXSFxiGS4rz/e7dSKK6QcIIkHHUyYGjsCLcroi0Q6VOjcOSyWTff//9iBEjFi9efPbs2YyMjA5LgWazGYute/fdd1944YVjx44ZDAatVpuUlHTs2LEFCxZs3ry5qKioA+yPpcGffvpJo9FUVlYuWbLklVde2bJli6+v7+8NnRITE6dPn/7KK6/88ssvDAajC7eGrVZLTk62r8+tzCTPtsDRLl3McbbDQnkJZZwHlTlu+SmXS1NRXsJnnnlmwdw3o0OP9mykO+I05ueKiorly5f379//o48+8vf3f9hurFZrS0tLcHDw5MmTBwwYcOHCBT6fX1paevfu3e3bt48bN27atGmfffbZzz//7O7uTiAQ0tLSsrKyPD099+/fv2rVqiVLlri7uxsMBqFQ6OrqumPHjjVr1vz3v//Nzc11GD2Dwbh3795nn302ceLEt956a+vWrT/++OONGzeCg4NTU1Ozs7Pv3bvn4uLy/vvvL1q06NSpU1hEtaO4M77AMMysrYiPvl+cdQ8dYT0hzM8SiWTPnj0DBgxYtGiRu7t7cXFxh3Vug8FAo9EuXLiwYMGCMWPGXL9+3W63i8XigICAAwcOrFu37vvvv2cwGB0wfywNXr161Wg0lpWVzZ079/nnn9+xYweBQODxeB1kYkEPd+7ceeONNwYPHuzm5iYWizu0tkORx/qvzWalV5XHRRMqC4JbR1jOm/U7w3lhvITySJOEaBQTf+UlnDML5SU09xAvIcb8rItHzE7JOFpRUbFixYr+/fuvWbPG09Ozpqamg9aVSmVMTMz3338/ZMiQwYMH+/v7QxAUGhq6cuXK+fPnf/LJJxcvXiwrK+Pz+RKJRKVSGY1GtVrt5+e3ZcuWlStXbt26NTg42Gw2s1isQ4cOrVu3btu2bWfPnq2srMQqgmE4NDR0zZo1b7/99kcffXT69OmCggI+ny8Wi5VKpcFggCAoJCRk+/btK1eu3Lhx4+3bt2UyWYdGOuO/Bl2zUpSrE8V3E/OzNhIxOD3jqFgs3rVr17PPPrtgwQJ3d/eSkpIOexcajeb27dsffvjhjBkzFi1aFBAQYLfbWSzWpUuXvvzyy127dl24cIHFYrUH/HE1iIWhFhcXz507d8CAAZs2bbp//z62EdlerEgkioiI2LNnz0svvTRy5MigoCCLxdLp8L99qUf/DsN2vVaqlFRD0sw+ueiODvk78hLOn/vmnh3vZsWfB8mwTPFdFl316B4XXXTXAdYcskxQ0uWsOXQ6ff369YMGDZo3b97hw4eTkpI0Gg2Wsl2r1ba0tNBotB9//BFbQZ84cSKVSrXb7Tdv3hw2bNjYsWO/+OKLsLAwx7TCarUqFIqamprjx48vWLBgxYoVLi4uCQkJNputrKxsy5Ytb7/99meffXbz5k0Gg4EZHwzDbm5ub7zxxsiRI3fu3BkQEOBYBga8JkplfX39uXPnFi5cuHTp0n379hEIBIWii2M7fsfK5Yi9GjGizM9ODRxFLQ9lzXmgEOTanHn4WSKRfP311wMHDpw2bdqhQ4diYmJUKpXdbrfZbBAEtbS05OTkfPHFFxMnTpw+ffrmzZtjY2PB7Lik5Pvvv9+2bdvBgwd9fX2xkDoHaI+rQQqFYrVay8rK3nvvvZdffnnZsmXHjx/PysrS6XSY4Wk0GqFQmJCQ4OLiMnfu3IEDB86cOTMmJsZRYxd9weKwRIi5DASOKoh9j/lZRQYrFYYYkPwKSQJrWMTAH9OpZwW1fog2Gvw9uqPpqif1IHCUUeANEvjFRalVXcz8zGKx9u3bN378+OHDh8+ZM+fs2bMlJSV8Pl8gEJSVlREIhB9++GH69OkvvPDCoEGDli9fTqPR7Hb7lStXnn/++WHDhmEuRiwWwzCsVqsZDEZYWNjRo0dnz5794osvvvPOO6dPny4sLEQQJDMzc+HCha+//vrWrVs9PDywQGcEAfw0V65cGTRo0ODBgzdv3uzt7d3c3AzDsFarra2tJRKJJ0+enD9//gsvvDBnzpzjx48nJiZiWSK6yGp/X0z3RLqryQiWwC/j5oK0Ot8AACAASURBVAOfM+kpFKcyP8tksp9//nn06NFYZNPZs2dra2t1Op1Go6mrqwsJCTl48ODkyZNfeOGFuXPn/vDDD3l5eQiCZGRkbNy48aOPPjp79mxsbKxYLG6PGgzDly9ffnQN0mg0m82GxRWPGTNmxIgRCxcuvH79ekVFhUAgaG5uLioqevDgwTfffDNx4sSBAwcOHjx47dq16enp7Svtiu9YpLuwr0a6YxNYfQyCpCBIGoJkAYcFaL4EYYAFSNVDJ7kN0YiaUprpcdvtJDEiRKmQd4WqfpUhEAhu3br18ccfYyE2H3/8sZubW3h4OIlE8vX1PXr06Nq1a1955ZVnnnlm1KhR27ZtKyoqstvtnp6eEydOHDt27Nq1a48ePUomk7Ozs5OSkoKDgy9cuLBz587Ro0c//fTTU6ZMcXFxSU1NtVqtNBptwYIFgwcPfvfdd48ePRoTE9PY2IgN8r29vadMmTJq1KhVq1YdPnyYSCRmZ2enpKSEhoZevnz5iy++mDBhwlNPPTVx4sR9+/YRicTumRLazWKrrsyuTgWvX+eNsNRkxBBjV5CyE6/fcj0WG02EoMfLOv2rLh/hm1qt9vb2/uCDD8aNGzdixIhPPvnE398/PT09OzubRCKdOnVq3bp1L7zwwlNPPbVixYrr169ja5pkMnn+/PnLli27fft2cXGxWq1uXxUMw56eno+uQSqVqtfrm5qarl27tnbt2tdff33EiBHbt2+/c+cOkUgkkUje3t6HDx9esWLFwIEDn3322fHjx+/Zs6d96F/72v/Gd9huUVsNDXZtQZ88mqOjIiqytpnAZ9xjl96trr4JHBasJMFKMtxVw6W/IAdN4CdkBhfQ/Ksr0ruc+Vmn01VUVPj7+2/cuHHMmDEjR46cMmXK3Llzly9f/vHHH3/++ecbNmyYOnXq+PHjFyxYsG/fvpKSEhiGs7Kyvv/++6VLl44dO3b06NFz5sxZsWLF+vXrv/rqK3d391u3bm3YsGHIkCEDBgwYO3bsuXPnVCpVeXn55s2bX3/9dewU67fffkskErH9vtzc3EOHDq1YsWLcuHGjR4/GUtN8+OGHe/bsuX79uoeHx5YtW4YNGzZgwIBRo0YdPHjw4fWOv2G1v1vUoG1WCHO0LejJWHWUE+OwUObnRrpvQdptJj3V7EzmZ7PZXF5e7u3t/cknn2BnmGfOnLly5codO3a4uLgcP358z549r7322tNPP7158+aoqCi5XA7DsJeX10svvfTWW28FBwcLBIIOkRDYEOzRNXjo0CE+nw9BUHl5uYeHx9q1a0eOHDl69OipU6fOmzdvxYoVn3766e7duz/44INJkyZNmDBh8eLFhw4dKikp+V1V/aUbMAxDWqlCzIAk6BqWuq8l8ANhDZSs+As/7Pvw4w/e3oCFNYApYs/yEqJxWGYZRSdKNCir7LYuPmgGw7DFYmGz2W5ubh9++OGbb775yiuvDBo0aNSoUcuXL3dxcTl8+PDu3bt37Njx3//+98qVK9gOkVAopFAoBw4cmDZt2ksvvTRgwIDBgwdPnTp1+/btERERBQUF2Mtz1KhRQ4YMOXz4sFQq5fF458+fX7ly5bBhw0aMGLF161Zvb2/sRLRYLI6NjT1y5MisWbNefvll7Gzt5MmTN27cGBwcjB3H/eijj8aOHfvqq6/u2bMHK/WXrPQxCklF9XVVcc11RIvMyYGjKC2TWRyqE4QalMVOTeBns9l0Ol11dfW1a9eWLVv2xhtvDBo0aMSIEQsWLNi2bdsvv/zy/fffjxw5csCAAS4uLiUlJdgQ+N69e6NGjVqyZElKSorBYHh45buxsfHRNbh3714Oh4MgiM1mq6qqOn/+/OrVq8eNG/cy+hk7duzq1at/QD+fffbZzp079+/ff/Pmzdra2sdQ3iM8CrI1tPDqGNl9OltDwN3vJ40fAcZW2AcBvISJPclL2C4OCzZ0fRwWpllsnEUmk729va9fv37t2rVbt24FBQWlpKTQaLTExMSEhITU1NTi4mJsOmYwGHg8Ho1Gww4/X758+dq1a15eXhQKhcViSSSSsrIyEonk6enp7u6empqq1+u1Wm1hYSGRSLx9+/atW7dIJFJpaalcDma4JpOpqakpOzv7/v37169fx6TdvXs3KiqqpqZGKpVWVlZSKBRvb293d/fY2NhuWHSHYbimuowadS8/3csgIiIQ1flxWBF2RSQMdQfNl9ForKqqIhKJd+/evXHjxp07dwgEQnBw8Pnz57du3TpkyJDXXnvt4sWLUqkU800VFRV3794lEAhNTU2dHoSAIOixNKhUti7FqlSq4uLiyMhIT09PV1fXa9eu3b59OzQ0NC0tLSMjIwH9pKWllZeXd7nSrVZrRUUpJSqwLPcBSCoLOZN68i9Mrf60SKdHc9ApYc/mTkVrV8ci2gzE2MO8hI/w3npCHun+wFFEGQFWypzGS4ht4La0tGDBIh2iGRAEYbFYJ06cWLRo0YgRI2bNmtWb0+13iZH1+cDRTrM13PdwiQk71kj3QXTRYJz1p26v6x9AHZbT4rC6RPdPnhCQPIdXk58VUVsaBMKgtc5//To5DksikQQGBv7yyy/u7u4xMTHtAzXNZjOXyw0ODsZORM+fP//AgQO/d0jridG13W7j1NfmZcfWV0XZFGRE68zjol3vFshIpw5r7qwJn29bTos932M0X1jgqAZNkWx2VorkJ8YKu7AjYJdQW2pTOXmX0GHKTk6RzGazd+/e/cYbb8yePXvPnj1Yih6lUtnU1JSbm4udW3jhhRcGDhz41VdfxcTEdMP5py5U1l8SBdssaqu+wabpm7uEnTqsl158fsWSaXERPU3zxQmtKgiqr802GZy45/2XtP4EF+quBH7oLqGw1r8y15PHzLA6h/m5ubn54sWLq1atmjdv3pIlS3bv3n3mzJlLly6dPHnywIEDmzdvXr58+YwZM9atW4fFnXeaZejJUvaTmMBv4MD/W7Zoak+y5mBxWFkeHu6nIokEZTcFeT9ZlvnXemOTIuYqBHIy83NbHFZO4o3b14/FRROdlMDPYDAwmcyoqKgDBw4sXLhw3LhxQ4cOfemll1588cXXXntt4sSJ77///tGjR7Hs7GazudPF9b8GZG8tBSOwDrE1I4YniPn5//7vucUL3upJXkI00r0qH2QcjYsmdnmke281pp5vl9UoMqmKLQqMSNVpCfxApDsIHC1Kv+nveSo1iWzQOyWBH5YcubGxMTw8/MiRI5s3b16xYsWCBQsWLly4atWqHTt2nDlzJj4+vqGhodNEej2vj65vAWw1qUzaeqs6H40N7mtHczqdEg4Y8O+lC6f05AgLPUuoaAxnVYQ1cfLMJnxK2PWW26lEnapJ3EhT8VGWTbUzV2Q1IGRZWh/ALL0naMhy0pQQOwVlMpkkEgmHw6murq6oqChDP5WVlbW1tTweT6FQGI3Gh8OsOsWnr1+EYbtaJRLzKzTCdHD4uc8FjnbqsHpJPiybItokT7FonU6k2tetsAvbL+TXlRWQ6isJZqmTmZ/RU19WWZhJEmHRlMD2X/Pcd2F3cFEdELDZbI2N7LLC5MYaausuoWMDpE986c0OC1bHwpp05wWOdtAl/l8YhivLiwhBd2gJt/Ut3RI4qoyAld0UOIrrFyNSLSwsCAnyyU/3BYeF9c6PXOlaP9ibHRaiiUMgGmJiIvjrt1t+bTAMV5QVBj+4nR5/Czgs52ccRVQRIHO8oZuYn7sFxV5didVqKSjIC3rgmZvmA0LtANtLn8o42ksdVivzcwJiyUHgeqfmz+3V9tXtjZOK639lftaQnWjNGPOzLhIxUhFrJYI4l0i124HspRXa7TaRkFf3G+bnnj3T8pjuspc6LDRw1K6MsShTrVAN7Mzsbr3UsnqqWd0T1tA2TbDJwy0yok1bgr+TukvhjrCGkj6ZXqaXOiwdBVFTePQHaXGexQVJkK6LmZ+7yzj6Yj1yBHZ+xlE1GUGZn1mlXinR1yuLE53K/NwX1eC0NvfxjKNwMqKl+t/+btyooW25GnoDaw4aOFqUcfvG1eOhhCAFmt7AaSrEBbdDwCpBDM5nfm4LHKXFubpe+olCCndqAr923cO/AuZnxNzUp5mfg7wOTn9r1FNP9evfH/VaPR/WgDI/s8r8yOFumenRWk0XMz/jZvt7CJj1QkhWYJQmoUE6zgwchaJhJYme50EiXMrPjjU6k/n59zr7D7wOw7DJoICUTJMit0+SUJjiEA2lOP3ahRM79u1d/c037wOP1fMOC03gB7VEibhURUup1eKUMOh/oL3+aZdVch6fnSptoIAgHacyP6MJ/LT8YBE7UCnKt1nxOKw/VU4XPGC32xVyAZ9TrOCn9EnmZy2INzZLIrRNISpeoEIQBhzW0888PX/ORCqhh3kJ7aoYqyrNBtXAdkMX6AoX8QgINHAYWWkEemGASRIFmJ+dvOdtl4db5USbrhS247uEj6Cev/2IzWZjMasz0yjM8girnIzoHnOTrm23pCdSTqFNxQwSigF5ZgAJBcqa069fv7mzUV5CU4/yErYGjuIJ/P62nT6aABiGS0sK7vu5JUe7dw/zMwICR6NgpyXwe7R+/4Oeslotubk5/r53spK9+iTzs4OKXE0B+doMFDDCWrJwyn93r85JvIjyEsb1hDdFY0O0cYghC7Gw8D3vbvtJ1VaXU1pTJEd2Q4pkRE0EL3lTBYKYu62P/+SK7HZ7RUUpOSqwtI+mSMYclpqC6NvxEkaHHcuOv9jCvI9oqT3DS9gaOBoPAkftHASx/JONrDv7rtcKJPwsVXMsWOAAK4lOiyrEAke1WOBoFa7ibtOyTiMVCyo1LRl9ctG9dUoYjU4JU1unhIDIpCXcCngJe2iKizbLICLLGmNU4lKbWYsgdgSxIbAVhi1Wi0mtVslkMkinhWEruI5YwS27xWTSKxUKuVxuNOrR66AIAlvtNrMe0snlMpVKabWYsFswbLVZzSaTQatRK5UKCNLBdkvrLTuoxWiA1CqVSqU0tZNmt1ksZqNBD2k0ap1Oa7P+Ks1iMRoMkFar0ahVBj3kkGa3W8wmg16v02jUGo3aZDKAVqE9slpMekin1Wq0Wo1BD9msZkfbzCaDTqfVajU6ndZo1LeXZjTodWgRCNKazUZUmg1BbBaLEa1dDUFak0lvt7VKQ2CryajHatfrdWazsb000DC1SqfVGgwQbBEi1irEmIlonMlLqCIj6KI7JAiRcYM04jy7FfpVxXaL2WxUqZQymQzkycJUjOnRbjEaIIVCrlAozGaDQ8VAlTazTqeVyWRqtcoGOg4MplXFRr1GrQZp3fWQAysYVbFBD6lUSpVKBWAEhgQMxm4zm81GPaTTqNUQpHPACNtbVa/VqDVqtdGgbzM/m90GDAmCgIq1Wk17aRazEYJQPWo1BgPUXprJpHeo2GQyOJRis5kNBqhNxTqLBVMx6JHZbAS1a9R6SGcyGey2Xy3WaIA0alC7QQ9Z2qnYZjNDkBaoGBgShNhUCCJATH0zcBTlJVQ3BXPKPBl57tWlvYSXEA1rqC7yJTy4mpwQrlbwEARCEA1sVdhMMpmkIT09OYRAKC3Os5tlCKJD7CrYqjAbJDxudTSVHBlJ5NYzEESDIFrEprRb5HqtsKqiKDw8LDExTiHjgSKI1m6Wa1UCPq8uJysjJppaWVFoMUrBLVhtMUqVskZWXWVKcmJCfGwDl4HYVeCWTWnQiSRCTjWjNDMjtbgoR61oArUAaTKpiMusLc/PpWWkJ9dWl5oNEvSWxqQXC5qY9MrirMy0rMw0Pq8WsSlBj+wqubShqqIoP4+Wn5dZzSjVKPkIosba1txUV1Kcm5dLKyrM5tbTzXoxVpEBEtWzKgsLsvNyaWWl+UIBG7Yq0B6pJSJufl4mLSOlvDSfx62GNAIEBs2GrYoGDiOTlpqdlV5NLxE2s9G2AXwMkIhRVZyRnlyQn82srVCKKxBDEWJ0JPBzzhtLTUagaLuCVJZ1O8TvbGZqhEEnAIDAatiqsJqkLQJ2UmJcWFgYg16MYqVDbCq7VWHUi1l1FVGkSAqVLOAzMUAwFevUzcVFOYTQ0PT0ZJ0alYZobCaZWsFv4DBoGakxMdG11WV2C4qVXWXWS+SShhpGaWJCXHJygpDPwgwGtiohjbBFwK6qKKJlpFSUFQAYURVbjFKRsL6GUZqTnUHLSKlnVdow84PVBm1LE6+2srwwMyM1N4fWImBjyCM2paSlvrwsPy+PVpCfxawthzRCrCKLUcrjVhcX5uTl0oqLcpoaaqwmGWYwOo2grqasID8rL49WUV4gEXFRLwMMRshn5WRlZNJSqyqK+I11Bp0INRid1SRj1VXQMlJyc2i11WWSFk6bNK1OLSgvzc9ITy4uzK1nVWrkTMTCRIxYiuQ+yUuYEXNu/57317w3a9WqGWANC8wENYAsvsdGWGjgaDHNw931WHjIXYWoFIGbERsPNrKtELOlqYBEvOd2/SwtJdymZyIwH7FwYCPbqKmto6fdv3fdy+NyTUUKYuMhcBNiqrcbWFp5VV4W6fbNC4SgO5LmIlAEbrTpWSpxBbs6I476IMDXLTczyqytA7esDWZtnbS5uLIkIYLgFfLgdm1VKmLhglvmekjBaObkFedFU6P80pND5S2lCNyIwE02PVPIyy8vikuKCSQT75UWxBg1taABdp5BVcOtyyzIpsSQ78eQ77Or0xFTPeiRhSvmF+ZlkZJiA5Pjgorzo5WiMsTWgEpjcepoGSlhiTGBqYmEmopko7oGSIMbISWDXpqYkhCSGBOYmRbBY2fDRjZom61B0JCfHBtEifTNTifW0dM00krECpoNG9m1lanRJL9YSkBRLpXHygZtswN8ICWjMIdCJt5LiSdUFMeLeOl2DQ3RpyBqqhPng22Bo5kJN25c+Tk6yhdS0AEg1gbYyLbo6hrrs0ODPW65ny/MpSDmehR5jt3I1quqK0vive9e8fO5zmVmosg3IqZ6m4GllpSnJ4e63zhHIt5TSyqANDvPCjEVLWW1lamUSL8AP/fSgli7AcXKwjWqa0VNhSX5MYTAO+EEzwZmFmYwsLFeI6tqZOfkZZIokb45GZEARhR5s7auiZNbkh8TT31AifSllyZaMfOzNujkdFZ1ei4tihrllxAd2MjOxpBHTPXN3NzsDGJibGBKfHBFcZxGVoUhb9bW1dHT0pJCE2MC05NDWYw0i46JGYxGWllWGJsSH5wYG5hDixTw8hEzBzOYBmZWPPVBNMkvL5PErsmAFAzUYPgWHbOyJJ4S6ZsQHVhaENvMzUOlNSJwo1pSkZ1OJBPvpSWG0UsTZc05IGpUT0NV3HOzqL82e0NpvgI8XCaOGw5cFfZBkJ7mJUSZn1tYQSVZd+tKAw2yFESfi0A5iDbTrqHpxIms8qCSLK+m2ggY/LpyESgL0WZa1RmKphh6gV9F7j1ZYzR4Xp+D6LJgbaZZkSZgRZZme9eUBOglSaCIPgfWZBrlqUp+LKeKQC/0F7AibeoMVFq2TZ2hlyRLGih1pYE1xQHyphgEyga3dFkWZbq2JaGlnsSuCG6qDTdIU0AtQBpNJ0oUc8kN9FBWeZCIQ7ICaeCWVZWhao4TsqPqK0PqK0OU/FhEl4VVBImTBKzIBkZoAyO0pZ5klKWgFYG2qZrjmmojuHRCY024rDHaqmqVZlGmS3lUXnUYl07g10WohfGINhOTphUlNjBC2RXBzXVERVOMWZ7a2mxtprwxpr4ymFNFaGGT1IJ4R9ssynQhO4pVHsSrDpdwKZAoFlbHI9pYBM1X5cQ3FprTnV8TUEy7W18ZYlGmY10AKlZnaITxtSUPSrO9heyoVqxQPVpV6ZIGSkXevaoCP5UgDoMXU7FJntJUG16S5cUqDzLJU4E0fY5dQzNIU+SNMeyKYEahv4hDhtuwsqoyIHGSqJ5UUxxQV/pALYhvNRhtllmRphEmCFiRAEkmEcCI6tGmztC0JIjqSVw6gV0RLOVRUeeei0DZFkWakh8rYIIiXDpBI4x3GIy2JaGZSeQyQnnVYRIu2axIc0hTNMU01oRz6YSm2nAlP8aupmG3TPJUMYcMVMwIbWYStaJEh8GoBfHcKkJ9ZbCAFalsjgW4oZZpV9MkDRSsdhGHrG1JaC+tuY7IKg9qrImQ8qgGSQKiSUY08aiKnbZG+df80Z+WwngJPVwmjB3W5q769bNII62ySDu28v2nIpz3gNpBQI2t/rb7V01u46Zud1GFZsj8lba601tkdODQ7pYazUnQynTd7jomDVSEJS3o7BZYa/ud6x1voUKwujrcclzscB0s9LT7a1/Rb67/tg2/udWubb+5/gdFnDMH/D0j+V0Vo7D/nlIwFQOZ7Tro0H5HGFGr+CODwfTbmTQMtIdrcYDZ/pbjImjAb6X95la7Nre/3qHZ7W+1r+VRraJdLQ5LxmS2tq17Ff17BvC41zs9/Ox5/b9RgT82VHr3HC8hiqaWClIyQRTAtakkIspI8KeKRNRoTKM+GtGSwX/b39KQwGa8ngqitMHzaClVJJCgJYPrgOq2TRp2XUMCEZIQ9TfSsFqANPRWB2lqVJqOAooAaWhFjiI6ChDYvm3gFprAE7vVXppDlI6MFmkvzVEEDTp39FQVCXqnI7fW4miAEkOm7bqGhOLWBgLWTUebgbS2ZmvRIjostN1h6N1i0DoqYogBHXH0zqFiiAK0ryX/qkfsloaE6pEKIMVMArvequJoVFo7FaujULgwFZN+rQjTl5aMqhjdEv3VYKKAWjFYgB5/K60VLgoQ62g2phTHrQ5KaY8wkNaGvKZNxdoOKsba3KbK30hDzRXTY2sD2klrtT0SaH+rituMH9zCVBwFegScYLeouGtr6dRhzZw2ZsfmpRnR53qOl7APQtm1isGl4QjgCDyMQKcO66UXByxfMi0uvOd4CR9uKH4FRwBHAEegU4fV87yEuGJwBHAEcAQeRqBTh9XzvIQPNxS/giOAI4Aj0KnD6vn0MrhicARwBHAEHkYAd1h9cq/kYUXiV3AE/gkI4A4Ld1g4AjgCfQYB3GH1GVX9E96feB9xBP4YAdxh4Q4LRwBHoM8ggDqsIK8D0yb3KhKKP/ay+F0cARyBfyYCbSOsmVPH/OtfT/Ua1px/pjLwXuMI4Aj8MQKowwrxOThr2pjnnnumP+ax8LCGPjNC/mPt4ndxBJ4wBKyJiJZKCfn5/fdmjR09ZBRGp4o7LNxh4QjgCPRGBAyxiIZSXXDz3s1950/uOH9iB0gygzus3qiqJ+xViXcHR+AvIICSUFhlkUZRONQSZlCgvIT9+vV7e/YECsZLaE3Af704AjgCOAK9AgEs1xj0WxIKwEs4q2d5CfH0MjgCOAI4Ag8h4OAl1LTjJVy/bt5hl/WFqVcQQyxIifUXRm54ERwBHAEcgS5HAHVYdiXJpkBzEGJEqtX5N7kVnho+AaQhdri0Lq8bF4gjgCOAI/BYCICs2RSzlAgJQ7WCMCWXCBbd20goYhAlGenxzO6P1R/8YRwBHIEnGAEoBlFTmqvvpUefJQX9FOV3AnVYhljABK2h4pNBHAEcARyBXoSAJQHRUpOiTu7YtGT+3DeXzHsTdVgaKspJ03O8hE/wKwLvGo4AjsBfRsDBSzj2N7yEKYgtCYFiwHwQnxL+ZXDxgjgCOAJdiwDmsO5+/+b4EWBshX0gYZhRFG6T9zVW2K6FBpeGI4Aj0NsQaDv8PGPK6GeeaTv8fOLIZq8b39QW3QaDLH1ML5rB9jb4Om0PRqeoj0b+v73rAIvq2ML6XqzvPTUaUywksaCI8oyixopEY48tttiimFhR7BKMHbuiWFAiVdqyld57773XZVmWsmy72+u8b+6FFVFxl6fRxLvffnq5c+fMmX/O/Dtz77nnCNGdtfYaPhUgfkCEnkf8AL/DjptPgxe3FcHnIBBzLuqEgqDp+UT+AGk/jxXxqbCKtpW25J1oFT4NiupU1CbND0jQoo4Pf7EiLEWg6HnFYNpOVBrMHugHE7ti3XkmLQAKFNDatNWqLfID0gCoBr+9I21qt0tD0DukmBwsOagWt466YQq06fa8ND7qiYP1tKM0LGdqW1JLVLeOQyBAocbA6agb9Ovxg+kpMai1HcGkaUeno25QAb9nA6cFh0eFgyVEizrbwPNVOkrTKokfdIHASwkLz5qDc7SuCHScpZ3srIuiTlfif+II6IjASwmrR48e35h8TfU4CeTBQBmqq+3q2OTf+DKhn4ZLqS92yYi5m5t4n1HkxKc/VbEJQEACCEnR4lNf7FSS7lCZ48gqcxHWe2o4vgAhAT5RxPSsynUsSXeozf+jpdJV2ugNeEQgJAOub1O5a27i/eK0h80VruIGL3UrAfCJACEpWwg1+X/kJNyryH7MqXWXNXlDaQISEJCE9Z6lGQ65iffrCp8IGB6KFh/ARRviEVllLmnRUDdOjTtUjOsLG0JIKjahMscxOcKuLPORqMFLzUGLBLBIxPTMT36QGnWnrtBJ3uQDW8GkCYisUpf40Ftp0Xf5dR5YRwDPFwhJ6lZCedbj6MAbRakPYetCMmwFVVvC8ipMfZgadYdZ4ow1Dbi+Gq6vosWnodQlPeZuTsI9Hv0p1hFYxPGVsLyrch1TIu1KMx7Jm1BpfKK6lSBmeTVXuhanw56yyly0fVS2EJB6z/pi5/ykB0WpD1FpsCOA6ytv8uHRn1bnQtwqcxxljd7wvAB2n0d/yixxLst6VJrh0Fzhqh0aeZMPu8qNXvCkNMOhIvsx7CnaEcD1FTd4NZW7VKMDRy94AkcNHWgVm9BS6Vad61iR/bgm74/WaneIJzrQ0kbvhlLniuzHxWkOFdmOPLoXXMDi6yzdOeGlhNW/f5+5MycEEmyALBgo8HcJ2/dBXcPKpwJJgJpDSY269/DOb26OZ5Mj7tYVOsmaCTBFuJgmYnmnRt2leNmG0W7kJNxnlbuqW4lAYptQtQAAIABJREFUTAMIpanCLSLgJsXrcmzw7eI0By7dA6Yal/oBLik/6aGb41nS00uFqQ4t1e6KZgJAKEBCkzT6xATfdnY4E0K5XpX3B5/hCaWJqEBEbSx3o3lfdnt8NjHsTn2Js4jlDXOjS2iAT85JuG9/y9rN8WxV7h+yZoKGQ4QNSWiyZkIo7catqycCfK82V7kr2b4aDgkIKUBMa6pw83Q+f/fmqaTwu0i9F2wFkyakZMfft71w5N5ta0aRM5SPoKnbpTRli28g6drvvx30db8kZnnDjsB88bAhTu1TgtvFOzdOZcTYw4TpEhrgktQcoojlnRV//4Hdb84OZ+gFTlhHNBySqpXIqfUI97t5+9oJms8VpN4LSkMoihZfds3TojQHsqet6+OzOQn3NZhWPLKk0aehzDUt2t7jyXlf90tQGuwIVcMhIfVetQVOkQG3nB3OhFJv8Os8oQIiqqyZQC9wSo+xDyBepflcLkx1gN2U0ICAjNR7lWU+Tgi1o3lfDqZcZxQ7wwz1Yqh2S5V7fvKDSDhwtvGhdrw6T6i2GIJZnP4oMuBmMOVadNCtimxHJdsXG2henUdW3L1gyjWyh20w5Tq9wAWylRD3H9JtivGo4KWEhUdr6M6ikk8FIpqGSy3O8vGjeIQFE4pygpvoMQp+KpBlAUWWlJtSnBsSH03OSParKAzjMOM1wnSgyALSTG5DfFaqf3w0JTc9sLYsQticBCQZQJkNROlVxeFhwYS4SFJNaQS/MUEpSAXSTKDIkvFSc9MDQwJ80hP9GmqiRewkKE2eBeRZHGZ8YgwlLIhQkBXUwoiVclOACG1IklFRGEYhQd0aqqMV/FSNKB02pMhS8FPTk/18fdyT46g8VoIKSYNFMtgQtyE+MtSXTPQozA4WtybDVjBpssyKwjCPpy4UskdzXSzWESBOB8oslSAtJYHm7PQkJoIk46bAjkgygBQ2hDQnxkSQSESP0rwQIIZngChdI0qXclPKC8NoZM+QAJ+m2hisIxpRulqYjjQnZSb7EwnuibFUcWsylCbNVArS+E2JtWUR8dHk0CBCRWEYVFiRBcQZMl5qKzO+JC8kIsQ3JoIEpaEd0YjSxa3JjbUxWakBELckP1FLEqwih91vqo0pzQtJiacmxlJqSiPahyZD3JrMqIjKzwxMjKGkJfrBnqL4A1E6n5VQVRKODhw5PzNQ2JIE1UbBrC2PzEr1T0uk5aQF1FdGqZA0DB9hS1J5QWhaIi0+ipSWQGyqJMN7fIjO07Xrn8wPoRQnrO5w0ystwxfwaFJeFp/figh4UolAKRdqVGKggV+1SiSVCERCnljEl0kRlUII1G1FKoVQLOaLhHyJWCCXIWqlCC2SALVYLkUQAU+I8OQyRKUUaaVpVCKJWCAQQGkKubC9ChSoUghFQn6bAgqhWoVJEwO1WCZF+DwuIuApMMXU8CTQiDUqsVjE5/E4IiFfpRBp2s9j0hCEx+dxpRJBWyvtasukCJfL4fO5SrkQ66NWmkjE53BahQhPoxIBDewIVqRWioQIj8fjyiQC7AxWpFaJoG58rkDAe06aWqxWirS6QQU0EkxhlVIklyFCIQ8R8GRSRCtNoxIpFUKpRIDh1lGaWilSyIVa3FBpbd1XymEVkRCOglz2TBqsIkOkYlgkFvGhNKz7arFKIZJLEQkcOJ5EjIKDDrRGJZbL4HmxCA6oQoZAPDEbUMJuikV8oZArFtQpeUlwmckjvVEj/FvTH05Yb9JWOD6ARwOqCoB/cARej4AUSLMhYcE7iX9rlnmDvcMJ603aCpcACUte+npbxa/AEQAiIMlECYv4Jo3wDbLDeygKJ6w3aSsYYUmKNRqVBp+QOAKvQECj0cjlMpm4USVIwQlLvwmIE5Z+eHX9mwPX9jS1qFChkKnUQIOT1itm7Ad+Wi6XNzQ00KvzBaxIwKfAR6hd2xVeqkUAJSw8L+EbuoPAJwEejd+YwmQyWrmISqX+wGcm3v2XIiAWiwuLitJTo1hVAZCwBBScsHRFoH2Fhecl/L85q92tIS/V25fgnZicIZVKX2qv+MkPHAGBAElISAwM8Kku8AUCKnTT064g8IOuEVCFAcQP5iWc9DWel/D/sxvoOOqv5lDiwhxu3bzu5x8iEok+8JmJd/+lCPD5gti4eD+qZ1U+AScs/cgazUvo52W9bNEUw1GfGRoawHgN/fr1mTPTKMAH93TXh8KgByBFw6VWFQXExUYXFpXI5fKX2it+8gNHQCqVVddUlxSmttaFoltC/B6WzhNNEgj4tNKMe+4OB29d+vnmJQtIWP3/1XfeLPzVHJ1B1C5i0aeEGkmRWq1Uq/Fb7h84L3XVfY1GpVZwNMI0/Cmhfiss9L1LFYesZJOUbPj6FCSs//y7n9ls40DCafxdQv3QxB1Hu5qkeFknBCRAhjqOcnA/LJ0XB1gIEFEAABEARAEQBgnLYMTQH5aYhlHOwhxfimD9Jq12ufEBHmB+WLISAPDlVafJif/5IgIC+Iol9HTHCUtnwtJGtoDxy/zbVliH9iy/dWlHftIdGMBPEogTlq4ItG8JccfRF2fna8+IRCI6nZ6fn5+SkpKVlcVms19b5aUXqFQqsVhMp9MTEhICAwODg4OTkpJYLNZLL34nJ5VKJY/HZTdVSthxgIeGuPgAf92712U0UqOihShkevEZHm2p6ukFjqwyZzHLBwbr6RgYs3ttfDi1UMdRJZIvlYrlSg3uOKoXHdTV1fn4+Jw7d87CwuLkyZPp6el6VddeLBKJqqqqvLy8Nm7caGpqOmvWrF27dkVHR2sveOcH0A+rsDA9JZJVicZQxf2wdKcIoT/g03i1HqUZ9/MSbmcl3oVbQqAJh3H7RP54XkJd11YY4gIy4NGaamOKigrq6puUSuU7nxt/IQWKioouXry4bt267777bufOnfHx8d1TvqamxsvLy9LSctq0aWPGjJk1a9b+/fu7La17OnRdC0GQlJTU8BBybRERDy+j3xSTBAEBrTT9vuvDg9cvbL15aTNKWNIgPC+hfjhiUcnFfjCAX6yz42OH8IhYsVjSteHipR0RyMrKOnjw4NKlSzdv3mxra5uXl9exVPfjyMjItWvXmpqarlq16ujRo25ubunp6d3eYOreru5X4oSl9+TSLsFQP6wAb5uVS6aNHzvMxPAzSFgaLkWDZ/fSYqTjAZ8KUMJKivrj4YN7ISGRYrFYdyPGr0xKStqwYcOcOXMOHjzo4eFRXV3dDUzUarWrq6uBgcGwYcOOHTsWEhLCZDK7IeetVhGLxQUFhWnJEfiWUG/m0uYlHNUhL6EC+jiQ1Thn6UhV2ssEJA2X2kSPKS4uZDCY+JZQr2kfHR09b948Y2NjGxubyMjIpqYmvapjF4tEojt37gwaNGjs2LFEIlEsFr+HtxKVSiWXy2lprMBvuutNWOi7hG4PD44fMxyurbBPfvKdymwHPsMLBpzWPkfUTkv84FUIYG4NirJuzLS3V0WlUslkMpFIxOfzYaxPLpfH4yEIIhaL5ehHKBQiCIL55atUKqlUKm7/SCQSbUWxWKxQKLD5j10mEolgzFNUJhf98Pl8oVAokUheJGuNRqNQKCQSCYIgfD4fu57H4wkEAux6Go1mZGT09ddf37hxo7CwEEEQ3TFRKpUSiaSpqSktLe3w4cP9+vUbP348hUIRiURKJXz8oVAosH6JRCKscx2V1wLyotq666D/lQIYJBp3a3jVbHrp+faXn5/LS/jL9oW2v2/OSbgNxIG4W4MePwKY46iyXH/bfYs1Ghoa4uPjnzx5YmNjs3fvXgsLCysrq5s3bxIIhAz04+joeOPGjczMTAAAi8UKDw8nkUgEAoFIJPr5+bm4uBw/fvzw4cOenp7FxcXYG91NTU0RERGOjo5nz561tLT85ZdfLCwsdu/effLkyQcPHoSEhNTW1nbqklKpLCkpCQgIsLOzO3r06K+//mphYWFpaXnhwgUajVZVVeXs7Dxs2LAvv/zSxcWFw+EoFIpOEl71p0qlqqio8PPzu3z58saNGydOnAjf1ujff8GCBdbW1unp6Twer6ioKCQkhEAguLu7e3l5+fr6Pn78+PTp0wcOHPj1118PHTp07do1EonUvX3oqxR73XkxDPaPE9ZLielVJ19KWPBdwm/xdwl1dmbTgoutsKTFALwXgWU0Gg2CIDExMZcvX169evXYsWMHDBjQu3fvTz/9dNasWRYWFvfu3bO3t1+2bNmsWbN8fX0BALm5uWfOnLGwsNiyZcuOHTsOHTq0adOm4cOHf/HFF1ZWVtHR0U1NTQiCJCQknD59esWKFcbGxkOHDu3fv3/v3r379u07fPhwMzOzw4cPh4WFdQxWoVar6+rqvLy8rKyszMzMhg8fjlUZNGjQxIkTLS0tyWTymTNnPv7443Hjxvn7+79uqj9XrlAokpOTbW1tzc3Ne/fu3aNHj57tH0NDQx8fn/r6ej8/v1OnTm3btm316tVbt249cODAhg0bTExMhg4d2qdPn4EDB06aNOnnn38ODQ39cxZZ0FNPyYHpPHDC0k4fXQ5eSlg9evSYOnkUzfMUmpcQT/OlM3OhflgaMfou4bv2dZfL5UVFRSQS6dChQ+bm5mZmZsuXL1+1atXq1auXLVtmZmb23XffrV69es2aNd9+++3ixYuDgoIAAAkJCRYWFt9+++3YsWONjY2XLl26evXq+fPnr1u3ztXVNS8vLyEhwdnZ2dLScu7cubNmzVq5cuV69LNy5UozM7OpU6eOHTvW1NT0/Pnz+fn5WLwKHo8XHx9vb2+/YcOG2bNnL1y48Icffli9evWqVasWLFgwc+bMJUuWbNmyZd68eQMGDJg9e3ZsbOxzhPS6P1QqVXV1dUhIiJWVlbGx8YgRI0aNGjVjxowtW7acO3cuMzOzsbHRzc1t06ZNJiYmI0aMmDlz5p49e44fP37o0KHt27cvXLhw0qRJn3/++cSJE69cuVJWVsbn89/qnS+5XM5isepqCgSsKOg4igfw04WqsGteSlh4mi89toHPYU0EPJqMlwOT2Ujf8fvPra2tzs7OW7ZsMTIyGj58+Jo1axwcHMLCwhISEry8vPbv3z9v3jxs6TRnzpyjR4/m5OQAAEJDQ1evXm1gYNCnT5+hQ4d+9913+/btu337dlBQEIvF4nK5Hh4ea9asmTBhwldffbV8+XIHB4fIyMiUlJTo6Gg3N7ejR4+OHTu2d+/eq1atIpFImH95cXGxtbU11tz48eMPHjzo6ekZExMTGxvr4uJy8ODBefPmDRkypFevXoMHD163bl1GRsbrOKpzuVqtlsvlQUFBu3fvXrJkybJly2xsbPLz86VSqUql4vF4Dx48WLBgwSeffNKnT5/p06efP3+eRqPl5uZmZWURCIRjx44ZGBj069dv69atwcHBDAZDrX6La2ShUJidnRMfE1RfRsX9sPSbazhh6YfXc/T0wsoLDS9TUxyUkBBXXFoll+t6F6bz/Pv//kZDhssLCgr27t07fvz4qVOnbtq0yd7ePiMjg8lkcjic0tJSX1/fAwcOfPbZZ7169Vq4cOGtW7dqamoAAD4+PtOmTRs6dOiIESPmz59/9uxZb2/v5OTkuro6pVIpk8lCQkKOHz++Y8eOvXv32tvb5+TksNlssVjM5/OrqqqIROL06dN79Ojx/fff+/r6VlRUNDQ0+Pj4zJs376uvvjIzM7O0tPT19S0uLm5paWGz2QUFBRQKZefOnQMGDOjRo8fYsWP3799fUFDQPQDCwsK2bdu2dOlSCwuLP/74g8fjYXJ4PN758+cnTJgwYsSIKVOmHDhwwN/fv7S0VCAQIAhSVVXl7u4+YcKEHj16rF+/Pjg4mMlkvlXCQhAkOTklNIiEO47qPftwwtIbsldxVnsAv/jwR3fsbvkHhr2rAH4KhaKlpYVGo3377bf9+/e3sLCIi4traGjAHvNhDw0RBCGTycbGxr169Vq3bp2XlxfmWvnw4cMRI0Z88cUXq1evvn37dklJCfYUD3s+qFKpampqkpOT09LSysrKmpqaOt0aLy0tXblyZY8ePdauXRseHp6TkxMeHn706NHBgwePGjXKzs6uqKiIw+HIZDIl+pHJZAiCODo6GhkZDR061MzM7Ny5c2Vl3XzM6u7uPmvWrNmzZx8/fpxCobS0tGCE1draun///iFDhnz77bfnz5+PiIhobW2Vy+UqlUqtViuVyuTk5FmzZv3zn//cuXNnSkoKh8N5q1tCBEHS0tIjw6j0YhK+wtJvAuKEpR9er2IrzNNdRFNzKNnJHp4e7nHxyRLJu/F05/P5qamp165dw1jg8uXLXC73xTVLfHy8iYlJr169du/eHR0djSCISCS6dOnSf/7zn3Hjxtna2iYnJ3fiIwCATCbjox8EQbhcbktLC5PJpNPpFRUVRUVFVCp19uzZPXv2/OWXX3Jzc5OTk2/fvr1q1aqPP/541qxZYWFhKpXqRU0oFIqpqemYMWM2btx4//59bK334mVdn9FoNPfv3x81apSpqen169cTExMFAgEAQKPR0On0TZs29evXb82aNaGhoZ1cSVUqVXJy8syZM3v16mVlZVVZWfm2vbckEkl5eUV+TmJLbTAe012/CYgTln54dUFYkLPgPSwhO725uZHPF7zVbUUXs7eurs7BwWHbtm2mpqbm5uZeXl4vffIVERFhbGzcv39/GxubkpISoVBYV1d35MiRPn36mJmZRUdHCwSCVy00uFxuUVFRbGwsjUbz8PD4448/rl+/bmVltWLFigEDBvTq1evMmTMtLS1RUVHbt2+fMWPGlClTdu/enZub+1K1SSTSzJkzp0yZYmVlRSAQGhoaXnpZ1yflcrmtre2AAQMmT57s6upaWVkpk8kAAEqlMjs7e/ny5X379j1w4EB9fX3HSLDY/W9fX18TE5N+/fpduHBBJBK97YFTq9XQv03AVOCZn7ueUC+W4oT1Jgnr/QjgV1xcbGVlNXv27Pnz52Orp05THZ0wEiqVOn78+I8//tjOzq65uZnP52dmZu7evXvQoEEbNmzo5JGk0WjUarVYLK6vr8/Ozg4ODnZ2drazs7t8+fKFCxfOnTtnZWW1atWqyZMn9+3bd9CgQXfu3JHL5YGBgbNnzzYyMvrhhx9u3LjxonMWppiHh8fkyZOnTZt2+fLl2NjY1tbWTgq/9k+lUtnc3Hz8+PGPPvrI1NQ0ODi4tbVVjX44HE5ERMSSJUs++eST8+fPd1ozCoXCvLy8+/fvT5w48bPPPrt79+5r23pzFwiBFPfDeuFG8Isk1fFMO2FNMjLo2bNHnz6oqzv+lLCbLMZFU9W/a0/3rKysNWvWjB49euXKldeuXcMe/3WcZlKplMFgPHnyZOzYscOGDXN3d5fL5Y2NjQEBARYWFtiDvE4BpDC2Kisrs7OzW7Fixbx585YsWbJ+/fo9e/b89ttvN2/evHr16pEjR9atWzcG/Tg5OWk0GgKBMGbMmNGjR+/Zs8fHx6exsbGjGtixWq1+8ODBF198MWnSpMePH5eWlur7DqZGoxEIBLm5ubt27frHP/4xf/78zMxM7KabVCotKSnx9PRcuXKliYnJ3bt3O+1JW1tbw8PDz507Z2pqamJi4uLi8qKGb+2MCCcsvScaSljuDoeMx42EXIUTlt4IdqR/1HFULS5UqRTvMKZ7SkrKvHnzBg8evGHDBicnpxfvYbe2tsbFxZ09e9bQ0NDY2Bhz1KyoqHB0dNyxY4e5ufnFixc7hTeQyWRlZWU+Pj5r164dMmTI8OHDzc3Nt2zZYm1tbW9vTyQSCQTClStXfvnlF+y2N5FIBAC4u7t/+umnBgYGx48fDw4O7iQTAKBQKJhM5unTp/v16zdp0iQymcxms1+6ge2CNdRqdX19fUhIyMaNG/v3779q1arKykrseoFAEBsba2dnt379+iVLlri6unba7jU0NDx9+vTAgQNz585dtGgRpnYXbb2RIjzzc/dnGUpYXn8cnmIyqk+fjwbihNV9KCFzETU8mpiTxeW2CkXSV90AeiNG34WQxMTEadOm9e/ff+PGjS8Ne1BbW3vr1q01a9YYGRl9//33mKNmamrq+fPnt2/fvmnTpocPH3a6T8/lcp88ebJp06Z58+aZm5sfPnyYQqFER0dnZmaWlZWxWKySkpKbN29u3LhxwYIF69evDw8PBwA4OzsPHjx4+PDhWOAErZ+BVvn6+noqlfrjjz/+85//nDlzZkJCgkwm0xc3pVJZUFDg7Oy8du1aAwMDCwsLBoOBNcFms4lEorW19ebNm3fu3Emj0ToRVk1Nzc2bNzdt2rR48eIdO3aEhoZqdXt7B1KptOa5rDl4IlWdN4aqUID4UdxPfjd30rAvBht8OhCus/AtYTdpi0/S8GgtjPjy8tIGFrvT7uPtTYBOkrFnXv/6179++OGHBw8eFBQUqNVqDfpRqVRyuTw2NnbTpk0TJ06cMmXKzp07s7KyNBpNUFDQ3r17t23bdvjwYQKBgD1i00pubGw8ePCggYHBlClT9u/fHxgY2LF3mK+5jY2Nubn5kiVLDh48mJKSAgBwc3MbMWLE8OHDd+3a5e7uzmAwME8CzJlAKpVGREQcO3Zs8uTJvXv3XrZsWWFhobZF3Q8UCkV8fLytre3KlStNTU1Pnjyp3c+yWKyHDx9aWFjs2LHDxsYmOjq6E2GVlpYeO3bs+++/X7t27W+//ZaUlKR7u92+UigUpqdnREf41ZWQcbcG/eaaPAQI/GICLv768/eLzCd/P9cEEhb+LqF+IGp3hUKqmkstyiL5+9MyMvOk6FOqbpt1tytmZGQsXbr0448/NjY2/vnnn/38/Hg8nlKpFIlE5eXlgYGBp06dMjIy+vzzz83MzH7//feKigqlUunu7r5q1arNmzdfvXo1MjKykxMZk8ncunVr7969DQ0NLS0tw8LCsHWQTCarra2NjIy8ffv2nDlzDAwMli1bduXKlaKiIgAAiUSaOnXq559/PnXq1L1790ZERLBYLB6P19LSkp+f7+/vb2VlNXny5MGDBw8dOnTnzp3arZxefZfL5X5+fgcOHFi2bNny5ctv3Lih9cBiMBjnzp1bsWLF7t2779+/j1FzR+H5+flbt26dPHnyli1b7t+/n5+f37H0LR1rHUdrCvGIozqvrbBZJg4AfBq9wDHI97SX4xFPp/34CktPBLVsxaMCMU3NpabFuTo9cYyMihO/Iz+soqKiffv2GRkZffrpp5MmTbp48WJmZiadTi8rK/Pz8zt+/Pjs2bN79+49cODAtWvXPnr0qLGxUSaT2dnZzZgxY9OmTa6urrm5uR1fXQYANDQ07Nq1a8CAAWPHjt2+fbuTk1NpaSmDwcjNzaVSqWfPnl2+fPmgQYN69+69YMGCGzduFBUVqdXqmJiYzZs3jxs3bvDgwVOnTr127VpUVFRWVlZycrKbm9uRI0dMTU179erVp08fY2Nja2trOp3eDY6QyWSurq5r1qxZvHixhYWFq6srh8PB5FRXV+/fv3/GjBmWlpYUCqWysrLTfjM9PX3RokVffvnlr7/+SiaTu+cCpq/OQqEwMzMrNiqAUUrBV1j6LQ6waFdcCoDR+ih4XsL/g614VICQNVxqTUlQYmJ8SWm5XOcAKfpafNfXs1gsT0/PPXv2GBsbY4EZdu3aZWNjY2tre+nSpaNHj5qbm/fo0WPQoEH79u0LDg4WiUQIghw5cmTQoEErV67EonR2evzf2tpqZ2e3YMECExOTb775ZunSpfv27Tt58uSpU6fOnTt39epVS0tLIyOj/v37jxgxYsWKFSQSSSaTVVdXu7q67ty509DQcOTIkWZmZj/99NPu3bstLS0PHDiwfft2U1NT7CaXmZnZlStX6uvru+7aS0slEsnly5eNjIxmzpx54sSJgIAA7X62sLBw6dKlQ4cOPXjwYGpqaqe7/iqVKiQkZNy4cX379j106FBycnI3PCpeqlLXJ2UyGYPBqCzL5jHDoeMo/vJzx1/9ro/b8hL6A1UoAOFteQm/Nvhs1bLp4ZRzMC+hHM9LqDOLoU8JVaICuVyKxY3r2nDfUqlMJqPT6VQq9aeffho5cmQ/9GNgYDBnzpxdu3ZduHBh48aNWCgYW1vb/Px8jUbD5XItLGDW77Vr1+bk5Eil0k73esRicXJy8q1bt5YuXTpkyJB//OMfvXv3HjJkyKRJkywsLEgkEoVCwVwievXq9cknn1y+fFkkEqlUKiaTSSAQNmzYMHbs2IEDB/bt23fAgAGjR49esWLFnj17NmzYYG5uvnjx4m3btmFrvW5gIhaLra2thw4dOnPmTDs7u5SUFO1+NicnZ9asWX379j158mRtbW1Hl1EAgFwuJ5FI2Jve586dq66u7rSu7IYyulTRaDQqlUIlZ6uRVDy8THdWWNiLJQitbYV14tDqe9d/KUqxh3kJxXheQp0J6/1wHAUAqFSq2tpad3f3I0eObNq0ac2aNT///PNvv/128eLF33//fcWKFVhMTjc3t+bmZgCAUCh8/PjxTz/9ZG9v39DQgN2h7zj3FAoFi8VKTk62t7e3sLBYuXLl8uXL161bt2/fvgcPHuTl5ZWWlnp7e//+++9btmzZvn27r68vNvnVanVpaamTk9OJEye2bNmyatWqtWvXWlhYXL582dXV1dHR8c6dO/fu3XN1dY2Pj+fz+R0b1fFYJpN5e3v/+uuvFy5ciIqK6khMNTU1Z8+e/fnnn4lEonbZpRWrVCpTUlIOHjy4Y8cOf39/Ho/Xiaa1V76dAzHuh6UfW8FNjB/gUeXNRKTek1/nIWH6wHtYrFJndpWbtNEXz0uoH6BYAD956dux79dLxSIXY+sjhULB5/NZLBaDwairq2OxWJjPt6Wlpamp6cCBA+fOnRsVFYU5PanV6tbWVjqdzmazO20GsVaxKMMikYjNZjMYjNra2pqaGjqdzmQy2Wy2RCInYli+AAAZeUlEQVSRSqVcLrexsbEO/fB4POxukUajkUqlHA4HRoCqq6utraXT6QwGo7m5mcPhtLa2YmEbOByOUCjs+OTx9b1tv0Kj0fB4vPr6+qamJqFQKJfLtTeqMIdYBoPB4/FeFK7RaMRiMZPJZDAYAoHgxQvaW3hL/yNAkomvsPSbYmheQm6NR3GafXbczazEa5CwYN56VShcXnGp6M0tnZcYXe8///alWCJVYYEMbglV2mnzluz9RbFMJjMsLIxGoyUmJlZWVnaiHj6f7+HhsXDhwjFjxnzzzTeWlpbYs7wX5eBn3ioCKpUKQQS81loZJwESFo+k36T928+jLjqI5iUsSrF3vLvX9vefLrXlJZQFwVDu6OoLh1IfBKDjKNKS3tTE4gvEf+7+Ak6xmJiYH3/8ccaMGVu3br1161ZeXh7GWTweLzc39+nTp+vXr+/Xr9+IESMsLS2pVGr3MtO81cn8IQgXi8XFxSVZ6TFN1YHwKSGe+bkLhupUhOYl9PO0XrpwypivPzPE8hLKmn0VLUQ1B3fA1XNpKSBreDRmVWROTlZNLVPxp2d+joqKWr58+ahRo6ZOnbphwwZ7e/vQ0NDw8HAikXj79u1ff/11+vTpQ4YMMTc39/DwwOKovA8EIRAIampqioqKCgoK8vX5FBcXNzU1yWSyP/+34f/BDUGQ1NS0iFAKHg9Ln9UAOhm1eQm/7pCXsK7QsancRcIiwHtYeJqvThzfxZ8i6Diak+Ll7e2ZkJgmkUr/H7PuRl06nU4gEE6ePLls2bIpU6aYmppOnz59ypQpkydPNjExmTp16uLFi3fv3u3o6FhWVoY9xetGK2+8SkJCwqFDhxYtWjR79uwZ+nyWLl3q7OxcV1eHRZJ544q9JYGo42hqWDAecVTPBQGPCtpefj5oNLZDXkKa56m4oEusUmeA+AOhv94s2MWU/nsXoY6jmYlPn7q7xsYl/vmEpVAo2Gx2TEyMjY3NokWLxo8f/+mnnw4cOHDo0KGjR482MzM7duwYjUZ78fbWW5qZOooNCgr64YcfRowYMWDAgP76fL788surV69WVFS8q1iJOnaw02UikSgvLy85IbShgoY7jupHL+3hZZ7LS7hq+fTjB1elRV2DPg3SIP0k/r0pqeveCeC7hG2Zn+vfTeZnpVKJ5ROl0Wiurq4ODg737t1zcHBwdnYmkUhJSUkMBkPrptRpIr2rP6urq6lU6uPHj+3t7e/o83F0dExLS+NyufoGeHhXPcXaRX9XWlj1paLmGDxrjn708lLC6tOn1+wZ4wN8fgOyYKDA03zpvHDF3BpkJe92PuCt/xUQ0AAND8/8rB9btW8JPR5bPbfC6tGzx7QpY/y8rHHC0g/QNsfR9yvz819h9n6YOkqALBu6NXCI+plZ18v8v3fpS1dYeHiZbhoQtsKCmZ/fdRrVD5MB/kq91gA1vsLSee+iZWGcsLrJTVoEnzvwBTyaXJArEiEymeLPdxz9K03YD1hXuVxeX19fVZHDY0bgLz/rNwFxwtIPr+fo6YXfBzSAH68xhcGgt3IE6peltPqA5yne9TYEBAIkITEx0N+nusAXCKhA+IIhdW1mH3IpTlhvkrAQioZHq0YzP5eUVr2r8DI4MbznCPD5grj4BH+aV1U+AScs/SYgTlj64dX1jxvqh5Ue7+7q4hQdk/CuAvi959MVV08kEuXn56ckhTdU+sEtIYK/UqLzGhMnrDdJWKine0EGgUImpqZlvqsQyTgjvOcIYAH8qiqyeQ34PSydqQpbK6CE9fTRoYnj8byEXa+edClFMz8LmtMaWUwu908OrvSeT1JcvWcIqNVqqVQsRhoU/GQ8WoN+KwaUsNwdnn81B3dr0A9ELZdhbg1K3A/r2eTEj16NAB4PS8/lFY8KVGEA8fNxOjp9yth//7vPQCwxIU5Y3SUsNPMzTlivnqN4SQcExECGp6rXk7MUIUBACyH+vn7VrCn/HWUy3RDPmqMngtrlFY8K0BWWRlKkVitxJ6wOMxM/fA4BGL5VKZdLmlUCPKa7ntNNGgQEtIyYGxesN+21WLxnz2JIWPi7hN1cYfF8NTyahJvN53PFYr0zGD9n1Pgff18EJBJpaVlZTlZcc00QfEooIHfX3vSc7R1/XP+ixyJ/wKc2VbikRlyN8jsfGXAOEta//93XbPaEQIIN/i6hfpaEOo6y6xOqqioamzh/eozwv+8U/3v1jM8XxMTGUckelXk+uB+WflOsLTwf6gjCb8+aYzD8kxWLTcMpZ/E0X/qhKaSoudSSHGpIcFB2TqFMJv97TTS8N28GAYEASUpOCQkm1hQRccLSb4pheQmFz+cl/G7uxH0Wi5NCr8DI7ng8LN0Xz+9H5uc3M6twKW8NAYlEUlJSkp0Z21QTiG4JccdRnfe22gDIfCqMhyyhwS3hvWu7CC7HqnMfwXCjogD9KFD36f33u1JI0XCpFQX+0VERBYVlMoVCIpU2NjbR6XW19DoWq7Gj7zuCIExmQ21tXV0do6XlWXItlUrF4XDrGPW1tXRGPZPH42sDlkskEgajvrKyur6e2crhSGXPQjDz+fyamtqq6hoWq5HP5yuVCmy6qVSq5uaWqipYhc/ny2TP7qxJJJLq6tri4jImswFBhB1T7HC5vNKy8rKyypYWtlgs1u5t1Wp1HaM+OyevqqpGLEazbGja4lJIJNLy8sqc3Hwms6Fjoi0AAIfLzS8oKiwsaeVwVEolaK+i0Whq6XUpqRllZRVyeZvCmNpSqbS4uDQ1LaO+ntmJNzhcblZ2blZ2LofL1RZpNBrUGxPqVllZLZPL2oo0GrVaLRSKKiqqsnPymEyYclFbpFIqWzmcwsKS/IKiZ9I0QC5XCAQIg8EsLi6trX0Wf1mjUaPZzHjV1bVFxaUsVpN2aFRKlVgkZrNba2roNTX0jjkQJRIpu7W1beCYDVKZTKFUNTc319cVIU3R+MvP+tELmhlHxPRuKHGqzX9UXeQICYtb+xRheClaiDB+K5+mn8S/Hw3p0SMsWkOOWMSRyZUaoG5tbUpPTw0PDwsLC0tNSW5uZgGgghNGo6ij1yQkxIWGhkZGRuTl5YgQHjaRZFJhSUlhdHRkaGhIbGx0ZWWZUiFBizTsFlZMdBSNRo2LiykuLuBymwFQokXK6sryoMDAAH//1JTk6spysYgPgBomN5aJsrMz/Wi0uNjo6spyHrdFpWybzC3NrICAAHd3j8SEeEZdrUjIAxqMNVQV5SXe3t4Egm9uTnZzU4NMKsTUVsjF0dGRd+7a+/v5NTU2KBUSjVqONcRmN/r6+t67/yAxMR4RcNQqWbs0TVlZsaPjEycnl+LiAqkEQatAtdUqWVh42PkLl3wIBKEAYx8l1hCX0+zu/vTiJdu4uJi2PrbpBsrKim/b3bltd6esrBhDDGgUKqWMz2PHxETdtb9HpVH5fDZapNao5Qq5hMmsI5PJd+3vJSbGQ8XgR6lRy6USpLi4wMnJxdHxCSoNcplGrRAKuPTa6tiYaDe3pyEhoTxuC1pFo1JKuZzmivKSgIBAV1f3tJSU9qFRSSXCJhazID8vGP3Qa6u0areyGwsL82Ji4MDFx8dyuS0aoFGppEopS42kwIijXDwels4rLFEA4NMYRX+EUc4S3Y6TPY9BwgKacKAMASJ/PC+hfmQNLY8GZJkAsABgAyWT11JQmB2SHEdMiiXmZQZzGvOAoh4oGoGczqKnZ6X6J8X4piaQygqjJLxSoGgACpZcWFldFp+WSEmKIWQkU+uqklSSalhFweQ25aUnUqNDn2Ym06pK4wTsQqCoQ4vq6quS4yO9YyM88zKD66uSpYIyrCGFqLIkPzw67GlmMrW+KhlhF6mltVhD3Ma8uAgvf/Lj7NSAxroMCb8UyOmotHp6RWKw35PQAJfS/EhOY65cWIlJU4qr0hIpT11uxIR7tLJyVZJqjawWK+I254cFuHi53cpOCxBxS2ArUBoLKJi15QlE73tUwoOq0ji5sAKtUgcUTWppbVIc0cH+bEiAsxh2vxEoGJg0AbvQn/zo0f1zmcm0tj5CaRCf2vIEd6dr7k7XassTUPksIKerpbVIa1F6EtXD9WZU6FOEU4R1RCOrVYqrm5lZEcFuHq43s9MC0O43AkWdRlYrF1ZUlcZRCQ+I3vdQaUygaNTI6GJeKYuelpFE9Sc9SozxRdhFWEfU0hoBu5BekRgX4e1HepSfGdw+NPVyYWVrQ05FUXRCtE9CtA+Lnob2BQ40rzm/sjgmPQkOXFaKn4BdBJQNQM0EinIgikcJC89LqDNhyYKBgJYedf38qU2/7li452fUrQHeuhIHAAHMCo1/9UEAvRkhCAbCSCCMBkikkhsqavQTMCkCJkXE8lNyQgASAZBIIIiQs4OEDTRBPQVhUiRN/mpeGDyPRGr44dLmAIRJFdSTkQaqrCVQIwjHipScEIRJ5TFIwgaqtDlAxQ1tk4ZEyNiB/Hoyn0EWsfxk7MCO0sRN/lgVGTtQxQ3VCFAFkEglJ4TPILfW+gobaPLWYFilrShC1hLIofty6URJk7+SE6Lhh6MNRWn44QiT2lzlxWOQFJwQqJhWGjeESyc2V3kLWTQVLxSeby+StgSyq33YNQRpc4Caj7USAZAoIIgQMCms8qdcOhFVOAptBRapuKGttb6scg9hA1WLGAaCtCWwqdKrqdJL2hKInQGCCI0gQsUNRRradIMKoGDCIn64ojWYV0dqrvISsmjtWkH11PwwaXMAu4bArvbpKE3NC5Ozg5AGamutr6CeguKMDo0gXMUNlbUEorgRRCy/9qGJUPPDFZwQSVMAHIV6spwdpFVbyQ2RNAcgDW0Dp5UGkDDAx+634PewdOYZVShA/MjuJ8znTPzis48NDAbCFZa0yVfeTFRzcPcQnXF8jtnJgOvb9uUR4bv4QjTmEUIBfNKzIj7pWRH0xCE+qyIgt1URok46HaUJqUBEA9h5bRWuLxCQYBURFcoUkJ5J4/oChAzPwyrPn+cT4XkxDVbhP18kIMNWRDToIvSsiAA1FFKBxB9W7NgXmPKaCK+X+EFpHRWDupGB2A9+O3aT2y5NGgArwiroGdhZAvxTTAPSAKi2tvvYgYAMFZD4Q2kdi3jEdt0wae1DwPWFqkLd/KFunap01E1bxCPCKkIK1AEGq2ofGqybEBwq7E5HaVgV7cB1BIdHhKpiA/ccOET0RcLu2diHWqs9L6HhqA55CWvzH7PKnMUsHzwvoT7LK60NUaAhctEvj4w+BqLCp9f8V5zXq0iAitJWwRrq1MqrGsLOd9RNQAUI7Zlu2iLozfjieRLsl7YKzLGOfrU9fVURjKBCg1+tArChdmlCPygTO4OJwooQGnhW1KGhjtK0TWOadFTguSLKc2pz2zXHcNPq1rEKRKAdHC0sWCvaok44dxqFF6VhY/ecNHxtpZ01uh20vfx8aILhCLi2wj5E12NRfueZJU54XsJuEZZu0D+3KMOr4AjgCOiAwEvjYS39forV3uUpEVdxPyycsHAEcATeIwReSli9en00c9o4f288L6EOlI8vlHAEcAT+NAReSlg9e/acjucl/NPGAG8IRwBHQEcEXkpYeDys92gNrONA4pfhCHwICOCEhXMTjgCOwF8GAZyw/jJD9SH8fuJ9xBHoGgGcsHDCwhHAEfjLIIAT1l9mqLr+5cFLcQQ+BARwwsIJC0cAR+AvgwBKWGhewpFoMHfU1R1/SviXGb8P4UcV7yOOgBYBlLDQvIQdXs3BCQsnLBwBHIH3EQE0LyHB+ei3Uw3/859+eF5C3LUdRwBH4D1GAM1LGEo+s3HtnOlTx0zH8hL279937kw8a857PGzaFTJ+gCPwQSGA5iXMirtpe2bLod3L9uxZBW9ifQTfJTTE3yV8H5fEH5R14p3FEeiEgBDmJWypdM2KvRkffCkx8hokrAH/6T9/jnGQ72k8LyHOWTgCOALvEQLarDkCNMIaljXnG5Ovt24wiwm8CHN8yYLfI3U70S3+J44AjsAHhQCWl1DkD9RhAEQCEAZXWL9sX2j7++achNswsrskECcsHAEcARyB9wKBl2Z+DiX9nhZ5nV/nidJYOFCG6vwNAYoQIA+GXxn6lQfDM4oQnSWgbWmFdJKjhybPy8GUkaGK6aWMql2OVkJbv9AeYaW6aoUio5WDoaSXMlhDGDj/r5z2kWrrTjsy+uoDlenQr2ed0mvE25XpNNz6KqN8hRxdB6jdzt+q+emlzEvND5tTesmBF6Mj9f+aTWjbBH9Ojv4TXDtSncxP+TqzARFAFSpm+RSn2adFXctKRO9hqTloqGlRACQdzAR1/Bc2HwQ3kh2/MnRfqaME7DJZ8HMSMGn6KgOt/3lN3qwcvXqETcWOsLQpE6Qfwq+U816NlJ4j/gbN5sURl70jhF81UvqazTMzRtOwvwGz6ShHT7N5rlPtcro3wV86Uq+d4yASKEOqchyc7u2/cmbzzUub4ZYQgAgg8m8sd8mJuxVFO0fzPEXxOEXz7OpLeXrCz9M6Pti2PPMBp9pd1UqGaQ1F/sJ679KM+4mhl4OJp2mep6ivk0N2P+HvbZ0aeY1Z6iRm+UDqROVw6U+z4m5F0M4G+Nh0rQlWSnI7HuBjk5doJ6z3VnMoam6bnKZyl8SQywE+Nn6e1q+VQ/U4RXI7Hux7uiLrIUx6Jg6AmWXFAQDxpxc4hpHPkNyOv7ZHNM9Tfp7W/t7WsYEX64uewDD5qBw1hwJ/KFLtg31P6ygnwMcmnHI2I+Z6S5U7JkfNpUgbCU3lLpkxNwJ8bMjuJ7ruFNUDDkGw7+n4YNuiVHu4iEb1UXMo3JqnlTmPEkMv+3tbk5++Rg4FlRNOOZsZc6M27zHMV4LKUbJJzFKnvES7aP8Lfp7WlKcnu9aHgjYU43+hJO1+c4WbvJmEyZE2EipzHiaHXwkjn9HFbDA5cUEXyzIfsKvazU8cIKz3zku0i/I7H0iAZvPawYLm52WdEnG1vuSJSGt+4gBuzdPUyGuBupkNzROajb+3dW7CbYTh1WZ+4gAgDmgqd4nyu0ByO/5aZLRmHESwKc98gKZlDwR8KjbiFVkPw8hnyO4nXtsjrfnF+F+oK3TUmrGsybelyj034Xaw72ld5FA9Tvl7W4eRz6RFXW+ucNWaH7/OszbvcWrkNWh+rzMbrfnFBV0qTLnLq/PQml9TuUtB8p24oIv+3l2aDfE0zdv61qWff940f+VS0/UrpmKEldRY6nLv+i/bN82fO9NoopGBkeGIiUYGXXyNDIdPNDJYZD7Z2mot1eNUa5U7APEAxGfF3jpuuWr591OnTRljPM5gwrjXyBk/ZriJscGPP3z76M6egpQ78iYCJieccnbrxnmzZxp9Y/KV8TgD43Eju1DGeJyB4Zjh35h8tWvbwuTwq/ImoopLxuS4P7Ja+v2UyZO+6qK6tsh43EjD0cOmTh5lc+xHoAoFIAUSFkgEIP7mxR0zp40zHD3stT3CpP134pffzZt47/ovAERhclRsckHKHas9y6dOHm04Zthre2Q8buTkiV/NnDZu/epZPs5HAYgFIFHFJZem3XdzsNq8fs43Jl+NHzPceFxXw2Q8bqTxuJFTJ49etGCy5S/L4gJsUVgSJSzvUOKZMyc3LF9kamJsMB4dTS0OLx4YGY4wHjdy5rRxP/0458qZrUVp9zE5zeWuj+7ss9i6cP4cYx3NxnjcSPM5Ew/v/cHb8UhjqSsmpzLL4fSJdSuXTZthOnai0evNBjO/hWYmJyxXkV1PtptfSnLU1V+2LZw7a8I3JnDEuwZ5opEBNL8JBquXzXh4e3d2kp2E5Y3qkxJI+G318hmYkBfRePGM4Zjh/5345Y7N5gkhl9vNLxGAFOcHlvNmTTAcM+y1EwrT1nD0sCkmo05ZrYa3kkEO4FNVXHJlloPNsR9nmhqOGzNcR/Mzmfil+ZyJN213wLUIyAJ8anXeIx/noxZbv5s6eRRqNq+ZUMbjRv534pczp4378YdZHo8Po2acpeKS4wJsL9lsWbP8W2h+hjqZ35T/jlpkPnnfzsURtHOonDQJy9v9kdXuHYsXmpmYGHfJNhOgeRuOHvblyKEjhw8eM3wwRljMuIArSxdO/eQTNE8hPKfTp2fPnhPHf33gl+WFyQ8BYALA/MPO0mjsiF4f/UOn+u0X/ftffVYvn+bxyIpX64nJsT7x4+BP/tNeruv/wz8bfO/qTl4tUd5MweRsWW/2kZ7K9OjR47/GowBIA0AKuP4A8AGo+W6uia5KdLhu6cKpABRgcuT1FI9HVmO//qxDuU6HA/7db9e27wEoA4Avb6aQ3U5tXj9v8OB/6VS5/aKe/+g5yuCzK6e3AlADAL+hxOXU4bVTJ4/t9VGv9kt0+n/QoH/NnTnBy/EEJic3/vbq5d8O/wI1I50EtF1kOGrYzk0LU8NvYnKCCWcmTx7dr09vfWTAa43Gjty3Y1m7+Unv3djZDWX69+uzfImp08ODDSUuqNlIj1qt7N+vj77KfDp0oN2l7e3mxwdAumHNLH2F9OjRw3jcSPT3CQBhsLyZEkw481/jUd2Q8938/wKQDQAAXP8w2rld274f9tkgfeX8+1/9tm4wQ80YyJspV05vnTHNSF9wevbs+dWIT2xOrcfkNJS4bFlvZjDiE72U+ec/e/brh9aAXcI/OAI4AjgCfwUEevwVlMR1xBHAEcARgAjghIXbAY4AjsBfBgGcsP4yQ4UriiOAI/A/2eWyYb3taEYAAAAASUVORK5CYII=)  \n",
        "각 변수들은 클래스로 data, grad, grad_fn 속성을 가짐  \n",
        "텐서.```grad_fn``` : 역전파에 대한 참조 정보"
      ],
      "metadata": {
        "id": "DgQ_jXfP-umM"
      }
    },
    {
      "cell_type": "code",
      "source": [
        "import torch\n",
        "\n",
        "x = torch.ones(5) # input tensor\n",
        "y = torch.zeros(3) # expected output\n",
        "w = torch.randn(5, 3, requires_grad = True)\n",
        "'''\n",
        "# 먼저 텐서 생성한 후 자동미분 설정해도 됨\n",
        "w = torch.randn(5, 3)\n",
        "w.requires_grad_(True)\n",
        "'''\n",
        "b = torch.randn(3, requires_grad = True)\n",
        "z = torch.matmul(x, w) + b\n",
        "loss = torch.nn.functional.binary_cross_entropy_with_logits(z, y)"
      ],
      "metadata": {
        "id": "2PqrJ53pnbh1"
      },
      "execution_count": null,
      "outputs": []
    },
    {
      "cell_type": "code",
      "source": [
        "print(f\"Gradient function for z = {z.grad_fn}\")\n",
        "print(f\"Gradient function for loss = {loss.grad_fn}\")"
      ],
      "metadata": {
        "colab": {
          "base_uri": "https://localhost:8080/"
        },
        "id": "WgfrWwwD_ysk",
        "outputId": "c66be54d-e0bb-4152-8755-2646085e8432"
      },
      "execution_count": null,
      "outputs": [
        {
          "output_type": "stream",
          "name": "stdout",
          "text": [
            "Gradient function for z = <AddBackward0 object at 0x7fa6a202d780>\n",
            "Gradient function for loss = <BinaryCrossEntropyWithLogitsBackward0 object at 0x7fa6a202f460>\n"
          ]
        }
      ]
    },
    {
      "cell_type": "markdown",
      "source": [
        "## Computing Gradients\n",
        "도함수를 계산하기 위해 ```loss.backward()``` 호출하기  \n",
        "➝ backpropagation을 시작할 지점의 tensor에서 ```.backward()``` 호출\n"
      ],
      "metadata": {
        "id": "_tY-uyN8B-eQ"
      }
    },
    {
      "cell_type": "code",
      "source": [
        "loss.backward()\n",
        "print(w.grad) # requires_grad = True한 텐서의 gradient값 확인 가능\n",
        "print(b.grad)"
      ],
      "metadata": {
        "colab": {
          "base_uri": "https://localhost:8080/"
        },
        "id": "t2PuTnz0BV8j",
        "outputId": "3d707efc-8f76-485b-9c0a-5cde51a10910"
      },
      "execution_count": null,
      "outputs": [
        {
          "output_type": "stream",
          "name": "stdout",
          "text": [
            "tensor([[0.3331, 0.2300, 0.0619],\n",
            "        [0.3331, 0.2300, 0.0619],\n",
            "        [0.3331, 0.2300, 0.0619],\n",
            "        [0.3331, 0.2300, 0.0619],\n",
            "        [0.3331, 0.2300, 0.0619]])\n",
            "tensor([0.3331, 0.2300, 0.0619])\n"
          ]
        }
      ]
    },
    {
      "cell_type": "markdown",
      "source": [
        "\n",
        "```.backward()```를 호출할 객체가 스칼라인 경우 별도의 인자를 지정할 필요가 없지만, 아닐 경우 텐서의 크기(텐서)를 인자로 전달해야 함  \n",
        "- 디폴트 : ```.backward(torch.tensor([1], dtype = torch.float))```  \n",
        "PyTorch에서는 backward()를 한 번 수행하여 기울기가 계산되면 이를 계산하기 위한 중간 결과값들이 없어짐 ⇔ 한 그래프에서 한 번의 기울기 계산만 가능함  \n",
        "⇒ 동일한 그래프에서 여러번의 ```backward()```을 호출하고 싶다면 ```.backward(retain_graph = True)```\n",
        "\n",
        "![image.png](data:image/png;base64,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)"
      ],
      "metadata": {
        "id": "9n_adD8lGEeX"
      }
    },
    {
      "cell_type": "code",
      "source": [
        "from torch.autograd import Variable\n",
        "import torch\n",
        "\n",
        "a = Variable(torch.rand(1,4), requires_grad = True)\n",
        "b = a**2\n",
        "c = b*2\n",
        "d = c.mean()\n",
        "e = c.sum()"
      ],
      "metadata": {
        "id": "xtoF8L4BCstS"
      },
      "execution_count": null,
      "outputs": []
    },
    {
      "cell_type": "markdown",
      "source": [
        "```d.backward()``` 실행 시 b → c → b → a에 대한 정보가 사라짐  \n",
        "```d.backward(retain_graph = True)```로 정보를 버리지 않을 것임을 명시해줘야 동일 그래프에서 기울기 계산 여러번 가능함"
      ],
      "metadata": {
        "id": "woqrM_jGIXfl"
      }
    },
    {
      "cell_type": "code",
      "source": [
        "d.backward()\n",
        "e.backward()"
      ],
      "metadata": {
        "colab": {
          "base_uri": "https://localhost:8080/",
          "height": 357
        },
        "id": "VdOFW7zQGcfG",
        "outputId": "61c7c09b-9c61-4222-9b9f-3410455f36cb"
      },
      "execution_count": null,
      "outputs": [
        {
          "output_type": "error",
          "ename": "RuntimeError",
          "evalue": "ignored",
          "traceback": [
            "\u001b[0;31m---------------------------------------------------------------------------\u001b[0m",
            "\u001b[0;31mRuntimeError\u001b[0m                              Traceback (most recent call last)",
            "\u001b[0;32m<ipython-input-2-28a35474b51d>\u001b[0m in \u001b[0;36m<cell line: 2>\u001b[0;34m()\u001b[0m\n\u001b[1;32m      1\u001b[0m \u001b[0md\u001b[0m\u001b[0;34m.\u001b[0m\u001b[0mbackward\u001b[0m\u001b[0;34m(\u001b[0m\u001b[0;34m)\u001b[0m\u001b[0;34m\u001b[0m\u001b[0;34m\u001b[0m\u001b[0m\n\u001b[0;32m----> 2\u001b[0;31m \u001b[0me\u001b[0m\u001b[0;34m.\u001b[0m\u001b[0mbackward\u001b[0m\u001b[0;34m(\u001b[0m\u001b[0;34m)\u001b[0m\u001b[0;34m\u001b[0m\u001b[0;34m\u001b[0m\u001b[0m\n\u001b[0m",
            "\u001b[0;32m/usr/local/lib/python3.10/dist-packages/torch/_tensor.py\u001b[0m in \u001b[0;36mbackward\u001b[0;34m(self, gradient, retain_graph, create_graph, inputs)\u001b[0m\n\u001b[1;32m    485\u001b[0m                 \u001b[0minputs\u001b[0m\u001b[0;34m=\u001b[0m\u001b[0minputs\u001b[0m\u001b[0;34m,\u001b[0m\u001b[0;34m\u001b[0m\u001b[0;34m\u001b[0m\u001b[0m\n\u001b[1;32m    486\u001b[0m             )\n\u001b[0;32m--> 487\u001b[0;31m         torch.autograd.backward(\n\u001b[0m\u001b[1;32m    488\u001b[0m             \u001b[0mself\u001b[0m\u001b[0;34m,\u001b[0m \u001b[0mgradient\u001b[0m\u001b[0;34m,\u001b[0m \u001b[0mretain_graph\u001b[0m\u001b[0;34m,\u001b[0m \u001b[0mcreate_graph\u001b[0m\u001b[0;34m,\u001b[0m \u001b[0minputs\u001b[0m\u001b[0;34m=\u001b[0m\u001b[0minputs\u001b[0m\u001b[0;34m\u001b[0m\u001b[0;34m\u001b[0m\u001b[0m\n\u001b[1;32m    489\u001b[0m         )\n",
            "\u001b[0;32m/usr/local/lib/python3.10/dist-packages/torch/autograd/__init__.py\u001b[0m in \u001b[0;36mbackward\u001b[0;34m(tensors, grad_tensors, retain_graph, create_graph, grad_variables, inputs)\u001b[0m\n\u001b[1;32m    198\u001b[0m     \u001b[0;31m# some Python versions print out the first line of a multi-line function\u001b[0m\u001b[0;34m\u001b[0m\u001b[0;34m\u001b[0m\u001b[0m\n\u001b[1;32m    199\u001b[0m     \u001b[0;31m# calls in the traceback and some print out the last line\u001b[0m\u001b[0;34m\u001b[0m\u001b[0;34m\u001b[0m\u001b[0m\n\u001b[0;32m--> 200\u001b[0;31m     Variable._execution_engine.run_backward(  # Calls into the C++ engine to run the backward pass\n\u001b[0m\u001b[1;32m    201\u001b[0m         \u001b[0mtensors\u001b[0m\u001b[0;34m,\u001b[0m \u001b[0mgrad_tensors_\u001b[0m\u001b[0;34m,\u001b[0m \u001b[0mretain_graph\u001b[0m\u001b[0;34m,\u001b[0m \u001b[0mcreate_graph\u001b[0m\u001b[0;34m,\u001b[0m \u001b[0minputs\u001b[0m\u001b[0;34m,\u001b[0m\u001b[0;34m\u001b[0m\u001b[0;34m\u001b[0m\u001b[0m\n\u001b[1;32m    202\u001b[0m         allow_unreachable=True, accumulate_grad=True)  # Calls into the C++ engine to run the backward pass\n",
            "\u001b[0;31mRuntimeError\u001b[0m: Trying to backward through the graph a second time (or directly access saved tensors after they have already been freed). Saved intermediate values of the graph are freed when you call .backward() or autograd.grad(). Specify retain_graph=True if you need to backward through the graph a second time or if you need to access saved tensors after calling backward."
          ]
        }
      ]
    },
    {
      "cell_type": "code",
      "source": [
        "d.backward(retain_graph=True)\n",
        "e.backward()"
      ],
      "metadata": {
        "id": "0uruEAX3HNAF"
      },
      "execution_count": null,
      "outputs": []
    },
    {
      "cell_type": "markdown",
      "source": [
        "## Disabling Gradient Tracking\n",
        "```requires_grad = True```인 텐서들은 연산 기록을 추적하고 기울기 계산을 지원하는데, 순전파 연산만 필요한 경우 이러한 기능 필요없음    \n",
        " ⇒   \n",
        " 방법 1. ```torch.no_grad()```블록으로 둘러싸서 연산 추적을 멈출 수 있음 = 이 구역 안에 있는 텐서는 기울기를 기록하지 않음  \n",
        " 방법 2. ```.detach()``` 적용하여 연산 추적을 멈출 수 있음  "
      ],
      "metadata": {
        "id": "N13ape8NMfDB"
      }
    },
    {
      "cell_type": "code",
      "source": [
        "z = torch.matmul(x, w)+b\n",
        "print(z.requires_grad)\n",
        "\n",
        "with torch.no_grad():\n",
        "    z = torch.matmul(x, w)+b\n",
        "print(z.requires_grad)"
      ],
      "metadata": {
        "colab": {
          "base_uri": "https://localhost:8080/"
        },
        "id": "bJXfVc0-L63i",
        "outputId": "fe85dfe0-f7f9-499f-e3fe-01032962ce4b"
      },
      "execution_count": null,
      "outputs": [
        {
          "output_type": "stream",
          "name": "stdout",
          "text": [
            "True\n",
            "False\n"
          ]
        }
      ]
    },
    {
      "cell_type": "code",
      "source": [
        "z = torch.matmul(x, w)+b\n",
        "z_det = z.detach()\n",
        "print(z_det.requires_grad)"
      ],
      "metadata": {
        "colab": {
          "base_uri": "https://localhost:8080/"
        },
        "id": "rbOFOWeNNYkm",
        "outputId": "bb4a2349-32be-4be8-bf3f-84118c1c3384"
      },
      "execution_count": null,
      "outputs": [
        {
          "output_type": "stream",
          "name": "stdout",
          "text": [
            "False\n"
          ]
        }
      ]
    },
    {
      "cell_type": "markdown",
      "source": [
        "## More on Computational Graphs\n",
        "![image.png](data:image/png;base64,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)\n",
        "\n",
        "- ```autograd```는 텐서의 모든 연산을 그림과 같이 *방향성 비순환 그래프(DAG)*로 기록함  \n",
        "  - root인 연두색 노드에서 ```.backward()```가 호출되면 연쇄법칙을 통해 파란색 lead node까지 역전파가 실행됨\n",
        "- Dynamic 그래프\n",
        "= 미리 그래프를 정의하고 연산하지 않고 실행 시점에 그래프가 생성됨  \n",
        " ⇒ 한 번의 forward에 그래프가 생성되고 ```.backward()``` 시 그래프가 초기화됨\n"
      ],
      "metadata": {
        "id": "tsur87RvN44K"
      }
    },
    {
      "cell_type": "markdown",
      "source": [
        "## [Optional Reading: Tensor Gradients and Jacobian Products](https://velog.io/@olxtar/PyTorch-Autograd-with-Jacobian)\n",
        "출력 함수가 임의의 텐서가 아닌 경우 실제 변화도가 아닌 Jacobian product을 계산함"
      ],
      "metadata": {
        "id": "CztfY3XzPfew"
      }
    },
    {
      "cell_type": "markdown",
      "source": [
        "# 6. OPTIMIZING MODEL PARAMETERS"
      ],
      "metadata": {
        "id": "JmaP_7k4Q7sV"
      }
    },
    {
      "cell_type": "code",
      "source": [
        "import torch\n",
        "from torch import nn\n",
        "from torch.utils.data import DataLoader\n",
        "from torchvision import datasets\n",
        "from torchvision.transforms import ToTensor\n",
        "\n",
        "training_data = datasets.FashionMNIST(\n",
        "    root=\"data\",\n",
        "    train=True,\n",
        "    download=True,\n",
        "    transform=ToTensor()\n",
        ")\n",
        "\n",
        "test_data = datasets.FashionMNIST(\n",
        "    root=\"data\",\n",
        "    train=False,\n",
        "    download=True,\n",
        "    transform=ToTensor()\n",
        ")\n",
        "\n",
        "train_dataloader = DataLoader(training_data, batch_size=64)\n",
        "test_dataloader = DataLoader(test_data, batch_size=64)\n",
        "\n",
        "class NeuralNetwork(nn.Module):\n",
        "    def __init__(self):\n",
        "        super(NeuralNetwork, self).__init__()\n",
        "        self.flatten = nn.Flatten()\n",
        "        self.linear_relu_stack = nn.Sequential(\n",
        "            nn.Linear(28*28, 512),\n",
        "            nn.ReLU(),\n",
        "            nn.Linear(512, 512),\n",
        "            nn.ReLU(),\n",
        "            nn.Linear(512, 10),\n",
        "        )\n",
        "\n",
        "    def forward(self, x):\n",
        "        x = self.flatten(x)\n",
        "        logits = self.linear_relu_stack(x)\n",
        "        return logits\n",
        "\n",
        "model = NeuralNetwork()"
      ],
      "metadata": {
        "colab": {
          "base_uri": "https://localhost:8080/"
        },
        "id": "v8iYgd6uQ24F",
        "outputId": "5848118d-5b71-4498-a850-68b730236eab"
      },
      "execution_count": null,
      "outputs": [
        {
          "output_type": "stream",
          "name": "stdout",
          "text": [
            "Downloading http://fashion-mnist.s3-website.eu-central-1.amazonaws.com/train-images-idx3-ubyte.gz\n",
            "Downloading http://fashion-mnist.s3-website.eu-central-1.amazonaws.com/train-images-idx3-ubyte.gz to data/FashionMNIST/raw/train-images-idx3-ubyte.gz\n"
          ]
        },
        {
          "output_type": "stream",
          "name": "stderr",
          "text": [
            "100%|██████████| 26421880/26421880 [00:01<00:00, 17619459.60it/s]\n"
          ]
        },
        {
          "output_type": "stream",
          "name": "stdout",
          "text": [
            "Extracting data/FashionMNIST/raw/train-images-idx3-ubyte.gz to data/FashionMNIST/raw\n",
            "\n",
            "Downloading http://fashion-mnist.s3-website.eu-central-1.amazonaws.com/train-labels-idx1-ubyte.gz\n",
            "Downloading http://fashion-mnist.s3-website.eu-central-1.amazonaws.com/train-labels-idx1-ubyte.gz to data/FashionMNIST/raw/train-labels-idx1-ubyte.gz\n"
          ]
        },
        {
          "output_type": "stream",
          "name": "stderr",
          "text": [
            "100%|██████████| 29515/29515 [00:00<00:00, 297385.83it/s]\n"
          ]
        },
        {
          "output_type": "stream",
          "name": "stdout",
          "text": [
            "Extracting data/FashionMNIST/raw/train-labels-idx1-ubyte.gz to data/FashionMNIST/raw\n",
            "\n",
            "Downloading http://fashion-mnist.s3-website.eu-central-1.amazonaws.com/t10k-images-idx3-ubyte.gz\n",
            "Downloading http://fashion-mnist.s3-website.eu-central-1.amazonaws.com/t10k-images-idx3-ubyte.gz to data/FashionMNIST/raw/t10k-images-idx3-ubyte.gz\n"
          ]
        },
        {
          "output_type": "stream",
          "name": "stderr",
          "text": [
            "100%|██████████| 4422102/4422102 [00:00<00:00, 5496013.95it/s]\n"
          ]
        },
        {
          "output_type": "stream",
          "name": "stdout",
          "text": [
            "Extracting data/FashionMNIST/raw/t10k-images-idx3-ubyte.gz to data/FashionMNIST/raw\n",
            "\n",
            "Downloading http://fashion-mnist.s3-website.eu-central-1.amazonaws.com/t10k-labels-idx1-ubyte.gz\n",
            "Downloading http://fashion-mnist.s3-website.eu-central-1.amazonaws.com/t10k-labels-idx1-ubyte.gz to data/FashionMNIST/raw/t10k-labels-idx1-ubyte.gz\n"
          ]
        },
        {
          "output_type": "stream",
          "name": "stderr",
          "text": [
            "100%|██████████| 5148/5148 [00:00<00:00, 9275033.07it/s]"
          ]
        },
        {
          "output_type": "stream",
          "name": "stdout",
          "text": [
            "Extracting data/FashionMNIST/raw/t10k-labels-idx1-ubyte.gz to data/FashionMNIST/raw\n",
            "\n"
          ]
        },
        {
          "output_type": "stream",
          "name": "stderr",
          "text": [
            "\n"
          ]
        }
      ]
    },
    {
      "cell_type": "markdown",
      "source": [
        "## Hyperparameters\n",
        ": 모델 최적화 과정을 제어할 수 있는 조절 가능한 매개변수"
      ],
      "metadata": {
        "id": "MwRVsSAqRRL4"
      }
    },
    {
      "cell_type": "code",
      "source": [
        "learning_rate = 1e-3\n",
        "batch_size = 64\n",
        "epochs = 5"
      ],
      "metadata": {
        "id": "qcii6i85RJ71"
      },
      "execution_count": null,
      "outputs": []
    },
    {
      "cell_type": "markdown",
      "source": [
        "## Optimization Loop\n",
        "- epoch : 최적화 단계의 각 반복(iteration)\n",
        "하나의 epoch은 두 부분으로 구성됨\n",
        "  - train loop : train dataset을 반복(iterate)하고 최적의 매개변수로 수렴함\n",
        "  - validation/test loop : 모델의 성능이 개선되고 있는지 확인하기 위해 test dataset을 반복(iterate)함\n",
        "\n",
        "#### train loop\n",
        "- loss function  \n",
        ": 실제 정답과 예측 값 사이의 틀린 정도를 측정하며, 이를 최소화하는 것이 학습의 목표임\n",
        "- optimizer  \n",
        ": 각 학습 단계에서 오차를 줄이기 위해 모델의 매개변수를 조정하는 과정  \n",
        "  1. ```optimizer.zero_grad()``` : 기울기 값이 누적되는 것을 방지하고자 매 epoch마다 모델 매개변수의 기울기 재설정 해야 함\n",
        "  2. ```loss.backward()``` : 예측 손실 역전파하여 각 매개변수에 대한 loss의 변화도를 저장함\n",
        "  3. ```optimizer.step()``` : 역전파 단계에서 수집된 변화도로 매개변수 업데이트"
      ],
      "metadata": {
        "id": "VlqJQO99RhsZ"
      }
    },
    {
      "cell_type": "code",
      "source": [
        "def train_loop(dataloader, model, loss_fn, optimizer):\n",
        "    size = len(dataloader.dataset)\n",
        "    for batch, (X, y) in enumerate(dataloader):\n",
        "        pred = model(X)\n",
        "        loss = loss_fn(pred, y)\n",
        "\n",
        "        # backpropagation\n",
        "        optimizer.zero_grad()\n",
        "        loss.backward()\n",
        "        optimizer.step()\n",
        "\n",
        "        if batch % 100 == 0:\n",
        "            loss, current = loss.item(), (batch + 1) * len(X)\n",
        "            print(f\"loss: {loss:>7f}  [{current:>5d}/{size:>5d}]\")\n",
        "\n",
        "\n",
        "def test_loop(dataloader, model, loss_fn):\n",
        "    size = len(dataloader.dataset)\n",
        "    num_batches = len(dataloader)\n",
        "    test_loss, correct = 0, 0\n",
        "\n",
        "    with torch.no_grad():\n",
        "        for X, y in dataloader:\n",
        "            pred = model(X)\n",
        "            test_loss += loss_fn(pred, y).item()\n",
        "            correct += (pred.argmax(1) == y).type(torch.float).sum().item()\n",
        "\n",
        "    test_loss /= num_batches\n",
        "    correct /= size\n",
        "    print(f\"Test Error: \\n Accuracy: {(100*correct):>0.1f}%, Avg loss: {test_loss:>8f} \\n\")\n",
        "\n",
        "\n",
        "loss_fn = nn.CrossEntropyLoss()\n",
        "optimizer = torch.optim.SGD(model.parameters(), lr=learning_rate)\n",
        "\n",
        "epochs = 10\n",
        "for t in range(epochs):\n",
        "    print(f\"Epoch {t+1}\\n-------------------------------\")\n",
        "    train_loop(train_dataloader, model, loss_fn, optimizer)\n",
        "    test_loop(test_dataloader, model, loss_fn)\n",
        "print(\"Done!\")"
      ],
      "metadata": {
        "colab": {
          "base_uri": "https://localhost:8080/"
        },
        "id": "nnSVbFPzRhF0",
        "outputId": "d4fd6f3c-e1c9-4e4b-967b-d77f56a8c4ec"
      },
      "execution_count": null,
      "outputs": [
        {
          "output_type": "stream",
          "name": "stdout",
          "text": [
            "Epoch 1\n",
            "-------------------------------\n",
            "loss: 2.300999  [   64/60000]\n",
            "loss: 2.288015  [ 6464/60000]\n",
            "loss: 2.264078  [12864/60000]\n",
            "loss: 2.260151  [19264/60000]\n",
            "loss: 2.249620  [25664/60000]\n",
            "loss: 2.209846  [32064/60000]\n",
            "loss: 2.228636  [38464/60000]\n",
            "loss: 2.189424  [44864/60000]\n",
            "loss: 2.185588  [51264/60000]\n",
            "loss: 2.159149  [57664/60000]\n",
            "Test Error: \n",
            " Accuracy: 39.0%, Avg loss: 2.151920 \n",
            "\n",
            "Epoch 2\n",
            "-------------------------------\n",
            "loss: 2.162842  [   64/60000]\n",
            "loss: 2.152559  [ 6464/60000]\n",
            "loss: 2.088736  [12864/60000]\n",
            "loss: 2.113718  [19264/60000]\n",
            "loss: 2.063494  [25664/60000]\n",
            "loss: 1.995055  [32064/60000]\n",
            "loss: 2.037613  [38464/60000]\n",
            "loss: 1.952590  [44864/60000]\n",
            "loss: 1.959732  [51264/60000]\n",
            "loss: 1.897521  [57664/60000]\n",
            "Test Error: \n",
            " Accuracy: 59.3%, Avg loss: 1.886051 \n",
            "\n",
            "Epoch 3\n",
            "-------------------------------\n",
            "loss: 1.920577  [   64/60000]\n",
            "loss: 1.888309  [ 6464/60000]\n",
            "loss: 1.765994  [12864/60000]\n",
            "loss: 1.820040  [19264/60000]\n",
            "loss: 1.702180  [25664/60000]\n",
            "loss: 1.649848  [32064/60000]\n",
            "loss: 1.690734  [38464/60000]\n",
            "loss: 1.579168  [44864/60000]\n",
            "loss: 1.603050  [51264/60000]\n",
            "loss: 1.515796  [57664/60000]\n",
            "Test Error: \n",
            " Accuracy: 62.3%, Avg loss: 1.517221 \n",
            "\n",
            "Epoch 4\n",
            "-------------------------------\n",
            "loss: 1.588022  [   64/60000]\n",
            "loss: 1.545990  [ 6464/60000]\n",
            "loss: 1.390776  [12864/60000]\n",
            "loss: 1.474422  [19264/60000]\n",
            "loss: 1.347207  [25664/60000]\n",
            "loss: 1.340976  [32064/60000]\n",
            "loss: 1.368665  [38464/60000]\n",
            "loss: 1.282332  [44864/60000]\n",
            "loss: 1.308410  [51264/60000]\n",
            "loss: 1.227541  [57664/60000]\n",
            "Test Error: \n",
            " Accuracy: 63.8%, Avg loss: 1.243970 \n",
            "\n",
            "Epoch 5\n",
            "-------------------------------\n",
            "loss: 1.326680  [   64/60000]\n",
            "loss: 1.301205  [ 6464/60000]\n",
            "loss: 1.132730  [12864/60000]\n",
            "loss: 1.247273  [19264/60000]\n",
            "loss: 1.116147  [25664/60000]\n",
            "loss: 1.138396  [32064/60000]\n",
            "loss: 1.169548  [38464/60000]\n",
            "loss: 1.099327  [44864/60000]\n",
            "loss: 1.125065  [51264/60000]\n",
            "loss: 1.061017  [57664/60000]\n",
            "Test Error: \n",
            " Accuracy: 64.8%, Avg loss: 1.075978 \n",
            "\n",
            "Epoch 6\n",
            "-------------------------------\n",
            "loss: 1.153630  [   64/60000]\n",
            "loss: 1.148792  [ 6464/60000]\n",
            "loss: 0.964827  [12864/60000]\n",
            "loss: 1.107454  [19264/60000]\n",
            "loss: 0.975247  [25664/60000]\n",
            "loss: 1.004776  [32064/60000]\n",
            "loss: 1.048999  [38464/60000]\n",
            "loss: 0.985502  [44864/60000]\n",
            "loss: 1.008394  [51264/60000]\n",
            "loss: 0.959872  [57664/60000]\n",
            "Test Error: \n",
            " Accuracy: 65.6%, Avg loss: 0.970000 \n",
            "\n",
            "Epoch 7\n",
            "-------------------------------\n",
            "loss: 1.036261  [   64/60000]\n",
            "loss: 1.052022  [ 6464/60000]\n",
            "loss: 0.852145  [12864/60000]\n",
            "loss: 1.015707  [19264/60000]\n",
            "loss: 0.888132  [25664/60000]\n",
            "loss: 0.912561  [32064/60000]\n",
            "loss: 0.971659  [38464/60000]\n",
            "loss: 0.912881  [44864/60000]\n",
            "loss: 0.929632  [51264/60000]\n",
            "loss: 0.893658  [57664/60000]\n",
            "Test Error: \n",
            " Accuracy: 67.0%, Avg loss: 0.899313 \n",
            "\n",
            "Epoch 8\n",
            "-------------------------------\n",
            "loss: 0.951664  [   64/60000]\n",
            "loss: 0.985843  [ 6464/60000]\n",
            "loss: 0.772768  [12864/60000]\n",
            "loss: 0.951702  [19264/60000]\n",
            "loss: 0.830806  [25664/60000]\n",
            "loss: 0.846236  [32064/60000]\n",
            "loss: 0.917726  [38464/60000]\n",
            "loss: 0.864964  [44864/60000]\n",
            "loss: 0.874109  [51264/60000]\n",
            "loss: 0.846843  [57664/60000]\n",
            "Test Error: \n",
            " Accuracy: 68.4%, Avg loss: 0.849184 \n",
            "\n",
            "Epoch 9\n",
            "-------------------------------\n",
            "loss: 0.887097  [   64/60000]\n",
            "loss: 0.936717  [ 6464/60000]\n",
            "loss: 0.714406  [12864/60000]\n",
            "loss: 0.904612  [19264/60000]\n",
            "loss: 0.790421  [25664/60000]\n",
            "loss: 0.797062  [32064/60000]\n",
            "loss: 0.876908  [38464/60000]\n",
            "loss: 0.832003  [44864/60000]\n",
            "loss: 0.833555  [51264/60000]\n",
            "loss: 0.811260  [57664/60000]\n",
            "Test Error: \n",
            " Accuracy: 69.5%, Avg loss: 0.811631 \n",
            "\n",
            "Epoch 10\n",
            "-------------------------------\n",
            "loss: 0.835642  [   64/60000]\n",
            "loss: 0.897666  [ 6464/60000]\n",
            "loss: 0.669561  [12864/60000]\n",
            "loss: 0.868673  [19264/60000]\n",
            "loss: 0.760232  [25664/60000]\n",
            "loss: 0.759326  [32064/60000]\n",
            "loss: 0.843685  [38464/60000]\n",
            "loss: 0.807846  [44864/60000]\n",
            "loss: 0.802521  [51264/60000]\n",
            "loss: 0.782492  [57664/60000]\n",
            "Test Error: \n",
            " Accuracy: 70.8%, Avg loss: 0.781934 \n",
            "\n",
            "Done!\n"
          ]
        }
      ]
    },
    {
      "cell_type": "markdown",
      "source": [
        "# 7. SAVE AND LOAD THE MODEL"
      ],
      "metadata": {
        "id": "vrEqeFXTT1F5"
      }
    },
    {
      "cell_type": "code",
      "source": [
        "import torch\n",
        "import torchvision.models as models"
      ],
      "metadata": {
        "id": "yEjJOi2JT5zw"
      },
      "execution_count": null,
      "outputs": []
    },
    {
      "cell_type": "markdown",
      "source": [
        "## Saving and Loading Model Weights\n",
        "- ```state_dict``` : 학습한 매개변수가 ```torch.save```를 통해 internal state dictionary에 저장됨  \n",
        "- ```load_state_dict()```을 통해 저장된 매개변수들을 불러옴 (동일한 모델의 인스턴스 생성한 후에 매개변수를 불러와야 함)\n"
      ],
      "metadata": {
        "id": "KapPmYUgUCAY"
      }
    },
    {
      "cell_type": "code",
      "source": [
        "model = models.vgg16(weights='IMAGENET1K_V1')\n",
        "torch.save(model.state_dict(), \"model_weights.pth\")"
      ],
      "metadata": {
        "colab": {
          "base_uri": "https://localhost:8080/"
        },
        "id": "aBf32IxGUAxk",
        "outputId": "a66d0672-5b1d-438f-a40f-ffa5c51ecfd6"
      },
      "execution_count": null,
      "outputs": [
        {
          "output_type": "stream",
          "name": "stderr",
          "text": [
            "Downloading: \"https://download.pytorch.org/models/vgg16-397923af.pth\" to /root/.cache/torch/hub/checkpoints/vgg16-397923af.pth\n",
            "100%|██████████| 528M/528M [00:05<00:00, 97.3MB/s]\n"
          ]
        }
      ]
    },
    {
      "cell_type": "markdown",
      "source": [
        "```.eval()```: 모델을 평가모드로 전환하는 함수  \n",
        "= evaluation 과정에서 사용하지 않아야 하는 층들을 알아서 off하는 함수 (드롭아웃 비활성화&배치 정규화의 이동평균과 이동 분산이 업데이트되지 않음)  \n",
        "+) evaluation / validation 과정에서 보통 ```model.eval()```과 ```torch.no_grad()```를 함께 사용함  \n",
        "→ 모델의 성능 평가에 불필요한 노이즈를 줄이고 일관된 결과를 얻을 수 있음"
      ],
      "metadata": {
        "id": "2wczp3R8VjRA"
      }
    },
    {
      "cell_type": "code",
      "source": [
        "model = models.vgg16() # weights를 지정하지 않음 ⇔ 학습되지 않은 모델\n",
        "model.load_state_dict(torch.load('model_weights.pth'))\n",
        "model.eval()"
      ],
      "metadata": {
        "colab": {
          "base_uri": "https://localhost:8080/"
        },
        "id": "qVDb3x_sUzUm",
        "outputId": "a6c83369-9094-4d5b-e0a4-fb70bb15b7ff"
      },
      "execution_count": null,
      "outputs": [
        {
          "output_type": "execute_result",
          "data": {
            "text/plain": [
              "VGG(\n",
              "  (features): Sequential(\n",
              "    (0): Conv2d(3, 64, kernel_size=(3, 3), stride=(1, 1), padding=(1, 1))\n",
              "    (1): ReLU(inplace=True)\n",
              "    (2): Conv2d(64, 64, kernel_size=(3, 3), stride=(1, 1), padding=(1, 1))\n",
              "    (3): ReLU(inplace=True)\n",
              "    (4): MaxPool2d(kernel_size=2, stride=2, padding=0, dilation=1, ceil_mode=False)\n",
              "    (5): Conv2d(64, 128, kernel_size=(3, 3), stride=(1, 1), padding=(1, 1))\n",
              "    (6): ReLU(inplace=True)\n",
              "    (7): Conv2d(128, 128, kernel_size=(3, 3), stride=(1, 1), padding=(1, 1))\n",
              "    (8): ReLU(inplace=True)\n",
              "    (9): MaxPool2d(kernel_size=2, stride=2, padding=0, dilation=1, ceil_mode=False)\n",
              "    (10): Conv2d(128, 256, kernel_size=(3, 3), stride=(1, 1), padding=(1, 1))\n",
              "    (11): ReLU(inplace=True)\n",
              "    (12): Conv2d(256, 256, kernel_size=(3, 3), stride=(1, 1), padding=(1, 1))\n",
              "    (13): ReLU(inplace=True)\n",
              "    (14): Conv2d(256, 256, kernel_size=(3, 3), stride=(1, 1), padding=(1, 1))\n",
              "    (15): ReLU(inplace=True)\n",
              "    (16): MaxPool2d(kernel_size=2, stride=2, padding=0, dilation=1, ceil_mode=False)\n",
              "    (17): Conv2d(256, 512, kernel_size=(3, 3), stride=(1, 1), padding=(1, 1))\n",
              "    (18): ReLU(inplace=True)\n",
              "    (19): Conv2d(512, 512, kernel_size=(3, 3), stride=(1, 1), padding=(1, 1))\n",
              "    (20): ReLU(inplace=True)\n",
              "    (21): Conv2d(512, 512, kernel_size=(3, 3), stride=(1, 1), padding=(1, 1))\n",
              "    (22): ReLU(inplace=True)\n",
              "    (23): MaxPool2d(kernel_size=2, stride=2, padding=0, dilation=1, ceil_mode=False)\n",
              "    (24): Conv2d(512, 512, kernel_size=(3, 3), stride=(1, 1), padding=(1, 1))\n",
              "    (25): ReLU(inplace=True)\n",
              "    (26): Conv2d(512, 512, kernel_size=(3, 3), stride=(1, 1), padding=(1, 1))\n",
              "    (27): ReLU(inplace=True)\n",
              "    (28): Conv2d(512, 512, kernel_size=(3, 3), stride=(1, 1), padding=(1, 1))\n",
              "    (29): ReLU(inplace=True)\n",
              "    (30): MaxPool2d(kernel_size=2, stride=2, padding=0, dilation=1, ceil_mode=False)\n",
              "  )\n",
              "  (avgpool): AdaptiveAvgPool2d(output_size=(7, 7))\n",
              "  (classifier): Sequential(\n",
              "    (0): Linear(in_features=25088, out_features=4096, bias=True)\n",
              "    (1): ReLU(inplace=True)\n",
              "    (2): Dropout(p=0.5, inplace=False)\n",
              "    (3): Linear(in_features=4096, out_features=4096, bias=True)\n",
              "    (4): ReLU(inplace=True)\n",
              "    (5): Dropout(p=0.5, inplace=False)\n",
              "    (6): Linear(in_features=4096, out_features=1000, bias=True)\n",
              "  )\n",
              ")"
            ]
          },
          "metadata": {},
          "execution_count": 25
        }
      ]
    },
    {
      "cell_type": "markdown",
      "source": [
        "## Saving and Loading Models with Shapes\n",
        "- ```torch.save(model.state_dict())```와 달리 모델 전체를 저장"
      ],
      "metadata": {
        "id": "CQteiMOgWhRI"
      }
    },
    {
      "cell_type": "code",
      "source": [
        "torch.save(model, 'model.pth') # 모델 저장\n",
        "model = torch.load('model.pth') # 모델 불러오기"
      ],
      "metadata": {
        "id": "06b-P5HRVXNW"
      },
      "execution_count": null,
      "outputs": []
    }
  ]
}