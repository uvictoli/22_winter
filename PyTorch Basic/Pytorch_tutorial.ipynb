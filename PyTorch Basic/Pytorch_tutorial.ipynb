{
  "nbformat": 4,
  "nbformat_minor": 0,
  "metadata": {
    "colab": {
      "provenance": []
    },
    "kernelspec": {
      "name": "python3",
      "display_name": "Python 3"
    },
    "language_info": {
      "name": "python"
    }
  },
  "cells": [
    {
      "cell_type": "markdown",
      "source": [
        "# Tensors\n",
        "multi-dimensional array"
      ],
      "metadata": {
        "id": "o_NA1bo5efQs"
      }
    },
    {
      "cell_type": "code",
      "execution_count": null,
      "metadata": {
        "id": "E0Kze9pfd1S-"
      },
      "outputs": [],
      "source": [
        "import torch"
      ]
    },
    {
      "cell_type": "code",
      "source": [
        "z = torch.zeros(5, 3)\n",
        "print(z)\n",
        "print(z.dtype)"
      ],
      "metadata": {
        "colab": {
          "base_uri": "https://localhost:8080/"
        },
        "id": "nLMAySx-esKD",
        "outputId": "367b3f5e-7d00-46d0-a11c-ad0f40faeb1e"
      },
      "execution_count": null,
      "outputs": [
        {
          "output_type": "stream",
          "name": "stdout",
          "text": [
            "tensor([[0., 0., 0.],\n",
            "        [0., 0., 0.],\n",
            "        [0., 0., 0.],\n",
            "        [0., 0., 0.],\n",
            "        [0., 0., 0.]])\n",
            "torch.float32\n"
          ]
        }
      ]
    },
    {
      "cell_type": "code",
      "source": [
        "i = torch.ones((5, 3), dtype = torch.int16)\n",
        "print(i)"
      ],
      "metadata": {
        "colab": {
          "base_uri": "https://localhost:8080/"
        },
        "id": "MFEmVB8De1tK",
        "outputId": "c472de26-983d-417f-fa09-d7da9e66029b"
      },
      "execution_count": null,
      "outputs": [
        {
          "output_type": "stream",
          "name": "stdout",
          "text": [
            "tensor([[1, 1, 1],\n",
            "        [1, 1, 1],\n",
            "        [1, 1, 1],\n",
            "        [1, 1, 1],\n",
            "        [1, 1, 1]], dtype=torch.int16)\n"
          ]
        }
      ]
    },
    {
      "cell_type": "code",
      "source": [
        "# initialize learning weights randomly\n",
        "torch.manual_seed(1729)\n",
        "r1 = torch.rand(2, 2)\n",
        "print('A random tensor: ')\n",
        "print(r1)\n",
        "\n",
        "r2 = torch.rand(2, 2)\n",
        "print('A different random tensor: ')\n",
        "print(r2)\n",
        "\n",
        "torch.manual_seed(1729)\n",
        "r3 = torch.rand(2, 2)\n",
        "print('\\nShould match r1: ')\n",
        "print(r3) #repeats values of r1 because of re-seed"
      ],
      "metadata": {
        "colab": {
          "base_uri": "https://localhost:8080/"
        },
        "id": "W87u17cffGEi",
        "outputId": "6f8ef680-78ab-4000-85f2-8d6b2e26a76a"
      },
      "execution_count": null,
      "outputs": [
        {
          "output_type": "stream",
          "name": "stdout",
          "text": [
            "A random tensor: \n",
            "tensor([[0.3126, 0.3791],\n",
            "        [0.3087, 0.0736]])\n",
            "A different random tensor: \n",
            "tensor([[0.4216, 0.0691],\n",
            "        [0.2332, 0.4047]])\n",
            "\n",
            "Should match r1: \n",
            "tensor([[0.3126, 0.3791],\n",
            "        [0.3087, 0.0736]])\n"
          ]
        }
      ]
    },
    {
      "cell_type": "code",
      "source": [
        "ones = torch.ones(2, 3)\n",
        "print(ones)\n",
        "\n",
        "twos = torch.ones(2, 3) * 2\n",
        "print(twos)\n",
        "\n",
        "threes = ones + twos\n",
        "print(threes)\n",
        "print(threes.shape)\n",
        "\n",
        "r1 = torch.rand(2, 3)\n",
        "r2 = torch.rand(3, 2)\n",
        "r3 = r1 + r2 # shape should be same to add tensors"
      ],
      "metadata": {
        "colab": {
          "base_uri": "https://localhost:8080/",
          "height": 339
        },
        "id": "hIG1vUGffyu6",
        "outputId": "3760e4a1-6d89-4778-dd74-eed24abb199a"
      },
      "execution_count": null,
      "outputs": [
        {
          "output_type": "stream",
          "name": "stdout",
          "text": [
            "tensor([[1., 1., 1.],\n",
            "        [1., 1., 1.]])\n",
            "tensor([[2., 2., 2.],\n",
            "        [2., 2., 2.]])\n",
            "tensor([[3., 3., 3.],\n",
            "        [3., 3., 3.]])\n",
            "torch.Size([2, 3])\n"
          ]
        },
        {
          "output_type": "error",
          "ename": "RuntimeError",
          "evalue": "ignored",
          "traceback": [
            "\u001b[0;31m---------------------------------------------------------------------------\u001b[0m",
            "\u001b[0;31mRuntimeError\u001b[0m                              Traceback (most recent call last)",
            "\u001b[0;32m<ipython-input-8-2d11f89db724>\u001b[0m in \u001b[0;36m<cell line: 13>\u001b[0;34m()\u001b[0m\n\u001b[1;32m     11\u001b[0m \u001b[0mr1\u001b[0m \u001b[0;34m=\u001b[0m \u001b[0mtorch\u001b[0m\u001b[0;34m.\u001b[0m\u001b[0mrand\u001b[0m\u001b[0;34m(\u001b[0m\u001b[0;36m2\u001b[0m\u001b[0;34m,\u001b[0m \u001b[0;36m3\u001b[0m\u001b[0;34m)\u001b[0m\u001b[0;34m\u001b[0m\u001b[0;34m\u001b[0m\u001b[0m\n\u001b[1;32m     12\u001b[0m \u001b[0mr2\u001b[0m \u001b[0;34m=\u001b[0m \u001b[0mtorch\u001b[0m\u001b[0;34m.\u001b[0m\u001b[0mrand\u001b[0m\u001b[0;34m(\u001b[0m\u001b[0;36m3\u001b[0m\u001b[0;34m,\u001b[0m \u001b[0;36m2\u001b[0m\u001b[0;34m)\u001b[0m\u001b[0;34m\u001b[0m\u001b[0;34m\u001b[0m\u001b[0m\n\u001b[0;32m---> 13\u001b[0;31m \u001b[0mr3\u001b[0m \u001b[0;34m=\u001b[0m \u001b[0mr1\u001b[0m \u001b[0;34m+\u001b[0m \u001b[0mr2\u001b[0m\u001b[0;34m\u001b[0m\u001b[0;34m\u001b[0m\u001b[0m\n\u001b[0m",
            "\u001b[0;31mRuntimeError\u001b[0m: The size of tensor a (3) must match the size of tensor b (2) at non-singleton dimension 1"
          ]
        }
      ]
    },
    {
      "cell_type": "markdown",
      "source": [
        "small smaple of the mathmatical operation available"
      ],
      "metadata": {
        "id": "c5YR-xKAgplg"
      }
    },
    {
      "cell_type": "code",
      "source": [
        "r = torch.rand(2, 2) - 0.5 * 2\n",
        "print('A random matrix, r : ')\n",
        "print(r)\n",
        "\n",
        "print('\\nAbsolute value of r:')\n",
        "print(torch.abs(r))\n",
        "\n",
        "print('\\nInverse sine of r: ') # range [-1, 1]\n",
        "print(torch.asin(r))\n",
        "\n",
        "print('\\nDeterminant of r: ')\n",
        "print(torch.det(r))\n",
        "print('\\nSingular value decomposition of r: ')\n",
        "print(torch.svd(r))\n",
        "\n",
        "print('\\nAverage and standard deviation of r: ')\n",
        "print(torch.std_mean(r))\n",
        "print('\\nMaximum value of r: ')\n",
        "print(torch.max(r))"
      ],
      "metadata": {
        "colab": {
          "base_uri": "https://localhost:8080/"
        },
        "id": "6Ux2ELBgga_h",
        "outputId": "f225fc13-214b-43cf-bb60-f517813dea1b"
      },
      "execution_count": null,
      "outputs": [
        {
          "output_type": "stream",
          "name": "stdout",
          "text": [
            "A random matrix, r : \n",
            "tensor([[-0.5885, -0.3161],\n",
            "        [-0.9297, -0.4895]])\n",
            "\n",
            "Absolute value of r:\n",
            "tensor([[0.5885, 0.3161],\n",
            "        [0.9297, 0.4895]])\n",
            "\n",
            "Inverse sine of r: \n",
            "tensor([[-0.6292, -0.3217],\n",
            "        [-1.1937, -0.5115]])\n",
            "\n",
            "Determinant of r: \n",
            "tensor(-0.0059)\n",
            "\n",
            "Singular value decomposition of r: \n",
            "torch.return_types.svd(\n",
            "U=tensor([[-0.5365, -0.8439],\n",
            "        [-0.8439,  0.5365]]),\n",
            "S=tensor([1.2451, 0.0047]),\n",
            "V=tensor([[ 0.8837, -0.4680],\n",
            "        [ 0.4680,  0.8837]]))\n",
            "\n",
            "Average and standard deviation of r: \n",
            "(tensor(0.2583), tensor(-0.5810))\n",
            "\n",
            "Maximum value of r: \n",
            "tensor(-0.3161)\n"
          ]
        }
      ]
    },
    {
      "cell_type": "markdown",
      "source": [
        "# AutoGrad\n",
        "Autimatic Differentiation Engine  \n",
        "**loss.backward()** : input tensors is computed step-by-step from loss to top in reverse"
      ],
      "metadata": {
        "id": "QfbLACBIiIEz"
      }
    },
    {
      "cell_type": "markdown",
      "source": [
        "# Building Models in PyTorch\n",
        "## A Simple PyTorch model\n",
        "\n",
        "Here’s the abridged version of how it works:\n",
        "\n",
        "- Layer C1 is a convolutional layer, meaning that it scans the input image for features it learned during training. It outputs a map of where it saw each of its learned features in the image. This “activation map” is downsampled in layer S2.\n",
        "- Layer C3 is another convolutional layer, this time scanning C1’s activation map for combinations of features. It also puts out an activation map describing the spatial locations of these feature combinations, which is downsampled in layer S4.\n",
        "- Finally, the fully-connected layers at the end, F5, F6, and OUTPUT, are a classifier that takes the final activation map, and classifies it into one of ten bins representing the 10 digits."
      ],
      "metadata": {
        "id": "z_UwUfyCj2it"
      }
    },
    {
      "cell_type": "code",
      "source": [
        "import torch # for all things PyTorch\n",
        "import torch.nn as nn # for torch.nn.Module, the parent object for PyTorch models\n",
        "import torch.nn.functional as F # for the activation functions"
      ],
      "metadata": {
        "id": "e_p43_k_jpBW"
      },
      "execution_count": 2,
      "outputs": []
    },
    {
      "cell_type": "code",
      "source": [
        "class LeNet(nn.Module):\n",
        "\n",
        "  def __init__(self):\n",
        "    super(LeNet, self).__init__()\n",
        "    # 1 input image channel (black & white), 6 output channels, 5*5 square convolution\n",
        "    # kernal\n",
        "    self.conv1 = nn.Conv2d(1, 6, 5)\n",
        "    self.conv2 = nn.Conv2d(6, 16, 5)\n",
        "    # an affine operation : y = Wx + b\n",
        "    self.fc1 = nn.Linear(16 * 5 * 5, 120) # 5 * 5 from image dimension\n",
        "    self.fc2 = nn.Linear(120, 84)\n",
        "    self.fc3 = nn.Linear(84, 10)\n",
        "\n",
        "  def forward(self, x):\n",
        "    # Max pooling over a (2, 2) window\n",
        "    x = F.max_pool2d(F.relu(self.conv1(x)), (2, 2))\n",
        "    # If the size is a square you can only specify a single number\n",
        "    x = F.max_pool2d(F.relu(self.conv2(x)), 2)\n",
        "    x = x.view(-1, self.num_flat_features(x))\n",
        "    x = F.relu(self.fc1(x))\n",
        "    x = F.relu(self.fc2(x))\n",
        "    x = self.fc3(x)\n",
        "    return x\n",
        "\n",
        "  def num_flat_features(self, x):\n",
        "    size = x.size()[1:] # a;; dimensions except the batch dimension\n",
        "    num_features = 1\n",
        "    for s in size:\n",
        "      num_features *= s\n",
        "    return num_features"
      ],
      "metadata": {
        "id": "z_fnFB6ekQnw"
      },
      "execution_count": 5,
      "outputs": []
    },
    {
      "cell_type": "markdown",
      "source": [
        "This demonstrates the structure of a typical PyTorch model:\n",
        "\n",
        "- It inherits from ```torch.nn.Module``` - modules may be nested - in fact, even the Conv2d and Linear layer classes inherit from ```torch.nn.Module```.\n",
        "A model will have an ```__init__()``` function, where it instantiates its layers, and loads any data artifacts it might need (e.g., an NLP model might load a vocabulary).\n",
        "- A model will have a ```forward()``` function. This is where the actual computation happens: An input is passed through the network layers and various functions to generate an output.\n",
        "- Other than that, you can build out your model class like any other Python class, adding whatever properties and methods you need to support your model’s computation."
      ],
      "metadata": {
        "id": "WIiSpsdXJHZN"
      }
    },
    {
      "cell_type": "code",
      "source": [
        "net = LeNet()\n",
        "print(net)\n",
        "\n",
        "input = torch.rand(1, 1, 32, 32)\n",
        "print('\\nImage batch shape: ')\n",
        "print(input.shape)\n",
        "\n",
        "output = net(input)\n",
        "print('\\nRaw Output: ')\n",
        "print(output)\n",
        "print(output.shape)"
      ],
      "metadata": {
        "colab": {
          "base_uri": "https://localhost:8080/"
        },
        "id": "VtdKvduZmeYM",
        "outputId": "88198a9c-275c-439b-b1fa-1799c361d500"
      },
      "execution_count": 6,
      "outputs": [
        {
          "output_type": "stream",
          "name": "stdout",
          "text": [
            "LeNet(\n",
            "  (conv1): Conv2d(1, 6, kernel_size=(5, 5), stride=(1, 1))\n",
            "  (conv2): Conv2d(6, 16, kernel_size=(5, 5), stride=(1, 1))\n",
            "  (fc1): Linear(in_features=400, out_features=120, bias=True)\n",
            "  (fc2): Linear(in_features=120, out_features=84, bias=True)\n",
            "  (fc3): Linear(in_features=84, out_features=10, bias=True)\n",
            ")\n",
            "\n",
            "Image batch shape: \n",
            "torch.Size([1, 1, 32, 32])\n",
            "\n",
            "Raw Output: \n",
            "tensor([[ 0.1345,  0.0002,  0.0517,  0.0467, -0.0610,  0.1063, -0.0503, -0.1219,\n",
            "         -0.0676, -0.0334]], grad_fn=<AddmmBackward0>)\n",
            "torch.Size([1, 10])\n"
          ]
        }
      ]
    },
    {
      "cell_type": "markdown",
      "source": [
        "You may have noticed an extra dimension to our tensor - the batch dimension. PyTorch models assume they are working on batches of data\n",
        "\n",
        "- for example, a batch of 16 of our image tiles would have the shape ```(16, 1, 32, 32)```. Since we’re only using one image, we create a batch of 1 with shape ```(1, 1, 32, 32)```.\n",
        "\n",
        "We ask the model for an inference by calling it like a function: ```net(input)```. The output of this call represents the model’s confidence that the input represents a particular digit. (Since this instance of the model hasn’t learned anything yet, we shouldn’t expect to see any signal in the output.) Looking at the shape of ```output```, we can see that it also has a batch dimension, the size of which should always match the input batch dimension. If we had passed in an input batch of 16 instances, ```output``` would have a shape of ```(16, 10)```."
      ],
      "metadata": {
        "id": "zGcdjMcfJvyK"
      }
    },
    {
      "cell_type": "markdown",
      "source": [
        "# DataSets and Dataloaders"
      ],
      "metadata": {
        "id": "K8Ji087infcQ"
      }
    },
    {
      "cell_type": "code",
      "source": [
        "%matplotlib inline\n",
        "\n",
        "import torch\n",
        "import torchvision\n",
        "import torchvision.transforms as transforms\n",
        "\n",
        "transform = transforms.Compose(\n",
        "    [transforms.ToTensor(),\n",
        "     transforms.Normalize((0.5, 0.5, 0.5), (0.5, 0.5, 0.5))]\n",
        ")"
      ],
      "metadata": {
        "id": "9GaCTTGYnKWi"
      },
      "execution_count": 7,
      "outputs": []
    },
    {
      "cell_type": "markdown",
      "source": [
        "- ```transforms.ToTensor()``` converts images loaded by Pillow into PyTorch tensors.\n",
        "- ```transforms.Normalize()``` adjusts the values of the tensor so that their average is zero and their s.e. is 0.5. Most activation functions have their strongest gradients around x = 0, so centering out data there can speed learning."
      ],
      "metadata": {
        "id": "_OAcJ5MdK_jG"
      }
    },
    {
      "cell_type": "code",
      "source": [
        "trainset = torchvision.datasets.CIFAR10(root = './data', train = True, \n",
        "                                        download=True, transform=transform)"
      ],
      "metadata": {
        "colab": {
          "base_uri": "https://localhost:8080/"
        },
        "id": "BfHs2EO-KWbx",
        "outputId": "be1f69d6-f629-4fd5-9796-f3a435c4c10c"
      },
      "execution_count": 9,
      "outputs": [
        {
          "output_type": "stream",
          "name": "stdout",
          "text": [
            "Downloading https://www.cs.toronto.edu/~kriz/cifar-10-python.tar.gz to ./data/cifar-10-python.tar.gz\n"
          ]
        },
        {
          "output_type": "stream",
          "name": "stderr",
          "text": [
            "100%|██████████| 170498071/170498071 [00:02<00:00, 63492258.95it/s]\n"
          ]
        },
        {
          "output_type": "stream",
          "name": "stdout",
          "text": [
            "Extracting ./data/cifar-10-python.tar.gz to ./data\n"
          ]
        }
      ]
    },
    {
      "cell_type": "code",
      "source": [
        "trainloader = torch.utils.data.DataLoader(trainset, batch_size = 4,\n",
        "                                     shuffle = True, num_workers = 2)"
      ],
      "metadata": {
        "id": "-3TbiugPnw3n"
      },
      "execution_count": 11,
      "outputs": []
    },
    {
      "cell_type": "markdown",
      "source": [
        "A ```Dataset``` subclass wraps access to the data, and is specialized to the type of data it’s serving. The ```DataLoader``` knows nothing about the data, but organizes the input tensors served by the ```Dataset``` into batches with the parameters you specify.\n",
        "\n",
        "In the example above, we’ve asked a ```DataLoader``` to give us batches of 4 images from ```trainset```, randomizing their order ```(shuffle=True)```, and we told it to spin up two workers to load data from disk."
      ],
      "metadata": {
        "id": "xyHeh5ayuGCP"
      }
    },
    {
      "cell_type": "code",
      "source": [
        "import matplotlib.pyplot as plt\n",
        "import numpy as np\n",
        "\n",
        "classes = {'plane', 'car', 'bird', 'cat', 'deer', 'dog', 'frog', 'horse', 'ship', 'truck'}\n",
        "\n",
        "def imshow(img):\n",
        "  img = img /2 + 0.5 # unnormalize\n",
        "  npimg = img.numpy()\n",
        "  plt.imshow(np.transpose(npimg, (1, 2, 0)))\n",
        "\n",
        "  # get some random training images\n",
        "  dataiter = iter(trainloader)\n",
        "  images, labels = next(dataiter)\n",
        "\n",
        "  # show images\n",
        "  imshow(torchvision.utils.make_grid(images))\n",
        "  # print labels\n",
        "  print(\" \".join(\"%5s\" % classes[labels[j]] for j in range(4)))"
      ],
      "metadata": {
        "id": "pkdp5AtdLYGi"
      },
      "execution_count": 29,
      "outputs": []
    },
    {
      "cell_type": "markdown",
      "source": [
        "# Training Your PyTorch Model"
      ],
      "metadata": {
        "id": "VRMY8dJr_yEw"
      }
    },
    {
      "cell_type": "code",
      "source": [
        "import torch\n",
        "import torch.nn as nn\n",
        "import torch.nn.functional as F\n",
        "import torch.optim as optim\n",
        "\n",
        "import torchvision\n",
        "import torchvision.transforms as transforms\n",
        "\n",
        "import matplotlib\n",
        "import matplotlib.pyplot as plt\n",
        "import numpy as np"
      ],
      "metadata": {
        "id": "Svk0mlYsw3u4"
      },
      "execution_count": 13,
      "outputs": []
    },
    {
      "cell_type": "code",
      "source": [
        "transform = transforms.Compose(\n",
        "    [transforms.ToTensor(),\n",
        "     transforms.Normalize((0.5, 0.5, 0.5), (0.5, 0.5, 0.5))])\n",
        "\n",
        "trainset = torchvision.datasets.CIFAR10(root='./data', train=True,\n",
        "                                        download=True, transform=transform)\n",
        "trainloader = torch.utils.data.DataLoader(trainset, batch_size=4,\n",
        "                                          shuffle=True, num_workers=2)\n",
        "\n",
        "testset = torchvision.datasets.CIFAR10(root='./data', train=False,\n",
        "                                       download=True, transform=transform)\n",
        "testloader = torch.utils.data.DataLoader(testset, batch_size=4,\n",
        "                                         shuffle=False, num_workers=2)\n",
        "\n",
        "classes = ('plane', 'car', 'bird', 'cat',\n",
        "           'deer', 'dog', 'frog', 'horse', 'ship', 'truck')"
      ],
      "metadata": {
        "colab": {
          "base_uri": "https://localhost:8080/"
        },
        "id": "jCn62prqAHUz",
        "outputId": "876f2f4a-d19a-46ff-cb8b-3f5efdca930d"
      },
      "execution_count": 31,
      "outputs": [
        {
          "output_type": "stream",
          "name": "stdout",
          "text": [
            "Files already downloaded and verified\n",
            "Files already downloaded and verified\n"
          ]
        }
      ]
    },
    {
      "cell_type": "markdown",
      "source": [
        "checkout outpur from ```DataLoader```:"
      ],
      "metadata": {
        "id": "fSKEkeCfzVCX"
      }
    },
    {
      "cell_type": "code",
      "source": [
        "import matplotlib.pyplot as plt\n",
        "import numpy as np\n",
        "\n",
        "# function to show an image\n",
        "def imshow(img):\n",
        "  img = img / 2 + 0.5\n",
        "  npimg = img.numpy()\n",
        "  plt.imshow(np.transpose(npimg, (1, 2, 0)))\n",
        "\n",
        "\n",
        "# get some random training images\n",
        "dataiter = iter(trainloader)\n",
        "images, labels = next(dataiter)\n",
        "\n",
        "# show imagws\n",
        "imshow(torchvision.utils.make_grid(images))\n",
        "# print labels\n",
        "print(\" \".join('%5s' % classes[labels[j]] for j in range(4)))"
      ],
      "metadata": {
        "colab": {
          "base_uri": "https://localhost:8080/",
          "height": 211
        },
        "id": "w6rUBDKVzOc2",
        "outputId": "13148ad4-98ef-4ea7-8f2c-a72e7f23116f"
      },
      "execution_count": 33,
      "outputs": [
        {
          "output_type": "stream",
          "name": "stdout",
          "text": [
            "  car  bird   cat  ship\n"
          ]
        },
        {
          "output_type": "display_data",
          "data": {
            "text/plain": [
              "<Figure size 640x480 with 1 Axes>"
            ],
            "image/png": "[encoded data removed]"
          },
          "metadata": {}
        }
      ]
    },
    {
      "cell_type": "code",
      "source": [
        "class Net(nn.Module):\n",
        "  def __init__(self):\n",
        "    super(Net, self).__init__()\n",
        "    self.conv1 = nn.Conv2d(3, 6, 5)\n",
        "    self.pool = nn.MaxPool2d(2, 2)\n",
        "    self.conv2 = nn.Conv2d(6, 16, 5)\n",
        "    self.fc1 = nn.Linear(16*5*5, 120)\n",
        "    self.fc2 = nn.Linear(120, 84)\n",
        "    self.fc3 = nn.Linear(84, 10)\n",
        "\n",
        "  def forward(self, x):\n",
        "    x = self.pool(F.relu(self.conv1(x)))\n",
        "    x = self.pool(F.relu(self.conv2(x)))\n",
        "    x = x.view(-1, 16*5*5)\n",
        "    x = F.relu(self.fc1(x))\n",
        "    x = F.relu(self.fc2(x))\n",
        "    x = self.fc3(x)\n",
        "    return x\n",
        "\n",
        "net = Net()"
      ],
      "metadata": {
        "id": "qSnOBzqg0GrE"
      },
      "execution_count": 35,
      "outputs": []
    },
    {
      "cell_type": "code",
      "source": [
        "criterion = nn.CrossEntropyLoss()\n",
        "optimizer = optim.SGD(net.parameters(), lr = 0.001, momentum = 0.9)"
      ],
      "metadata": {
        "id": "OZ80jgnf7xOO"
      },
      "execution_count": 36,
      "outputs": []
    },
    {
      "cell_type": "markdown",
      "source": [
        "- ```net.parameters()``` : collection of all the learning weights in the model - which is what the optimizer agjusts"
      ],
      "metadata": {
        "id": "s6zpj_TC8AXW"
      }
    },
    {
      "cell_type": "code",
      "source": [
        "for epoch in range(2): # loop over the dataset multiple times\n",
        "  running_loss = 0.0\n",
        "  for i, data in enumerate(trainloader, 0):\n",
        "    # get the inputs \n",
        "    inputs, labels = data\n",
        "\n",
        "    # zero the parameter gradients\n",
        "    optimizer.zero_grad()\n",
        "\n",
        "    # forward + backwoard + optimize\n",
        "    outputs = net(inputs)\n",
        "    loss = criterion(outputs, labels)\n",
        "    loss.backward()\n",
        "    optimizer.step()\n",
        "\n",
        "    # print statistics\n",
        "    running_loss += loss.item()\n",
        "    if i % 2000 == 1999: # print every 2000 mini-batches\n",
        "      print('[%d, %5d] loss : %.3f' % (epoch + 1, i + 1, running_loss / 2000))\n",
        "      running_loss = 0.0\n",
        "\n",
        "print(\"Finished Training\")"
      ],
      "metadata": {
        "colab": {
          "base_uri": "https://localhost:8080/"
        },
        "id": "qQ6ogacU7-dg",
        "outputId": "e95247e5-ca37-4d56-f56d-ea86e5d6806c"
      },
      "execution_count": 37,
      "outputs": [
        {
          "output_type": "stream",
          "name": "stdout",
          "text": [
            "[1,  2000] loss : 2.254\n",
            "[1,  4000] loss : 1.952\n",
            "[1,  6000] loss : 1.693\n",
            "[1,  8000] loss : 1.598\n",
            "[1, 10000] loss : 1.552\n",
            "[1, 12000] loss : 1.497\n",
            "[2,  2000] loss : 1.416\n",
            "[2,  4000] loss : 1.403\n",
            "[2,  6000] loss : 1.368\n",
            "[2,  8000] loss : 1.358\n",
            "[2, 10000] loss : 1.329\n",
            "[2, 12000] loss : 1.300\n",
            "Finished Training\n"
          ]
        }
      ]
    },
    {
      "cell_type": "markdown",
      "source": [
        "As a final step, we should check that the model is actually doing general learning, and not simply “memorizing” the dataset. This is called **overfitting**, and usually indicates that the dataset is too small (not enough examples for general learning), or that the model has more learning parameters than it needs to correctly model the dataset.\n",
        "\n",
        "This is the reason datasets are split into training and test subsets - to test the generality of the model, we ask it to make predictions on data it hasn’t trained on:"
      ],
      "metadata": {
        "id": "ovF7-4nS98uN"
      }
    },
    {
      "cell_type": "code",
      "source": [
        "correct = 0\n",
        "total = 0\n",
        "with torch.no_grad():\n",
        "  for data in testloader:\n",
        "    images, labels = data\n",
        "    outputs = net(images)\n",
        "    _, predicted = torch.max(outputs.data, 1)\n",
        "    total += labels.size(0)\n",
        "    correct += (predicted == labels).sum().item()\n",
        "\n",
        "print(\"Accuracy of the network on the 10000 test images: %d %%\" % (100 * correct / total))"
      ],
      "metadata": {
        "colab": {
          "base_uri": "https://localhost:8080/"
        },
        "id": "DKL5pUO99XMX",
        "outputId": "3f80cfda-8ed4-4345-d869-2bdc3400d555"
      },
      "execution_count": 38,
      "outputs": [
        {
          "output_type": "stream",
          "name": "stdout",
          "text": [
            "Accuracy of the network on the 10000 test images: 55 %\n"
          ]
        }
      ]
    }
  ]
}